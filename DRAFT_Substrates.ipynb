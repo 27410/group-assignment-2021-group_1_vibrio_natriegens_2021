{
 "cells": [
  {
   "cell_type": "code",
   "execution_count": 1,
   "metadata": {},
   "outputs": [],
   "source": [
    "from cobra import Reaction, Metabolite\n",
    "from cobra.io import read_sbml_model\n",
    "from cobra.io import write_sbml_model"
   ]
  },
  {
   "cell_type": "markdown",
   "metadata": {},
   "source": [
    "## Model with media LB with added violacein (side reaction with fad)"
   ]
  },
  {
   "cell_type": "code",
   "execution_count": 33,
   "metadata": {},
   "outputs": [],
   "source": [
    "model_LB_vio_fad=read_sbml_model('Models/model_VN_LB_vio-fad.xml')"
   ]
  },
  {
   "cell_type": "code",
   "execution_count": 34,
   "metadata": {},
   "outputs": [
    {
     "name": "stdout",
     "output_type": "stream",
     "text": [
      "model_LB_vio_fad growth rate: 3.3333333333333335\n"
     ]
    }
   ],
   "source": [
    "medium = model_LB_vio_fad.medium\n",
    "with model_LB_vio_fad:\n",
    "    medium['EX_glc__D_e'] = 0\n",
    "    medium['EX_mnl_e'] = 10\n",
    "    model_LB_vio_fad.medium = medium\n",
    "    solution = model_LB_vio_fad.slim_optimize()\n",
    "    print(\"model_LB_vio_fad growth rate:\", solution)"
   ]
  },
  {
   "cell_type": "code",
   "execution_count": 35,
   "metadata": {},
   "outputs": [
    {
     "name": "stdout",
     "output_type": "stream",
     "text": [
      "model_LB_vio_fad growth rate: 3.3333333333333335\n"
     ]
    }
   ],
   "source": [
    "medium = model_LB_vio_fad.medium\n",
    "with model_LB_vio_fad:\n",
    "    medium['EX_glc__D_e'] = 0\n",
    "    medium['EX_sucr_e'] = 10\n",
    "    model_LB_vio_fad.medium = medium\n",
    "    solution = model_LB_vio_fad.slim_optimize()\n",
    "    print(\"model_LB_vio_fad growth rate:\", solution)"
   ]
  },
  {
   "cell_type": "code",
   "execution_count": 36,
   "metadata": {},
   "outputs": [
    {
     "name": "stdout",
     "output_type": "stream",
     "text": [
      "model_LB_vio_fad growth rate: 3.3333333333333335\n"
     ]
    }
   ],
   "source": [
    "medium = model_LB_vio_fad.medium\n",
    "with model_LB_vio_fad:\n",
    "    medium['EX_glc__D_e'] = 0\n",
    "    medium['EX_glyc_e'] = 10\n",
    "    model_LB_vio_fad.medium = medium\n",
    "    solution = model_LB_vio_fad.slim_optimize()\n",
    "    print(\"model_LB_vio_fad growth rate:\", solution)"
   ]
  },
  {
   "cell_type": "code",
   "execution_count": 37,
   "metadata": {},
   "outputs": [
    {
     "name": "stdout",
     "output_type": "stream",
     "text": [
      "model_LB_vio_fad growth rate: 3.3333333333333335\n"
     ]
    }
   ],
   "source": [
    "medium = model_LB_vio_fad.medium\n",
    "with model_LB_vio_fad:\n",
    "    medium['EX_glc__D_e'] = 0\n",
    "    medium['EX_acgam_e'] = 10\n",
    "    model_LB_vio_fad.medium = medium\n",
    "    solution = model_LB_vio_fad.slim_optimize()\n",
    "    print(\"model_LB_vio_fad growth rate:\", solution)"
   ]
  },
  {
   "cell_type": "markdown",
   "metadata": {},
   "source": [
    "## Model with media LB with added violacein (side reaction with O2)"
   ]
  },
  {
   "cell_type": "code",
   "execution_count": 38,
   "metadata": {},
   "outputs": [],
   "source": [
    "model_LB_vio_o2=read_sbml_model('Models/model_VN_LB_vio-o2.xml')"
   ]
  },
  {
   "cell_type": "code",
   "execution_count": 39,
   "metadata": {},
   "outputs": [
    {
     "name": "stdout",
     "output_type": "stream",
     "text": [
      "model_LB_vio_o2 growth rate: 2.5\n"
     ]
    }
   ],
   "source": [
    "medium = model_LB_vio_o2.medium\n",
    "#print(medium)\n",
    "with model_LB_vio_o2:\n",
    "    medium['EX_glc__D_e'] = 0\n",
    "    medium['EX_mnl_e'] = 10\n",
    "    model_LB_vio_o2.medium = medium\n",
    "    solution = model_LB_vio_o2.slim_optimize()\n",
    "    print(\"model_LB_vio_o2 growth rate:\", solution)"
   ]
  },
  {
   "cell_type": "code",
   "execution_count": 40,
   "metadata": {},
   "outputs": [
    {
     "name": "stdout",
     "output_type": "stream",
     "text": [
      "model_LB_vio_o2 growth rate: 2.5\n"
     ]
    }
   ],
   "source": [
    "medium = model_LB_vio_o2.medium\n",
    "#print(medium)\n",
    "with model_LB_vio_o2:\n",
    "    medium['EX_glc__D_e'] = 0\n",
    "    medium['EX_sucr_e'] = 10\n",
    "    model_LB_vio_o2.medium = medium\n",
    "    solution = model_LB_vio_o2.slim_optimize()\n",
    "    print(\"model_LB_vio_o2 growth rate:\", solution)"
   ]
  },
  {
   "cell_type": "code",
   "execution_count": 41,
   "metadata": {},
   "outputs": [
    {
     "name": "stdout",
     "output_type": "stream",
     "text": [
      "model_LB_vio_o2 growth rate: 2.5\n"
     ]
    }
   ],
   "source": [
    "medium = model_LB_vio_o2.medium\n",
    "#print(medium)\n",
    "with model_LB_vio_o2:\n",
    "    medium['EX_glc__D_e'] = 0\n",
    "    medium['EX_glyc_e'] = 10\n",
    "    model_LB_vio_o2.medium = medium\n",
    "    solution = model_LB_vio_o2.slim_optimize()\n",
    "    print(\"model_LB_vio_o2 growth rate:\", solution)"
   ]
  },
  {
   "cell_type": "code",
   "execution_count": 42,
   "metadata": {},
   "outputs": [
    {
     "name": "stdout",
     "output_type": "stream",
     "text": [
      "model_LB_vio_o2 growth rate: 2.5\n"
     ]
    }
   ],
   "source": [
    "medium = model_LB_vio_o2.medium\n",
    "#print(medium)\n",
    "with model_LB_vio_o2:\n",
    "    medium['EX_glc__D_e'] = 0\n",
    "    medium['EX_acgam_e'] = 10\n",
    "    model_LB_vio_o2.medium = medium\n",
    "    solution = model_LB_vio_o2.slim_optimize()\n",
    "    print(\"model_LB_vio_o2 growth rate:\", solution)"
   ]
  },
  {
   "cell_type": "markdown",
   "metadata": {},
   "source": [
    "## Model with media LB"
   ]
  },
  {
   "cell_type": "code",
   "execution_count": 43,
   "metadata": {},
   "outputs": [],
   "source": [
    "model_LB=read_sbml_model('Models/model_VN_LB.xml')"
   ]
  },
  {
   "cell_type": "code",
   "execution_count": 44,
   "metadata": {},
   "outputs": [
    {
     "name": "stdout",
     "output_type": "stream",
     "text": [
      "model_LB growth rate: 2.8405970205438935\n"
     ]
    }
   ],
   "source": [
    "medium = model_LB.medium\n",
    "with model_LB:\n",
    "    medium['EX_glc__D_e'] = 0\n",
    "    medium['EX_mnl_e'] = 10\n",
    "    model_LB.medium = medium\n",
    "    solution = model_LB.slim_optimize()\n",
    "    print(\"model_LB growth rate:\", solution)"
   ]
  },
  {
   "cell_type": "code",
   "execution_count": 45,
   "metadata": {},
   "outputs": [
    {
     "name": "stdout",
     "output_type": "stream",
     "text": [
      "model_LB growth rate: 3.142039905536307\n"
     ]
    }
   ],
   "source": [
    "medium = model_LB.medium\n",
    "with model_LB:\n",
    "    medium['EX_glc__D_e'] = 0\n",
    "    medium['EX_sucr_e'] = 10\n",
    "    model_LB.medium = medium\n",
    "    solution = model_LB.slim_optimize()\n",
    "    print(\"model_LB growth rate:\", solution)"
   ]
  },
  {
   "cell_type": "code",
   "execution_count": 46,
   "metadata": {},
   "outputs": [
    {
     "name": "stdout",
     "output_type": "stream",
     "text": [
      "model_LB growth rate: 2.6688478035262184\n"
     ]
    }
   ],
   "source": [
    "medium = model_LB.medium\n",
    "with model_LB:\n",
    "    medium['EX_glc__D_e'] = 0\n",
    "    medium['EX_glyc_e'] = 10\n",
    "    model_LB.medium = medium\n",
    "    solution = model_LB.slim_optimize()\n",
    "    print(\"model_LB growth rate:\", solution)"
   ]
  },
  {
   "cell_type": "code",
   "execution_count": 47,
   "metadata": {},
   "outputs": [
    {
     "name": "stdout",
     "output_type": "stream",
     "text": [
      "model_LB growth rate: 2.6769806205561983\n"
     ]
    }
   ],
   "source": [
    "medium = model_LB.medium\n",
    "with model_LB:\n",
    "    medium['EX_glc__D_e'] = 0\n",
    "    medium['EX_acgam_e'] = 10\n",
    "    model_LB.medium = medium\n",
    "    solution = model_LB.slim_optimize()\n",
    "    print(\"model_LB growth rate:\", solution)"
   ]
  },
  {
   "cell_type": "markdown",
   "metadata": {},
   "source": [
    "## Model with media M9 with added violacein (side reaction with fad)"
   ]
  },
  {
   "cell_type": "code",
   "execution_count": 48,
   "metadata": {},
   "outputs": [],
   "source": [
    "model_M9_vio_fad=read_sbml_model('Models/model_VN_M9_vio-fad.xml')"
   ]
  },
  {
   "cell_type": "code",
   "execution_count": 49,
   "metadata": {},
   "outputs": [
    {
     "name": "stdout",
     "output_type": "stream",
     "text": [
      "model_M9_vio_fad growth rate: 1.8556701030927854\n"
     ]
    }
   ],
   "source": [
    "medium = model_M9_vio_fad.medium\n",
    "with model_M9_vio_fad:\n",
    "    medium['EX_glc__D_e'] = 0\n",
    "    medium['EX_mnl_e'] = 10\n",
    "    model_M9_vio_fad.medium = medium\n",
    "    solution = model_M9_vio_fad.slim_optimize()\n",
    "    print(\"model_M9_vio_fad growth rate:\", solution)"
   ]
  },
  {
   "cell_type": "code",
   "execution_count": 50,
   "metadata": {},
   "outputs": [
    {
     "name": "stdout",
     "output_type": "stream",
     "text": [
      "model_M9_vio_fad growth rate: 1.2881355932203378\n"
     ]
    }
   ],
   "source": [
    "medium = model_M9_vio_fad.medium\n",
    "with model_M9_vio_fad:\n",
    "    medium['EX_glc__D_e'] = 0\n",
    "    medium['EX_glyc_e'] = 10\n",
    "    model_M9_vio_fad.medium = medium\n",
    "    solution = model_M9_vio_fad.slim_optimize()\n",
    "    print(\"model_M9_vio_fad growth rate:\", solution)"
   ]
  },
  {
   "cell_type": "code",
   "execution_count": 51,
   "metadata": {},
   "outputs": [
    {
     "name": "stdout",
     "output_type": "stream",
     "text": [
      "model_M9_vio_fad growth rate: 2.7299703264094957\n"
     ]
    }
   ],
   "source": [
    "medium = model_M9_vio_fad.medium\n",
    "with model_M9_vio_fad:\n",
    "    medium['EX_glc__D_e'] = 0\n",
    "    medium['EX_sucr_e'] = 10\n",
    "    model_M9_vio_fad.medium = medium\n",
    "    solution = model_M9_vio_fad.slim_optimize()\n",
    "    print(\"model_M9_vio_fad growth rate:\", solution)"
   ]
  },
  {
   "cell_type": "code",
   "execution_count": 52,
   "metadata": {},
   "outputs": [
    {
     "name": "stdout",
     "output_type": "stream",
     "text": [
      "model_M9_vio_fad growth rate: 1.90721649484536\n"
     ]
    }
   ],
   "source": [
    "medium = model_M9_vio_fad.medium\n",
    "with model_M9_vio_fad:\n",
    "    medium['EX_glc__D_e'] = 0\n",
    "    medium['EX_acgam_e'] = 10\n",
    "    model_M9_vio_fad.medium = medium\n",
    "    solution = model_M9_vio_fad.slim_optimize()\n",
    "    print(\"model_M9_vio_fad growth rate:\", solution)"
   ]
  },
  {
   "cell_type": "markdown",
   "metadata": {},
   "source": [
    "## Model with media M9 with added violacein (side reaction with O2)"
   ]
  },
  {
   "cell_type": "code",
   "execution_count": 53,
   "metadata": {},
   "outputs": [],
   "source": [
    "model_M9_vio_o2=read_sbml_model('Models/model_VN_M9_vio-o2.xml')"
   ]
  },
  {
   "cell_type": "code",
   "execution_count": 54,
   "metadata": {},
   "outputs": [
    {
     "name": "stdout",
     "output_type": "stream",
     "text": [
      "model_M9_vio_o2 growth rate: 1.6246498599439776\n"
     ]
    }
   ],
   "source": [
    "medium = model_M9_vio_o2.medium\n",
    "with model_M9_vio_o2:\n",
    "    medium['EX_glc__D_e'] = 0\n",
    "    medium['EX_mnl_e'] = 10\n",
    "    model_M9_vio_o2.medium = medium\n",
    "    solution = model_M9_vio_o2.slim_optimize()\n",
    "    print(\"model_M9_vio_o2 growth rate:\", solution)"
   ]
  },
  {
   "cell_type": "code",
   "execution_count": 55,
   "metadata": {},
   "outputs": [
    {
     "name": "stdout",
     "output_type": "stream",
     "text": [
      "model_M9_vio_o2 growth rate: 2.0000000000000004\n"
     ]
    }
   ],
   "source": [
    "medium = model_M9_vio_o2.medium\n",
    "with model_M9_vio_o2:\n",
    "    medium['EX_glc__D_e'] = 0\n",
    "    medium['EX_sucr_e'] = 10\n",
    "    model_M9_vio_o2.medium = medium\n",
    "    solution = model_M9_vio_o2.slim_optimize()\n",
    "    print(\"model_M9_vio_o2 growth rate:\", solution)"
   ]
  },
  {
   "cell_type": "code",
   "execution_count": 56,
   "metadata": {},
   "outputs": [
    {
     "name": "stdout",
     "output_type": "stream",
     "text": [
      "model_M9_vio_o2 growth rate: 1.2285012285012271\n"
     ]
    }
   ],
   "source": [
    "medium = model_M9_vio_o2.medium\n",
    "with model_M9_vio_o2:\n",
    "    medium['EX_glc__D_e'] = 0\n",
    "    medium['EX_glyc_e'] = 10\n",
    "    model_M9_vio_o2.medium = medium\n",
    "    solution = model_M9_vio_o2.slim_optimize()\n",
    "    print(\"model_M9_vio_o2 growth rate:\", solution)"
   ]
  },
  {
   "cell_type": "code",
   "execution_count": 57,
   "metadata": {},
   "outputs": [
    {
     "name": "stdout",
     "output_type": "stream",
     "text": [
      "model_M9_vio_o2 growth rate: 1.6894977168949776\n"
     ]
    }
   ],
   "source": [
    "medium = model_M9_vio_o2.medium\n",
    "with model_M9_vio_o2:\n",
    "    medium['EX_glc__D_e'] = 0\n",
    "    medium['EX_acgam_e'] = 10\n",
    "    model_M9_vio_o2.medium = medium\n",
    "    solution = model_M9_vio_o2.slim_optimize()\n",
    "    print(\"model_M9_vio_o2 growth rate:\", solution)"
   ]
  },
  {
   "cell_type": "markdown",
   "metadata": {},
   "source": [
    "## Model with media M9"
   ]
  },
  {
   "cell_type": "code",
   "execution_count": 58,
   "metadata": {},
   "outputs": [],
   "source": [
    "model_M9=read_sbml_model('Models/model_VN_M9.xml')"
   ]
  },
  {
   "cell_type": "code",
   "execution_count": 59,
   "metadata": {},
   "outputs": [
    {
     "name": "stdout",
     "output_type": "stream",
     "text": [
      "model_M9 growth rate: 0.7188575696969712\n"
     ]
    }
   ],
   "source": [
    "medium = model_M9.medium\n",
    "with model_M9:\n",
    "    medium['EX_glc__D_e'] = 0\n",
    "    medium['EX_mnl_e'] = 10\n",
    "    model_M9.medium = medium\n",
    "    solution = model_M9.slim_optimize()\n",
    "    print(\"model_M9 growth rate:\", solution)"
   ]
  },
  {
   "cell_type": "code",
   "execution_count": 60,
   "metadata": {},
   "outputs": [
    {
     "name": "stdout",
     "output_type": "stream",
     "text": [
      "model_M9 growth rate: 0.8930785785011163\n"
     ]
    }
   ],
   "source": [
    "medium = model_M9.medium\n",
    "with model_M9:\n",
    "    medium['EX_glc__D_e'] = 0\n",
    "    medium['EX_sucr_e'] = 10\n",
    "    model_M9.medium = medium\n",
    "    solution = model_M9.slim_optimize()\n",
    "    print(\"model_M9 growth rate:\", solution)"
   ]
  },
  {
   "cell_type": "code",
   "execution_count": 61,
   "metadata": {},
   "outputs": [
    {
     "name": "stdout",
     "output_type": "stream",
     "text": [
      "model_M9 growth rate: 0.5364811289203371\n"
     ]
    }
   ],
   "source": [
    "medium = model_M9.medium\n",
    "with model_M9:\n",
    "    medium['EX_glc__D_e'] = 0\n",
    "    medium['EX_glyc_e'] = 10\n",
    "    model_M9.medium = medium\n",
    "    solution = model_M9.slim_optimize()\n",
    "    print(\"model_M9 growth rate:\", solution)"
   ]
  },
  {
   "cell_type": "code",
   "execution_count": 62,
   "metadata": {},
   "outputs": [
    {
     "name": "stdout",
     "output_type": "stream",
     "text": [
      "model_M9 growth rate: 0.6167879625967698\n"
     ]
    }
   ],
   "source": [
    "medium = model_M9.medium\n",
    "with model_M9:\n",
    "    medium['EX_glc__D_e'] = 0\n",
    "    medium['EX_acgam_e'] = 10\n",
    "    model_M9.medium = medium\n",
    "    solution = model_M9.slim_optimize()\n",
    "    print(\"model_M9 growth rate:\", solution)"
   ]
  }
 ],
 "metadata": {
  "kernelspec": {
   "display_name": "Python 3",
   "language": "python",
   "name": "python3"
  },
  "language_info": {
   "codemirror_mode": {
    "name": "ipython",
    "version": 3
   },
   "file_extension": ".py",
   "mimetype": "text/x-python",
   "name": "python",
   "nbconvert_exporter": "python",
   "pygments_lexer": "ipython3",
   "version": "3.8.3"
  }
 },
 "nbformat": 4,
 "nbformat_minor": 5
}
