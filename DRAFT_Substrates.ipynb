{
 "cells": [
  {
   "cell_type": "code",
   "execution_count": 1,
   "metadata": {},
   "outputs": [],
   "source": [
    "from cobra import Reaction, Metabolite\n",
    "from cobra.io import read_sbml_model\n",
    "from cobra.io import write_sbml_model"
   ]
  },
  {
   "cell_type": "markdown",
   "metadata": {},
   "source": [
    "## Model with media LB with added violacein (using FAD)"
   ]
  },
  {
   "cell_type": "code",
   "execution_count": 2,
   "metadata": {},
   "outputs": [],
   "source": [
    "model_LB_vio_fad=read_sbml_model('Models/model_VN_LB_vio-fad.xml')"
   ]
  },
  {
   "cell_type": "code",
   "execution_count": 3,
   "metadata": {},
   "outputs": [
    {
     "name": "stdout",
     "output_type": "stream",
     "text": [
      "Growth rate for V. natriegens [h^-1]: 2.8405970205438917\n",
      "Max. violacein production [mmol gDW^-1 h^-1]: 3.3333333333333326\n",
      "Theoretical maximum yield [mmol_vio / mmol_glc]: 0.33333333333333326\n"
     ]
    }
   ],
   "source": [
    "# With glucose as substrate\n",
    "medium = model_LB_vio_fad.medium\n",
    "with model_LB_vio_fad:\n",
    "    model_LB_vio_fad.objective = model_LB_vio_fad.reactions.Growth\n",
    "    growth_rate = model_LB_vio_fad.optimize().objective_value\n",
    "    model_LB_vio_fad.objective = model_LB_vio_fad.reactions.Violacein\n",
    "    violacein_production = model_LB_vio_fad.optimize().objective_value\n",
    "    violacein_glc_yield = violacein_production / (-1*model_LB_vio_fad.reactions.EX_glc__D_e.flux)\n",
    "    print('Growth rate for V. natriegens [h^-1]:', growth_rate)\n",
    "    print('Max. violacein production [mmol gDW^-1 h^-1]:', violacein_production)\n",
    "    print('Theoretical maximum yield [mmol_vio / mmol_glc]:', violacein_glc_yield)"
   ]
  },
  {
   "cell_type": "code",
   "execution_count": 4,
   "metadata": {},
   "outputs": [
    {
     "name": "stdout",
     "output_type": "stream",
     "text": [
      "Growth rate for V. natriegens [h^-1]: 2.8405970205438895\n",
      "Max. violacein production [mmol gDW^-1 h^-1]: 3.3333333333333335\n",
      "Theoretical maximum yield [mmol_vio / mmol_mnl]: 0.33333333333333337\n"
     ]
    }
   ],
   "source": [
    "# With D-mannitol as substrate\n",
    "medium = model_LB_vio_fad.medium\n",
    "with model_LB_vio_fad:\n",
    "    medium['EX_glc__D_e'] = 0\n",
    "    medium['EX_mnl_e'] = 10\n",
    "    model_LB_vio_fad.medium = medium\n",
    "    model_LB_vio_fad.objective = model_LB_vio_fad.reactions.Growth\n",
    "    growth_rate = model_LB_vio_fad.optimize().objective_value\n",
    "    model_LB_vio_fad.objective = model_LB_vio_fad.reactions.Violacein\n",
    "    violacein_production = model_LB_vio_fad.optimize().objective_value\n",
    "    violacein_mnl_yield = violacein_production / (-1*model_LB_vio_fad.reactions.EX_mnl_e.flux)\n",
    "    print('Growth rate for V. natriegens [h^-1]:', growth_rate)\n",
    "    print('Max. violacein production [mmol gDW^-1 h^-1]:', violacein_production)\n",
    "    print('Theoretical maximum yield [mmol_vio / mmol_mnl]:', violacein_mnl_yield)"
   ]
  },
  {
   "cell_type": "code",
   "execution_count": 5,
   "metadata": {},
   "outputs": [
    {
     "name": "stdout",
     "output_type": "stream",
     "text": [
      "Growth rate for V. natriegens [h^-1]: 3.1420399055363095\n",
      "Max. violacein production [mmol gDW^-1 h^-1]: 3.3333333333333326\n",
      "Theoretical maximum yield [mmol_vio / mmol_sucr]: 0.33333333333333326\n"
     ]
    }
   ],
   "source": [
    "# With sucrose as substrate\n",
    "medium = model_LB_vio_fad.medium\n",
    "with model_LB_vio_fad:\n",
    "    medium['EX_glc__D_e'] = 0\n",
    "    medium['EX_sucr_e'] = 10\n",
    "    model_LB_vio_fad.medium = medium\n",
    "    model_LB_vio_fad.objective = model_LB_vio_fad.reactions.Growth\n",
    "    growth_rate = model_LB_vio_fad.optimize().objective_value\n",
    "    model_LB_vio_fad.objective = model_LB_vio_fad.reactions.Violacein\n",
    "    violacein_production = model_LB_vio_fad.optimize().objective_value\n",
    "    violacein_sucr_yield = violacein_production / (-1*model_LB_vio_fad.reactions.EX_sucr_e.flux)\n",
    "    print('Growth rate for V. natriegens [h^-1]:', growth_rate)\n",
    "    print('Max. violacein production [mmol gDW^-1 h^-1]:', violacein_production)\n",
    "    print('Theoretical maximum yield [mmol_vio / mmol_sucr]:', violacein_sucr_yield)"
   ]
  },
  {
   "cell_type": "code",
   "execution_count": 6,
   "metadata": {},
   "outputs": [
    {
     "name": "stdout",
     "output_type": "stream",
     "text": [
      "Growth rate for V. natriegens [h^-1]: 2.6688478035262198\n",
      "Max. violacein production [mmol gDW^-1 h^-1]: 3.333333333333333\n",
      "Theoretical maximum yield [mmol_vio / mmol_glyc]: 0.3333333333333333\n"
     ]
    }
   ],
   "source": [
    "# With glycerol as substrate\n",
    "medium = model_LB_vio_fad.medium\n",
    "with model_LB_vio_fad:\n",
    "    medium['EX_glc__D_e'] = 0\n",
    "    medium['EX_glyc_e'] = 10\n",
    "    model_LB_vio_fad.medium = medium\n",
    "    model_LB_vio_fad.objective = model_LB_vio_fad.reactions.Growth\n",
    "    growth_rate = model_LB_vio_fad.optimize().objective_value\n",
    "    model_LB_vio_fad.objective = model_LB_vio_fad.reactions.Violacein\n",
    "    violacein_production = model_LB_vio_fad.optimize().objective_value\n",
    "    violacein_glyc_yield = violacein_production / (-1*model_LB_vio_fad.reactions.EX_glyc_e.flux)\n",
    "    print('Growth rate for V. natriegens [h^-1]:', growth_rate)\n",
    "    print('Max. violacein production [mmol gDW^-1 h^-1]:', violacein_production)\n",
    "    print('Theoretical maximum yield [mmol_vio / mmol_glyc]:', violacein_glyc_yield)"
   ]
  },
  {
   "cell_type": "code",
   "execution_count": 7,
   "metadata": {},
   "outputs": [
    {
     "name": "stdout",
     "output_type": "stream",
     "text": [
      "Growth rate for V. natriegens [h^-1]: 2.6769806205562\n",
      "Max. violacein production [mmol gDW^-1 h^-1]: 3.333333333333334\n",
      "Theoretical maximum yield [mmol_vio / mmol_acgam]: 0.33333333333333337\n"
     ]
    }
   ],
   "source": [
    "# With N-acetyl-D-glucosamine as substrate\n",
    "medium = model_LB_vio_fad.medium\n",
    "with model_LB_vio_fad:\n",
    "    medium['EX_glc__D_e'] = 0\n",
    "    medium['EX_acgam_e'] = 10\n",
    "    model_LB_vio_fad.medium = medium\n",
    "    model_LB_vio_fad.objective = model_LB_vio_fad.reactions.Growth\n",
    "    growth_rate = model_LB_vio_fad.optimize().objective_value\n",
    "    model_LB_vio_fad.objective = model_LB_vio_fad.reactions.Violacein\n",
    "    violacein_production = model_LB_vio_fad.optimize().objective_value\n",
    "    violacein_acgam_yield = violacein_production / (-1*model_LB_vio_fad.reactions.EX_acgam_e.flux)\n",
    "    print('Growth rate for V. natriegens [h^-1]:', growth_rate)\n",
    "    print('Max. violacein production [mmol gDW^-1 h^-1]:', violacein_production)\n",
    "    print('Theoretical maximum yield [mmol_vio / mmol_acgam]:', violacein_acgam_yield)"
   ]
  },
  {
   "cell_type": "markdown",
   "metadata": {},
   "source": [
    "## Model with media LB with added violacein (using O2)"
   ]
  },
  {
   "cell_type": "code",
   "execution_count": 2,
   "metadata": {},
   "outputs": [],
   "source": [
    "model_LB_vio_o2=read_sbml_model('Models/model_VN_LB_vio-o2.xml')"
   ]
  },
  {
   "cell_type": "code",
   "execution_count": 3,
   "metadata": {},
   "outputs": [
    {
     "name": "stdout",
     "output_type": "stream",
     "text": [
      "Growth rate for V. natriegens [h^-1]: 2.8405970205438926\n",
      "Max. violacein production [mmol gDW^-1 h^-1]: 2.5\n",
      "Theoretical maximum yield [mmol_vio / mmol_glc]: 0.25\n"
     ]
    }
   ],
   "source": [
    "# With glucose as substrate\n",
    "medium = model_LB_vio_o2.medium\n",
    "with model_LB_vio_o2:\n",
    "    model_LB_vio_o2.objective = model_LB_vio_o2.reactions.Growth\n",
    "    growth_rate = model_LB_vio_o2.optimize().objective_value\n",
    "    model_LB_vio_o2.objective = model_LB_vio_o2.reactions.Violacein\n",
    "    violacein_production = model_LB_vio_o2.optimize().objective_value\n",
    "    violacein_glc_yield = violacein_production / (-1*model_LB_vio_o2.reactions.EX_glc__D_e.flux)\n",
    "    print('Growth rate for V. natriegens [h^-1]:', growth_rate)\n",
    "    print('Max. violacein production [mmol gDW^-1 h^-1]:', violacein_production)\n",
    "    print('Theoretical maximum yield [mmol_vio / mmol_glc]:', violacein_glc_yield)"
   ]
  },
  {
   "cell_type": "code",
   "execution_count": 4,
   "metadata": {},
   "outputs": [
    {
     "name": "stdout",
     "output_type": "stream",
     "text": [
      "Growth rate for V. natriegens [h^-1]: 2.840597020543895\n",
      "Max. violacein production [mmol gDW^-1 h^-1]: 2.499999999999999\n",
      "Theoretical maximum yield [mmol_vio / mmol_mnl]: 0.24999999999999992\n"
     ]
    }
   ],
   "source": [
    "# With D-mannitol as substrate\n",
    "medium = model_LB_vio_o2.medium\n",
    "with model_LB_vio_o2:\n",
    "    medium['EX_glc__D_e'] = 0\n",
    "    medium['EX_mnl_e'] = 10\n",
    "    model_LB_vio_o2.medium = medium\n",
    "    model_LB_vio_o2.objective = model_LB_vio_o2.reactions.Growth\n",
    "    growth_rate = model_LB_vio_o2.optimize().objective_value\n",
    "    model_LB_vio_o2.objective = model_LB_vio_o2.reactions.Violacein\n",
    "    violacein_production = model_LB_vio_o2.optimize().objective_value\n",
    "    violacein_mnl_yield = violacein_production / (-1*model_LB_vio_o2.reactions.EX_mnl_e.flux)\n",
    "    print('Growth rate for V. natriegens [h^-1]:', growth_rate)\n",
    "    print('Max. violacein production [mmol gDW^-1 h^-1]:', violacein_production)\n",
    "    print('Theoretical maximum yield [mmol_vio / mmol_mnl]:', violacein_mnl_yield)"
   ]
  },
  {
   "cell_type": "code",
   "execution_count": 5,
   "metadata": {},
   "outputs": [
    {
     "name": "stdout",
     "output_type": "stream",
     "text": [
      "Growth rate for V. natriegens [h^-1]: 3.142039905536309\n",
      "Max. violacein production [mmol gDW^-1 h^-1]: 2.5000000000000004\n",
      "Theoretical maximum yield [mmol_vio / mmol_sucr]: 0.25000000000000006\n"
     ]
    }
   ],
   "source": [
    "# With sucrose as substrate\n",
    "medium = model_LB_vio_o2.medium\n",
    "with model_LB_vio_o2:\n",
    "    medium['EX_glc__D_e'] = 0\n",
    "    medium['EX_sucr_e'] = 10\n",
    "    model_LB_vio_o2.medium = medium\n",
    "    model_LB_vio_o2.objective = model_LB_vio_o2.reactions.Growth\n",
    "    growth_rate = model_LB_vio_o2.optimize().objective_value\n",
    "    model_LB_vio_o2.objective = model_LB_vio_o2.reactions.Violacein\n",
    "    violacein_production = model_LB_vio_o2.optimize().objective_value\n",
    "    violacein_sucr_yield = violacein_production / (-1*model_LB_vio_o2.reactions.EX_sucr_e.flux)\n",
    "    print('Growth rate for V. natriegens [h^-1]:', growth_rate)\n",
    "    print('Max. violacein production [mmol gDW^-1 h^-1]:', violacein_production)\n",
    "    print('Theoretical maximum yield [mmol_vio / mmol_sucr]:', violacein_sucr_yield)"
   ]
  },
  {
   "cell_type": "code",
   "execution_count": 6,
   "metadata": {},
   "outputs": [
    {
     "name": "stdout",
     "output_type": "stream",
     "text": [
      "Growth rate for V. natriegens [h^-1]: 2.6688478035262206\n",
      "Max. violacein production [mmol gDW^-1 h^-1]: 2.4999999999999987\n",
      "Theoretical maximum yield [mmol_vio / mmol_glyc]: 0.24999999999999986\n"
     ]
    }
   ],
   "source": [
    "# With glycerol as substrate\n",
    "medium = model_LB_vio_o2.medium\n",
    "with model_LB_vio_o2:\n",
    "    medium['EX_glc__D_e'] = 0\n",
    "    medium['EX_glyc_e'] = 10\n",
    "    model_LB_vio_o2.medium = medium\n",
    "    model_LB_vio_o2.objective = model_LB_vio_o2.reactions.Growth\n",
    "    growth_rate = model_LB_vio_o2.optimize().objective_value\n",
    "    model_LB_vio_o2.objective = model_LB_vio_o2.reactions.Violacein\n",
    "    violacein_production = model_LB_vio_o2.optimize().objective_value\n",
    "    violacein_glyc_yield = violacein_production / (-1*model_LB_vio_o2.reactions.EX_glyc_e.flux)\n",
    "    print('Growth rate for V. natriegens [h^-1]:', growth_rate)\n",
    "    print('Max. violacein production [mmol gDW^-1 h^-1]:', violacein_production)\n",
    "    print('Theoretical maximum yield [mmol_vio / mmol_glyc]:', violacein_glyc_yield)"
   ]
  },
  {
   "cell_type": "code",
   "execution_count": 7,
   "metadata": {},
   "outputs": [
    {
     "name": "stdout",
     "output_type": "stream",
     "text": [
      "Growth rate for V. natriegens [h^-1]: 2.6769806205561997\n",
      "Max. violacein production [mmol gDW^-1 h^-1]: 2.4999999999999996\n",
      "Theoretical maximum yield [mmol_vio / mmol_acgam]: 0.24999999999999994\n"
     ]
    }
   ],
   "source": [
    "# With N-acetyl-D-glucosamine as substrate\n",
    "medium = model_LB_vio_o2.medium\n",
    "with model_LB_vio_o2:\n",
    "    medium['EX_glc__D_e'] = 0\n",
    "    medium['EX_acgam_e'] = 10\n",
    "    model_LB_vio_o2.medium = medium\n",
    "    model_LB_vio_o2.objective = model_LB_vio_o2.reactions.Growth\n",
    "    growth_rate = model_LB_vio_o2.optimize().objective_value\n",
    "    model_LB_vio_o2.objective = model_LB_vio_o2.reactions.Violacein\n",
    "    violacein_production = model_LB_vio_o2.optimize().objective_value\n",
    "    violacein_acgam_yield = violacein_production / (-1*model_LB_vio_o2.reactions.EX_acgam_e.flux)\n",
    "    print('Growth rate for V. natriegens [h^-1]:', growth_rate)\n",
    "    print('Max. violacein production [mmol gDW^-1 h^-1]:', violacein_production)\n",
    "    print('Theoretical maximum yield [mmol_vio / mmol_acgam]:', violacein_acgam_yield)"
   ]
  },
  {
   "cell_type": "markdown",
   "metadata": {},
   "source": [
    "## Model with media M9 with added violacein (using FAD)"
   ]
  },
  {
   "cell_type": "code",
   "execution_count": 2,
   "metadata": {},
   "outputs": [],
   "source": [
    "model_M9_vio_fad=read_sbml_model('Models/model_VN_M9_vio-fad.xml')"
   ]
  },
  {
   "cell_type": "code",
   "execution_count": 3,
   "metadata": {},
   "outputs": [
    {
     "name": "stdout",
     "output_type": "stream",
     "text": [
      "Growth rate for V. natriegens [h^-1]: 0.718857569696967\n",
      "Max. violacein production [mmol gDW^-1 h^-1]: 2.08955223880597\n",
      "Theoretical maximum yield [mmol_vio / mmol_glc]: 0.208955223880597\n"
     ]
    }
   ],
   "source": [
    "# With glucose as substrate\n",
    "medium = model_M9_vio_fad.medium\n",
    "with model_M9_vio_fad:\n",
    "    model_M9_vio_fad.objective = model_M9_vio_fad.reactions.Growth\n",
    "    growth_rate = model_M9_vio_fad.optimize().objective_value\n",
    "    model_M9_vio_fad.objective = model_M9_vio_fad.reactions.Violacein\n",
    "    violacein_production = model_M9_vio_fad.optimize().objective_value\n",
    "    violacein_glc_yield = violacein_production / (-1*model_M9_vio_fad.reactions.EX_glc__D_e.flux)\n",
    "    print('Growth rate for V. natriegens [h^-1]:', growth_rate)\n",
    "    print('Max. violacein production [mmol gDW^-1 h^-1]:', violacein_production)\n",
    "    print('Theoretical maximum yield [mmol_vio / mmol_glc]:', violacein_glc_yield)"
   ]
  },
  {
   "cell_type": "code",
   "execution_count": 4,
   "metadata": {},
   "outputs": [
    {
     "name": "stdout",
     "output_type": "stream",
     "text": [
      "Growth rate for V. natriegens [h^-1]: 0.7188575696969742\n",
      "Max. violacein production [mmol gDW^-1 h^-1]: 1.9277108433734966\n",
      "Theoretical maximum yield [mmol_vio / mmol_mnl]: 0.19277108433734966\n"
     ]
    }
   ],
   "source": [
    "# With D-mannitol as substrate\n",
    "medium = model_M9_vio_fad.medium\n",
    "with model_M9_vio_fad:\n",
    "    medium['EX_glc__D_e'] = 0\n",
    "    medium['EX_mnl_e'] = 10\n",
    "    model_M9_vio_fad.medium = medium\n",
    "    model_M9_vio_fad.objective = model_M9_vio_fad.reactions.Growth\n",
    "    growth_rate = model_M9_vio_fad.optimize().objective_value\n",
    "    model_M9_vio_fad.objective = model_M9_vio_fad.reactions.Violacein\n",
    "    violacein_production = model_M9_vio_fad.optimize().objective_value\n",
    "    violacein_mnl_yield = violacein_production / (-1*model_M9_vio_fad.reactions.EX_mnl_e.flux)\n",
    "    print('Growth rate for V. natriegens [h^-1]:', growth_rate)\n",
    "    print('Max. violacein production [mmol gDW^-1 h^-1]:', violacein_production)\n",
    "    print('Theoretical maximum yield [mmol_vio / mmol_mnl]:', violacein_mnl_yield)"
   ]
  },
  {
   "cell_type": "code",
   "execution_count": 5,
   "metadata": {},
   "outputs": [
    {
     "name": "stdout",
     "output_type": "stream",
     "text": [
      "Growth rate for V. natriegens [h^-1]: 0.8930785785011127\n",
      "Max. violacein production [mmol gDW^-1 h^-1]: 2.812499999999997\n",
      "Theoretical maximum yield [mmol_vio / mmol_sucr]: 0.28124999999999967\n"
     ]
    }
   ],
   "source": [
    "# With sucrose as substrate\n",
    "medium = model_M9_vio_fad.medium\n",
    "with model_M9_vio_fad:\n",
    "    medium['EX_glc__D_e'] = 0\n",
    "    medium['EX_sucr_e'] = 10\n",
    "    model_M9_vio_fad.medium = medium\n",
    "    model_M9_vio_fad.objective = model_M9_vio_fad.reactions.Growth\n",
    "    growth_rate = model_M9_vio_fad.optimize().objective_value\n",
    "    model_M9_vio_fad.objective = model_M9_vio_fad.reactions.Violacein\n",
    "    violacein_production = model_M9_vio_fad.optimize().objective_value\n",
    "    violacein_sucr_yield = violacein_production / (-1*model_M9_vio_fad.reactions.EX_sucr_e.flux)\n",
    "    print('Growth rate for V. natriegens [h^-1]:', growth_rate)\n",
    "    print('Max. violacein production [mmol gDW^-1 h^-1]:', violacein_production)\n",
    "    print('Theoretical maximum yield [mmol_vio / mmol_sucr]:', violacein_sucr_yield)"
   ]
  },
  {
   "cell_type": "code",
   "execution_count": 6,
   "metadata": {},
   "outputs": [
    {
     "name": "stdout",
     "output_type": "stream",
     "text": [
      "Growth rate for V. natriegens [h^-1]: 0.5364811289203371\n",
      "Max. violacein production [mmol gDW^-1 h^-1]: 1.2816188870151768\n",
      "Theoretical maximum yield [mmol_vio / mmol_glyc]: 0.12816188870151768\n"
     ]
    }
   ],
   "source": [
    "# With glycerol as substrate\n",
    "medium = model_M9_vio_fad.medium\n",
    "with model_M9_vio_fad:\n",
    "    medium['EX_glc__D_e'] = 0\n",
    "    medium['EX_glyc_e'] = 10\n",
    "    model_M9_vio_fad.medium = medium\n",
    "    model_M9_vio_fad.objective = model_M9_vio_fad.reactions.Growth\n",
    "    growth_rate = model_M9_vio_fad.optimize().objective_value\n",
    "    model_M9_vio_fad.objective = model_M9_vio_fad.reactions.Violacein\n",
    "    violacein_production = model_M9_vio_fad.optimize().objective_value\n",
    "    violacein_glyc_yield = violacein_production / (-1*model_M9_vio_fad.reactions.EX_glyc_e.flux)\n",
    "    print('Growth rate for V. natriegens [h^-1]:', growth_rate)\n",
    "    print('Max. violacein production [mmol gDW^-1 h^-1]:', violacein_production)\n",
    "    print('Theoretical maximum yield [mmol_vio / mmol_glyc]:', violacein_glyc_yield)"
   ]
  },
  {
   "cell_type": "code",
   "execution_count": 7,
   "metadata": {},
   "outputs": [
    {
     "name": "stdout",
     "output_type": "stream",
     "text": [
      "Growth rate for V. natriegens [h^-1]: 0.6167879625967687\n",
      "Max. violacein production [mmol gDW^-1 h^-1]: 1.736111111111111\n",
      "Theoretical maximum yield [mmol_vio / mmol_acgam]: 0.1736111111111111\n"
     ]
    }
   ],
   "source": [
    "# With N-acetyl-D-glucosamine as substrate\n",
    "medium = model_M9_vio_fad.medium\n",
    "with model_M9_vio_fad:\n",
    "    medium['EX_glc__D_e'] = 0\n",
    "    medium['EX_acgam_e'] = 10\n",
    "    model_M9_vio_fad.medium = medium\n",
    "    model_M9_vio_fad.objective = model_M9_vio_fad.reactions.Growth\n",
    "    growth_rate = model_M9_vio_fad.optimize().objective_value\n",
    "    model_M9_vio_fad.objective = model_M9_vio_fad.reactions.Violacein\n",
    "    violacein_production = model_M9_vio_fad.optimize().objective_value\n",
    "    violacein_acgam_yield = violacein_production / (-1*model_M9_vio_fad.reactions.EX_acgam_e.flux)\n",
    "    print('Growth rate for V. natriegens [h^-1]:', growth_rate)\n",
    "    print('Max. violacein production [mmol gDW^-1 h^-1]:', violacein_production)\n",
    "    print('Theoretical maximum yield [mmol_vio / mmol_acgam]:', violacein_acgam_yield)"
   ]
  },
  {
   "cell_type": "markdown",
   "metadata": {},
   "source": [
    "## Model with media M9 with added violacein (using O2)"
   ]
  },
  {
   "cell_type": "code",
   "execution_count": 2,
   "metadata": {},
   "outputs": [],
   "source": [
    "model_M9_vio_o2=read_sbml_model('Models/model_VN_M9_vio-o2.xml')"
   ]
  },
  {
   "cell_type": "code",
   "execution_count": 3,
   "metadata": {},
   "outputs": [
    {
     "name": "stdout",
     "output_type": "stream",
     "text": [
      "Growth rate for V. natriegens [h^-1]: 0.7188575696969642\n",
      "Max. violacein production [mmol gDW^-1 h^-1]: 1.8918918918918923\n",
      "Theoretical maximum yield [mmol_vio / mmol_glc]: 0.18918918918918923\n"
     ]
    }
   ],
   "source": [
    "# With glucose as substrate\n",
    "medium = model_M9_vio_o2.medium\n",
    "with model_M9_vio_o2:\n",
    "    model_M9_vio_o2.objective = model_M9_vio_o2.reactions.Growth\n",
    "    growth_rate = model_M9_vio_o2.optimize().objective_value\n",
    "    model_M9_vio_o2.objective = model_M9_vio_o2.reactions.Violacein\n",
    "    violacein_production = model_M9_vio_o2.optimize().objective_value\n",
    "    violacein_glc_yield = violacein_production / (-1*model_M9_vio_o2.reactions.EX_glc__D_e.flux)\n",
    "    print('Growth rate for V. natriegens [h^-1]:', growth_rate)\n",
    "    print('Max. violacein production [mmol gDW^-1 h^-1]:', violacein_production)\n",
    "    print('Theoretical maximum yield [mmol_vio / mmol_glc]:', violacein_glc_yield)"
   ]
  },
  {
   "cell_type": "code",
   "execution_count": 4,
   "metadata": {},
   "outputs": [
    {
     "name": "stdout",
     "output_type": "stream",
     "text": [
      "Growth rate for V. natriegens [h^-1]: 0.7188575696969655\n",
      "Max. violacein production [mmol gDW^-1 h^-1]: 1.7777777777777777\n",
      "Theoretical maximum yield [mmol_vio / mmol_mnl]: 0.17777777777777776\n"
     ]
    }
   ],
   "source": [
    "# With D-mannitol as substrate\n",
    "medium = model_M9_vio_o2.medium\n",
    "with model_M9_vio_o2:\n",
    "    medium['EX_glc__D_e'] = 0\n",
    "    medium['EX_mnl_e'] = 10\n",
    "    model_M9_vio_o2.medium = medium\n",
    "    model_M9_vio_o2.objective = model_M9_vio_o2.reactions.Growth\n",
    "    growth_rate = model_M9_vio_o2.optimize().objective_value\n",
    "    model_M9_vio_o2.objective = model_M9_vio_o2.reactions.Violacein\n",
    "    violacein_production = model_M9_vio_o2.optimize().objective_value\n",
    "    violacein_mnl_yield = violacein_production / (-1*model_M9_vio_o2.reactions.EX_mnl_e.flux)\n",
    "    print('Growth rate for V. natriegens [h^-1]:', growth_rate)\n",
    "    print('Max. violacein production [mmol gDW^-1 h^-1]:', violacein_production)\n",
    "    print('Theoretical maximum yield [mmol_vio / mmol_mnl]:', violacein_mnl_yield)"
   ]
  },
  {
   "cell_type": "code",
   "execution_count": 5,
   "metadata": {},
   "outputs": [
    {
     "name": "stdout",
     "output_type": "stream",
     "text": [
      "Growth rate for V. natriegens [h^-1]: 0.8930785785011381\n",
      "Max. violacein production [mmol gDW^-1 h^-1]: 2.432432432432433\n",
      "Theoretical maximum yield [mmol_vio / mmol_sucr]: 0.24324324324324328\n"
     ]
    }
   ],
   "source": [
    "# With sucrose as substrate\n",
    "medium = model_M9_vio_o2.medium\n",
    "with model_M9_vio_o2:\n",
    "    medium['EX_glc__D_e'] = 0\n",
    "    medium['EX_sucr_e'] = 10\n",
    "    model_M9_vio_o2.medium = medium\n",
    "    model_M9_vio_o2.objective = model_M9_vio_o2.reactions.Growth\n",
    "    growth_rate = model_M9_vio_o2.optimize().objective_value\n",
    "    model_M9_vio_o2.objective = model_M9_vio_o2.reactions.Violacein\n",
    "    violacein_production = model_M9_vio_o2.optimize().objective_value\n",
    "    violacein_sucr_yield = violacein_production / (-1*model_M9_vio_o2.reactions.EX_sucr_e.flux)\n",
    "    print('Growth rate for V. natriegens [h^-1]:', growth_rate)\n",
    "    print('Max. violacein production [mmol gDW^-1 h^-1]:', violacein_production)\n",
    "    print('Theoretical maximum yield [mmol_vio / mmol_sucr]:', violacein_sucr_yield)"
   ]
  },
  {
   "cell_type": "code",
   "execution_count": 6,
   "metadata": {},
   "outputs": [
    {
     "name": "stdout",
     "output_type": "stream",
     "text": [
      "Growth rate for V. natriegens [h^-1]: 0.5364811289243665\n",
      "Max. violacein production [mmol gDW^-1 h^-1]: 1.2617598229109015\n",
      "Theoretical maximum yield [mmol_vio / mmol_glyc]: 0.12617598229109014\n"
     ]
    }
   ],
   "source": [
    "# With glycerol as substrate\n",
    "medium = model_M9_vio_o2.medium\n",
    "with model_M9_vio_o2:\n",
    "    medium['EX_glc__D_e'] = 0\n",
    "    medium['EX_glyc_e'] = 10\n",
    "    model_M9_vio_o2.medium = medium\n",
    "    model_M9_vio_o2.objective = model_M9_vio_o2.reactions.Growth\n",
    "    growth_rate = model_M9_vio_o2.optimize().objective_value\n",
    "    model_M9_vio_o2.objective = model_M9_vio_o2.reactions.Violacein\n",
    "    violacein_production = model_M9_vio_o2.optimize().objective_value\n",
    "    violacein_glyc_yield = violacein_production / (-1*model_M9_vio_o2.reactions.EX_glyc_e.flux)\n",
    "    print('Growth rate for V. natriegens [h^-1]:', growth_rate)\n",
    "    print('Max. violacein production [mmol gDW^-1 h^-1]:', violacein_production)\n",
    "    print('Theoretical maximum yield [mmol_vio / mmol_glyc]:', violacein_glyc_yield)"
   ]
  },
  {
   "cell_type": "code",
   "execution_count": 7,
   "metadata": {},
   "outputs": [
    {
     "name": "stdout",
     "output_type": "stream",
     "text": [
      "Growth rate for V. natriegens [h^-1]: 0.6167879625967698\n",
      "Max. violacein production [mmol gDW^-1 h^-1]: 1.5624999999999993\n",
      "Theoretical maximum yield [mmol_vio / mmol_acgam]: 0.15624999999999994\n"
     ]
    }
   ],
   "source": [
    "# With N-acetyl-D-glucosamine as substrate\n",
    "medium = model_M9_vio_o2.medium\n",
    "with model_M9_vio_o2:\n",
    "    medium['EX_glc__D_e'] = 0\n",
    "    medium['EX_acgam_e'] = 10\n",
    "    model_M9_vio_o2.medium = medium\n",
    "    model_M9_vio_o2.objective = model_M9_vio_o2.reactions.Growth\n",
    "    growth_rate = model_M9_vio_o2.optimize().objective_value\n",
    "    model_M9_vio_o2.objective = model_M9_vio_o2.reactions.Violacein\n",
    "    violacein_production = model_M9_vio_o2.optimize().objective_value\n",
    "    violacein_acgam_yield = violacein_production / (-1*model_M9_vio_o2.reactions.EX_acgam_e.flux)\n",
    "    print('Growth rate for V. natriegens [h^-1]:', growth_rate)\n",
    "    print('Max. violacein production [mmol gDW^-1 h^-1]:', violacein_production)\n",
    "    print('Theoretical maximum yield [mmol_vio / mmol_acgam]:', violacein_acgam_yield)"
   ]
  }
 ],
 "metadata": {
  "kernelspec": {
   "display_name": "Python 3",
   "language": "python",
   "name": "python3"
  },
  "language_info": {
   "codemirror_mode": {
    "name": "ipython",
    "version": 3
   },
   "file_extension": ".py",
   "mimetype": "text/x-python",
   "name": "python",
   "nbconvert_exporter": "python",
   "pygments_lexer": "ipython3",
   "version": "3.8.3"
  }
 },
 "nbformat": 4,
 "nbformat_minor": 5
}
