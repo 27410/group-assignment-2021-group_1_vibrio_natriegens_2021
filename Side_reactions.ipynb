{
 "cells": [
  {
   "cell_type": "code",
   "execution_count": 2,
   "id": "5c4be1bd-5942-4ee6-833f-17f2bc711ab6",
   "metadata": {},
   "outputs": [],
   "source": [
    "from cobra.io import read_sbml_model"
   ]
  },
  {
   "cell_type": "code",
   "execution_count": 3,
   "id": "cea54e16-fadb-4d78-9ee1-20e7a16bc5f2",
   "metadata": {},
   "outputs": [],
   "source": [
    "model = read_sbml_model('Models/Vibrio-natriegens-ATCC_14048-M9.xml')"
   ]
  },
  {
   "cell_type": "code",
   "execution_count": 5,
   "id": "ee5925cb-2be8-49c8-b9fa-35893b21f242",
   "metadata": {},
   "outputs": [
    {
     "name": "stdout",
     "output_type": "stream",
     "text": [
      "Hydrogen peroxide h2o2_c\n",
      "Hydrogen peroxide h2o2_p\n",
      "Hydrogen peroxide h2o2_e\n"
     ]
    }
   ],
   "source": [
    "for metabolite in model.metabolites.query('peroxide', 'name'):\n",
    "    print(metabolite.name, metabolite.id)"
   ]
  },
  {
   "cell_type": "code",
   "execution_count": 6,
   "id": "65f81ab2-8083-4b09-a671-b24a35d8188c",
   "metadata": {},
   "outputs": [
    {
     "data": {
      "text/html": [
       "\n",
       "        <table>\n",
       "            <tr>\n",
       "                <td><strong>Metabolite identifier</strong></td><td>h2o2_c</td>\n",
       "            </tr><tr>\n",
       "                <td><strong>Name</strong></td><td>Hydrogen peroxide</td>\n",
       "            </tr><tr>\n",
       "                <td><strong>Memory address</strong></td>\n",
       "                <td>0x01bad4bcb460</td>\n",
       "            </tr><tr>\n",
       "                <td><strong>Formula</strong></td><td>H2O2</td>\n",
       "            </tr><tr>\n",
       "                <td><strong>Compartment</strong></td><td>C_c</td>\n",
       "            </tr><tr>\n",
       "                <td><strong>In 18 reaction(s)</strong></td><td>\n",
       "                    METSR_S2, METOX1s, METSR_R2, THIORDXi, GLYCTO1, PDX5POi, DALAOX, PYAM5PO, NOX, GLYO1, GLXO3r, SARCOX, GTHPi, ASPO6, PYDXNO, URIC, GGPTRCO, METOX2s</td>\n",
       "            </tr>\n",
       "        </table>"
      ],
      "text/plain": [
       "<Metabolite h2o2_c at 0x1bad4bcb460>"
      ]
     },
     "execution_count": 6,
     "metadata": {},
     "output_type": "execute_result"
    }
   ],
   "source": [
    "model.metabolites.get_by_id('h2o2_c')"
   ]
  },
  {
   "cell_type": "code",
   "execution_count": 8,
   "id": "31853756-035f-4c14-8017-e6124008c2cf",
   "metadata": {},
   "outputs": [
    {
     "data": {
      "text/plain": [
       "frozenset({<Reaction ASPO6 at 0x1bada20b6a0>,\n",
       "           <Reaction DALAOX at 0x1bada374970>,\n",
       "           <Reaction GGPTRCO at 0x1bada600b50>,\n",
       "           <Reaction GLXO3r at 0x1bada661a30>,\n",
       "           <Reaction GLYCTO1 at 0x1bada69dd00>,\n",
       "           <Reaction GLYO1 at 0x1bada69de20>,\n",
       "           <Reaction GTHPi at 0x1bada6d8a90>,\n",
       "           <Reaction METOX1s at 0x1bada929c40>,\n",
       "           <Reaction METOX2s at 0x1bada929fa0>,\n",
       "           <Reaction METSR_R2 at 0x1bada93bc40>,\n",
       "           <Reaction METSR_S2 at 0x1bada93bc10>,\n",
       "           <Reaction NOX at 0x1badaa33dc0>,\n",
       "           <Reaction PDX5POi at 0x1badab1f910>,\n",
       "           <Reaction PYAM5PO at 0x1badac649a0>,\n",
       "           <Reaction PYDXNO at 0x1badac89a90>,\n",
       "           <Reaction SARCOX at 0x1badacfd640>,\n",
       "           <Reaction THIORDXi at 0x1badadbbcd0>,\n",
       "           <Reaction URIC at 0x1badae7eeb0>})"
      ]
     },
     "execution_count": 8,
     "metadata": {},
     "output_type": "execute_result"
    }
   ],
   "source": [
    "# Finding the reactions that involve H2O2\n",
    "model.metabolites.get_by_id('h2o2_c').reactions"
   ]
  },
  {
   "cell_type": "code",
   "execution_count": 9,
   "id": "76b580f8-356d-413a-92ee-ce58a5570e2e",
   "metadata": {},
   "outputs": [
    {
     "name": "stdout",
     "output_type": "stream",
     "text": [
      "METSR_S2 METSR_S2: h2o2_c + met__L_c --> h2o_c + metox_c L methionine S oxide reductase  H2O2 \n",
      "METOX1s METOX1s: h2o2_c + met__L_c --> h2o_c + metsox_S__L_c Methionine oxidation (spontaneous)\n",
      "METSR_R2 METSR_R2: h2o2_c + met__L_c --> h2o_c + metox__R_c L methionine R oxide  H2O2 \n",
      "THIORDXi THIORDXi: h2o2_c + trdrd_c --> 2.0 h2o_c + trdox_c Hydrogen peroxide reductase (thioredoxin)\n",
      "GLYCTO1 GLYCTO1: glyclt_c + o2_c --> glx_c + h2o2_c GLYCTO1\n",
      "PDX5POi PDX5POi: o2_c + pdx5p_c --> h2o2_c + pydx5p_c Pyridoxine 5'-phosphate oxidase\n",
      "DALAOX DALAOX: ala__D_c + h2o_c + o2_c --> h2o2_c + nh4_c + pyr_c DALAOX\n",
      "PYAM5PO PYAM5PO: h2o_c + o2_c + pyam5p_c --> h2o2_c + nh4_c + pydx5p_c Pyridoxamine 5'-phosphate oxidase\n",
      "NOX NOX: h_c + nadh_c + o2_c --> h2o2_c + nad_c NADH oxidase\n",
      "GLYO1 GLYO1: gly_c + h2o_c + o2_c --> glx_c + h2o2_c + nh4_c Glycine oxidase\n",
      "GLXO3r GLXO3r: glx_c + h2o_c + o2_c --> h2o2_c + h_c + oxa_c Glyoxylate dehydrogenase\n",
      "SARCOX SARCOX: h2o_c + o2_c + sarcs_c --> fald_c + gly_c + h2o2_c Sarcosine oxidase\n",
      "GTHPi GTHPi: 2.0 gthrd_c + h2o2_c --> gthox_c + 2.0 h2o_c Glutathione peridoxase\n",
      "ASPO6 ASPO6: asp__L_c + o2_c --> h2o2_c + h_c + iasp_c L-aspartate oxidase\n",
      "PYDXNO PYDXNO: o2_c + pydxn_c --> h2o2_c + pydx_c Pyridoxine oxidase\n",
      "URIC URIC: 2.0 h2o_c + o2_c + urate_c --> alltn_c + co2_c + h2o2_c Uricase\n",
      "GGPTRCO GGPTRCO: ggptrc_c + h2o_c + o2_c --> ggbutal_c + h2o2_c + nh4_c Gamma glutamyl putrescine oxidase\n",
      "METOX2s METOX2s: h2o2_c + met__L_c --> h2o_c + metsox_R__L_c Methionine oxidation 2 (spontaneous)\n"
     ]
    }
   ],
   "source": [
    "# Let's take a closer look at the reactions associated withHydrogen Peroxide (`h2o2_c`).\n",
    "# # We need to figure out if H2O2 is concumed in the model as it is toxic\n",
    "for reaction in model.metabolites.h2o2_c.reactions:\n",
    "    print(reaction.id, reaction, reaction.name)"
   ]
  },
  {
   "cell_type": "code",
   "execution_count": 11,
   "id": "81240d0d-312b-4bea-bd03-94b3f9e0db49",
   "metadata": {},
   "outputs": [
    {
     "name": "stdout",
     "output_type": "stream",
     "text": [
      "h2o2_c + met__L_c --> h2o_c + metox_c\n",
      "h2o2_c + met__L_c --> h2o_c + metsox_S__L_c\n",
      "h2o2_c + trdrd_c --> 2.0 h2o_c + trdox_c\n",
      "2.0 gthrd_c + h2o2_c --> gthox_c + 2.0 h2o_c\n",
      "h2o2_c + met__L_c --> h2o_c + metsox_R__L_c\n"
     ]
    }
   ],
   "source": [
    "# The reactions that use H2O2 are found manually\n",
    "print(model.reactions.METSR_S2.reaction) \n",
    "print(model.reactions.METOX1s.reaction) \n",
    "print(model.reactions.THIORDXi.reaction)\n",
    "print(model.reactions.GTHPi.reaction) \n",
    "print(model.reactions.METOX2s.reaction) \n",
    "# increase the flux of one of these reactions to get rid of H2O2, it has the tools to survive"
   ]
  },
  {
   "cell_type": "code",
   "execution_count": 13,
   "id": "62e0d6b1-490a-482f-89e9-98db8f2daf4f",
   "metadata": {},
   "outputs": [
    {
     "name": "stdout",
     "output_type": "stream",
     "text": [
      "trp__L_c\n",
      "L-Tryptophan\n",
      "frozenset({<Reaction Growth at 0x1badaf7f700>, <Reaction TRPt2r at 0x1badae09e20>, <Reaction TRPAS2 at 0x1badae09a60>, <Reaction TRPS2 at 0x1badae09c70>, <Reaction TRPt2rpp at 0x1badae1da90>, <Reaction TRPS1 at 0x1badae09fd0>, <Reaction TRPTA at 0x1badae09ee0>})\n",
      "trp__L_e\n",
      "L-Tryptophan\n",
      "frozenset({<Reaction EX_trp__L_e at 0x1badaf56d90>, <Reaction TRPt2r at 0x1badae09e20>, <Reaction TRPtex at 0x1badade1d30>})\n",
      "trp__L_p\n",
      "L-Tryptophan\n",
      "frozenset({<Reaction TRPt2rpp at 0x1badae1da90>, <Reaction TRPtex at 0x1badade1d30>})\n"
     ]
    }
   ],
   "source": [
    "#Finding L-trp\n",
    "for metabolite in model.metabolites.query('Tryptophan', 'name'):\n",
    "    print(metabolite.id)\n",
    "    print(metabolite.name)\n",
    "    print(metabolite.reactions) #Finding the reactions it is involved in"
   ]
  },
  {
   "cell_type": "code",
   "execution_count": 15,
   "id": "c08cbef6-3d9c-4889-b90f-aeee038b7f5d",
   "metadata": {},
   "outputs": [
    {
     "data": {
      "text/html": [
       "\n",
       "        <table>\n",
       "            <tr>\n",
       "                <td><strong>Metabolite identifier</strong></td><td>trp__L_c</td>\n",
       "            </tr><tr>\n",
       "                <td><strong>Name</strong></td><td>L-Tryptophan</td>\n",
       "            </tr><tr>\n",
       "                <td><strong>Memory address</strong></td>\n",
       "                <td>0x01bad9ccc430</td>\n",
       "            </tr><tr>\n",
       "                <td><strong>Formula</strong></td><td>C11H12N2O2</td>\n",
       "            </tr><tr>\n",
       "                <td><strong>Compartment</strong></td><td>C_c</td>\n",
       "            </tr><tr>\n",
       "                <td><strong>In 7 reaction(s)</strong></td><td>\n",
       "                    Growth, TRPt2r, TRPAS2, TRPS2, TRPt2rpp, TRPS1, TRPTA</td>\n",
       "            </tr>\n",
       "        </table>"
      ],
      "text/plain": [
       "<Metabolite trp__L_c at 0x1bad9ccc430>"
      ]
     },
     "execution_count": 15,
     "metadata": {},
     "output_type": "execute_result"
    }
   ],
   "source": [
    "#We can then investigate L-Trp further\n",
    "model.metabolites.get_by_id('trp__L_c')"
   ]
  },
  {
   "cell_type": "code",
   "execution_count": 17,
   "id": "8c944845-fcd2-4dc0-b5cd-4ce0a529595c",
   "metadata": {},
   "outputs": [
    {
     "data": {
      "text/plain": [
       "frozenset({<Reaction Growth at 0x1badaf7f700>,\n",
       "           <Reaction TRPAS2 at 0x1badae09a60>,\n",
       "           <Reaction TRPS1 at 0x1badae09fd0>,\n",
       "           <Reaction TRPS2 at 0x1badae09c70>,\n",
       "           <Reaction TRPTA at 0x1badae09ee0>,\n",
       "           <Reaction TRPt2r at 0x1badae09e20>,\n",
       "           <Reaction TRPt2rpp at 0x1badae1da90>})"
      ]
     },
     "execution_count": 17,
     "metadata": {},
     "output_type": "execute_result"
    }
   ],
   "source": [
    "model.metabolites.get_by_id('trp__L_c').reactions"
   ]
  },
  {
   "cell_type": "code",
   "execution_count": 18,
   "id": "998a3255-008c-47d1-9bc7-6a6ed4169dc9",
   "metadata": {},
   "outputs": [
    {
     "name": "stdout",
     "output_type": "stream",
     "text": [
      "Growth Growth: 0.000215957436615497 10fthf_c + 0.497466186805283 ala__L_c + 0.000215957436615497 amet_c + 0.286450592337987 arg__L_c + 0.233442241629366 asn__L_c + 0.233442241629366 asp__L_c + 52.4155146188655 atp_c + 0.00504062088602539 ca2_c + 0.00504062088602539 cl_c + 0.000557809343006845 coa_c + 9.68418998275772e-05 cobalt2_c + 0.129291683621802 ctp_c + 0.000686609069777522 cu2_c + 0.0886878118620952 cys__L_c + 0.0253396515088839 datp_c + 0.0261637760764165 dctp_c + 0.0261637760764165 dgtp_c + 0.0253396515088839 dttp_c + 0.000215957436615497 fad_c + 0.00650293357342181 fe2_c + 0.00756141553853723 fe3_c + 0.254849143586252 gln__L_c + 0.254849143586252 glu__L_c + 0.593290278265672 gly_c + 0.208303052853126 gtp_c + 47.0666420920129 h2o_c + 0.0917460790586501 his__L_c + 0.281353803150062 ile__L_c + 0.189028609530443 k_c + 0.436302779712182 leu__L_c + 0.332323631867312 lys__L_c + 0.14883244216901 met__L_c + 0.00840103481004232 mg2_c + 0.000215957436615497 mlthf_c + 0.000669177527808559 mn2_c + 9.68418998275772e-05 mql8_c + 0.00177317518584294 nad_c + 0.00043288329222927 nadp_c + 0.179414145715561 phe__L_c + 0.214073861663851 pro__L_c + 0.000215957436615497 pydx5p_c + 0.000215957436615497 ribflv_c + 0.208977072475925 ser__L_c + 0.0042010016145203 so4_c + 0.000215957436615497 thf_c + 0.000215957436615497 thmpp_c + 0.245675310415586 thr__L_c + 0.0550478411189897 trp__L_c + 0.133541106186236 tyr__L_c + 0.0968418998275772 uaagmda_c + 0.139553051327532 utp_c + 0.409798120148372 val__L_c + 0.000330230878412038 zn2_c --> 52.2462049569779 adp_c + 52.2462049569779 h_c + 52.2420039553634 pi_c + 0.749462368022615 ppi_c Biomass reaction\n",
      "TRPt2r TRPt2r: h_e + trp__L_e <=> h_c + trp__L_c L tryptophan reversible transport via proton symport\n",
      "TRPAS2 TRPAS2: h2o_c + trp__L_c <=> indole_c + nh4_c + pyr_c Tryptophanase (L-tryptophan)\n",
      "TRPS2 TRPS2: indole_c + ser__L_c --> h2o_c + trp__L_c Tryptophan synthase (indole)\n",
      "TRPt2rpp TRPt2rpp: h_p + trp__L_p <=> h_c + trp__L_c L-tryptophan reversible transport via proton symport (periplasm)\n",
      "TRPS1 TRPS1: 3ig3p_c + ser__L_c --> g3p_c + h2o_c + trp__L_c Tryptophan synthase (indoleglycerol phosphate)\n",
      "TRPTA TRPTA: akg_c + trp__L_c <=> glu__L_c + indpyr_c Tryptophan transaminase\n"
     ]
    }
   ],
   "source": [
    "for reaction in model.metabolites.trp__L_c.reactions:\n",
    "    print(reaction.id, reaction, reaction.name)"
   ]
  },
  {
   "cell_type": "code",
   "execution_count": 19,
   "id": "4fa60d09-792e-4fb8-bb95-9f4191f4019b",
   "metadata": {},
   "outputs": [
    {
     "name": "stdout",
     "output_type": "stream",
     "text": [
      "fdxo_42_c\n",
      "fdxr_42_c\n",
      "fe3_e\n",
      "fe2_c\n",
      "2fe1s_c\n",
      "2fe2s_c\n",
      "ficytc6_p\n",
      "focytc6_p\n",
      "fe3_c\n",
      "focytc_c\n",
      "ficytc_c\n",
      "ficytC_c\n",
      "focytC_c\n",
      "feenter_c\n",
      "fe2_e\n",
      "fe2_p\n",
      "fe3_p\n",
      "fe3dcit_p\n",
      "fe3dcit_e\n",
      "feenter_p\n",
      "feenter_e\n",
      "4fe4s_c\n",
      "iscu_2fe2s_c\n",
      "iscu_2fe2s2_c\n",
      "iscu_4fe4s_c\n",
      "sufbcd_2fe2s_c\n",
      "salchs4fe_p\n",
      "salchs4fe_c\n",
      "salchs4fe_e\n"
     ]
    }
   ],
   "source": [
    "#Finding Fe\n",
    "for metabolite in model.metabolites.query('Fe', 'name'):\n",
    "    print(metabolite.id)"
   ]
  },
  {
   "cell_type": "code",
   "execution_count": 21,
   "id": "4060aaa5-bd5f-4737-a084-8eceaaeefcbf",
   "metadata": {},
   "outputs": [
    {
     "data": {
      "text/html": [
       "\n",
       "        <table>\n",
       "            <tr>\n",
       "                <td><strong>Metabolite identifier</strong></td><td>fe2_c</td>\n",
       "            </tr><tr>\n",
       "                <td><strong>Name</strong></td><td>Fe2+</td>\n",
       "            </tr><tr>\n",
       "                <td><strong>Memory address</strong></td>\n",
       "                <td>0x01bad9bfcb20</td>\n",
       "            </tr><tr>\n",
       "                <td><strong>Formula</strong></td><td>Fe</td>\n",
       "            </tr><tr>\n",
       "                <td><strong>Compartment</strong></td><td>C_c</td>\n",
       "            </tr><tr>\n",
       "                <td><strong>In 13 reaction(s)</strong></td><td>\n",
       "                    SHCHF, FE2abcpp, FE2abc, FE2t3pp, FCLT, FEENTERR3, LIPOS, FE2t4pp, Growth, SALCHS4FER3, FE2Gabcpp, FE3Ri, I2FE2SS2</td>\n",
       "            </tr>\n",
       "        </table>"
      ],
      "text/plain": [
       "<Metabolite fe2_c at 0x1bad9bfcb20>"
      ]
     },
     "execution_count": 21,
     "metadata": {},
     "output_type": "execute_result"
    }
   ],
   "source": [
    "model.metabolites.get_by_id('fe2_c')"
   ]
  },
  {
   "cell_type": "code",
   "execution_count": 23,
   "id": "fa2fa722-6bd5-4170-b6ee-2924e5c8727a",
   "metadata": {},
   "outputs": [
    {
     "name": "stdout",
     "output_type": "stream",
     "text": [
      "SHCHF SHCHF: fe2_c + scl_c --> 3.0 h_c + sheme_c Sirohydrochlorin ferrochelatase\n",
      "FE2abcpp FE2abcpp: atp_c + fe2_p + h2o_c --> adp_c + fe2_c + h_c + pi_c Iron (II) transport via ABC system (periplasm)\n",
      "FE2abc FE2abc: atp_c + fe2_e + h2o_c --> adp_c + fe2_c + h_c + pi_c Iron (II) transport via ABC system\n",
      "FE2t3pp FE2t3pp: fe2_c + h_p --> fe2_p + h_c Iron (Fe+2) transport out via proton antiport (periplasm)\n",
      "FCLT FCLT: fe2_c + ppp9_c --> 2.0 h_c + pheme_c Ferrochelatase\n",
      "FEENTERR3 FEENTERR3: 2.0 feenter_c + rbflvrd_c --> 2.0 enter_c + 2.0 fe2_c + 2.0 h_c + ribflv_c Fe-enterobactin reduction (Fe(III)-unloading)\n",
      "LIPOS LIPOS: 4fe4s_c + 2.0 amet_c + h_c + nad_c + octapb_c --> 2fe2s_c + 2.0 dad_5_c + 2.0 fe2_c + lipopb_c + 2.0 met__L_c + nadh_c Lipoate synthase\n",
      "FE2t4pp FE2t4pp: fe2_c + h_p + k_p --> fe2_p + h_c + k_c Iron(II) transport out via antiport (periplasm)\n",
      "Growth Growth: 0.000215957436615497 10fthf_c + 0.497466186805283 ala__L_c + 0.000215957436615497 amet_c + 0.286450592337987 arg__L_c + 0.233442241629366 asn__L_c + 0.233442241629366 asp__L_c + 52.4155146188655 atp_c + 0.00504062088602539 ca2_c + 0.00504062088602539 cl_c + 0.000557809343006845 coa_c + 9.68418998275772e-05 cobalt2_c + 0.129291683621802 ctp_c + 0.000686609069777522 cu2_c + 0.0886878118620952 cys__L_c + 0.0253396515088839 datp_c + 0.0261637760764165 dctp_c + 0.0261637760764165 dgtp_c + 0.0253396515088839 dttp_c + 0.000215957436615497 fad_c + 0.00650293357342181 fe2_c + 0.00756141553853723 fe3_c + 0.254849143586252 gln__L_c + 0.254849143586252 glu__L_c + 0.593290278265672 gly_c + 0.208303052853126 gtp_c + 47.0666420920129 h2o_c + 0.0917460790586501 his__L_c + 0.281353803150062 ile__L_c + 0.189028609530443 k_c + 0.436302779712182 leu__L_c + 0.332323631867312 lys__L_c + 0.14883244216901 met__L_c + 0.00840103481004232 mg2_c + 0.000215957436615497 mlthf_c + 0.000669177527808559 mn2_c + 9.68418998275772e-05 mql8_c + 0.00177317518584294 nad_c + 0.00043288329222927 nadp_c + 0.179414145715561 phe__L_c + 0.214073861663851 pro__L_c + 0.000215957436615497 pydx5p_c + 0.000215957436615497 ribflv_c + 0.208977072475925 ser__L_c + 0.0042010016145203 so4_c + 0.000215957436615497 thf_c + 0.000215957436615497 thmpp_c + 0.245675310415586 thr__L_c + 0.0550478411189897 trp__L_c + 0.133541106186236 tyr__L_c + 0.0968418998275772 uaagmda_c + 0.139553051327532 utp_c + 0.409798120148372 val__L_c + 0.000330230878412038 zn2_c --> 52.2462049569779 adp_c + 52.2462049569779 h_c + 52.2420039553634 pi_c + 0.749462368022615 ppi_c Biomass reaction\n",
      "SALCHS4FER3 SALCHS4FER3: rbflvrd_c + 2.0 salchs4fe_c --> 2.0 fe2_c + 2.0 h_c + ribflv_c + 2.0 salchs4_c Salmochelin S4 Fe III reduction Fe III unloading \n",
      "FE2Gabcpp FE2Gabcpp: fe2_p + gtp_c + h2o_c --> fe2_c + gdp_c + h_c + pi_c Iron (II) transport via ABC system (GTP) (periplasm)\n",
      "FE3Ri FE3Ri: fadh2_c + 2.0 fe3_c --> fad_c + 2.0 fe2_c + 2.0 h_c Fe(III) reduction\n",
      "I2FE2SS2 I2FE2SS2: fadh2_c + 2.0 fe2_c + 2.0 iscssh_c + iscu_2fe2s_c --> fad_c + 6.0 h_c + 2.0 iscs_c + iscu_2fe2s2_c ISC [2Fe-2S] Synthesis II\n"
     ]
    }
   ],
   "source": [
    "for reaction in model.metabolites.fe2_c.reactions:\n",
    "    print(reaction.id, reaction, reaction.name)"
   ]
  },
  {
   "cell_type": "code",
   "execution_count": 25,
   "id": "c8697c8a-7721-4694-84ae-3ae5c306556f",
   "metadata": {},
   "outputs": [
    {
     "name": "stdout",
     "output_type": "stream",
     "text": [
      "cl_c\n",
      "cl_e\n",
      "cl_p\n"
     ]
    }
   ],
   "source": [
    "#Finding Cl\n",
    "for metabolite in model.metabolites.query('Chloride', 'name'):\n",
    "    print(metabolite.id)"
   ]
  },
  {
   "cell_type": "code",
   "execution_count": 26,
   "id": "9c2250d6-a8f5-4ac1-b847-bbec5e894d91",
   "metadata": {},
   "outputs": [
    {
     "data": {
      "text/html": [
       "\n",
       "        <table>\n",
       "            <tr>\n",
       "                <td><strong>Metabolite identifier</strong></td><td>cl_c</td>\n",
       "            </tr><tr>\n",
       "                <td><strong>Name</strong></td><td>Chloride</td>\n",
       "            </tr><tr>\n",
       "                <td><strong>Memory address</strong></td>\n",
       "                <td>0x01bad9b4f850</td>\n",
       "            </tr><tr>\n",
       "                <td><strong>Formula</strong></td><td>Cl</td>\n",
       "            </tr><tr>\n",
       "                <td><strong>Compartment</strong></td><td>C_c</td>\n",
       "            </tr><tr>\n",
       "                <td><strong>In 2 reaction(s)</strong></td><td>\n",
       "                    Growth, CLt3_2pp</td>\n",
       "            </tr>\n",
       "        </table>"
      ],
      "text/plain": [
       "<Metabolite cl_c at 0x1bad9b4f850>"
      ]
     },
     "execution_count": 26,
     "metadata": {},
     "output_type": "execute_result"
    }
   ],
   "source": [
    "model.metabolites.get_by_id('cl_c')"
   ]
  },
  {
   "cell_type": "code",
   "execution_count": 27,
   "id": "0630a57c-9339-47a4-9557-abecdd5d3bd2",
   "metadata": {},
   "outputs": [
    {
     "name": "stdout",
     "output_type": "stream",
     "text": [
      "Growth Growth: 0.000215957436615497 10fthf_c + 0.497466186805283 ala__L_c + 0.000215957436615497 amet_c + 0.286450592337987 arg__L_c + 0.233442241629366 asn__L_c + 0.233442241629366 asp__L_c + 52.4155146188655 atp_c + 0.00504062088602539 ca2_c + 0.00504062088602539 cl_c + 0.000557809343006845 coa_c + 9.68418998275772e-05 cobalt2_c + 0.129291683621802 ctp_c + 0.000686609069777522 cu2_c + 0.0886878118620952 cys__L_c + 0.0253396515088839 datp_c + 0.0261637760764165 dctp_c + 0.0261637760764165 dgtp_c + 0.0253396515088839 dttp_c + 0.000215957436615497 fad_c + 0.00650293357342181 fe2_c + 0.00756141553853723 fe3_c + 0.254849143586252 gln__L_c + 0.254849143586252 glu__L_c + 0.593290278265672 gly_c + 0.208303052853126 gtp_c + 47.0666420920129 h2o_c + 0.0917460790586501 his__L_c + 0.281353803150062 ile__L_c + 0.189028609530443 k_c + 0.436302779712182 leu__L_c + 0.332323631867312 lys__L_c + 0.14883244216901 met__L_c + 0.00840103481004232 mg2_c + 0.000215957436615497 mlthf_c + 0.000669177527808559 mn2_c + 9.68418998275772e-05 mql8_c + 0.00177317518584294 nad_c + 0.00043288329222927 nadp_c + 0.179414145715561 phe__L_c + 0.214073861663851 pro__L_c + 0.000215957436615497 pydx5p_c + 0.000215957436615497 ribflv_c + 0.208977072475925 ser__L_c + 0.0042010016145203 so4_c + 0.000215957436615497 thf_c + 0.000215957436615497 thmpp_c + 0.245675310415586 thr__L_c + 0.0550478411189897 trp__L_c + 0.133541106186236 tyr__L_c + 0.0968418998275772 uaagmda_c + 0.139553051327532 utp_c + 0.409798120148372 val__L_c + 0.000330230878412038 zn2_c --> 52.2462049569779 adp_c + 52.2462049569779 h_c + 52.2420039553634 pi_c + 0.749462368022615 ppi_c Biomass reaction\n",
      "CLt3_2pp CLt3_2pp: 2.0 cl_p + h_c --> 2.0 cl_c + h_p Chloride transport out via proton antiport (2:1) (periplasm)\n"
     ]
    }
   ],
   "source": [
    "for reaction in model.metabolites.cl_c.reactions:\n",
    "    print(reaction.id, reaction, reaction.name)"
   ]
  },
  {
   "cell_type": "code",
   "execution_count": null,
   "id": "dd18bb04-618d-4411-be0a-f0c97e361110",
   "metadata": {},
   "outputs": [],
   "source": []
  }
 ],
 "metadata": {
  "kernelspec": {
   "display_name": "Python 3",
   "language": "python",
   "name": "python3"
  },
  "language_info": {
   "codemirror_mode": {
    "name": "ipython",
    "version": 3
   },
   "file_extension": ".py",
   "mimetype": "text/x-python",
   "name": "python",
   "nbconvert_exporter": "python",
   "pygments_lexer": "ipython3",
   "version": "3.8.8"
  }
 },
 "nbformat": 4,
 "nbformat_minor": 5
}
