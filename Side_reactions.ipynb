{
 "cells": [
  {
   "cell_type": "code",
   "execution_count": 1,
   "id": "5c4be1bd-5942-4ee6-833f-17f2bc711ab6",
   "metadata": {},
   "outputs": [],
   "source": [
    "from cobra.io import read_sbml_model"
   ]
  },
  {
   "cell_type": "code",
   "execution_count": 2,
   "id": "cea54e16-fadb-4d78-9ee1-20e7a16bc5f2",
   "metadata": {},
   "outputs": [],
   "source": [
    "model = read_sbml_model('Models/Vibrio-natriegens-ATCC_14048-M9.xml')"
   ]
  },
  {
   "cell_type": "code",
   "execution_count": 4,
   "id": "9a1c3ce9-8cf4-45da-8d71-eebfb2add8a3",
   "metadata": {},
   "outputs": [
    {
     "name": "stdout",
     "output_type": "stream",
     "text": [
      "fdxo_42_c\n",
      "fdxr_42_c\n",
      "fe3_e\n",
      "fe2_c\n",
      "2fe1s_c\n",
      "2fe2s_c\n",
      "ficytc6_p\n",
      "focytc6_p\n",
      "fe3_c\n",
      "focytc_c\n",
      "ficytc_c\n",
      "ficytC_c\n",
      "focytC_c\n",
      "feenter_c\n",
      "fe2_e\n",
      "fe2_p\n",
      "fe3_p\n",
      "fe3dcit_p\n",
      "fe3dcit_e\n",
      "feenter_p\n",
      "feenter_e\n",
      "4fe4s_c\n",
      "iscu_2fe2s_c\n",
      "iscu_2fe2s2_c\n",
      "iscu_4fe4s_c\n",
      "sufbcd_2fe2s_c\n",
      "salchs4fe_p\n",
      "salchs4fe_c\n",
      "salchs4fe_e\n"
     ]
    }
   ],
   "source": [
    "for metabolite in model.metabolites.query('Fe', 'name'):\n",
    "    print(metabolite.id)"
   ]
  },
  {
   "cell_type": "code",
   "execution_count": null,
   "id": "ee5925cb-2be8-49c8-b9fa-35893b21f242",
   "metadata": {},
   "outputs": [],
   "source": []
  }
 ],
 "metadata": {
  "kernelspec": {
   "display_name": "Python 3",
   "language": "python",
   "name": "python3"
  },
  "language_info": {
   "codemirror_mode": {
    "name": "ipython",
    "version": 3
   },
   "file_extension": ".py",
   "mimetype": "text/x-python",
   "name": "python",
   "nbconvert_exporter": "python",
   "pygments_lexer": "ipython3",
   "version": "3.6.13"
  }
 },
 "nbformat": 4,
 "nbformat_minor": 5
}
