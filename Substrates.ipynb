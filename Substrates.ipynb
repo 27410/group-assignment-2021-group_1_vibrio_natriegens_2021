{
 "cells": [
  {
   "cell_type": "code",
   "execution_count": 1,
   "id": "e38a4424-4115-43a7-88c4-37ed86f4d901",
   "metadata": {},
   "outputs": [],
   "source": [
    "from cobra import Reaction, Metabolite\n",
    "from cobra.io import read_sbml_model\n",
    "from cobra.io import write_sbml_model"
   ]
  },
  {
   "cell_type": "code",
   "execution_count": 33,
   "id": "b424311b-0936-4e51-bbf5-3a1f3e1825b7",
   "metadata": {},
   "outputs": [],
   "source": [
    "model=read_sbml_model('Models/model_VN_LB_vio-fad.xml')"
   ]
  },
  {
   "cell_type": "code",
   "execution_count": 51,
   "id": "a60fe69a-76e5-46c9-91eb-96ce95d1c6aa",
   "metadata": {},
   "outputs": [],
   "source": [
    "modelx=read_sbml_model('Models/model_VN_LB.xml')"
   ]
  },
  {
   "cell_type": "code",
   "execution_count": 52,
   "id": "03782eba-46fd-43cc-91bd-868981482ca2",
   "metadata": {},
   "outputs": [
    {
     "name": "stdout",
     "output_type": "stream",
     "text": [
      "Maximize\n",
      "1.0*Growth - 1.0*Growth_reverse_699ae\n"
     ]
    }
   ],
   "source": [
    "print(modelx.objective)"
   ]
  },
  {
   "cell_type": "code",
   "execution_count": 40,
   "id": "f0a3cf34-b93f-410b-a80e-04201aa556d5",
   "metadata": {},
   "outputs": [],
   "source": [
    "#model.exchanges"
   ]
  },
  {
   "cell_type": "code",
   "execution_count": 35,
   "id": "f7c50997-7a66-4de6-b608-03abbdcaced1",
   "metadata": {},
   "outputs": [
    {
     "data": {
      "text/plain": [
       "{'EX_adn_e': 10.0,\n",
       " 'EX_ala__L_e': 10.0,\n",
       " 'EX_amp_e': 10.0,\n",
       " 'EX_arg__L_e': 10.0,\n",
       " 'EX_aso3_e': 10.0,\n",
       " 'EX_asp__L_e': 10.0,\n",
       " 'EX_ca2_e': 10.0,\n",
       " 'EX_cl_e': 10.0,\n",
       " 'EX_cmp_e': 10.0,\n",
       " 'EX_cobalt2_e': 10.0,\n",
       " 'EX_cu2_e': 10.0,\n",
       " 'EX_cys__L_e': 10.0,\n",
       " 'EX_dad_2_e': 10.0,\n",
       " 'EX_dcyt_e': 10.0,\n",
       " 'EX_fe2_e': 10.0,\n",
       " 'EX_fe3_e': 10.0,\n",
       " 'EX_glc__D_e': 10.0,\n",
       " 'EX_glu__L_e': 10.0,\n",
       " 'EX_gly_e': 10.0,\n",
       " 'EX_gmp_e': 10.0,\n",
       " 'EX_gsn_e': 10.0,\n",
       " 'EX_h2o_e': 10.0,\n",
       " 'EX_h2s_e': 10.0,\n",
       " 'EX_h_e': 10.0,\n",
       " 'EX_his__L_e': 10.0,\n",
       " 'EX_hxan_e': 10.0,\n",
       " 'EX_ile__L_e': 10.0,\n",
       " 'EX_ins_e': 10.0,\n",
       " 'EX_k_e': 10.0,\n",
       " 'EX_leu__L_e': 10.0,\n",
       " 'EX_lys__L_e': 10.0,\n",
       " 'EX_met__L_e': 10.0,\n",
       " 'EX_mg2_e': 10.0,\n",
       " 'EX_mn2_e': 10.0,\n",
       " 'EX_mobd_e': 10.0,\n",
       " 'EX_nac_e': 10.0,\n",
       " 'EX_nh4_e': 10.0,\n",
       " 'EX_o2_e': 10.0,\n",
       " 'EX_phe__L_e': 10.0,\n",
       " 'EX_pheme_e': 10.0,\n",
       " 'EX_pi_e': 10.0,\n",
       " 'EX_pnto__R_e': 10.0,\n",
       " 'EX_pro__L_e': 10.0,\n",
       " 'EX_ser__L_e': 10.0,\n",
       " 'EX_so4_e': 10.0,\n",
       " 'EX_thm_e': 10.0,\n",
       " 'EX_thr__L_e': 10.0,\n",
       " 'EX_thymd_e': 10.0,\n",
       " 'EX_trp__L_e': 10.0,\n",
       " 'EX_tyr__L_e': 10.0,\n",
       " 'EX_ump_e': 10.0,\n",
       " 'EX_ura_e': 10.0,\n",
       " 'EX_uri_e': 10.0,\n",
       " 'EX_val__L_e': 10.0,\n",
       " 'EX_zn2_e': 10.0}"
      ]
     },
     "execution_count": 35,
     "metadata": {},
     "output_type": "execute_result"
    }
   ],
   "source": [
    "#model.medium"
   ]
  },
  {
   "cell_type": "code",
   "execution_count": 67,
   "id": "72f28bfa-ef4e-4d40-8889-80fbc83fe918",
   "metadata": {},
   "outputs": [],
   "source": [
    "medium = model.medium\n",
    "with model:\n",
    "    medium['EX_glc__D_e'] = 0\n",
    "    medium['EX_sucr_e'] = 10\n",
    "    model.medium = medium\n",
    "    #print(model.medium)\n",
    "    solution = model.optimize()\n",
    "    #print(solution.fluxes[solution.fluxes != 0.])\n",
    "    v=(solution.fluxes)"
   ]
  },
  {
   "cell_type": "code",
   "execution_count": 69,
   "id": "e753af31-6ead-403c-9725-04f6ed1656c4",
   "metadata": {},
   "outputs": [
    {
     "data": {
      "text/plain": [
       "4ABUTD                         4.166667e-01\n",
       "ABTA                           4.166667e-01\n",
       "ACALDt                        -1.071429e+00\n",
       "ADK1                           9.689626e-17\n",
       "ADSL1r                         9.689626e-17\n",
       "                                   ...     \n",
       "Protodeoxyviolaceinate_VioE    3.333333e+00\n",
       "Protoviolaceinate_VioD         3.333333e+00\n",
       "Violaceinate                   3.333333e+00\n",
       "Violacein                      3.333333e+00\n",
       "DM_v_c                         3.333333e+00\n",
       "Name: fluxes, Length: 95, dtype: float64"
      ]
     },
     "execution_count": 69,
     "metadata": {},
     "output_type": "execute_result"
    }
   ],
   "source": [
    "v[v!= 0.]"
   ]
  },
  {
   "cell_type": "code",
   "execution_count": 43,
   "id": "c34889f7-948c-4805-a95a-e7c4a1a26a5f",
   "metadata": {},
   "outputs": [
    {
     "name": "stdout",
     "output_type": "stream",
     "text": [
      "Maximize\n",
      "1.0*Violacein - 1.0*Violacein_reverse_b748d\n"
     ]
    }
   ],
   "source": [
    "print(model.objective)"
   ]
  },
  {
   "cell_type": "code",
   "execution_count": 54,
   "id": "e52a6f95-8f00-4eb7-85c6-bbca4c763c54",
   "metadata": {},
   "outputs": [
    {
     "name": "stdout",
     "output_type": "stream",
     "text": [
      "3.14203990553631\n"
     ]
    }
   ],
   "source": [
    "medium = model.medium\n",
    "with modelx:\n",
    "    medium['EX_glc__D_e'] = 0\n",
    "    medium['EX_sucr_e'] = 10\n",
    "    modelx.medium = medium\n",
    "    #print(model.medium)\n",
    "    solution = modelx.optimize()\n",
    "    #print(solution.fluxes[solution.fluxes != 0.])\n",
    "    print(solution.fluxes['Growth'])"
   ]
  },
  {
   "cell_type": "code",
   "execution_count": 62,
   "id": "14da5e85-7d6a-42e9-9ed1-81d8872f532b",
   "metadata": {},
   "outputs": [
    {
     "data": {
      "text/html": [
       "\n",
       "        <table>\n",
       "            <tr>\n",
       "                <td><strong>Metabolite identifier</strong></td><td>sucr_e</td>\n",
       "            </tr><tr>\n",
       "                <td><strong>Name</strong></td><td>Sucrose C12H22O11</td>\n",
       "            </tr><tr>\n",
       "                <td><strong>Memory address</strong></td>\n",
       "                <td>0x07f9263787700</td>\n",
       "            </tr><tr>\n",
       "                <td><strong>Formula</strong></td><td>C12H22O11</td>\n",
       "            </tr><tr>\n",
       "                <td><strong>Compartment</strong></td><td>C_e</td>\n",
       "            </tr><tr>\n",
       "                <td><strong>In 3 reaction(s)</strong></td><td>\n",
       "                    SUCpts, EX_sucr_e, SUCRtex</td>\n",
       "            </tr>\n",
       "        </table>"
      ],
      "text/plain": [
       "<Metabolite sucr_e at 0x7f9263787700>"
      ]
     },
     "execution_count": 62,
     "metadata": {},
     "output_type": "execute_result"
    }
   ],
   "source": [
    "model.metabolites.sucr_e"
   ]
  },
  {
   "cell_type": "code",
   "execution_count": null,
   "id": "5c48e0ee-6cfb-4603-ba0c-52d9db9844b8",
   "metadata": {},
   "outputs": [],
   "source": []
  }
 ],
 "metadata": {
  "kernelspec": {
   "display_name": "Python 3 (ipykernel)",
   "language": "python",
   "name": "python3"
  },
  "language_info": {
   "codemirror_mode": {
    "name": "ipython",
    "version": 3
   },
   "file_extension": ".py",
   "mimetype": "text/x-python",
   "name": "python",
   "nbconvert_exporter": "python",
   "pygments_lexer": "ipython3",
   "version": "3.8.11"
  }
 },
 "nbformat": 4,
 "nbformat_minor": 5
}
