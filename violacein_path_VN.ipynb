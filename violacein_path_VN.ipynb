{
 "cells": [
  {
   "cell_type": "code",
   "execution_count": 1,
   "id": "f66caf12-dcbc-45f1-842b-31d20b2c5897",
   "metadata": {},
   "outputs": [],
   "source": [
    "from cobra import Reaction, Metabolite\n",
    "from cobra.io import read_sbml_model\n",
    "from cobra.io import write_sbml_model"
   ]
  },
  {
   "cell_type": "code",
   "execution_count": 4,
   "id": "be0b2b6d-fa2b-4bf9-9aed-19cd834c7e61",
   "metadata": {},
   "outputs": [],
   "source": [
    "modelv=read_sbml_model('Models/Vibrio-natriegens-ATCC_14048-M9.xml')"
   ]
  },
  {
   "cell_type": "markdown",
   "id": "f7e585b1-f366-44fa-9be4-2ec0b7d005a9",
   "metadata": {},
   "source": [
    "First, we look for the names corresponding to the metabolites belonging to the violacein pathway."
   ]
  },
  {
   "cell_type": "code",
   "execution_count": 63,
   "id": "3f2b1757-1c46-43a5-aa29-cadac4fd806c",
   "metadata": {},
   "outputs": [
    {
     "data": {
      "text/html": [
       "\n",
       "        <table>\n",
       "            <tr>\n",
       "                <td><strong>Reaction identifier</strong></td><td>TRPS2</td>\n",
       "            </tr><tr>\n",
       "                <td><strong>Name</strong></td><td>Tryptophan synthase (indole)</td>\n",
       "            </tr><tr>\n",
       "                <td><strong>Memory address</strong></td>\n",
       "                <td>0x07feee9e12630</td>\n",
       "            </tr><tr>\n",
       "                <td><strong>Stoichiometry</strong></td>\n",
       "                <td>\n",
       "                    <p style='text-align:right'>indole_c + ser__L_c --> h2o_c + trp__L_c</p>\n",
       "                    <p style='text-align:right'>Indole + L-Serine --> H2O + L-Tryptophan</p>\n",
       "                </td>\n",
       "            </tr><tr>\n",
       "                <td><strong>GPR</strong></td><td>WP_020335269_1 or ( WP_014232411_1 and WP_020335573_1 )</td>\n",
       "            </tr><tr>\n",
       "                <td><strong>Lower bound</strong></td><td>0.0</td>\n",
       "            </tr><tr>\n",
       "                <td><strong>Upper bound</strong></td><td>1000.0</td>\n",
       "            </tr>\n",
       "        </table>\n",
       "        "
      ],
      "text/plain": [
       "<Reaction TRPS2 at 0x7feee9e12630>"
      ]
     },
     "execution_count": 63,
     "metadata": {},
     "output_type": "execute_result"
    }
   ],
   "source": [
    "modelv.reactions.TRPS2 # Reaction before L-trp to IPA Imine!"
   ]
  },
  {
   "cell_type": "code",
   "execution_count": 65,
   "id": "8168def8-2199-411b-ad33-aff947971fd3",
   "metadata": {},
   "outputs": [
    {
     "data": {
      "text/html": [
       "\n",
       "        <table>\n",
       "            <tr>\n",
       "                <td><strong>Reaction identifier</strong></td><td>TRPTA</td>\n",
       "            </tr><tr>\n",
       "                <td><strong>Name</strong></td><td>Tryptophan transaminase</td>\n",
       "            </tr><tr>\n",
       "                <td><strong>Memory address</strong></td>\n",
       "                <td>0x07feee9e12f98</td>\n",
       "            </tr><tr>\n",
       "                <td><strong>Stoichiometry</strong></td>\n",
       "                <td>\n",
       "                    <p style='text-align:right'>akg_c + trp__L_c <=> glu__L_c + indpyr_c</p>\n",
       "                    <p style='text-align:right'>2-Oxoglutarate + L-Tryptophan <=> L-Glutamate + Indolepyruvate C11H8NO3</p>\n",
       "                </td>\n",
       "            </tr><tr>\n",
       "                <td><strong>GPR</strong></td><td>WP_014230455_1 or WP_020335346_1 or WP_024372629_1 or WP_024372863_1</td>\n",
       "            </tr><tr>\n",
       "                <td><strong>Lower bound</strong></td><td>-1000.0</td>\n",
       "            </tr><tr>\n",
       "                <td><strong>Upper bound</strong></td><td>1000.0</td>\n",
       "            </tr>\n",
       "        </table>\n",
       "        "
      ],
      "text/plain": [
       "<Reaction TRPTA at 0x7feee9e12f98>"
      ]
     },
     "execution_count": 65,
     "metadata": {},
     "output_type": "execute_result"
    }
   ],
   "source": [
    "modelv.reactions.TRPTA # L-trp consumption (does it matter?)"
   ]
  },
  {
   "cell_type": "code",
   "execution_count": 89,
   "id": "fd72b32b-92ac-40b1-960d-37158dc5508b",
   "metadata": {},
   "outputs": [],
   "source": [
    "for metabolite in modelv.metabolites:\n",
    "    name=metabolite.name\n",
    "    if name=='Fe':\n",
    "        print(metabolite.reactions)"
   ]
  },
  {
   "cell_type": "code",
   "execution_count": 91,
   "id": "47c1bdb2-3612-42cd-ac8f-d0bdac634747",
   "metadata": {},
   "outputs": [
    {
     "name": "stdout",
     "output_type": "stream",
     "text": [
      "fdxo_42_c\n",
      "fdxr_42_c\n",
      "fe3_e\n",
      "fe2_c\n",
      "2fe1s_c\n",
      "2fe2s_c\n",
      "ficytc6_p\n",
      "focytc6_p\n",
      "fe3_c\n",
      "focytc_c\n",
      "ficytc_c\n",
      "ficytC_c\n",
      "focytC_c\n",
      "feenter_c\n",
      "fe2_e\n",
      "fe2_p\n",
      "fe3_p\n",
      "fe3dcit_p\n",
      "fe3dcit_e\n",
      "feenter_p\n",
      "feenter_e\n",
      "4fe4s_c\n",
      "iscu_2fe2s_c\n",
      "iscu_2fe2s2_c\n",
      "iscu_4fe4s_c\n",
      "sufbcd_2fe2s_c\n",
      "salchs4fe_p\n",
      "salchs4fe_c\n",
      "salchs4fe_e\n"
     ]
    }
   ],
   "source": [
    "for metabolite in modelv.metabolites.query('Fe', 'name'):\n",
    "    print(metabolite.id)"
   ]
  },
  {
   "cell_type": "code",
   "execution_count": 87,
   "id": "56991dac-9e05-4882-af10-aae507bd936f",
   "metadata": {},
   "outputs": [
    {
     "data": {
      "text/html": [
       "\n",
       "        <table>\n",
       "            <tr>\n",
       "                <td><strong>Reaction identifier</strong></td><td>CLt3_2pp</td>\n",
       "            </tr><tr>\n",
       "                <td><strong>Name</strong></td><td>Chloride transport out via proton antiport (2:1) (periplasm)</td>\n",
       "            </tr><tr>\n",
       "                <td><strong>Memory address</strong></td>\n",
       "                <td>0x07feee9289fd0</td>\n",
       "            </tr><tr>\n",
       "                <td><strong>Stoichiometry</strong></td>\n",
       "                <td>\n",
       "                    <p style='text-align:right'>2.0 cl_p + h_c --> 2.0 cl_c + h_p</p>\n",
       "                    <p style='text-align:right'>2.0 Chloride + H+ --> 2.0 Chloride + H+</p>\n",
       "                </td>\n",
       "            </tr><tr>\n",
       "                <td><strong>GPR</strong></td><td>WP_014233820_1</td>\n",
       "            </tr><tr>\n",
       "                <td><strong>Lower bound</strong></td><td>0.0</td>\n",
       "            </tr><tr>\n",
       "                <td><strong>Upper bound</strong></td><td>1000.0</td>\n",
       "            </tr>\n",
       "        </table>\n",
       "        "
      ],
      "text/plain": [
       "<Reaction CLt3_2pp at 0x7feee9289fd0>"
      ]
     },
     "execution_count": 87,
     "metadata": {},
     "output_type": "execute_result"
    }
   ],
   "source": [
    "modelv.reactions.CLt3_2pp"
   ]
  },
  {
   "cell_type": "code",
   "execution_count": 75,
   "id": "92e97dfb-cf48-4d74-9210-45eac87acd8b",
   "metadata": {},
   "outputs": [
    {
     "data": {
      "text/html": [
       "\n",
       "        <table>\n",
       "            <tr>\n",
       "                <td><strong>Reaction identifier</strong></td><td>URIC</td>\n",
       "            </tr><tr>\n",
       "                <td><strong>Name</strong></td><td>Uricase</td>\n",
       "            </tr><tr>\n",
       "                <td><strong>Memory address</strong></td>\n",
       "                <td>0x07feee9eadc50</td>\n",
       "            </tr><tr>\n",
       "                <td><strong>Stoichiometry</strong></td>\n",
       "                <td>\n",
       "                    <p style='text-align:right'>2.0 h2o_c + o2_c + urate_c --> alltn_c + co2_c + h2o2_c</p>\n",
       "                    <p style='text-align:right'>2.0 H2O + O2 + Urate --> Allantoin + CO2 + Hydrogen peroxide</p>\n",
       "                </td>\n",
       "            </tr><tr>\n",
       "                <td><strong>GPR</strong></td><td>WP_020334079_1 or ( WP_014231714_1 and WP_020334080_1 )</td>\n",
       "            </tr><tr>\n",
       "                <td><strong>Lower bound</strong></td><td>0.0</td>\n",
       "            </tr><tr>\n",
       "                <td><strong>Upper bound</strong></td><td>1000.0</td>\n",
       "            </tr>\n",
       "        </table>\n",
       "        "
      ],
      "text/plain": [
       "<Reaction URIC at 0x7feee9eadc50>"
      ]
     },
     "execution_count": 75,
     "metadata": {},
     "output_type": "execute_result"
    }
   ],
   "source": [
    "modelv.reactions.URIC"
   ]
  },
  {
   "cell_type": "code",
   "execution_count": 76,
   "id": "b11032f7-01b2-4bb2-975e-e83229fa4c1b",
   "metadata": {},
   "outputs": [
    {
     "data": {
      "text/html": [
       "\n",
       "        <table>\n",
       "            <tr>\n",
       "                <td><strong>Reaction identifier</strong></td><td>GGPTRCO</td>\n",
       "            </tr><tr>\n",
       "                <td><strong>Name</strong></td><td>Gamma glutamyl putrescine oxidase</td>\n",
       "            </tr><tr>\n",
       "                <td><strong>Memory address</strong></td>\n",
       "                <td>0x07feee9440080</td>\n",
       "            </tr><tr>\n",
       "                <td><strong>Stoichiometry</strong></td>\n",
       "                <td>\n",
       "                    <p style='text-align:right'>ggptrc_c + h2o_c + o2_c --> ggbutal_c + h2o2_c + nh4_c</p>\n",
       "                    <p style='text-align:right'>Gamma-glutamyl-putrescine + H2O + O2 --> Gamma-glutamyl-gamma-butyraldehyde + Hydrogen peroxide + Ammonium</p>\n",
       "                </td>\n",
       "            </tr><tr>\n",
       "                <td><strong>GPR</strong></td><td>WP_020336396_1</td>\n",
       "            </tr><tr>\n",
       "                <td><strong>Lower bound</strong></td><td>0.0</td>\n",
       "            </tr><tr>\n",
       "                <td><strong>Upper bound</strong></td><td>1000.0</td>\n",
       "            </tr>\n",
       "        </table>\n",
       "        "
      ],
      "text/plain": [
       "<Reaction GGPTRCO at 0x7feee9440080>"
      ]
     },
     "execution_count": 76,
     "metadata": {},
     "output_type": "execute_result"
    }
   ],
   "source": [
    "modelv.reactions.GGPTRCO"
   ]
  },
  {
   "cell_type": "code",
   "execution_count": 77,
   "id": "97b0e3a8-b0ea-45a3-bdb0-a7e5a2b25182",
   "metadata": {},
   "outputs": [
    {
     "data": {
      "text/html": [
       "\n",
       "        <table>\n",
       "            <tr>\n",
       "                <td><strong>Reaction identifier</strong></td><td>SARCOX</td>\n",
       "            </tr><tr>\n",
       "                <td><strong>Name</strong></td><td>Sarcosine oxidase</td>\n",
       "            </tr><tr>\n",
       "                <td><strong>Memory address</strong></td>\n",
       "                <td>0x07feee9ce90b8</td>\n",
       "            </tr><tr>\n",
       "                <td><strong>Stoichiometry</strong></td>\n",
       "                <td>\n",
       "                    <p style='text-align:right'>h2o_c + o2_c + sarcs_c --> fald_c + gly_c + h2o2_c</p>\n",
       "                    <p style='text-align:right'>H2O + O2 + Sarcosine --> Formaldehyde + Glycine + Hydrogen peroxide</p>\n",
       "                </td>\n",
       "            </tr><tr>\n",
       "                <td><strong>GPR</strong></td><td>WP_020334812_1 or WP_020335344_1 or ( WP_014234561_1 and WP_014234562_1 and WP_020335222_1 and...</td>\n",
       "            </tr><tr>\n",
       "                <td><strong>Lower bound</strong></td><td>0.0</td>\n",
       "            </tr><tr>\n",
       "                <td><strong>Upper bound</strong></td><td>1000.0</td>\n",
       "            </tr>\n",
       "        </table>\n",
       "        "
      ],
      "text/plain": [
       "<Reaction SARCOX at 0x7feee9ce90b8>"
      ]
     },
     "execution_count": 77,
     "metadata": {},
     "output_type": "execute_result"
    }
   ],
   "source": [
    "modelv.reactions.SARCOX"
   ]
  },
  {
   "cell_type": "code",
   "execution_count": 78,
   "id": "ac97009f-7441-4783-8d75-6171baae6540",
   "metadata": {},
   "outputs": [
    {
     "data": {
      "text/html": [
       "\n",
       "        <table>\n",
       "            <tr>\n",
       "                <td><strong>Reaction identifier</strong></td><td>METOX2s</td>\n",
       "            </tr><tr>\n",
       "                <td><strong>Name</strong></td><td>Methionine oxidation 2 (spontaneous)</td>\n",
       "            </tr><tr>\n",
       "                <td><strong>Memory address</strong></td>\n",
       "                <td>0x07feee980d8d0</td>\n",
       "            </tr><tr>\n",
       "                <td><strong>Stoichiometry</strong></td>\n",
       "                <td>\n",
       "                    <p style='text-align:right'>h2o2_c + met__L_c --> h2o_c + metsox_R__L_c</p>\n",
       "                    <p style='text-align:right'>Hydrogen peroxide + L-Methionine --> H2O + L-methionine-R-sulfoxide</p>\n",
       "                </td>\n",
       "            </tr><tr>\n",
       "                <td><strong>GPR</strong></td><td>spontaneous</td>\n",
       "            </tr><tr>\n",
       "                <td><strong>Lower bound</strong></td><td>0.0</td>\n",
       "            </tr><tr>\n",
       "                <td><strong>Upper bound</strong></td><td>1000.0</td>\n",
       "            </tr>\n",
       "        </table>\n",
       "        "
      ],
      "text/plain": [
       "<Reaction METOX2s at 0x7feee980d8d0>"
      ]
     },
     "execution_count": 78,
     "metadata": {},
     "output_type": "execute_result"
    }
   ],
   "source": [
    "modelv.reactions.METOX2s"
   ]
  },
  {
   "cell_type": "code",
   "execution_count": 79,
   "id": "46da8bb6-5d73-42ac-9996-e68b0a16d345",
   "metadata": {},
   "outputs": [
    {
     "data": {
      "text/html": [
       "\n",
       "        <table>\n",
       "            <tr>\n",
       "                <td><strong>Reaction identifier</strong></td><td>GLXO3r</td>\n",
       "            </tr><tr>\n",
       "                <td><strong>Name</strong></td><td>Glyoxylate dehydrogenase</td>\n",
       "            </tr><tr>\n",
       "                <td><strong>Memory address</strong></td>\n",
       "                <td>0x07feee94ae908</td>\n",
       "            </tr><tr>\n",
       "                <td><strong>Stoichiometry</strong></td>\n",
       "                <td>\n",
       "                    <p style='text-align:right'>glx_c + h2o_c + o2_c --> h2o2_c + h_c + oxa_c</p>\n",
       "                    <p style='text-align:right'>Glyoxylate + H2O + O2 --> Hydrogen peroxide + H+ + Oxalate</p>\n",
       "                </td>\n",
       "            </tr><tr>\n",
       "                <td><strong>GPR</strong></td><td>WP_020334385_1</td>\n",
       "            </tr><tr>\n",
       "                <td><strong>Lower bound</strong></td><td>0.0</td>\n",
       "            </tr><tr>\n",
       "                <td><strong>Upper bound</strong></td><td>1000.0</td>\n",
       "            </tr>\n",
       "        </table>\n",
       "        "
      ],
      "text/plain": [
       "<Reaction GLXO3r at 0x7feee94ae908>"
      ]
     },
     "execution_count": 79,
     "metadata": {},
     "output_type": "execute_result"
    }
   ],
   "source": [
    "modelv.reactions.GLXO3r"
   ]
  },
  {
   "cell_type": "code",
   "execution_count": 80,
   "id": "f356e35d-d477-47a7-9f81-5bc161c12e6e",
   "metadata": {},
   "outputs": [
    {
     "data": {
      "text/html": [
       "\n",
       "        <table>\n",
       "            <tr>\n",
       "                <td><strong>Reaction identifier</strong></td><td>PDX5POi</td>\n",
       "            </tr><tr>\n",
       "                <td><strong>Name</strong></td><td>Pyridoxine 5'-phosphate oxidase</td>\n",
       "            </tr><tr>\n",
       "                <td><strong>Memory address</strong></td>\n",
       "                <td>0x07feee9a7a940</td>\n",
       "            </tr><tr>\n",
       "                <td><strong>Stoichiometry</strong></td>\n",
       "                <td>\n",
       "                    <p style='text-align:right'>o2_c + pdx5p_c --> h2o2_c + pydx5p_c</p>\n",
       "                    <p style='text-align:right'>O2 + Pyridoxine 5'-phosphate --> Hydrogen peroxide + Pyridoxal 5'-phosphate</p>\n",
       "                </td>\n",
       "            </tr><tr>\n",
       "                <td><strong>GPR</strong></td><td>WP_014235106_1 or WP_020334188_1</td>\n",
       "            </tr><tr>\n",
       "                <td><strong>Lower bound</strong></td><td>0.0</td>\n",
       "            </tr><tr>\n",
       "                <td><strong>Upper bound</strong></td><td>1000.0</td>\n",
       "            </tr>\n",
       "        </table>\n",
       "        "
      ],
      "text/plain": [
       "<Reaction PDX5POi at 0x7feee9a7a940>"
      ]
     },
     "execution_count": 80,
     "metadata": {},
     "output_type": "execute_result"
    }
   ],
   "source": [
    "modelv.reactions.PDX5POi"
   ]
  },
  {
   "cell_type": "code",
   "execution_count": 81,
   "id": "488e3f54-79bd-4c4f-85b4-369e8c4e9380",
   "metadata": {},
   "outputs": [
    {
     "data": {
      "text/html": [
       "\n",
       "        <table>\n",
       "            <tr>\n",
       "                <td><strong>Reaction identifier</strong></td><td>PYAM5PO</td>\n",
       "            </tr><tr>\n",
       "                <td><strong>Name</strong></td><td>Pyridoxamine 5'-phosphate oxidase</td>\n",
       "            </tr><tr>\n",
       "                <td><strong>Memory address</strong></td>\n",
       "                <td>0x07feee9c25978</td>\n",
       "            </tr><tr>\n",
       "                <td><strong>Stoichiometry</strong></td>\n",
       "                <td>\n",
       "                    <p style='text-align:right'>h2o_c + o2_c + pyam5p_c --> h2o2_c + nh4_c + pydx5p_c</p>\n",
       "                    <p style='text-align:right'>H2O + O2 + Pyridoxamine 5'-phosphate --> Hydrogen peroxide + Ammonium + Pyridoxal 5'-phosphate</p>\n",
       "                </td>\n",
       "            </tr><tr>\n",
       "                <td><strong>GPR</strong></td><td>WP_014235106_1 or WP_020334188_1</td>\n",
       "            </tr><tr>\n",
       "                <td><strong>Lower bound</strong></td><td>0.0</td>\n",
       "            </tr><tr>\n",
       "                <td><strong>Upper bound</strong></td><td>1000.0</td>\n",
       "            </tr>\n",
       "        </table>\n",
       "        "
      ],
      "text/plain": [
       "<Reaction PYAM5PO at 0x7feee9c25978>"
      ]
     },
     "execution_count": 81,
     "metadata": {},
     "output_type": "execute_result"
    }
   ],
   "source": [
    "modelv.reactions.PYAM5PO"
   ]
  },
  {
   "cell_type": "code",
   "execution_count": null,
   "id": "b2c79f1b-11e3-4194-a909-bc382a4ff8f7",
   "metadata": {},
   "outputs": [],
   "source": []
  }
 ],
 "metadata": {
  "kernelspec": {
   "display_name": "Python 3",
   "language": "python",
   "name": "python3"
  },
  "language_info": {
   "codemirror_mode": {
    "name": "ipython",
    "version": 3
   },
   "file_extension": ".py",
   "mimetype": "text/x-python",
   "name": "python",
   "nbconvert_exporter": "python",
   "pygments_lexer": "ipython3",
   "version": "3.6.13"
  }
 },
 "nbformat": 4,
 "nbformat_minor": 5
}
