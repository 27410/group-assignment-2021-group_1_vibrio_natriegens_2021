{
 "cells": [
  {
   "cell_type": "code",
   "execution_count": 2,
   "id": "f66caf12-dcbc-45f1-842b-31d20b2c5897",
   "metadata": {},
   "outputs": [],
   "source": [
    "from cobra import Reaction, Metabolite\n",
    "from cobra.io import read_sbml_model\n",
    "from cobra.io import write_sbml_model"
   ]
  },
  {
   "cell_type": "markdown",
   "id": "065ae3d9-40dd-406d-8b9c-fc2b4e4f6f09",
   "metadata": {},
   "source": [
    "The metabolism of V. natriegens ATCC 14048 was investigated by Long et al. by carbon-13 flux analysis in order to determine intracellular metabolic fluxes of this organism (Long et al. 2017). These analyses were performed in a minimal media (M9) with glucose as an carbon source. For this reason, the refseq of V. natriegens ATCC 14048 from NCBI is chosen for the construction of the GSM in order to have as much simularity as possible to the isolate used. (TAKEN FROM GROUP7-2020)"
   ]
  },
  {
   "cell_type": "code",
   "execution_count": 3,
   "id": "be0b2b6d-fa2b-4bf9-9aed-19cd834c7e61",
   "metadata": {},
   "outputs": [],
   "source": [
    "modelv=read_sbml_model('Models/Vibrio-natriegens-ATCC_14048-M9.xml')"
   ]
  },
  {
   "cell_type": "code",
   "execution_count": 6,
   "id": "bf7cd248-3630-4d71-8b4a-8061e572d470",
   "metadata": {},
   "outputs": [
    {
     "name": "stdout",
     "output_type": "stream",
     "text": [
      "Number of reactions: 2639\n",
      "Number of metabolites: 1698\n",
      "Number of genes included in the model: 1404\n",
      "% of genes in model compared to the number of coding genes in Vibrio natrigens(4513 genes): 31.110126301794814\n"
     ]
    }
   ],
   "source": [
    "print(\"Number of reactions:\", len(modelv.reactions))\n",
    "print(\"Number of metabolites:\", len(modelv.metabolites))\n",
    "print(\"Number of genes included in the model:\", len(modelv.genes))\n",
    "# Percentage of coding genes covered (from: https://www.ncbi.nlm.nih.gov/nuccore/520916752?report=genbank)\n",
    "print(\"% of genes in model compared to the number of coding genes in Vibrio natrigens(4513 genes):\",((len(modelv.genes)*100)/4513))"
   ]
  },
  {
   "cell_type": "code",
   "execution_count": 7,
   "id": "7289655a-aae0-42ce-b8d5-2df9650208b6",
   "metadata": {},
   "outputs": [
    {
     "name": "stdout",
     "output_type": "stream",
     "text": [
      "Maximal growth rate of Vibrio natriegens in M9 medium 0.8182958535198697\n"
     ]
    }
   ],
   "source": [
    "print(\"Maximal growth rate of Vibrio natriegens in M9 medium\", modelv.optimize().objective_value)"
   ]
  },
  {
   "cell_type": "markdown",
   "id": "f7e585b1-f366-44fa-9be4-2ec0b7d005a9",
   "metadata": {},
   "source": [
    "First, one has to look for the names corresponding to the metabolites belonging to the violacein pathway."
   ]
  },
  {
   "cell_type": "code",
   "execution_count": 63,
   "id": "3f2b1757-1c46-43a5-aa29-cadac4fd806c",
   "metadata": {},
   "outputs": [
    {
     "data": {
      "text/html": [
       "\n",
       "        <table>\n",
       "            <tr>\n",
       "                <td><strong>Reaction identifier</strong></td><td>TRPS2</td>\n",
       "            </tr><tr>\n",
       "                <td><strong>Name</strong></td><td>Tryptophan synthase (indole)</td>\n",
       "            </tr><tr>\n",
       "                <td><strong>Memory address</strong></td>\n",
       "                <td>0x07feee9e12630</td>\n",
       "            </tr><tr>\n",
       "                <td><strong>Stoichiometry</strong></td>\n",
       "                <td>\n",
       "                    <p style='text-align:right'>indole_c + ser__L_c --> h2o_c + trp__L_c</p>\n",
       "                    <p style='text-align:right'>Indole + L-Serine --> H2O + L-Tryptophan</p>\n",
       "                </td>\n",
       "            </tr><tr>\n",
       "                <td><strong>GPR</strong></td><td>WP_020335269_1 or ( WP_014232411_1 and WP_020335573_1 )</td>\n",
       "            </tr><tr>\n",
       "                <td><strong>Lower bound</strong></td><td>0.0</td>\n",
       "            </tr><tr>\n",
       "                <td><strong>Upper bound</strong></td><td>1000.0</td>\n",
       "            </tr>\n",
       "        </table>\n",
       "        "
      ],
      "text/plain": [
       "<Reaction TRPS2 at 0x7feee9e12630>"
      ]
     },
     "execution_count": 63,
     "metadata": {},
     "output_type": "execute_result"
    }
   ],
   "source": [
    "modelv.reactions.TRPS2 # Reaction before L-trp to IPA Imine!"
   ]
  },
  {
   "cell_type": "markdown",
   "id": "ecc6cb16-db69-4ed8-97a2-aaddcdb50007",
   "metadata": {},
   "source": [
    "After finding the starting point of the violacein pathway, one has to make sure that the corresponding reactions to level Chlorines, hemo groups and pyruvate exist in this model. It is ensured that the model is properly balanced, and the species would not die. The side reactions can be found in *Side_reactions.ipynb*."
   ]
  },
  {
   "cell_type": "markdown",
   "id": "33e3c054-a66d-4ca3-970c-1e6b92eb83e9",
   "metadata": {},
   "source": [
    "Once everything is properly balanced, we start adding violacein production pathway."
   ]
  },
  {
   "cell_type": "code",
   "execution_count": 8,
   "id": "0e6b625d-1e0b-4123-9afe-0fde20fe96a6",
   "metadata": {},
   "outputs": [],
   "source": [
    "#Reaction_0_beta=Reaction('Step0_beta') # Farnesyl diphosphate + isopentenyl diphosphate <=> geranylgeranyl diphosphate + diphosphate\n",
    "#geranylgeranyl_PP=Metabolite(id='Geranylgeranyl_pp_c', compartment='c')\n",
    "#Reaction_0_beta.add_metabolites({modelc.metabolites.frdp_c: -1, # Farnesyl diphosphate\n",
    "#                                 modelc.metabolites.ipdp_c: -1, # Isopentenyl diphosphate\n",
    "#                                 geranylgeranyl_PP: 1, # our newly created metabolites\n",
    "#                                 modelc.metabolites.ppi_c: 1 # diphosphate\n",
    "#                                })"
   ]
  },
  {
   "cell_type": "code",
   "execution_count": null,
   "id": "b2c79f1b-11e3-4194-a909-bc382a4ff8f7",
   "metadata": {},
   "outputs": [],
   "source": []
  }
 ],
 "metadata": {
  "kernelspec": {
   "display_name": "Python 3",
   "language": "python",
   "name": "python3"
  },
  "language_info": {
   "codemirror_mode": {
    "name": "ipython",
    "version": 3
   },
   "file_extension": ".py",
   "mimetype": "text/x-python",
   "name": "python",
   "nbconvert_exporter": "python",
   "pygments_lexer": "ipython3",
   "version": "3.6.13"
  }
 },
 "nbformat": 4,
 "nbformat_minor": 5
}
