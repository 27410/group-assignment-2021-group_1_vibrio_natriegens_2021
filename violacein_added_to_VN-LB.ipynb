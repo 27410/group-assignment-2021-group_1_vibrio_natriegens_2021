{
 "cells": [
  {
   "cell_type": "code",
   "execution_count": 39,
   "id": "1598de78",
   "metadata": {},
   "outputs": [],
   "source": [
    "from cobra import Reaction, Metabolite\n",
    "from cobra.io import read_sbml_model\n",
    "from cobra.io import write_sbml_model"
   ]
  },
  {
   "cell_type": "markdown",
   "id": "eacb54d4",
   "metadata": {},
   "source": [
    "The metabolism of V. natriegens ATCC 14048 was investigated by Long et al. by carbon-13 flux analysis in order to determine intracellular metabolic fluxes of this organism (Long et al. 2017). These analyses were performed in a minimal media (M9) with glucose as an carbon source. For this reason, the refseq of V. natriegens ATCC 14048 from NCBI is chosen for the construction of the GSM in order to have as much simularity as possible to the isolate used. (TAKEN FROM GROUP7-2020)\n",
    "We now switch to LB media to compare results (SAY PAPER WHERE PROPOSES LB AS BEST MEDIA). "
   ]
  },
  {
   "cell_type": "code",
   "execution_count": 70,
   "id": "bb97ae8d",
   "metadata": {},
   "outputs": [],
   "source": [
    "modelLB=read_sbml_model('Models/Vibrio-natriegens-ATCC_14048-LB.xml')"
   ]
  },
  {
   "cell_type": "code",
   "execution_count": 71,
   "id": "658a445f",
   "metadata": {},
   "outputs": [
    {
     "name": "stdout",
     "output_type": "stream",
     "text": [
      "Number of reactions: 2720\n",
      "Number of metabolites: 1730\n",
      "Number of genes included in the model: 1480\n"
     ]
    }
   ],
   "source": [
    "print(\"Number of reactions:\", len(modelLB.reactions))\n",
    "print(\"Number of metabolites:\", len(modelLB.metabolites))\n",
    "print(\"Number of genes included in the model:\", len(modelLB.genes))"
   ]
  },
  {
   "cell_type": "markdown",
   "id": "13470f23",
   "metadata": {},
   "source": [
    "Percentage of coding genes covered (from: https://www.ncbi.nlm.nih.gov/nuccore/520916752?report=genbank)"
   ]
  },
  {
   "cell_type": "code",
   "execution_count": 72,
   "id": "63c58085",
   "metadata": {},
   "outputs": [
    {
     "name": "stdout",
     "output_type": "stream",
     "text": [
      "Percentage of genes included in the model compared to the number of existing coding genes in Vibrio natrigens(4513 genes): 32.794 %\n"
     ]
    }
   ],
   "source": [
    "print(\"Percentage of genes included in the model compared to the number of existing coding genes in Vibrio natrigens(4513 genes):\",round(((len(modelLB.genes)*100)/4513), 3),\"%\")"
   ]
  },
  {
   "cell_type": "markdown",
   "id": "fce1a48e",
   "metadata": {},
   "source": [
    "We start this study checking the initial growth rate, for a later comparison with the optimised model we will create."
   ]
  },
  {
   "cell_type": "code",
   "execution_count": 73,
   "id": "e15c21e4",
   "metadata": {},
   "outputs": [
    {
     "name": "stdout",
     "output_type": "stream",
     "text": [
      "Maximal growth rate of Vibrio natriegens in LB medium: 2.813\n"
     ]
    }
   ],
   "source": [
    "print(\"Maximal growth rate of Vibrio natriegens in LB medium:\", round(modelLB.optimize().objective_value, 3))"
   ]
  },
  {
   "cell_type": "markdown",
   "id": "5355f94b",
   "metadata": {},
   "source": [
    "First, one has to look for the start point of the violacein pathway, which is known to be tryptophan synthase."
   ]
  },
  {
   "cell_type": "code",
   "execution_count": 74,
   "id": "9495432d",
   "metadata": {},
   "outputs": [
    {
     "data": {
      "text/html": [
       "\n",
       "        <table>\n",
       "            <tr>\n",
       "                <td><strong>Reaction identifier</strong></td><td>TRPS2</td>\n",
       "            </tr><tr>\n",
       "                <td><strong>Name</strong></td><td>Tryptophan synthase (indole)</td>\n",
       "            </tr><tr>\n",
       "                <td><strong>Memory address</strong></td>\n",
       "                <td>0x07fbd41324dc0</td>\n",
       "            </tr><tr>\n",
       "                <td><strong>Stoichiometry</strong></td>\n",
       "                <td>\n",
       "                    <p style='text-align:right'>indole_c + ser__L_c --> h2o_c + trp__L_c</p>\n",
       "                    <p style='text-align:right'>Indole + L-Serine --> H2O H2O + L-Tryptophan</p>\n",
       "                </td>\n",
       "            </tr><tr>\n",
       "                <td><strong>GPR</strong></td><td>WP_217999032_1 or ( WP_014232411_1 and WP_020335573_1 )</td>\n",
       "            </tr><tr>\n",
       "                <td><strong>Lower bound</strong></td><td>0.0</td>\n",
       "            </tr><tr>\n",
       "                <td><strong>Upper bound</strong></td><td>1000.0</td>\n",
       "            </tr>\n",
       "        </table>\n",
       "        "
      ],
      "text/plain": [
       "<Reaction TRPS2 at 0x7fbd41324dc0>"
      ]
     },
     "execution_count": 74,
     "metadata": {},
     "output_type": "execute_result"
    }
   ],
   "source": [
    "modelLB.reactions.TRPS2 # Reaction before L-trp -> IPA Imine"
   ]
  },
  {
   "cell_type": "markdown",
   "id": "3bd04aab",
   "metadata": {},
   "source": [
    "After finding the starting point of the violacein pathway, one has to make sure that side reactions of violacein production are leveled in the model. This reactions involve chlorines, hemo groups and pyruvate. \n",
    "The proper study can be found in *Side_reactions-LB.ipynb*, where it is ensured that the model is properly balanced, and the species would not die."
   ]
  },
  {
   "cell_type": "markdown",
   "id": "8af5b7e1",
   "metadata": {},
   "source": [
    "Once everything is properly balanced, one can start adding violacein production pathway."
   ]
  },
  {
   "cell_type": "markdown",
   "id": "e7e13c73",
   "metadata": {},
   "source": [
    "First, one must define all metabolites used that are not native to *Vibrio Natrigens*."
   ]
  },
  {
   "cell_type": "code",
   "execution_count": 75,
   "id": "ba0c36cc",
   "metadata": {},
   "outputs": [],
   "source": [
    "# --- For violacein production ---\n",
    "ipa_c=Metabolite(id='ipa_c', formula='C11H10N2O2', name='2-Imino-3-(indol-3-yl)propanoate', compartment='c')\n",
    "ipa_dimer_c=Metabolite(id='ipa_dimer_c', compartment='c')\n",
    "ptdv_c=Metabolite(id='ptdv_c', formula='C21H15N3O2', name='Protodeoxyviolaceinate', compartment='c')\n",
    "ptv_c=Metabolite(id='ptv_c', formula='C21H15N3O3', name='Protoviolaceinate', compartment='c')\n",
    "va_c=Metabolite(id='va_c', formula='C21H15N3O4', name='Violaceinate', compartment='c')\n",
    "v_c=Metabolite(id='v_c', formula='C20H13N3O3', name='Violacein', compartment='c')\n",
    "# --- Side reactions ---\n",
    "cp_c=Metabolite(id='cp_c', formula='C22H15N3O4', name='Chromopyrrolate', compartment='c')\n",
    "dva_c=Metabolite(id='dva_c', formula='C21H15N3O3', name='Deoxyviolaceinate', compartment='c')\n",
    "dv_c=Metabolite(id='dv_c', formula='C20H13N3O2', name='Deoxyviolacein', compartment='c')\n",
    "pdv_c=Metabolite(id='pdv_c',formula='C20H13N3O', name='Prodeoxyviolacein', compartment='c')\n",
    "pv_c=Metabolite(id='pv_c',formula='C20H13N3O2', name='Proviolacein', compartment='c')"
   ]
  },
  {
   "cell_type": "markdown",
   "id": "f2b85302",
   "metadata": {},
   "source": [
    "Later, the reactions from tryptophan to violacein have to be built."
   ]
  },
  {
   "cell_type": "code",
   "execution_count": 76,
   "id": "37c93652",
   "metadata": {},
   "outputs": [],
   "source": [
    "Reaction_VioA_FAD=Reaction('IPA_imine_VioA_FAD') # L-tryptophan + FAD <=> IPA imine + FADH2\n",
    "\n",
    "Reaction_VioA_FAD.add_metabolites({modelLB.metabolites.trp__L_c: -1, # L-tryptophan\n",
    "                                 modelLB.metabolites.fad_c: -1, # FAD\n",
    "                                 ipa_c: 1, # IPA imine\n",
    "                                 modelLB.metabolites.fadh2_c: 1 # FADH2\n",
    "                                })"
   ]
  },
  {
   "cell_type": "code",
   "execution_count": 77,
   "id": "40a45261",
   "metadata": {},
   "outputs": [],
   "source": [
    "Reaction_VioA_O2=Reaction('IPA_imine_VioA_O2') # L-Tryptophan + Oxygen <=> IPA imine + Hydrogen peroxide\n",
    "\n",
    "Reaction_VioA_O2.add_metabolites({modelLB.metabolites.trp__L_c: -1,   # L-tryptophan\n",
    "                                 modelLB.metabolites.o2_c: -1,            # Oxygen\n",
    "                                 ipa_c: 1,                               # IPA imine\n",
    "                                 modelLB.metabolites.h2o2_c: 1            # Hydrogen peroxide\n",
    "                                })"
   ]
  },
  {
   "cell_type": "code",
   "execution_count": 78,
   "id": "d974efaa",
   "metadata": {},
   "outputs": [],
   "source": [
    "Reaction_VioB=Reaction('IPA_imine_dimer_VioB') #  # 2 IPA imine + Fe2+ => IPA imine dimer + Fe3+ \n",
    "\n",
    "Reaction_VioB.add_metabolites({ipa_c: -2,               # IPA imine\n",
    "                                 modelLB.metabolites.fe2_c: -1,    # Fe2+\n",
    "                                 ipa_dimer_c: 1,                  # IPA imine dimer\n",
    "                                 modelLB.metabolites.fe3_c: 1      # Fe3+ \n",
    "                                })"
   ]
  },
  {
   "cell_type": "code",
   "execution_count": 79,
   "id": "36376466",
   "metadata": {},
   "outputs": [],
   "source": [
    "Reaction_Chromopyrrolate=Reaction('Chromopyrrolate') # IPA imine dimer <=> Chromopyrollic acid + NH3 \n",
    "\n",
    "Reaction_Chromopyrrolate.add_metabolites({ipa_dimer_c: -1,         # IPA imine\n",
    "                                 cp_c: 1,                   # Chromopyrollic acid\n",
    "                                 modelLB.metabolites.nh3_c: 1       # NH3 \n",
    "                                })"
   ]
  },
  {
   "cell_type": "code",
   "execution_count": 80,
   "id": "78f9a937",
   "metadata": {},
   "outputs": [],
   "source": [
    "Reaction_VioE=Reaction('Protodeoxyviolaceinate_VioE') # IPA imine dimer <=> Protodeoxyviolaceinic acid + CO2 + NH3\n",
    "\n",
    "Reaction_VioE.add_metabolites({ipa_dimer_c: -1,      # IPA imine dimer\n",
    "                                 modelLB.metabolites.co2_c: 1,          # CO2\n",
    "                                 ptdv_c: 1,                            # Protodeoxyviolaceinic acid\n",
    "                                 modelLB.metabolites.nh3_c: 1           # NH3 \n",
    "                                })"
   ]
  },
  {
   "cell_type": "code",
   "execution_count": 81,
   "id": "775ff539",
   "metadata": {},
   "outputs": [],
   "source": [
    "Reaction_Prodeoxyviolacein=Reaction('Prodeoxyviolacein') # Protodeoxyviolaceinic acid + O2 <=> Prodeoxyviolacein + CO2 +H2O\n",
    "\n",
    "Reaction_Prodeoxyviolacein.add_metabolites({ptdv_c: -1,                # Protodeoxyviolaceinic acid\n",
    "                                 modelLB.metabolites.o2_c: -1,          # Oxygen         \n",
    "                                 pdv_c: 1,                             # Prodeoxyviolacein\n",
    "                                 modelLB.metabolites.co2_c: 1,          # CO2\n",
    "                                 modelLB.metabolites.h2o_c: 1           # H2O\n",
    "                                })"
   ]
  },
  {
   "cell_type": "code",
   "execution_count": 82,
   "id": "eb08de79",
   "metadata": {},
   "outputs": [],
   "source": [
    "Reaction_Deoxyviolaceinate_VioC=Reaction('Deoxyviolaceinate_VioC') # Protodeoxyviolaceinic acid + Oxygen + NADPH + H+ <=> Deoxyviolaceinic acid + NADP+ + H2O\n",
    "\n",
    "Reaction_Deoxyviolaceinate_VioC.add_metabolites({ptdv_c: -1,           # Protodeoxyviolaceinic acid\n",
    "                                 modelLB.metabolites.nadph_c: -1,       # NADPH\n",
    "                                 modelLB.metabolites.o2_c: -1,          # Oxygen\n",
    "                                 modelLB.metabolites.h_c: -1,           # H+           \n",
    "                                 dva_c: 1,                             # Deoxyviolaceinic acid\n",
    "                                 modelLB.metabolites.nadp_c: 1,         # NADP+\n",
    "                                 modelLB.metabolites.h2o_c: 1           # H2O\n",
    "                                })"
   ]
  },
  {
   "cell_type": "code",
   "execution_count": 83,
   "id": "88533f5c",
   "metadata": {},
   "outputs": [],
   "source": [
    "Reaction_Deoxyviolacein=Reaction('Deoxyviolacein') # Deoxyviolaceinic acid + Oxygen <=> Deoxyviolacein + CO2 + H2O\n",
    "\n",
    "Reaction_Deoxyviolacein.add_metabolites({dva_c: -1,                    # Deoxyviolaceinic acid\n",
    "                                 modelLB.metabolites.o2_c: -1,          # Oxygen         \n",
    "                                 dv_c: 1,                              # Deoxyviolacein\n",
    "                                 modelLB.metabolites.co2_c: 1,          # CO2\n",
    "                                 modelLB.metabolites.h2o_c: 1           # H2O\n",
    "                                })"
   ]
  },
  {
   "cell_type": "code",
   "execution_count": 84,
   "id": "947cf037",
   "metadata": {},
   "outputs": [],
   "source": [
    "Reaction_VioD=Reaction('Protoviolaceinate_VioD') # Protodeoxyviolaceinic acid + NADPH + Oxygen + H+ <=> Protoviolaceinic acid + NADP+ + H2O\n",
    "\n",
    "Reaction_VioD.add_metabolites({ptdv_c: -1,                             # Protodeoxyviolaceinic acid\n",
    "                                 modelLB.metabolites.nadph_c: -1,       # NADPH\n",
    "                                 modelLB.metabolites.o2_c: -1,          # Oxygen\n",
    "                                 modelLB.metabolites.h_c: -1,           # H+           \n",
    "                                 ptv_c: 1,                             # Protoviolaceinic acid\n",
    "                                 modelLB.metabolites.nadp_c: 1,         # NADP+\n",
    "                                 modelLB.metabolites.h2o_c: 1           # H2O\n",
    "                                })"
   ]
  },
  {
   "cell_type": "code",
   "execution_count": 85,
   "id": "a91183f1",
   "metadata": {},
   "outputs": [],
   "source": [
    "Reaction_Proviolacein=Reaction('Proviolacein') # Protoviolaceinic acid + O2 = Proviolacein +CO2 + H2O\n",
    "\n",
    "Reaction_Proviolacein.add_metabolites({ptv_c: -1,                    # Protoviolaceinic acid\n",
    "                                 modelLB.metabolites.o2_c: -1,          # Oxygen         \n",
    "                                 pv_c: 1,                              # Proviolacein\n",
    "                                 modelLB.metabolites.co2_c: 1,          # CO2\n",
    "                                 modelLB.metabolites.h2o_c: 1           # H2O\n",
    "                                })"
   ]
  },
  {
   "cell_type": "code",
   "execution_count": 86,
   "id": "7012ec24",
   "metadata": {},
   "outputs": [],
   "source": [
    "Reaction_Violaceinate_VioC=Reaction('Violaceinate') # Protoviolaceinic acid + Oxygen + NADPH + H+ <=> Violaceinic acid + NADP+ + H2O\n",
    "\n",
    "Reaction_Violaceinate_VioC.add_metabolites({ptv_c: -1,                 # Protoviolaceinic acid\n",
    "                                 modelLB.metabolites.nadph_c: -1,       # NADPH\n",
    "                                 modelLB.metabolites.o2_c: -1,          # Oxygen\n",
    "                                 modelLB.metabolites.h_c: -1,           # H+           \n",
    "                                 va_c: 1,                              # Violaceinic acid\n",
    "                                 modelLB.metabolites.nadp_c: 1,         # NADP+\n",
    "                                 modelLB.metabolites.h2o_c: 1           # H2O\n",
    "                                })"
   ]
  },
  {
   "cell_type": "code",
   "execution_count": 87,
   "id": "02a81fe7",
   "metadata": {},
   "outputs": [],
   "source": [
    "Reaction_VioD=Reaction('Protoviolaceinate_VioD') # Protodeoxyviolaceinic acid + NADPH + Oxygen + H+ <=> Protoviolaceinic acid + NADP+ + H2O\n",
    "\n",
    "Reaction_VioD.add_metabolites({ptdv_c: -1,                             # Protodeoxyviolaceinic acid\n",
    "                                 modelLB.metabolites.nadph_c: -1,       # NADPH\n",
    "                                 modelLB.metabolites.o2_c: -1,          # Oxygen\n",
    "                                 modelLB.metabolites.h_c: -1,           # H+           \n",
    "                                 ptv_c: 1,                             # Protoviolaceinic acid\n",
    "                                 modelLB.metabolites.nadp_c: 1,         # NADP+\n",
    "                                 modelLB.metabolites.h2o_c: 1           # H2O\n",
    "                                })"
   ]
  },
  {
   "cell_type": "code",
   "execution_count": 88,
   "id": "30312486",
   "metadata": {},
   "outputs": [],
   "source": [
    "Reaction_Proviolacein=Reaction('Proviolacein') # Protoviolaceinic acid + O2 = Proviolacein +CO2 + H2O\n",
    "\n",
    "Reaction_Proviolacein.add_metabolites({ptv_c: -1,                    # Protoviolaceinic acid\n",
    "                                 modelLB.metabolites.o2_c: -1,          # Oxygen         \n",
    "                                 pv_c: 1,                              # Proviolacein\n",
    "                                 modelLB.metabolites.co2_c: 1,          # CO2\n",
    "                                 modelLB.metabolites.h2o_c: 1           # H2O\n",
    "                                })"
   ]
  },
  {
   "cell_type": "code",
   "execution_count": 89,
   "id": "7addc76f",
   "metadata": {},
   "outputs": [],
   "source": [
    "Reaction_Violaceinate_VioC=Reaction('Violaceinate') # Protoviolaceinic acid + Oxygen + NADPH + H+ <=> Violaceinic acid + NADP+ + H2O\n",
    "\n",
    "Reaction_Violaceinate_VioC.add_metabolites({ptv_c: -1,                 # Protoviolaceinic acid\n",
    "                                 modelLB.metabolites.nadph_c: -1,       # NADPH\n",
    "                                 modelLB.metabolites.o2_c: -1,          # Oxygen\n",
    "                                 modelLB.metabolites.h_c: -1,           # H+           \n",
    "                                 va_c: 1,                              # Violaceinic acid\n",
    "                                 modelLB.metabolites.nadp_c: 1,         # NADP+\n",
    "                                 modelLB.metabolites.h2o_c: 1           # H2O\n",
    "                                })"
   ]
  },
  {
   "cell_type": "code",
   "execution_count": 90,
   "id": "8940637e",
   "metadata": {},
   "outputs": [],
   "source": [
    "Reaction_Violacein=Reaction('Violacein') # Violaceinic acid + Oxygen <=> Violacein + CO2 + H2O\n",
    "\n",
    "Reaction_Violacein.add_metabolites({va_c: -1,                          # Violaceinic acid\n",
    "                                 modelLB.metabolites.o2_c: -1,          # Oxygen         \n",
    "                                 v_c: 1,                               # Violacein\n",
    "                                 modelLB.metabolites.co2_c: 1,          # CO2\n",
    "                                 modelLB.metabolites.h2o_c: 1           # H2O\n",
    "                                })"
   ]
  },
  {
   "cell_type": "markdown",
   "id": "7d8b5de4",
   "metadata": {},
   "source": [
    "All reactions must be added to the model."
   ]
  },
  {
   "cell_type": "code",
   "execution_count": 91,
   "id": "5468335e",
   "metadata": {},
   "outputs": [],
   "source": [
    "# modelLB.add_reactions([Reaction_VioA_O2]) or modelLB.add_reactions([Reaction_VioA_FAD])\n",
    "modelLB.add_reactions([Reaction_VioA_FAD])\n",
    "# --------------------------------------- #\n",
    "modelLB.add_reactions([Reaction_VioB])\n",
    "modelLB.add_reactions([Reaction_Chromopyrrolate])\n",
    "modelLB.add_reactions([Reaction_VioE])\n",
    "modelLB.add_reactions([Reaction_Prodeoxyviolacein])\n",
    "modelLB.add_reactions([Reaction_Deoxyviolaceinate_VioC])\n",
    "modelLB.add_reactions([Reaction_Deoxyviolacein])\n",
    "modelLB.add_reactions([Reaction_VioD])\n",
    "modelLB.add_reactions([Reaction_Proviolacein])\n",
    "modelLB.add_reactions([Reaction_Violaceinate_VioC])\n",
    "modelLB.add_reactions([Reaction_Violacein])"
   ]
  },
  {
   "cell_type": "markdown",
   "id": "7f188b7a",
   "metadata": {},
   "source": [
    "One must ensure that boundaries are set correctly, and add them if they are not."
   ]
  },
  {
   "cell_type": "code",
   "execution_count": 92,
   "id": "d8c8c6aa",
   "metadata": {},
   "outputs": [
    {
     "data": {
      "text/plain": [
       "[]"
      ]
     },
     "execution_count": 92,
     "metadata": {},
     "output_type": "execute_result"
    }
   ],
   "source": [
    "modelLB.demands"
   ]
  },
  {
   "cell_type": "code",
   "execution_count": 93,
   "id": "2e2a87ab",
   "metadata": {},
   "outputs": [
    {
     "data": {
      "text/html": [
       "\n",
       "        <table>\n",
       "            <tr>\n",
       "                <td><strong>Reaction identifier</strong></td><td>DM_v_c</td>\n",
       "            </tr><tr>\n",
       "                <td><strong>Name</strong></td><td>Violacein demand</td>\n",
       "            </tr><tr>\n",
       "                <td><strong>Memory address</strong></td>\n",
       "                <td>0x07fbd415c14c0</td>\n",
       "            </tr><tr>\n",
       "                <td><strong>Stoichiometry</strong></td>\n",
       "                <td>\n",
       "                    <p style='text-align:right'>v_c --></p>\n",
       "                    <p style='text-align:right'>Violacein --></p>\n",
       "                </td>\n",
       "            </tr><tr>\n",
       "                <td><strong>GPR</strong></td><td></td>\n",
       "            </tr><tr>\n",
       "                <td><strong>Lower bound</strong></td><td>0</td>\n",
       "            </tr><tr>\n",
       "                <td><strong>Upper bound</strong></td><td>1000.0</td>\n",
       "            </tr>\n",
       "        </table>\n",
       "        "
      ],
      "text/plain": [
       "<Reaction DM_v_c at 0x7fbd415c14c0>"
      ]
     },
     "execution_count": 93,
     "metadata": {},
     "output_type": "execute_result"
    }
   ],
   "source": [
    "modelLB.add_boundary(modelLB.metabolites.get_by_id(\"v_c\"), type=\"demand\")"
   ]
  },
  {
   "cell_type": "code",
   "execution_count": 94,
   "id": "4b0183d4",
   "metadata": {},
   "outputs": [
    {
     "data": {
      "text/html": [
       "\n",
       "        <table>\n",
       "            <tr>\n",
       "                <td><strong>Reaction identifier</strong></td><td>DM_dv_c</td>\n",
       "            </tr><tr>\n",
       "                <td><strong>Name</strong></td><td>Deoxyviolacein demand</td>\n",
       "            </tr><tr>\n",
       "                <td><strong>Memory address</strong></td>\n",
       "                <td>0x07fbd415ab280</td>\n",
       "            </tr><tr>\n",
       "                <td><strong>Stoichiometry</strong></td>\n",
       "                <td>\n",
       "                    <p style='text-align:right'>dv_c --></p>\n",
       "                    <p style='text-align:right'>Deoxyviolacein --></p>\n",
       "                </td>\n",
       "            </tr><tr>\n",
       "                <td><strong>GPR</strong></td><td></td>\n",
       "            </tr><tr>\n",
       "                <td><strong>Lower bound</strong></td><td>0</td>\n",
       "            </tr><tr>\n",
       "                <td><strong>Upper bound</strong></td><td>1000.0</td>\n",
       "            </tr>\n",
       "        </table>\n",
       "        "
      ],
      "text/plain": [
       "<Reaction DM_dv_c at 0x7fbd415ab280>"
      ]
     },
     "execution_count": 94,
     "metadata": {},
     "output_type": "execute_result"
    }
   ],
   "source": [
    "modelLB.add_boundary(modelLB.metabolites.get_by_id(\"dv_c\"), type=\"demand\")"
   ]
  },
  {
   "cell_type": "markdown",
   "id": "855e5647",
   "metadata": {
    "tags": []
   },
   "source": [
    "The following step one must do is changing the objective of the model."
   ]
  },
  {
   "cell_type": "code",
   "execution_count": 95,
   "id": "b0a8eb39",
   "metadata": {},
   "outputs": [],
   "source": [
    "modelLB.objective = modelLB.reactions.Violacein"
   ]
  },
  {
   "cell_type": "markdown",
   "id": "35a8a7c8",
   "metadata": {},
   "source": [
    "Finally, one must retrieve the maximum production."
   ]
  },
  {
   "cell_type": "code",
   "execution_count": 96,
   "id": "7bf08be0",
   "metadata": {},
   "outputs": [
    {
     "name": "stdout",
     "output_type": "stream",
     "text": [
      "Max. violacein production in LB media [mmol gDW^-1 h^-1]: 3.3333333333333326\n"
     ]
    }
   ],
   "source": [
    "violacein_production = modelLB.optimize().objective_value\n",
    "print('Max. violacein production in LB media [mmol gDW^-1 h^-1]:',violacein_production)"
   ]
  },
  {
   "cell_type": "markdown",
   "id": "ffbfe176",
   "metadata": {},
   "source": [
    "The maximum production rate of violacein in *V. natriegens* (LB media) with the violacein pathway from *V. campbellii*, using FAD, is 3.33 mmol gDW-1 h-1."
   ]
  },
  {
   "cell_type": "markdown",
   "id": "e82575ae",
   "metadata": {},
   "source": [
    "The new model including violacein pathway with FAD is stored in Models folder. "
   ]
  },
  {
   "cell_type": "code",
   "execution_count": 97,
   "id": "e2e0ff14",
   "metadata": {},
   "outputs": [],
   "source": [
    "# Idented to avoid writing over the file every time. At the end of the project we should unident it :)\n",
    "### write_sbml_model(modelLB,\"Models/model_VN_LB_vio-fad.xml\")"
   ]
  }
 ],
 "metadata": {
  "kernelspec": {
   "display_name": "Python 3 (ipykernel)",
   "language": "python",
   "name": "python3"
  },
  "language_info": {
   "codemirror_mode": {
    "name": "ipython",
    "version": 3
   },
   "file_extension": ".py",
   "mimetype": "text/x-python",
   "name": "python",
   "nbconvert_exporter": "python",
   "pygments_lexer": "ipython3",
   "version": "3.8.11"
  }
 },
 "nbformat": 4,
 "nbformat_minor": 5
}
