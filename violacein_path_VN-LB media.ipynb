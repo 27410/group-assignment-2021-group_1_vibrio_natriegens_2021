{
 "cells": [
  {
   "cell_type": "code",
   "execution_count": 35,
   "id": "f66caf12-dcbc-45f1-842b-31d20b2c5897",
   "metadata": {},
   "outputs": [],
   "source": [
    "from cobra import Reaction, Metabolite\n",
    "from cobra.io import read_sbml_model\n",
    "from cobra.io import write_sbml_model"
   ]
  },
  {
   "cell_type": "markdown",
   "id": "065ae3d9-40dd-406d-8b9c-fc2b4e4f6f09",
   "metadata": {},
   "source": [
    "The metabolism of V. natriegens ATCC 14048 was investigated by Long et al. by carbon-13 flux analysis in order to determine intracellular metabolic fluxes of this organism (Long et al. 2017). These analyses were performed in a minimal media (M9) with glucose as an carbon source. For this reason, the refseq of V. natriegens ATCC 14048 from NCBI is chosen for the construction of the GSM in order to have as much simularity as possible to the isolate used. (TAKEN FROM GROUP7-2020)\n",
    "We now switch to LB media to compare results. "
   ]
  },
  {
   "cell_type": "code",
   "execution_count": 36,
   "id": "be0b2b6d-fa2b-4bf9-9aed-19cd834c7e61",
   "metadata": {},
   "outputs": [],
   "source": [
    "modelv=read_sbml_model('Models/Vibrio-natriegens-ATCC_14048-LB.xml')"
   ]
  },
  {
   "cell_type": "code",
   "execution_count": 37,
   "id": "bf7cd248-3630-4d71-8b4a-8061e572d470",
   "metadata": {},
   "outputs": [
    {
     "name": "stdout",
     "output_type": "stream",
     "text": [
      "Number of reactions: 2720\n",
      "Number of metabolites: 1730\n",
      "Number of genes included in the model: 1480\n",
      "% of genes in model compared to the number of coding genes in Vibrio natrigens(4513 genes): 32.7941502326612\n"
     ]
    }
   ],
   "source": [
    "print(\"Number of reactions:\", len(modelv.reactions))\n",
    "print(\"Number of metabolites:\", len(modelv.metabolites))\n",
    "print(\"Number of genes included in the model:\", len(modelv.genes))\n",
    "# Percentage of coding genes covered (from: https://www.ncbi.nlm.nih.gov/nuccore/520916752?report=genbank)\n",
    "print(\"% of genes in model compared to the number of coding genes in Vibrio natrigens(4513 genes):\",((len(modelv.genes)*100)/4513))"
   ]
  },
  {
   "cell_type": "code",
   "execution_count": 69,
   "id": "7289655a-aae0-42ce-b8d5-2df9650208b6",
   "metadata": {},
   "outputs": [
    {
     "name": "stdout",
     "output_type": "stream",
     "text": [
      "Maximal growth rate of Vibrio natriegens in LB medium 2.8132423768018597\n"
     ]
    }
   ],
   "source": [
    "print(\"Maximal growth rate of Vibrio natriegens in LB medium\", modelv.optimize().objective_value)"
   ]
  },
  {
   "cell_type": "markdown",
   "id": "f7e585b1-f366-44fa-9be4-2ec0b7d005a9",
   "metadata": {},
   "source": [
    "First, one has to look for the names corresponding to the metabolites belonging to the violacein pathway."
   ]
  },
  {
   "cell_type": "code",
   "execution_count": 39,
   "id": "3f2b1757-1c46-43a5-aa29-cadac4fd806c",
   "metadata": {},
   "outputs": [
    {
     "data": {
      "text/html": [
       "\n",
       "        <table>\n",
       "            <tr>\n",
       "                <td><strong>Reaction identifier</strong></td><td>TRPS2</td>\n",
       "            </tr><tr>\n",
       "                <td><strong>Name</strong></td><td>Tryptophan synthase (indole)</td>\n",
       "            </tr><tr>\n",
       "                <td><strong>Memory address</strong></td>\n",
       "                <td>0x01fc44814eb8</td>\n",
       "            </tr><tr>\n",
       "                <td><strong>Stoichiometry</strong></td>\n",
       "                <td>\n",
       "                    <p style='text-align:right'>indole_c + ser__L_c --> h2o_c + trp__L_c</p>\n",
       "                    <p style='text-align:right'>Indole + L-Serine --> H2O H2O + L-Tryptophan</p>\n",
       "                </td>\n",
       "            </tr><tr>\n",
       "                <td><strong>GPR</strong></td><td>WP_217999032_1 or ( WP_014232411_1 and WP_020335573_1 )</td>\n",
       "            </tr><tr>\n",
       "                <td><strong>Lower bound</strong></td><td>0.0</td>\n",
       "            </tr><tr>\n",
       "                <td><strong>Upper bound</strong></td><td>1000.0</td>\n",
       "            </tr>\n",
       "        </table>\n",
       "        "
      ],
      "text/plain": [
       "<Reaction TRPS2 at 0x1fc44814eb8>"
      ]
     },
     "execution_count": 39,
     "metadata": {},
     "output_type": "execute_result"
    }
   ],
   "source": [
    "modelv.reactions.TRPS2 # Reaction before L-trp to IPA Imine!"
   ]
  },
  {
   "cell_type": "markdown",
   "id": "ecc6cb16-db69-4ed8-97a2-aaddcdb50007",
   "metadata": {},
   "source": [
    "After finding the starting point of the violacein pathway, one has to make sure that the corresponding reactions to level Chlorines, hemo groups and pyruvate exist in this model. It is ensured that the model is properly balanced, and the species would not die. The side reactions can be found in *Side_reactions.ipynb*."
   ]
  },
  {
   "cell_type": "markdown",
   "id": "33e3c054-a66d-4ca3-970c-1e6b92eb83e9",
   "metadata": {},
   "source": [
    "Once everything is properly balanced, we start adding violacein production pathway."
   ]
  },
  {
   "cell_type": "markdown",
   "id": "7c6359cd-3140-402f-92f6-ae86b00e54ef",
   "metadata": {},
   "source": [
    "We define all metabolites used that are not included in *Vibrio Natrigens* model."
   ]
  },
  {
   "cell_type": "code",
   "execution_count": 40,
   "id": "4357ec07-8ecb-4b5f-93f6-731b2b31c12b",
   "metadata": {},
   "outputs": [],
   "source": [
    "# --- For violacein production ---\n",
    "ipa_c=Metabolite(id='ipa_c', formula='C11H10N2O2', name='2-Imino-3-(indol-3-yl)propanoate', compartment='c')\n",
    "ipa_dimer_c=Metabolite(id='ipa_dimer_c', compartment='c')\n",
    "ptdv_c=Metabolite(id='ptdv_c', formula='C21H15N3O2', name='Protodeoxyviolaceinate', compartment='c')\n",
    "ptv_c=Metabolite(id='ptv_c', formula='C21H15N3O3', name='Protoviolaceinate', compartment='c')\n",
    "va_c=Metabolite(id='va_c', formula='C21H15N3O4', name='Violaceinate', compartment='c')\n",
    "v_c=Metabolite(id='v_c', formula='C20H13N3O3', name='Violacein', compartment='c')\n",
    "# --- Side reactions ---\n",
    "cp_c=Metabolite(id='cp_c', formula='C22H15N3O4', name='Chromopyrrolate', compartment='c')\n",
    "dva_c=Metabolite(id='dva_c', formula='C21H15N3O3', name='Deoxyviolaceinate', compartment='c')\n",
    "dv_c=Metabolite(id='dv_c', formula='C20H13N3O2', name='Deoxyviolacein', compartment='c')\n",
    "pdv_c=Metabolite(id='pdv_c',formula='C20H13N3O', name='Prodeoxyviolacein', compartment='c')\n",
    "pv_c=Metabolite(id='pv_c',formula='C20H13N3O2', name='Proviolacein', compartment='c')"
   ]
  },
  {
   "cell_type": "markdown",
   "id": "33b778a3-5f98-4ee7-a35f-d066367a8a08",
   "metadata": {},
   "source": [
    "We build up every reaction from tryptophan to violacein."
   ]
  },
  {
   "cell_type": "code",
   "execution_count": 41,
   "id": "0e6b625d-1e0b-4123-9afe-0fde20fe96a6",
   "metadata": {},
   "outputs": [],
   "source": [
    "Reaction_VioA_FAD=Reaction('IPA_imine_VioA_FAD') # L-tryptophan + FAD <=> IPA imine + FADH2\n",
    "\n",
    "Reaction_VioA_FAD.add_metabolites({modelv.metabolites.trp__L_c: -1, # L-tryptophan\n",
    "                                 modelv.metabolites.fad_c: -1, # FAD\n",
    "                                 ipa_c: 1, # IPA imine\n",
    "                                 modelv.metabolites.fadh2_c: 1 # FADH2\n",
    "                                })"
   ]
  },
  {
   "cell_type": "code",
   "execution_count": 42,
   "id": "a8547827-865d-40cc-9227-fa6ea9b24ad0",
   "metadata": {},
   "outputs": [],
   "source": [
    "Reaction_VioA_O2=Reaction('IPA_imine_VioA_O2') # L-Tryptophan + Oxygen <=> IPA imine + Hydrogen peroxide\n",
    "\n",
    "Reaction_VioA_O2.add_metabolites({modelv.metabolites.trp__L_c: -1,   # L-tryptophan\n",
    "                                 modelv.metabolites.o2_c: -1,            # Oxygen\n",
    "                                 ipa_c: 1,                               # IPA imine\n",
    "                                 modelv.metabolites.h2o2_c: 1            # Hydrogen peroxide\n",
    "                                })"
   ]
  },
  {
   "cell_type": "code",
   "execution_count": 43,
   "id": "b8337ea2-154c-4ded-9733-218a2cdb448f",
   "metadata": {},
   "outputs": [],
   "source": [
    "Reaction_VioB=Reaction('IPA_imine_dimer_VioB') #  # 2 IPA imine + Fe2+ => IPA imine dimer + Fe3+ \n",
    "\n",
    "Reaction_VioB.add_metabolites({ipa_c: -2,               # IPA imine\n",
    "                                 modelv.metabolites.fe2_c: -1,    # Fe2+\n",
    "                                 ipa_dimer_c: 1,                  # IPA imine dimer\n",
    "                                 modelv.metabolites.fe3_c: 1      # Fe3+ \n",
    "                                })"
   ]
  },
  {
   "cell_type": "code",
   "execution_count": 44,
   "id": "c24ffb10-de63-44d5-af60-ab6327e0b261",
   "metadata": {},
   "outputs": [],
   "source": [
    "Reaction_Chromopyrrolate=Reaction('Chromopyrrolate') # IPA imine dimer <=> Chromopyrollic acid + NH3 \n",
    "\n",
    "Reaction_Chromopyrrolate.add_metabolites({ipa_dimer_c: -1,         # IPA imine\n",
    "                                 cp_c: 1,                   # Chromopyrollic acid\n",
    "                                 modelv.metabolites.nh3_c: 1       # NH3 \n",
    "                                })"
   ]
  },
  {
   "cell_type": "code",
   "execution_count": 45,
   "id": "9f25e4c4-b2d8-43fe-83ea-695f85bdd087",
   "metadata": {},
   "outputs": [],
   "source": [
    "Reaction_VioE=Reaction('Protodeoxyviolaceinate_VioE') # IPA imine dimer <=> Protodeoxyviolaceinic acid + CO2 + NH3\n",
    "\n",
    "Reaction_VioE.add_metabolites({ipa_dimer_c: -1,      # IPA imine dimer\n",
    "                                 modelv.metabolites.co2_c: 1,          # CO2\n",
    "                                 ptdv_c: 1,                            # Protodeoxyviolaceinic acid\n",
    "                                 modelv.metabolites.nh3_c: 1           # NH3 \n",
    "                                })"
   ]
  },
  {
   "cell_type": "code",
   "execution_count": 46,
   "id": "e6ffa7b1-38a8-47cb-a333-a13928ec92f4",
   "metadata": {},
   "outputs": [],
   "source": [
    "Reaction_Prodeoxyviolacein=Reaction('Prodeoxyviolacein') # Protodeoxyviolaceinic acid + O2 <=> Prodeoxyviolacein + CO2 +H2O\n",
    "\n",
    "Reaction_Prodeoxyviolacein.add_metabolites({ptdv_c: -1,                # Protodeoxyviolaceinic acid\n",
    "                                 modelv.metabolites.o2_c: -1,          # Oxygen         \n",
    "                                 pdv_c: 1,                             # Prodeoxyviolacein\n",
    "                                 modelv.metabolites.co2_c: 1,          # CO2\n",
    "                                 modelv.metabolites.h2o_c: 1           # H2O\n",
    "                                })"
   ]
  },
  {
   "cell_type": "code",
   "execution_count": 47,
   "id": "0b3598cd-be90-4ba3-9808-758908c02205",
   "metadata": {},
   "outputs": [],
   "source": [
    "Reaction_Deoxyviolaceinate_VioC=Reaction('Deoxyviolaceinate_VioC') # Protodeoxyviolaceinic acid + Oxygen + NADPH + H+ <=> Deoxyviolaceinic acid + NADP+ + H2O\n",
    "\n",
    "Reaction_Deoxyviolaceinate_VioC.add_metabolites({ptdv_c: -1,           # Protodeoxyviolaceinic acid\n",
    "                                 modelv.metabolites.nadph_c: -1,       # NADPH\n",
    "                                 modelv.metabolites.o2_c: -1,          # Oxygen\n",
    "                                 modelv.metabolites.h_c: -1,           # H+           \n",
    "                                 dva_c: 1,                             # Deoxyviolaceinic acid\n",
    "                                 modelv.metabolites.nadp_c: 1,         # NADP+\n",
    "                                 modelv.metabolites.h2o_c: 1           # H2O\n",
    "                                })"
   ]
  },
  {
   "cell_type": "code",
   "execution_count": 48,
   "id": "a11c033c-ddda-4c1b-8b0e-dd702e8cb7db",
   "metadata": {},
   "outputs": [],
   "source": [
    "Reaction_Deoxyviolacein=Reaction('Deoxyviolacein') # Deoxyviolaceinic acid + Oxygen <=> Deoxyviolacein + CO2 + H2O\n",
    "\n",
    "Reaction_Deoxyviolacein.add_metabolites({dva_c: -1,                    # Deoxyviolaceinic acid\n",
    "                                 modelv.metabolites.o2_c: -1,          # Oxygen         \n",
    "                                 dv_c: 1,                              # Deoxyviolacein\n",
    "                                 modelv.metabolites.co2_c: 1,          # CO2\n",
    "                                 modelv.metabolites.h2o_c: 1           # H2O\n",
    "                                })"
   ]
  },
  {
   "cell_type": "code",
   "execution_count": 49,
   "id": "ad3a0fe0-e629-44b8-a833-cc49b7593e74",
   "metadata": {},
   "outputs": [],
   "source": [
    "Reaction_VioD=Reaction('Protoviolaceinate_VioD') # Protodeoxyviolaceinic acid + NADPH + Oxygen + H+ <=> Protoviolaceinic acid + NADP+ + H2O\n",
    "\n",
    "Reaction_VioD.add_metabolites({ptdv_c: -1,                             # Protodeoxyviolaceinic acid\n",
    "                                 modelv.metabolites.nadph_c: -1,       # NADPH\n",
    "                                 modelv.metabolites.o2_c: -1,          # Oxygen\n",
    "                                 modelv.metabolites.h_c: -1,           # H+           \n",
    "                                 ptv_c: 1,                             # Protoviolaceinic acid\n",
    "                                 modelv.metabolites.nadp_c: 1,         # NADP+\n",
    "                                 modelv.metabolites.h2o_c: 1           # H2O\n",
    "                                })"
   ]
  },
  {
   "cell_type": "code",
   "execution_count": 50,
   "id": "062018e7-a759-4eb7-a095-7372b5b0941a",
   "metadata": {},
   "outputs": [],
   "source": [
    "Reaction_Proviolacein=Reaction('Proviolacein') # Protoviolaceinic acid + O2 = Proviolacein +CO2 + H2O\n",
    "\n",
    "Reaction_Proviolacein.add_metabolites({ptv_c: -1,                    # Protoviolaceinic acid\n",
    "                                 modelv.metabolites.o2_c: -1,          # Oxygen         \n",
    "                                 pv_c: 1,                              # Proviolacein\n",
    "                                 modelv.metabolites.co2_c: 1,          # CO2\n",
    "                                 modelv.metabolites.h2o_c: 1           # H2O\n",
    "                                })"
   ]
  },
  {
   "cell_type": "code",
   "execution_count": 51,
   "id": "ed703c75-a272-4945-90fb-def1f86acba6",
   "metadata": {},
   "outputs": [],
   "source": [
    "Reaction_Violaceinate_VioC=Reaction('Violaceinate') # Protoviolaceinic acid + Oxygen + NADPH + H+ <=> Violaceinic acid + NADP+ + H2O\n",
    "\n",
    "Reaction_Violaceinate_VioC.add_metabolites({ptv_c: -1,                 # Protoviolaceinic acid\n",
    "                                 modelv.metabolites.nadph_c: -1,       # NADPH\n",
    "                                 modelv.metabolites.o2_c: -1,          # Oxygen\n",
    "                                 modelv.metabolites.h_c: -1,           # H+           \n",
    "                                 va_c: 1,                              # Violaceinic acid\n",
    "                                 modelv.metabolites.nadp_c: 1,         # NADP+\n",
    "                                 modelv.metabolites.h2o_c: 1           # H2O\n",
    "                                })"
   ]
  },
  {
   "cell_type": "code",
   "execution_count": 52,
   "id": "92705b53-c5d4-4463-ac37-7bbba3d3f43c",
   "metadata": {},
   "outputs": [],
   "source": [
    "Reaction_VioD=Reaction('Protoviolaceinate_VioD') # Protodeoxyviolaceinic acid + NADPH + Oxygen + H+ <=> Protoviolaceinic acid + NADP+ + H2O\n",
    "\n",
    "Reaction_VioD.add_metabolites({ptdv_c: -1,                             # Protodeoxyviolaceinic acid\n",
    "                                 modelv.metabolites.nadph_c: -1,       # NADPH\n",
    "                                 modelv.metabolites.o2_c: -1,          # Oxygen\n",
    "                                 modelv.metabolites.h_c: -1,           # H+           \n",
    "                                 ptv_c: 1,                             # Protoviolaceinic acid\n",
    "                                 modelv.metabolites.nadp_c: 1,         # NADP+\n",
    "                                 modelv.metabolites.h2o_c: 1           # H2O\n",
    "                                })"
   ]
  },
  {
   "cell_type": "code",
   "execution_count": 53,
   "id": "0f082220-e8f3-4206-b654-d04369c42114",
   "metadata": {},
   "outputs": [],
   "source": [
    "Reaction_Proviolacein=Reaction('Proviolacein') # Protoviolaceinic acid + O2 = Proviolacein +CO2 + H2O\n",
    "\n",
    "Reaction_Proviolacein.add_metabolites({ptv_c: -1,                    # Protoviolaceinic acid\n",
    "                                 modelv.metabolites.o2_c: -1,          # Oxygen         \n",
    "                                 pv_c: 1,                              # Proviolacein\n",
    "                                 modelv.metabolites.co2_c: 1,          # CO2\n",
    "                                 modelv.metabolites.h2o_c: 1           # H2O\n",
    "                                })"
   ]
  },
  {
   "cell_type": "code",
   "execution_count": 54,
   "id": "5edb6b8b-a696-41df-85c0-b0e5941d5470",
   "metadata": {},
   "outputs": [],
   "source": [
    "Reaction_Violaceinate_VioC=Reaction('Violaceinate') # Protoviolaceinic acid + Oxygen + NADPH + H+ <=> Violaceinic acid + NADP+ + H2O\n",
    "\n",
    "Reaction_Violaceinate_VioC.add_metabolites({ptv_c: -1,                 # Protoviolaceinic acid\n",
    "                                 modelv.metabolites.nadph_c: -1,       # NADPH\n",
    "                                 modelv.metabolites.o2_c: -1,          # Oxygen\n",
    "                                 modelv.metabolites.h_c: -1,           # H+           \n",
    "                                 va_c: 1,                              # Violaceinic acid\n",
    "                                 modelv.metabolites.nadp_c: 1,         # NADP+\n",
    "                                 modelv.metabolites.h2o_c: 1           # H2O\n",
    "                                })"
   ]
  },
  {
   "cell_type": "code",
   "execution_count": 55,
   "id": "4a3d8bf1-c5a0-4b49-9b5f-9f989dd69d33",
   "metadata": {},
   "outputs": [],
   "source": [
    "Reaction_Violacein=Reaction('Violacein') # Violaceinic acid + Oxygen <=> Violacein + CO2 + H2O\n",
    "\n",
    "Reaction_Violacein.add_metabolites({va_c: -1,                          # Violaceinic acid\n",
    "                                 modelv.metabolites.o2_c: -1,          # Oxygen         \n",
    "                                 v_c: 1,                               # Violacein\n",
    "                                 modelv.metabolites.co2_c: 1,          # CO2\n",
    "                                 modelv.metabolites.h2o_c: 1           # H2O\n",
    "                                })"
   ]
  },
  {
   "cell_type": "markdown",
   "id": "06020ee4-c399-4830-8275-10382d27ecb9",
   "metadata": {},
   "source": [
    "All reactions must be added to the model."
   ]
  },
  {
   "cell_type": "code",
   "execution_count": 56,
   "id": "4c46dcb7-c240-4055-990a-65b60c33ad14",
   "metadata": {},
   "outputs": [],
   "source": [
    "# modelv.add_reactions([Reaction_VioA_O2]) or modelv.add_reactions([Reaction_VioA_FAD]) WE SHOULD DECIDE WHICH TO USE!!!!!\n",
    "modelv.add_reactions([Reaction_VioA_O2])\n",
    "modelv.add_reactions([Reaction_VioB])\n",
    "modelv.add_reactions([Reaction_Chromopyrrolate])\n",
    "modelv.add_reactions([Reaction_VioE])\n",
    "modelv.add_reactions([Reaction_Prodeoxyviolacein])\n",
    "modelv.add_reactions([Reaction_Deoxyviolaceinate_VioC])\n",
    "modelv.add_reactions([Reaction_Deoxyviolacein])\n",
    "modelv.add_reactions([Reaction_VioD])\n",
    "modelv.add_reactions([Reaction_Proviolacein])\n",
    "modelv.add_reactions([Reaction_Violaceinate_VioC])\n",
    "modelv.add_reactions([Reaction_Violacein])"
   ]
  },
  {
   "cell_type": "markdown",
   "id": "d3ef60d5-d424-4b11-83be-81f2dcda2bc7",
   "metadata": {},
   "source": [
    "The new model including violacein pathway is stored in Models folder."
   ]
  },
  {
   "cell_type": "code",
   "execution_count": 57,
   "id": "098d188a-b6ef-4df8-89bd-3c39e75c144f",
   "metadata": {},
   "outputs": [],
   "source": [
    "# Idented to avoid writing over the file every time. At the end of the project we should unident it :)\n",
    "\n",
    "# write_sbml_model(modelv,\"Models/model_violacein_o2.xml\")"
   ]
  },
  {
   "cell_type": "markdown",
   "id": "ba9ad14a-24f4-4810-a68f-464aafa97edb",
   "metadata": {},
   "source": [
    "The following step one must do is changing the objective of the model."
   ]
  },
  {
   "cell_type": "markdown",
   "id": "b365be1b-fb83-438c-9df3-90904f678c20",
   "metadata": {},
   "source": [
    "Making sure boundaries are set correctly:"
   ]
  },
  {
   "cell_type": "code",
   "execution_count": 58,
   "id": "1a9fff41-d042-4a52-b62e-ccedc6c20c1f",
   "metadata": {},
   "outputs": [
    {
     "data": {
      "text/plain": [
       "(0.0, 1000.0)"
      ]
     },
     "execution_count": 58,
     "metadata": {},
     "output_type": "execute_result"
    }
   ],
   "source": [
    "modelv.reactions.Violacein.bounds"
   ]
  },
  {
   "cell_type": "code",
   "execution_count": 59,
   "id": "045ad889-9194-42a4-a1a0-3900e4f27b74",
   "metadata": {},
   "outputs": [
    {
     "data": {
      "text/plain": [
       "(0.0, 1000.0)"
      ]
     },
     "execution_count": 59,
     "metadata": {},
     "output_type": "execute_result"
    }
   ],
   "source": [
    "modelv.reactions.Deoxyviolacein.bounds"
   ]
  },
  {
   "cell_type": "code",
   "execution_count": 60,
   "id": "bc3eaaa6-c34f-460a-a1ee-c1fe873f942a",
   "metadata": {},
   "outputs": [
    {
     "data": {
      "text/plain": [
       "(0.0, 1000.0)"
      ]
     },
     "execution_count": 60,
     "metadata": {},
     "output_type": "execute_result"
    }
   ],
   "source": [
    "modelv.reactions.Prodeoxyviolacein.bounds"
   ]
  },
  {
   "cell_type": "code",
   "execution_count": 61,
   "id": "678906c4-2f5d-4547-83f1-9427a66ba1ea",
   "metadata": {},
   "outputs": [
    {
     "data": {
      "text/plain": [
       "(0.0, 1000.0)"
      ]
     },
     "execution_count": 61,
     "metadata": {},
     "output_type": "execute_result"
    }
   ],
   "source": [
    "modelv.reactions.Proviolacein.bounds"
   ]
  },
  {
   "cell_type": "markdown",
   "id": "43e55cf4-36f7-4f18-b0ab-12e7909c1a02",
   "metadata": {},
   "source": [
    "What metabolites are sinks or demands?"
   ]
  },
  {
   "cell_type": "code",
   "execution_count": 62,
   "id": "291ebf97-a365-431f-a83e-6f8503cd3fa4",
   "metadata": {},
   "outputs": [
    {
     "data": {
      "text/plain": [
       "[<Reaction sink_2ohph_c at 0x1fc44982dd8>,\n",
       " <Reaction sink_4crsol_c at 0x1fc44982518>,\n",
       " <Reaction sink_4hba_c at 0x1fc44982b38>,\n",
       " <Reaction sink_aacald_c at 0x1fc44990780>,\n",
       " <Reaction sink_amob_c at 0x1fc44990080>,\n",
       " <Reaction sink_hemeO_c at 0x1fc44990668>,\n",
       " <Reaction sink_mobd_c at 0x1fc44990898>,\n",
       " <Reaction sink_sheme_c at 0x1fc449904e0>]"
      ]
     },
     "execution_count": 62,
     "metadata": {},
     "output_type": "execute_result"
    }
   ],
   "source": [
    "modelv.sinks"
   ]
  },
  {
   "cell_type": "code",
   "execution_count": 63,
   "id": "2409e380-0635-4f81-9cf6-7b4ee456f251",
   "metadata": {},
   "outputs": [
    {
     "data": {
      "text/plain": [
       "[]"
      ]
     },
     "execution_count": 63,
     "metadata": {},
     "output_type": "execute_result"
    }
   ],
   "source": [
    "modelv.demands"
   ]
  },
  {
   "cell_type": "markdown",
   "id": "9f015289-f64e-44ea-9e7d-d5b928d3cdaf",
   "metadata": {},
   "source": [
    "Setting the type of boundaries to \"demand\" for Violacein, Deoxyviolacein, Prodeoxyviolacein and Proviolacein:"
   ]
  },
  {
   "cell_type": "code",
   "execution_count": 64,
   "id": "87f8a2d5-2f32-4cd3-946b-cfcf94074748",
   "metadata": {},
   "outputs": [
    {
     "data": {
      "text/html": [
       "\n",
       "        <table>\n",
       "            <tr>\n",
       "                <td><strong>Reaction identifier</strong></td><td>DM_v_c</td>\n",
       "            </tr><tr>\n",
       "                <td><strong>Name</strong></td><td>Violacein demand</td>\n",
       "            </tr><tr>\n",
       "                <td><strong>Memory address</strong></td>\n",
       "                <td>0x01fc44990400</td>\n",
       "            </tr><tr>\n",
       "                <td><strong>Stoichiometry</strong></td>\n",
       "                <td>\n",
       "                    <p style='text-align:right'>v_c --></p>\n",
       "                    <p style='text-align:right'>Violacein --></p>\n",
       "                </td>\n",
       "            </tr><tr>\n",
       "                <td><strong>GPR</strong></td><td></td>\n",
       "            </tr><tr>\n",
       "                <td><strong>Lower bound</strong></td><td>0</td>\n",
       "            </tr><tr>\n",
       "                <td><strong>Upper bound</strong></td><td>1000.0</td>\n",
       "            </tr>\n",
       "        </table>\n",
       "        "
      ],
      "text/plain": [
       "<Reaction DM_v_c at 0x1fc44990400>"
      ]
     },
     "execution_count": 64,
     "metadata": {},
     "output_type": "execute_result"
    }
   ],
   "source": [
    "modelv.add_boundary(modelv.metabolites.get_by_id(\"v_c\"), type=\"demand\")"
   ]
  },
  {
   "cell_type": "code",
   "execution_count": 65,
   "id": "ae838d6b-7622-4abd-81b1-d29cc07c8d5a",
   "metadata": {},
   "outputs": [
    {
     "data": {
      "text/html": [
       "\n",
       "        <table>\n",
       "            <tr>\n",
       "                <td><strong>Reaction identifier</strong></td><td>DM_pdv_c</td>\n",
       "            </tr><tr>\n",
       "                <td><strong>Name</strong></td><td>Prodeoxyviolacein demand</td>\n",
       "            </tr><tr>\n",
       "                <td><strong>Memory address</strong></td>\n",
       "                <td>0x01fc44a4c198</td>\n",
       "            </tr><tr>\n",
       "                <td><strong>Stoichiometry</strong></td>\n",
       "                <td>\n",
       "                    <p style='text-align:right'>pdv_c --></p>\n",
       "                    <p style='text-align:right'>Prodeoxyviolacein --></p>\n",
       "                </td>\n",
       "            </tr><tr>\n",
       "                <td><strong>GPR</strong></td><td></td>\n",
       "            </tr><tr>\n",
       "                <td><strong>Lower bound</strong></td><td>0</td>\n",
       "            </tr><tr>\n",
       "                <td><strong>Upper bound</strong></td><td>1000.0</td>\n",
       "            </tr>\n",
       "        </table>\n",
       "        "
      ],
      "text/plain": [
       "<Reaction DM_pdv_c at 0x1fc44a4c198>"
      ]
     },
     "execution_count": 65,
     "metadata": {},
     "output_type": "execute_result"
    }
   ],
   "source": [
    "modelv.add_boundary(modelv.metabolites.get_by_id(\"pdv_c\"), type=\"demand\")"
   ]
  },
  {
   "cell_type": "code",
   "execution_count": 66,
   "id": "631b002a-1d91-453e-89d1-b87153559d66",
   "metadata": {},
   "outputs": [
    {
     "data": {
      "text/html": [
       "\n",
       "        <table>\n",
       "            <tr>\n",
       "                <td><strong>Reaction identifier</strong></td><td>DM_dv_c</td>\n",
       "            </tr><tr>\n",
       "                <td><strong>Name</strong></td><td>Deoxyviolacein demand</td>\n",
       "            </tr><tr>\n",
       "                <td><strong>Memory address</strong></td>\n",
       "                <td>0x01fc44a4c4a8</td>\n",
       "            </tr><tr>\n",
       "                <td><strong>Stoichiometry</strong></td>\n",
       "                <td>\n",
       "                    <p style='text-align:right'>dv_c --></p>\n",
       "                    <p style='text-align:right'>Deoxyviolacein --></p>\n",
       "                </td>\n",
       "            </tr><tr>\n",
       "                <td><strong>GPR</strong></td><td></td>\n",
       "            </tr><tr>\n",
       "                <td><strong>Lower bound</strong></td><td>0</td>\n",
       "            </tr><tr>\n",
       "                <td><strong>Upper bound</strong></td><td>1000.0</td>\n",
       "            </tr>\n",
       "        </table>\n",
       "        "
      ],
      "text/plain": [
       "<Reaction DM_dv_c at 0x1fc44a4c4a8>"
      ]
     },
     "execution_count": 66,
     "metadata": {},
     "output_type": "execute_result"
    }
   ],
   "source": [
    "modelv.add_boundary(modelv.metabolites.get_by_id(\"dv_c\"), type=\"demand\")"
   ]
  },
  {
   "cell_type": "code",
   "execution_count": 67,
   "id": "a48596b9-2e4a-42c2-88b0-cedefac9067a",
   "metadata": {},
   "outputs": [
    {
     "data": {
      "text/html": [
       "\n",
       "        <table>\n",
       "            <tr>\n",
       "                <td><strong>Reaction identifier</strong></td><td>DM_pv_c</td>\n",
       "            </tr><tr>\n",
       "                <td><strong>Name</strong></td><td>Proviolacein demand</td>\n",
       "            </tr><tr>\n",
       "                <td><strong>Memory address</strong></td>\n",
       "                <td>0x01fc44a3db70</td>\n",
       "            </tr><tr>\n",
       "                <td><strong>Stoichiometry</strong></td>\n",
       "                <td>\n",
       "                    <p style='text-align:right'>pv_c --></p>\n",
       "                    <p style='text-align:right'>Proviolacein --></p>\n",
       "                </td>\n",
       "            </tr><tr>\n",
       "                <td><strong>GPR</strong></td><td></td>\n",
       "            </tr><tr>\n",
       "                <td><strong>Lower bound</strong></td><td>0</td>\n",
       "            </tr><tr>\n",
       "                <td><strong>Upper bound</strong></td><td>1000.0</td>\n",
       "            </tr>\n",
       "        </table>\n",
       "        "
      ],
      "text/plain": [
       "<Reaction DM_pv_c at 0x1fc44a3db70>"
      ]
     },
     "execution_count": 67,
     "metadata": {},
     "output_type": "execute_result"
    }
   ],
   "source": [
    "modelv.add_boundary(modelv.metabolites.get_by_id(\"pv_c\"), type=\"demand\")"
   ]
  },
  {
   "cell_type": "code",
   "execution_count": 68,
   "id": "e6332904-3e2a-468a-9430-e9450d9456c6",
   "metadata": {},
   "outputs": [
    {
     "name": "stdout",
     "output_type": "stream",
     "text": [
      "<bound method Model.optimize of <Model Vibrio_natriegens_ATCC_14048_LB at 0x1fc427fc748>>\n",
      "Max. violacein production [mmol gDW^-1 h^-1]: 2.5\n"
     ]
    }
   ],
   "source": [
    "with modelv:\n",
    "    modelv.objective = modelv.reactions.Violacein\n",
    "    print(modelv.optimize)\n",
    "    violacein_production = modelv.optimize().objective_value\n",
    "    \n",
    "    print('Max. violacein production [mmol gDW^-1 h^-1]:',violacein_production)"
   ]
  },
  {
   "cell_type": "markdown",
   "id": "1331411b-938f-4bb3-85cf-8601f6255a39",
   "metadata": {},
   "source": [
    "The maximum production rate of violacein in *V. natriegens* with the violacein pathway from *V. campbellii* is 1.629 mmol gDW-1 h-1"
   ]
  },
  {
   "cell_type": "code",
   "execution_count": null,
   "id": "ebb31292-ee4e-4deb-ba5f-c42939ac74a6",
   "metadata": {},
   "outputs": [],
   "source": []
  }
 ],
 "metadata": {
  "kernelspec": {
   "display_name": "Python 3",
   "language": "python",
   "name": "python3"
  },
  "language_info": {
   "codemirror_mode": {
    "name": "ipython",
    "version": 3
   },
   "file_extension": ".py",
   "mimetype": "text/x-python",
   "name": "python",
   "nbconvert_exporter": "python",
   "pygments_lexer": "ipython3",
   "version": "3.6.13"
  }
 },
 "nbformat": 4,
 "nbformat_minor": 5
}
