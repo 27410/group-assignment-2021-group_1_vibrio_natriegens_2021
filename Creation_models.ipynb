{
 "cells": [
  {
   "cell_type": "markdown",
   "id": "3d53c88b",
   "metadata": {},
   "source": [
    "## CREATION OF MODELS: Vibrio Natrigens with M9 or LB"
   ]
  },
  {
   "cell_type": "markdown",
   "id": "dbd27120-a23e-4674-9944-bcf18263fe85",
   "metadata": {},
   "source": [
    "Loading the library:"
   ]
  },
  {
   "cell_type": "code",
   "execution_count": 8,
   "id": "3d4e51eb",
   "metadata": {},
   "outputs": [],
   "source": [
    "from cobra.io import read_sbml_model"
   ]
  },
  {
   "cell_type": "markdown",
   "id": "abeb11a5-9128-4390-a0d4-abcc8634de31",
   "metadata": {},
   "source": [
    "### Creating model with M9 media"
   ]
  },
  {
   "cell_type": "code",
   "execution_count": 4,
   "id": "481b5e2d",
   "metadata": {},
   "outputs": [
    {
     "name": "stdout",
     "output_type": "stream",
     "text": [
      "zsh:1: command not found: carve\n"
     ]
    }
   ],
   "source": [
    "!carve --refseq GCF_001456255.1 --output Models/model_VN_M9.xml --gapfill M9 --init M9"
   ]
  },
  {
   "cell_type": "code",
   "execution_count": 4,
   "id": "94820e0d",
   "metadata": {},
   "outputs": [],
   "source": [
    "modelM9=read_sbml_model('Models/model_VN_M9.xml')"
   ]
  },
  {
   "cell_type": "code",
   "execution_count": 5,
   "id": "4c68e2f0",
   "metadata": {},
   "outputs": [
    {
     "name": "stdout",
     "output_type": "stream",
     "text": [
      "Maximal growth rate of Vibrio natriegens in M9 medium 0.7188575696969663\n"
     ]
    }
   ],
   "source": [
    "print(\"Maximal growth rate of Vibrio natriegens in M9 medium\", modelM9.optimize().objective_value)"
   ]
  },
  {
   "cell_type": "markdown",
   "id": "ba141e3b-498a-4552-9072-67209ce8fdda",
   "metadata": {},
   "source": [
    "### Creating model with LB media"
   ]
  },
  {
   "cell_type": "code",
   "execution_count": 5,
   "id": "54845131",
   "metadata": {},
   "outputs": [
    {
     "name": "stdout",
     "output_type": "stream",
     "text": [
      "File exists, skipping.\n"
     ]
    }
   ],
   "source": [
    "!carve --refseq GCF_001456255.1 --output Models/model_VN_LB.xml --gapfill LB --init LB"
   ]
  },
  {
   "cell_type": "code",
   "execution_count": 6,
   "id": "98a35795",
   "metadata": {},
   "outputs": [],
   "source": [
    "modelLB=read_sbml_model('Models/model_VN_LB.xml')"
   ]
  },
  {
   "cell_type": "code",
   "execution_count": 7,
   "id": "8e1d8689",
   "metadata": {},
   "outputs": [
    {
     "name": "stdout",
     "output_type": "stream",
     "text": [
      "Maximal growth rate of Vibrio natriegens in LB medium 2.8405970205438997\n"
     ]
    }
   ],
   "source": [
    "print(\"Maximal growth rate of Vibrio natriegens in LB medium\", modelLB.optimize().objective_value)"
   ]
  }
 ],
 "metadata": {
  "kernelspec": {
   "display_name": "Python 3",
   "language": "python",
   "name": "python3"
  },
  "language_info": {
   "codemirror_mode": {
    "name": "ipython",
    "version": 3
   },
   "file_extension": ".py",
   "mimetype": "text/x-python",
   "name": "python",
   "nbconvert_exporter": "python",
   "pygments_lexer": "ipython3",
   "version": "3.6.13"
  }
 },
 "nbformat": 4,
 "nbformat_minor": 5
}
