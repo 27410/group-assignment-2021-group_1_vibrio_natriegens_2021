{
 "cells": [
  {
   "cell_type": "markdown",
   "id": "4c365980-6b88-4dda-a77e-e1139da8d54f",
   "metadata": {},
   "source": [
    "## CREATION OF MODELS WITH M9 AND LB\n",
    " This should be added to report and this file deleted"
   ]
  },
  {
   "cell_type": "code",
   "execution_count": null,
   "id": "dc70e337-6bf5-448c-92bc-f16cec7a7ef2",
   "metadata": {},
   "outputs": [],
   "source": [
    "!carve --refseq GCF_001456255.1 --output Models/model_VN_M9.xml --gapfill M9 --init M9"
   ]
  },
  {
   "cell_type": "code",
   "execution_count": null,
   "id": "0ec886cd-fe2a-48d9-8e15-b807b6fc5857",
   "metadata": {},
   "outputs": [],
   "source": [
    "print(\"Maximal growth rate of Vibrio natriegens in M9 medium\", modelv.optimize().objective_value)"
   ]
  },
  {
   "cell_type": "code",
   "execution_count": null,
   "id": "df58d23a-5eb4-4173-98cf-ffd06fdb62d1",
   "metadata": {},
   "outputs": [],
   "source": []
  },
  {
   "cell_type": "code",
   "execution_count": null,
   "id": "4d3405ca-083c-4c74-bbbc-cba866536d9c",
   "metadata": {},
   "outputs": [],
   "source": [
    "!carve --refseq GCF_001456255.1 --output Models/model_VN_LB.xml --gapfill LB --init LB"
   ]
  },
  {
   "cell_type": "code",
   "execution_count": null,
   "id": "a63a0eba-04e0-4ae7-8642-f3e7c4757eb1",
   "metadata": {},
   "outputs": [],
   "source": [
    "print(\"Maximal growth rate of Vibrio natriegens in LB medium\", modelv.optimize().objective_value)"
   ]
  },
  {
   "cell_type": "code",
   "execution_count": null,
   "id": "dc166f47-27e4-42c6-bbdf-49d62feb7eb8",
   "metadata": {},
   "outputs": [],
   "source": []
  },
  {
   "cell_type": "code",
   "execution_count": null,
   "id": "1ec5cf92-d94a-4107-9972-8e6ed4b48847",
   "metadata": {},
   "outputs": [],
   "source": [
    "!carve --refseq xxxxxx --output Models/model_EColi.xml --gapfill XX --init XX"
   ]
  },
  {
   "cell_type": "code",
   "execution_count": null,
   "id": "e6c09554-fb40-462c-887f-c5efbef194fe",
   "metadata": {},
   "outputs": [],
   "source": [
    "print(\"Maximal growth rate of Escherichia Coli in XX medium\", modelv.optimize().objective_value)"
   ]
  }
 ],
 "metadata": {
  "kernelspec": {
   "display_name": "Python 3 (ipykernel)",
   "language": "python",
   "name": "python3"
  },
  "language_info": {
   "codemirror_mode": {
    "name": "ipython",
    "version": 3
   },
   "file_extension": ".py",
   "mimetype": "text/x-python",
   "name": "python",
   "nbconvert_exporter": "python",
   "pygments_lexer": "ipython3",
   "version": "3.8.11"
  }
 },
 "nbformat": 4,
 "nbformat_minor": 5
}
