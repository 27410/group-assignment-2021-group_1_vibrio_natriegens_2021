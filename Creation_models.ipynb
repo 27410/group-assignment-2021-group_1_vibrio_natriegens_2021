{
 "cells": [
  {
   "cell_type": "markdown",
   "id": "4c365980-6b88-4dda-a77e-e1139da8d54f",
   "metadata": {},
   "source": [
    "## CREATION OF MODELS WITH M9 AND LB\n",
    " This should be added to report and this file deleted"
   ]
  },
  {
   "cell_type": "code",
   "execution_count": 1,
   "id": "0d99fd8b-a424-45d3-a0f5-3bf2e8101311",
   "metadata": {},
   "outputs": [],
   "source": [
    "from cobra.io import read_sbml_model"
   ]
  },
  {
   "cell_type": "code",
   "execution_count": 2,
   "id": "dc70e337-6bf5-448c-92bc-f16cec7a7ef2",
   "metadata": {},
   "outputs": [],
   "source": [
    "!carve --refseq GCF_001456255.1 --output Models/model_VN_M9.xml --gapfill M9 --init M9"
   ]
  },
  {
   "cell_type": "code",
   "execution_count": 3,
   "id": "557683a8-28b6-4f3d-aa4e-d2caa3eab37d",
   "metadata": {},
   "outputs": [],
   "source": [
    "modelM9=read_sbml_model('Models/model_VN_M9.xml')"
   ]
  },
  {
   "cell_type": "code",
   "execution_count": 4,
   "id": "0ec886cd-fe2a-48d9-8e15-b807b6fc5857",
   "metadata": {},
   "outputs": [
    {
     "name": "stdout",
     "output_type": "stream",
     "text": [
      "Maximal growth rate of Vibrio natriegens in M9 medium 0.7188575696969663\n"
     ]
    }
   ],
   "source": [
    "print(\"Maximal growth rate of Vibrio natriegens in M9 medium\", modelM9.optimize().objective_value)"
   ]
  },
  {
   "cell_type": "code",
   "execution_count": 5,
   "id": "4d3405ca-083c-4c74-bbbc-cba866536d9c",
   "metadata": {},
   "outputs": [
    {
     "name": "stdout",
     "output_type": "stream",
     "text": [
      "File exists, skipping.\n"
     ]
    }
   ],
   "source": [
    "!carve --refseq GCF_001456255.1 --output Models/model_VN_LB.xml --gapfill LB --init LB"
   ]
  },
  {
   "cell_type": "code",
   "execution_count": 6,
   "id": "4bfb0075-cfc8-4676-a988-f629752eac21",
   "metadata": {},
   "outputs": [],
   "source": [
    "modelLB=read_sbml_model('Models/model_VN_LB.xml')"
   ]
  },
  {
   "cell_type": "code",
   "execution_count": 7,
   "id": "a63a0eba-04e0-4ae7-8642-f3e7c4757eb1",
   "metadata": {},
   "outputs": [
    {
     "name": "stdout",
     "output_type": "stream",
     "text": [
      "Maximal growth rate of Vibrio natriegens in LB medium 2.8405970205438997\n"
     ]
    }
   ],
   "source": [
    "print(\"Maximal growth rate of Vibrio natriegens in LB medium\", modelLB.optimize().objective_value)"
   ]
  },
  {
   "cell_type": "code",
   "execution_count": null,
   "id": "d2f43486-e642-4845-ba9a-424d0f637d56",
   "metadata": {},
   "outputs": [],
   "source": [
    "# We need to find info for E.Coli"
   ]
  },
  {
   "cell_type": "code",
   "execution_count": 10,
   "id": "1ec5cf92-d94a-4107-9972-8e6ed4b48847",
   "metadata": {},
   "outputs": [],
   "source": [
    "#!carve --refseq xxxxxx --output Models/model_EColi.xml --gapfill XX --init XX"
   ]
  },
  {
   "cell_type": "code",
   "execution_count": 11,
   "id": "e6c09554-fb40-462c-887f-c5efbef194fe",
   "metadata": {},
   "outputs": [],
   "source": [
    "#print(\"Maximal growth rate of Escherichia Coli in XX medium\", modelv.optimize().objective_value)"
   ]
  }
 ],
 "metadata": {
  "kernelspec": {
   "display_name": "Python 3",
   "language": "python",
   "name": "python3"
  },
  "language_info": {
   "codemirror_mode": {
    "name": "ipython",
    "version": 3
   },
   "file_extension": ".py",
   "mimetype": "text/x-python",
   "name": "python",
   "nbconvert_exporter": "python",
   "pygments_lexer": "ipython3",
   "version": "3.6.13"
  }
 },
 "nbformat": 4,
 "nbformat_minor": 5
}
