{
 "cells": [
  {
   "cell_type": "code",
   "execution_count": 1,
   "id": "f66caf12-dcbc-45f1-842b-31d20b2c5897",
   "metadata": {},
   "outputs": [],
   "source": [
    "from cobra import Reaction, Metabolite\n",
    "from cobra.io import read_sbml_model\n",
    "from cobra.io import write_sbml_model"
   ]
  },
  {
   "cell_type": "code",
   "execution_count": 4,
   "id": "be0b2b6d-fa2b-4bf9-9aed-19cd834c7e61",
   "metadata": {},
   "outputs": [],
   "source": [
    "modelv=read_sbml_model('Models/Vibrio-natriegens-ATCC_14048-M9.xml')"
   ]
  },
  {
   "cell_type": "markdown",
   "id": "f7e585b1-f366-44fa-9be4-2ec0b7d005a9",
   "metadata": {},
   "source": [
    "First, we look for the names corresponding to the metabolites belonging to the violacein pathway."
   ]
  },
  {
   "cell_type": "code",
   "execution_count": 63,
   "id": "3f2b1757-1c46-43a5-aa29-cadac4fd806c",
   "metadata": {},
   "outputs": [
    {
     "data": {
      "text/html": [
       "\n",
       "        <table>\n",
       "            <tr>\n",
       "                <td><strong>Reaction identifier</strong></td><td>TRPS2</td>\n",
       "            </tr><tr>\n",
       "                <td><strong>Name</strong></td><td>Tryptophan synthase (indole)</td>\n",
       "            </tr><tr>\n",
       "                <td><strong>Memory address</strong></td>\n",
       "                <td>0x07feee9e12630</td>\n",
       "            </tr><tr>\n",
       "                <td><strong>Stoichiometry</strong></td>\n",
       "                <td>\n",
       "                    <p style='text-align:right'>indole_c + ser__L_c --> h2o_c + trp__L_c</p>\n",
       "                    <p style='text-align:right'>Indole + L-Serine --> H2O + L-Tryptophan</p>\n",
       "                </td>\n",
       "            </tr><tr>\n",
       "                <td><strong>GPR</strong></td><td>WP_020335269_1 or ( WP_014232411_1 and WP_020335573_1 )</td>\n",
       "            </tr><tr>\n",
       "                <td><strong>Lower bound</strong></td><td>0.0</td>\n",
       "            </tr><tr>\n",
       "                <td><strong>Upper bound</strong></td><td>1000.0</td>\n",
       "            </tr>\n",
       "        </table>\n",
       "        "
      ],
      "text/plain": [
       "<Reaction TRPS2 at 0x7feee9e12630>"
      ]
     },
     "execution_count": 63,
     "metadata": {},
     "output_type": "execute_result"
    }
   ],
   "source": [
    "modelv.reactions.TRPS2 # Reaction before L-trp to IPA Imine!"
   ]
  },
  {
   "cell_type": "code",
   "execution_count": 65,
   "id": "8168def8-2199-411b-ad33-aff947971fd3",
   "metadata": {},
   "outputs": [
    {
     "data": {
      "text/html": [
       "\n",
       "        <table>\n",
       "            <tr>\n",
       "                <td><strong>Reaction identifier</strong></td><td>TRPTA</td>\n",
       "            </tr><tr>\n",
       "                <td><strong>Name</strong></td><td>Tryptophan transaminase</td>\n",
       "            </tr><tr>\n",
       "                <td><strong>Memory address</strong></td>\n",
       "                <td>0x07feee9e12f98</td>\n",
       "            </tr><tr>\n",
       "                <td><strong>Stoichiometry</strong></td>\n",
       "                <td>\n",
       "                    <p style='text-align:right'>akg_c + trp__L_c <=> glu__L_c + indpyr_c</p>\n",
       "                    <p style='text-align:right'>2-Oxoglutarate + L-Tryptophan <=> L-Glutamate + Indolepyruvate C11H8NO3</p>\n",
       "                </td>\n",
       "            </tr><tr>\n",
       "                <td><strong>GPR</strong></td><td>WP_014230455_1 or WP_020335346_1 or WP_024372629_1 or WP_024372863_1</td>\n",
       "            </tr><tr>\n",
       "                <td><strong>Lower bound</strong></td><td>-1000.0</td>\n",
       "            </tr><tr>\n",
       "                <td><strong>Upper bound</strong></td><td>1000.0</td>\n",
       "            </tr>\n",
       "        </table>\n",
       "        "
      ],
      "text/plain": [
       "<Reaction TRPTA at 0x7feee9e12f98>"
      ]
     },
     "execution_count": 65,
     "metadata": {},
     "output_type": "execute_result"
    }
   ],
   "source": [
    "modelv.reactions.TRPTA # L-trp consumption (does it matter?)"
   ]
  },
  {
   "cell_type": "code",
   "execution_count": null,
   "id": "fd72b32b-92ac-40b1-960d-37158dc5508b",
   "metadata": {},
   "outputs": [],
   "source": []
  }
 ],
 "metadata": {
  "kernelspec": {
   "display_name": "Python 3",
   "language": "python",
   "name": "python3"
  },
  "language_info": {
   "codemirror_mode": {
    "name": "ipython",
    "version": 3
   },
   "file_extension": ".py",
   "mimetype": "text/x-python",
   "name": "python",
   "nbconvert_exporter": "python",
   "pygments_lexer": "ipython3",
   "version": "3.6.13"
  }
 },
 "nbformat": 4,
 "nbformat_minor": 5
}
