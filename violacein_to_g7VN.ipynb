{
 "cells": [
  {
   "cell_type": "code",
   "execution_count": 1,
   "id": "42644b54-a339-4f55-8875-4217335bec69",
   "metadata": {},
   "outputs": [],
   "source": [
    "from cobra import Reaction, Metabolite\n",
    "from cobra.io import read_sbml_model\n",
    "from cobra.io import write_sbml_model"
   ]
  },
  {
   "cell_type": "code",
   "execution_count": 2,
   "id": "8ee1fe16-3942-47bd-be6b-8cc70fd9c900",
   "metadata": {},
   "outputs": [],
   "source": [
    "modelg7_violacein=read_sbml_model('Models/modelg7.xml')"
   ]
  },
  {
   "cell_type": "markdown",
   "id": "35776479-4458-4d61-80a7-86283584da7d",
   "metadata": {},
   "source": [
    "First, we look for the names corresponding to the metabolites belonging to the violacein pathway."
   ]
  }
 ],
 "metadata": {
  "kernelspec": {
   "display_name": "Python 3",
   "language": "python",
   "name": "python3"
  },
  "language_info": {
   "codemirror_mode": {
    "name": "ipython",
    "version": 3
   },
   "file_extension": ".py",
   "mimetype": "text/x-python",
   "name": "python",
   "nbconvert_exporter": "python",
   "pygments_lexer": "ipython3",
   "version": "3.6.13"
  }
 },
 "nbformat": 4,
 "nbformat_minor": 5
}
