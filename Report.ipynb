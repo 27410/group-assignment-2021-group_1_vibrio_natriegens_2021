{
 "cells": [
  {
   "cell_type": "markdown",
   "metadata": {},
   "source": [
    "# GSM reconstruction for *Vibrio Natrigens* producing Violacein"
   ]
  },
  {
   "cell_type": "markdown",
   "metadata": {},
   "source": [
    "## 1. Introduction"
   ]
  },
  {
   "cell_type": "markdown",
   "metadata": {},
   "source": [
    "### 1.1 Literature review of the compound (<500 words)\n",
    "\n",
    "Violacein is a bisindole water-insoluble purple pigment, which recently has gained a lot of attention from scientists as it possesses antibacterial abilities [Füller et al.]. Violacein is mainly produced by the bacteria Chromobacterium violaceum and Janthinobacterium lividum, yet many different bacteria encompassing various genera and habitats produce violacein. Consequently, it is difficult to assess the main biological and ecological role of violacein [Choi et al.]. However, as Chromobacterium violaceum and Janthinobacterium lividum have their natural habitat in common, living primarily in tropical habitats, one theory of violacein’s main biological role is to protect these bacteria from UV radiation [Füller et al.]. \n",
    "\n",
    "Violacein has been found to have strong antibacterial properties and are particularly strong towards Gram-positive bacterial strains and have been found to inhibit Staphylococcus aureus growth at concentrations between 5.7 and 15 mg/L, a very promising result as S. aureus is a known multidrug resistant pathogen [Choi et al.]. However, violacein biological activity is not limited to prokaryotes. It has also been found to have negative effects bacteriovorus protozoans and metazoans. Additionally, administering violacein in a combination with other antibiotics enhances the overall impact on the bacteria. \n",
    "\n",
    "Additionally, to being able to fight bacterial infections, violacein also have potential as a cancer therapeutic. This has been demonstrated in vitro by violacein’s ability to induce apoptosis in HL60 cells, which is a cell line model of myeloid leukemia, without affecting the normal lymphocytes. These results are further asserted by an in vivo study in an Ehrlich ascites tumor (EAT) mouse model where scientists found that daily intraperitoneal injections of 0.1 ug/kg violacein significantly increased the survival rate of the mice [Choi et al.]. However, violacein is also cytotoxic towards healthy cells so the concentration of the compound is very important to evaluate if administered as a cancer therapeutic.  \n",
    "\n",
    "Nonetheless, these results indicate that violacein is a compound which should be investigated further in regard to combatting diseases. Neither Chromobacterium violaceum or Janthinobacterium lividum are well-established experimental organisms, which therefore can cause unforeseen problems when trying to grow them in the laboratory. Transferring the ability to produce violacein by genome editing to another microorganism could therefore be beneficial. Such experiments have already been done in Escherichia coli [Rodrigues et al.]. \n"
   ]
  },
  {
   "cell_type": "markdown",
   "metadata": {},
   "source": [
    "### 1.2 Literature review of the cell factory (<500 words)\n",
    "\n",
    "Vibrio natriegens is a marine bacterium and is currently the fastest-growing non-pathogenic bacterium known with a doubling time of less than 10 minutes. It is a Gram-negative, rod-shaped bacterium with a single polar flagellum. It tolerates a broad range of pH conditions with an optimum of pH = 7.5, and an optimal growth temperature at 37oC and cannot survive storage at 4oC for extended periods. Due to the extremely fast generation time V. natriegens has gained a lot of interest over the past few years, with some scientists postulating that it might have the potential to replace E. coli as the main microorganism in laboratory settings. Besides the faster generation time than E. coli, V. natriegens is also able to grow to significantly higher cell densities. \n",
    "\n",
    "For V. natriegens to become the new major workhorse for laboratory routines, genetic manipulation of the organism most be feasible.  "
   ]
  },
  {
   "cell_type": "markdown",
   "metadata": {},
   "source": [
    "## 2. Problem definition (<300 words)"
   ]
  },
  {
   "cell_type": "markdown",
   "metadata": {},
   "source": [
    "## 3. Project category II: Selection and assessment of existing GSM (<500 words)"
   ]
  },
  {
   "cell_type": "markdown",
   "metadata": {},
   "source": [
    "## 4. Computer-Aided Cell Factory Engineering <1500 words (Category II project)"
   ]
  },
  {
   "cell_type": "code",
   "execution_count": null,
   "metadata": {},
   "outputs": [],
   "source": []
  },
  {
   "cell_type": "code",
   "execution_count": null,
   "metadata": {},
   "outputs": [],
   "source": []
  },
  {
   "cell_type": "code",
   "execution_count": null,
   "metadata": {},
   "outputs": [],
   "source": []
  },
  {
   "cell_type": "code",
   "execution_count": null,
   "metadata": {},
   "outputs": [],
   "source": []
  },
  {
   "cell_type": "markdown",
   "metadata": {},
   "source": [
    "## 5. Discussion (<500 words)"
   ]
  },
  {
   "cell_type": "markdown",
   "metadata": {},
   "source": [
    "## 6. Conclusion (<200 words)"
   ]
  },
  {
   "cell_type": "markdown",
   "metadata": {},
   "source": [
    "## References"
   ]
  },
  {
   "cell_type": "code",
   "execution_count": null,
   "metadata": {},
   "outputs": [],
   "source": [
    "https://www.mdpi.com/1660-3397/17/12/679/htm\n"
   ]
  }
 ],
 "metadata": {
  "kernelspec": {
   "display_name": "Python 3",
   "language": "python",
   "name": "python3"
  },
  "language_info": {
   "codemirror_mode": {
    "name": "ipython",
    "version": 3
   },
   "file_extension": ".py",
   "mimetype": "text/x-python",
   "name": "python",
   "nbconvert_exporter": "python",
   "pygments_lexer": "ipython3",
   "version": "3.8.3"
  }
 },
 "nbformat": 4,
 "nbformat_minor": 4
}
