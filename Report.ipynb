{
 "cells": [
  {
   "cell_type": "markdown",
   "metadata": {},
   "source": [
    "# GSM reconstruction for *Vibrio Natrigens* producing Violacein"
   ]
  },
  {
   "cell_type": "markdown",
   "metadata": {},
   "source": [
    "## 1. Introduction"
   ]
  },
  {
   "cell_type": "markdown",
   "metadata": {},
   "source": [
    "### 1.1 Literature review of the compound\n",
    "\n",
    "Violacein is a bisindole water-insoluble purple pigment, which recently has gained a lot of attention from scientists as it possesses antibacterial abilities [Füller et al.]. Violacein is mainly produced by the bacteria *Chromobacterium violaceum* and *Janthinobacterium lividum*, yet many different bacteria encompassing various genera and habitats produce violacein. Consequently, it is difficult to assess the main biological and ecological role of violacein [Choi et al.]. However, as *C. violaceum* and *J. lividum* have their natural habitat in common, living primarily in tropical habitats, one theory of violacein’s main biological role is to protect these bacteria from UV radiation [Füller et al.]. \n",
    "\n",
    "Violacein has been found to have strong antibacterial properties and is particularly strong towards Gram-positive bacterial strains and have been found to inhibit *Staphylococcus aureus* growth at concentrations between 5.7 and 15 mg/L, a very promising result as *S. aureus* is a known multidrug resistant pathogen [Choi et al.]. However, violacein’s biological activity is not limited to prokaryotes. It has also been found to have negative effects on bacteriovorus protozoans and metazoans. Additionally, administering violacein in a combination with other antibiotics enhances the overall impact on the bacteria. \n",
    "\n",
    "Additionally, to being able to fight bacterial infections, violacein also have potential as a cancer therapeutic. This has been demonstrated in vitro by violacein’s ability to induce apoptosis in HL60 cells, which is a cell line model of myeloid leukemia, without affecting the normal lymphocytes. These results are further asserted by an in vivo study in an Ehrlich ascites tumor (EAT) mouse model where scientists found that daily intraperitoneal injections of 0.1 ug/kg violacein significantly increased the survival rate of the mice [Choi et al.]. However, violacein is also cytotoxic towards healthy cells so the concentration of the compound is very important to evaluate if administered as a cancer therapeutic.  \n",
    "\n",
    "Nonetheless, these results indicate that violacein is a compound which should be investigated further in regard to combatting diseases. Neither *C. violaceum* or *J. lividum* are well-established experimental organisms, which therefore can cause unforeseen problems when trying to grow them in the laboratory. Transferring the ability to produce violacein by genome editing to another microorganism could therefore be beneficial. Such experiments have already been done in *Escherichia coli* [Rodrigues et al.]. \n"
   ]
  },
  {
   "cell_type": "markdown",
   "metadata": {},
   "source": [
    "### 1.2 Literature review of the cell factory (<500 words)\n",
    "\n",
    "*Vibrio natriegens* is a marine bacterium and is currently the fastest-growing non-pathogenic bacterium known, with a doubling time of less than 10 minutes. It is a Gram-negative, rod-shaped bacterium with a single polar flagellum. It tolerates a broad range of pH conditions with an optimum of pH = 7.5, and an optimal growth temperature at 37oC and cannot survive storage at 4oC for extended periods. Due to the extremely fast generation time, *V. natriegens* has gained a lot of interest over the past few years, with some scientists postulating that it might have the potential to replace *E. coli* as the main microorganism in laboratory settings. Besides the faster generation time than *E. coli*, *V. natriegens* is also able to grow to significantly higher cell densities [Hoff et al.]. \n",
    "\n",
    "However, to replace the established model organism *E. coli* as the preferred microorganism, the genetic constructs made for *E. coli* must be transferrable, otherwise it would be very time consuming to switch to *V. natriegens*. One decisive factor of this transferability is the codon usage by the organism. When comparing the codon usage between *E. coli* and *V. natriegens* a strong correlation can be seen, suggesting that genetic constructs built for *E. coli* usually will be functional in *V. natriegens* (Figure 1). None the less, some codons deviate up to twofold between the organisms, and codon optimization might therefore be needed in such instances [Hoff et al. 2020, Lee et al. 2016].  \n",
    "\n",
    " "
   ]
  },
  {
   "cell_type": "code",
   "execution_count": null,
   "metadata": {},
   "outputs": [],
   "source": [
    "from IPython.core.display import Image, display\n",
    "display(Image(url='Figures_report/figure1.png', width=300, unconfined=True))"
   ]
  },
  {
   "cell_type": "markdown",
   "metadata": {},
   "source": [
    "Figure 1: Comparison of codon usage between *V. natriegens* and *E. coli*. The circles represent the frequency of one codon in *V. natriegens* and *E. coli* where frequency is defined as the occurrence of one paerticular codon per 1000 codons in protein-coding sequences within the genome [Lee et al. 2016]. "
   ]
  },
  {
   "cell_type": "markdown",
   "metadata": {},
   "source": [
    "Beside of the codon usage, genetic manipulation of the organism most also be feasible For *V. natriegens* to become the new major workhorse for laboratory routines. Several genetic tools have been established for engineering *V. natriegens* including electroporation, recombineering, multiplexed genome editing via natural transformation (MuGENT), heat shock transformation, conjugation and CRISPR-Cas9 of which electroporation is the most efficient (figure 2) [Hoff et al. ]. Importantly, the current CRISPR-Cas9 system alone is not sufficient for generation of mutants as *V. natriegens* shows significant toxicity to double stranded breaks [Lee et al. 2019]. None of the transformation methods currently reaches the efficiencies in *E. coli* yet, however, most of the methods work and further optimization of protocols is an ongoing process which may further increase the efficiencies [Hoff et al. 2020]. "
   ]
  },
  {
   "cell_type": "code",
   "execution_count": null,
   "metadata": {},
   "outputs": [],
   "source": [
    "display(Image(url='Figures_report/figure2.png', width=500, unconfined=True))"
   ]
  },
  {
   "cell_type": "markdown",
   "metadata": {},
   "source": [
    "Figure 2: Currently established molecular biology techniques for transformation in V. natriegens [Hoff et al. 2020]. "
   ]
  },
  {
   "cell_type": "markdown",
   "metadata": {},
   "source": [
    "An additional advantage of *V. natriegens* is the ability to grow on various carbon sources. Out of 23 tested carbon sources *V. natriegens* was found to have the highest growth rate when growing on sucrose (µ = 1.79 ± 0.02 h-1) followed by N-acetylglucosamine (µ = 1.74 ± 0.01 h-1), glucose (µ = 1.68 ± 0.02 h-1), fructose (µ = 1.51 ± 0.08 h-1), gluconate (µ = 1.51 ± 0.01 h-1) and maltose (µ = 1.22 ± 0.01 h-1). All the other tested carbon sources did not have a growth rate above 1 h-1. This capability of metabolizing several relevant substrates makes *V. natriegens* a desirable microorganism for utilization in industrial biotechnology. Further underscoring the potential of the organism [Hoffart et al. 2017].    "
   ]
  },
  {
   "cell_type": "markdown",
   "metadata": {},
   "source": [
    "## 2. Problem definition (<300 words)\n",
    "Successful production of violacein in *V. natriegens* would result in faster production of the compound, making research and hereafter production of violacein much quicker. Therefore, creating a model representing this incorporation would ease prediction of production rates. Furthermore, theoretical adjustments can be assessed before spending time incorporating them in the laboratory, giving a profound advantage when deciding how to engineer an organism. We therefore want to assess a model made of *V. natriegens*, adding violacein pathway, and optimize their growth rate. Furthermore, we want to change the media composition to evaluate on which *V. natriegens* has the highest growth rate and production rate of violacein.  "
   ]
  },
  {
   "cell_type": "markdown",
   "metadata": {},
   "source": [
    "## 3. Selection and reconstruction of a GSM for *Vibrio natrigens*; media and substrate"
   ]
  },
  {
   "cell_type": "markdown",
   "metadata": {},
   "source": [
    "We decided to use *V. natriegens* ATCC 14048, investigated in Ellis et al. 2019 for the same goal, heterologous production of violacein in *V.natrigens*. Using the same model as the study, would allow us to compare the progression of the study, as well as growth and production. Furthermore, following *27410-2020-group-project-group-7_vibrio-natriegens* project I category, where beta-carotene production in *V.natrigens* was studied. Their analysis was performed in minimal media (M9) with glucose as carbon source, using the same genome of reference. However, some studies showed higher violacein production in LB media, using different substrates.\n",
    "\n",
    "In the [Creation_models.ipynb](/Users/rutmasdelesvalls/Documents/GitHub/CACFD/group-assignment-2021-group_1_vibrio_natriegens_2021/Creation_models.ipynb) file, one can find how *V.natrigens* model with LB media and M9 media were created using carve."
   ]
  },
  {
   "cell_type": "markdown",
   "metadata": {},
   "source": [
    "The first step would be loading cobra packages:"
   ]
  },
  {
   "cell_type": "code",
   "execution_count": null,
   "metadata": {},
   "outputs": [],
   "source": [
    "from cobra.io import read_sbml_model"
   ]
  },
  {
   "cell_type": "markdown",
   "metadata": {},
   "source": [
    "Later we find the maximum growth rate. As observed and read through some articles [Ellis et al. 2019], the growth rate in a minimal media is way lower than in a rich media."
   ]
  },
  {
   "cell_type": "code",
   "execution_count": null,
   "metadata": {},
   "outputs": [],
   "source": [
    "modelM9=read_sbml_model('Models/model_VN_M9.xml')"
   ]
  },
  {
   "cell_type": "code",
   "execution_count": null,
   "metadata": {},
   "outputs": [],
   "source": [
    "print(\"Maximal growth rate of Vibrio natriegens in M9 medium\", modelM9.optimize().objective_value)"
   ]
  },
  {
   "cell_type": "code",
   "execution_count": null,
   "metadata": {},
   "outputs": [],
   "source": [
    "modelLB=read_sbml_model('Models/model_VN_LB.xml')"
   ]
  },
  {
   "cell_type": "code",
   "execution_count": null,
   "metadata": {},
   "outputs": [],
   "source": [
    "print(\"Maximal growth rate of Vibrio natriegens in LB medium\", modelLB.optimize().objective_value)"
   ]
  },
  {
   "cell_type": "markdown",
   "metadata": {},
   "source": [
    "The findings by Hoffart et al. and Tschirhart et al. who examined *V. natriegens* growth rates with a variety of carbon sources, resulted in high growth rates. Based on this findings and their potential as feedstocks, we chose seven carbon sources to investigate (glucose, D-manitol, sucrose, glycerol and N-acetyl-D-glucosamine) in minimal medium (M9) as well as a complex media (LB). "
   ]
  },
  {
   "cell_type": "markdown",
   "metadata": {},
   "source": [
    "On [Substrates_study.ipynb](/Users/rutmasdelesvalls/Documents/GitHub/CACFD/group-assignment-2021-group_1_vibrio_natriegens_2021/Substrates_study.ipynb) the above mentioned substrates are analysed and plotted on LB and M9 media. *V.natrigens* producing violacein in LB media using sucrose as substrate gives the best growth and production, even better than glucose. We obtained a maximum violacein production of 1.47 mmol gDW^-1 h^-1 on LB media, plus a growth rate of 3.14 h^-1 from sucrose."
   ]
  },
  {
   "cell_type": "code",
   "execution_count": null,
   "metadata": {},
   "outputs": [],
   "source": [
    "from cobra import Reaction, Metabolite\n",
    "from cobra.io import read_sbml_model"
   ]
  },
  {
   "cell_type": "code",
   "execution_count": null,
   "metadata": {},
   "outputs": [],
   "source": [
    "model_LB_vio_fad=read_sbml_model('Models/model_VN_LB_vio-fad.xml')"
   ]
  },
  {
   "cell_type": "markdown",
   "metadata": {},
   "source": [
    "Added ratio constraint in LB media between Violacein and Deoxyviolacein (explained in section 4)."
   ]
  },
  {
   "cell_type": "code",
   "execution_count": null,
   "metadata": {},
   "outputs": [],
   "source": [
    "ratio = model_LB_vio_fad.problem.Constraint(\n",
    "    1.9*model_LB_vio_fad.reactions.Violacein.flux_expression - 1*model_LB_vio_fad.reactions.Deoxyviolacein.flux_expression,\n",
    "    lb=0, ub=0)\n",
    "model_LB_vio_fad.add_cons_vars(ratio)"
   ]
  },
  {
   "cell_type": "code",
   "execution_count": null,
   "metadata": {},
   "outputs": [],
   "source": [
    "# SUCROSE ON LB MEDIA\n",
    "\n",
    "medium = model_LB_vio_fad.medium\n",
    "\n",
    "with model_LB_vio_fad:\n",
    "    \n",
    "    medium['EX_glc__D_e'] = 0\n",
    "    medium['EX_sucr_e'] = 10\n",
    "    model_LB_vio_fad.medium = medium\n",
    "    \n",
    "    model_LB_vio_fad.objective = model_LB_vio_fad.reactions.Violacein\n",
    "    violacein_production = model_LB_vio_fad.optimize().objective_value\n",
    "    \n",
    "    model_LB_vio_fad.objective = model_LB_vio_fad.reactions.Growth\n",
    "    growth_rate = model_LB_vio_fad.optimize().objective_value\n",
    "\n",
    "    violacein_sucr_yield = violacein_production / (-1*model_LB_vio_fad.reactions.EX_sucr_e.flux)\n",
    "    \n",
    "    print('Oxygen and Sucrose boundaries set to default values (-10):')\n",
    "    print('- Growth rate for V. natriegens [h^-1]:', growth_rate)\n",
    "    print('- Max. violacein production [mmol gDW^-1 h^-1]:', violacein_production)\n",
    "    print('- Theoretical maximum yield [mmol_vio / mmol_sucr]:', violacein_sucr_yield)"
   ]
  },
  {
   "cell_type": "code",
   "execution_count": null,
   "metadata": {},
   "outputs": [],
   "source": [
    "# GLUCOSE ON LB MEDIA\n",
    "\n",
    "medium = model_LB_vio_fad.medium\n",
    "\n",
    "with model_LB_vio_fad:\n",
    "    \n",
    "    model_LB_vio_fad.medium = medium\n",
    "    \n",
    "    model_LB_vio_fad.objective = model_LB_vio_fad.reactions.Violacein\n",
    "    violacein_production = model_LB_vio_fad.optimize().objective_value\n",
    "    \n",
    "    model_LB_vio_fad.objective = model_LB_vio_fad.reactions.Growth\n",
    "    growth_rate = model_LB_vio_fad.optimize().objective_value\n",
    "    \n",
    "    violacein_glc_yield = violacein_production / (-1*model_LB_vio_fad.reactions.EX_glc__D_e.flux)\n",
    "    \n",
    "    print('Oxygen and Glucose boundaries set to default values (-10):')\n",
    "    print('- Growth rate for V. natriegens [h^-1]:', growth_rate)\n",
    "    print('- Max. violacein production [mmol gDW^-1 h^-1]:', violacein_production)\n",
    "    print('- Theoretical maximum yield [mmol_vio / mmol_glc]:', violacein_glc_yield)"
   ]
  },
  {
   "cell_type": "code",
   "execution_count": null,
   "metadata": {},
   "outputs": [],
   "source": [
    "model_M9_vio_fad=read_sbml_model('Models/model_VN_M9_vio-fad.xml')"
   ]
  },
  {
   "cell_type": "markdown",
   "metadata": {},
   "source": [
    "Added ratio constraint in M9 media between Violacein and Deoxyviolacein (explained in section 4)."
   ]
  },
  {
   "cell_type": "code",
   "execution_count": null,
   "metadata": {},
   "outputs": [],
   "source": [
    "ratio = model_M9_vio_fad.problem.Constraint(\n",
    "    model_M9_vio_fad.reactions.Violacein.flux_expression - 4.2*model_M9_vio_fad.reactions.Deoxyviolacein.flux_expression,\n",
    "    lb=0, ub=0)\n",
    "model_M9_vio_fad.add_cons_vars(ratio)"
   ]
  },
  {
   "cell_type": "code",
   "execution_count": null,
   "metadata": {},
   "outputs": [],
   "source": [
    "# SUCROSE ON M9 MEDIA\n",
    "\n",
    "medium = model_M9_vio_fad.medium\n",
    "\n",
    "with model_M9_vio_fad:\n",
    "    \n",
    "    medium['EX_glc__D_e'] = 0\n",
    "    medium['EX_sucr_e'] = 10\n",
    "    model_M9_vio_fad.medium = medium\n",
    "    \n",
    "    model_M9_vio_fad.objective = model_M9_vio_fad.reactions.Violacein\n",
    "    violacein_production = model_M9_vio_fad.optimize().objective_value\n",
    "    \n",
    "    model_M9_vio_fad.objective = model_M9_vio_fad.reactions.Growth\n",
    "    growth_rate = model_M9_vio_fad.optimize().objective_value\n",
    "\n",
    "    violacein_sucr_yield = violacein_production / (-1*model_M9_vio_fad.reactions.EX_sucr_e.flux)\n",
    "    \n",
    "    print('Oxygen and Sucrose boundaries set to default values (-10):')\n",
    "    print('- Growth rate for V. natriegens [h^-1]:', growth_rate)\n",
    "    print('- Max. violacein production [mmol gDW^-1 h^-1]:', violacein_production)\n",
    "    print('- Theoretical maximum yield [mmol_vio / mmol_sucr]:', violacein_sucr_yield)"
   ]
  },
  {
   "cell_type": "code",
   "execution_count": null,
   "metadata": {},
   "outputs": [],
   "source": [
    "# GLUCOSE ON M9 MEDIA\n",
    "\n",
    "medium = model_M9_vio_fad.medium\n",
    "\n",
    "with model_M9_vio_fad:\n",
    "    \n",
    "    model_M9_vio_fad.medium = medium\n",
    "    \n",
    "    model_M9_vio_fad.objective = model_M9_vio_fad.reactions.Violacein\n",
    "    violacein_production = model_M9_vio_fad.optimize().objective_value\n",
    "    \n",
    "    model_M9_vio_fad.objective = model_M9_vio_fad.reactions.Growth\n",
    "    growth_rate = model_M9_vio_fad.optimize().objective_value\n",
    "    \n",
    "    violacein_glc_yield = violacein_production / (-1*model_M9_vio_fad.reactions.EX_glc__D_e.flux)\n",
    "    \n",
    "    print('Oxygen and Glucose boundaries set to default values (-10):')\n",
    "    print('- Growth rate for V. natriegens [h^-1]:', growth_rate)\n",
    "    print('- Max. violacein production [mmol gDW^-1 h^-1]:', violacein_production)\n",
    "    print('- Theoretical maximum yield [mmol_vio / mmol_glc]:', violacein_glc_yield)"
   ]
  },
  {
   "cell_type": "code",
   "execution_count": null,
   "metadata": {},
   "outputs": [],
   "source": [
    "# NOT FINISHED YET"
   ]
  },
  {
   "cell_type": "code",
   "execution_count": null,
   "metadata": {},
   "outputs": [],
   "source": []
  },
  {
   "cell_type": "code",
   "execution_count": null,
   "metadata": {},
   "outputs": [],
   "source": []
  },
  {
   "cell_type": "code",
   "execution_count": null,
   "metadata": {},
   "outputs": [],
   "source": []
  },
  {
   "cell_type": "code",
   "execution_count": null,
   "metadata": {},
   "outputs": [],
   "source": []
  },
  {
   "cell_type": "code",
   "execution_count": null,
   "metadata": {},
   "outputs": [],
   "source": []
  },
  {
   "cell_type": "code",
   "execution_count": null,
   "metadata": {},
   "outputs": [],
   "source": []
  },
  {
   "cell_type": "code",
   "execution_count": null,
   "metadata": {},
   "outputs": [],
   "source": []
  },
  {
   "cell_type": "markdown",
   "metadata": {},
   "source": [
    "## 4. Computer-Aided Cell Factory Engineering <1500 words (Category II project)"
   ]
  },
  {
   "cell_type": "code",
   "execution_count": null,
   "metadata": {},
   "outputs": [],
   "source": []
  },
  {
   "cell_type": "code",
   "execution_count": null,
   "metadata": {},
   "outputs": [],
   "source": [
    "# NOT FINISHED YET"
   ]
  },
  {
   "cell_type": "markdown",
   "metadata": {},
   "source": [
    "4._ Optimizaiton by Enhancement and Knockout "
   ]
  },
  {
   "cell_type": "markdown",
   "metadata": {},
   "source": [
    "Further optimization is trying to be achieved by looking for pathways to knout and/ or to enhance. \n",
    "In [Source] upregulating the reaction catalyzed by VioD enhanced the Violacein production. \n",
    "First, we make sure the needed reactions to produce Violacein are fully prioritized. "
   ]
  },
  {
   "cell_type": "code",
   "execution_count": null,
   "metadata": {},
   "outputs": [],
   "source": [
    "from cobra.io import read_sbml_model\n",
    "from cobra.io import write_sbml_model\n",
    "from cameo import models\n",
    "from cameo import load_model"
   ]
  },
  {
   "cell_type": "code",
   "execution_count": null,
   "metadata": {},
   "outputs": [],
   "source": [
    "opt_model = read_sbml_model('Models/model_VN_LB_vio-fad.xml')\n",
    "print(\"Maximal growth rate of Vibrio natriegens in LB medium:\", round(opt_model.optimize().objective_value, 3))"
   ]
  },
  {
   "cell_type": "code",
   "execution_count": null,
   "metadata": {},
   "outputs": [],
   "source": [
    "with opt_model:\n",
    "    \n",
    "    ratio = opt_model.problem.Constraint(\n",
    "    1.9*opt_model.reactions.Violacein.flux_expression - 1*opt_model.reactions.Deoxyviolacein.flux_expression,\n",
    "    lb=0, ub=0)\n",
    "    opt_model.add_cons_vars(ratio)\n",
    "    \n",
    "    solution = opt_model.optimize()\n",
    "    growth = solution.objective_value\n",
    "        \n",
    "    opt_model.objective = opt_model.reactions.Violacein\n",
    "    solution = opt_model.optimize()\n",
    "    \n",
    "    print('Max. violacein production in LB media before [mmol gDW^-1 h^-1]:', solution.fluxes['Violacein'])\n",
    "    print('Max. deoxyviolacein production before [mmol gDW^-1 h^-1]:', solution.fluxes['Deoxyviolacein'])\n",
    "    print('Max. growth rate in LB media [h^-1]:', growth)\n",
    "    opt_model.reactions.get_by_id(\"Protoviolaceinate_VioD\").objective_coefficient = 1.0\n",
    "    opt_model.reactions.get_by_id(\"Violaceinate\").objective_coefficient = 1.0\n",
    "    opt_model.reactions.get_by_id(\"Violacein\").objective_coefficient = 1.0\n",
    "    opt_model.reactions.get_by_id(\"Deoxyviolacein\").objective_coefficient = 0.0\n",
    "    opt_model.reactions.Growth.objective_coefficient = 0.0\n",
    "\n",
    "    opt_model.objective = opt_model.reactions.Violacein\n",
    "    solution = opt_model.optimize()\n",
    "    print('Violacein Production Rate (mmol/gdcw/h): ' + str(solution.fluxes.get('Violacein')))\n",
    "    print('Deoxyviolacein Production Rate (mmol/gdcw/h): ' + str(solution.fluxes.get('Deoxyviolacein')))\n",
    "    print('Growth Rate (mmol/gdcw/h): ' + str(solution.fluxes.Growth))"
   ]
  },
  {
   "cell_type": "markdown",
   "metadata": {},
   "source": [
    "By putting Violacein as the objective before, the coefficients needed for the Violacein producton already set to 1.0. and to 0.0 for Deoxyviolacein production. So, setting the coefficients again, does not make a difference"
   ]
  },
  {
   "cell_type": "markdown",
   "metadata": {},
   "source": [
    "To make sure, it is not because of the manually set ratio between Violacein and Deoxyviolacein, we check the results again."
   ]
  },
  {
   "cell_type": "code",
   "execution_count": null,
   "metadata": {},
   "outputs": [],
   "source": [
    "with opt_model:\n",
    "       \n",
    "    solution = opt_model.optimize()\n",
    "    growth = solution.objective_value\n",
    "    \n",
    "    \n",
    "    opt_model.objective = opt_model.reactions.Violacein\n",
    "    solution = opt_model.optimize()\n",
    "    \n",
    "    print('Max. violacein production in LB media [mmol gDW^-1 h^-1]:', solution.fluxes['Violacein'])\n",
    "    print('Max. deoxyviolacein production in LB media [mmol gDW^-1 h^-1]:', solution.fluxes['Deoxyviolacein'])\n",
    "    print('Max. growth rate in LB media [h^-1]:', growth)\n",
    "    opt_model.reactions.get_by_id(\"Protoviolaceinate_VioD\").objective_coefficient = 1.0\n",
    "    opt_model.reactions.get_by_id(\"Violaceinate\").objective_coefficient = 1.0\n",
    "    opt_model.reactions.get_by_id(\"Violacein\").objective_coefficient = 1.0\n",
    "    opt_model.reactions.get_by_id(\"Deoxyviolacein\").objective_coefficient = 0.0\n",
    "    opt_model.reactions.Growth.objective_coefficient = 0.0\n",
    "\n",
    "    opt_model.objective = opt_model.reactions.Violacein\n",
    "    solution = opt_model.optimize()\n",
    "    print('Violacein Production Rate (mmol/gdcw/h): ' + str(solution.fluxes.get('Violacein')))\n",
    "    print('Deoxyviolacein Production Rate (mmol/gdcw/h): ' + str(solution.fluxes.get('Deoxyviolacein')))\n",
    "    print('Deoxyviolacein Production Rate (mmol/gdcw/h): ' + str(solution.fluxes.get('Deoxyviolaceinate_VioC')))\n",
    "    print('Growth Rate (mmol/gdcw/h): ' + str(solution.fluxes.Growth))"
   ]
  },
  {
   "cell_type": "code",
   "execution_count": null,
   "metadata": {},
   "outputs": [],
   "source": [
    "#Enhancing still in progress!"
   ]
  },
  {
   "cell_type": "markdown",
   "metadata": {},
   "source": [
    "Another way to improve production or growth rates is to knock-out \"unnecessary\" pathways. We use a knockout strategy by cameo for doing so. "
   ]
  },
  {
   "cell_type": "code",
   "execution_count": null,
   "metadata": {},
   "outputs": [],
   "source": [
    "plotter = PlotlyPlotter()\n",
    "wt_solution = opt_model.optimize()\n",
    "growth = wt_solution.fluxes.Growth\n",
    "Violacein_production = wt_solution.fluxes[\"Violacein\"]\n",
    "p = phenotypic_phase_plane(opt_model, variables=['Growth'], objective='Violacein')\n",
    "p.plot(plotter,points=[(growth, Violacein_production)])"
   ]
  },
  {
   "cell_type": "code",
   "execution_count": null,
   "metadata": {},
   "outputs": [],
   "source": [
    "optgene = OptGene(opt_model)\n",
    "result_Glc = optgene.run(target=\"Violacein\",\n",
    "                     biomass= \"Growth\" ,\n",
    "                     substrate=\"glc__D_e\",\n",
    "                     max_evaluations=5000,\n",
    "                     plot=False)"
   ]
  },
  {
   "cell_type": "code",
   "execution_count": null,
   "metadata": {
    "scrolled": true
   },
   "outputs": [],
   "source": [
    "result_Glc"
   ]
  },
  {
   "cell_type": "code",
   "execution_count": null,
   "metadata": {},
   "outputs": [],
   "source": [
    "print(\"Percentage of genes included in the model compared to the number of existing coding genes in Vibrio natrigens(4513 genes):\",round(((len(opt_model.genes)*100)/4513), 3),\"%\")"
   ]
  },
  {
   "cell_type": "markdown",
   "metadata": {},
   "source": [
    "This tells us that there are no pathways to knockout for optimization. The reason for that might be that not the full model is saved in carveme. Only about 32% of the exisitng coding genes in *Vibrio natrigens* are saved in this model. As those are probably mainly the ones needed for growth, there are no \"unnecessary\" pathways that we can knock out for optimization."
   ]
  },
  {
   "cell_type": "markdown",
   "metadata": {},
   "source": [
    "We try the same optimization with sucrose to prove it does not change with different media. "
   ]
  },
  {
   "cell_type": "code",
   "execution_count": null,
   "metadata": {},
   "outputs": [],
   "source": [
    "result_Suc = optgene.run(target=\"Violacein\",\n",
    "                     biomass= \"Growth\" ,\n",
    "                     substrate=\"EX_sucr_e\",\n",
    "                     max_evaluations=5000,\n",
    "                     plot=False)"
   ]
  },
  {
   "cell_type": "code",
   "execution_count": null,
   "metadata": {},
   "outputs": [],
   "source": [
    "result_Suc"
   ]
  },
  {
   "cell_type": "markdown",
   "metadata": {},
   "source": [
    "By using another substrate, the model can not be optimized by knocking out pathways. "
   ]
  },
  {
   "cell_type": "code",
   "execution_count": null,
   "metadata": {},
   "outputs": [],
   "source": []
  },
  {
   "cell_type": "code",
   "execution_count": null,
   "metadata": {},
   "outputs": [],
   "source": [
    "#Not finsihed"
   ]
  },
  {
   "cell_type": "code",
   "execution_count": null,
   "metadata": {},
   "outputs": [],
   "source": []
  },
  {
   "cell_type": "code",
   "execution_count": null,
   "metadata": {},
   "outputs": [],
   "source": []
  },
  {
   "cell_type": "markdown",
   "metadata": {},
   "source": [
    "## 5. Discussion (<500 words)"
   ]
  },
  {
   "cell_type": "markdown",
   "metadata": {},
   "source": [
    "## 6. Conclusion (<200 words)"
   ]
  },
  {
   "cell_type": "markdown",
   "metadata": {},
   "source": [
    "## References"
   ]
  },
  {
   "cell_type": "markdown",
   "metadata": {},
   "source": [
    "Hoffart, E., Grenz, S., Lange, J., Nitschel, R., Müller, F., Schwentner, A., et al. (2017) High substrate uptake rates empower Vibrio natriegens as production host for industrial biotechnology. Appl Environ Microbiol 83: e01614–e01617 \n",
    "\n",
    "Janis J. Füller, René Röpke, Joern Krausze, Kim E. Rennhack, Nils P. Daniel, Wulf Blankenfeldt, Stefan Schulz, Dieter Jahn, and Jürgen Moser “Biosynthesis of Violacein, Structure and Function of L-Tryptophan Oxidase VioA from Chromobacterium violaceum” \n",
    "\n",
    "Josef Hoff, Benjamin Daniel, Daniel Stukenberg, Benjamin W. Thuronyi, Torsten Waldminghaus and Georg Fritz. “Vibrio natriegens: an ultrafast-growing marinebacterium as emerging synthetic biology chassis” \n",
    "\n",
    "Lee, H.H., Ostrov, N., Gold, M.A., and Church, G.M. (2017) Recombineering in Vibrio natriegens. bioRxiv: 130088.  \n",
    "\n",
    "Lee, H.H., Ostrov, N., Wong, B.G., Gold, M.A., Khalil, A.S., and Church, G.M. (2019) Functional genomics of the rapidly replicating bacterium Vibrio natriegens by CRISPRi. Nat Microbiol 4: 1105–1113.  \n",
    "\n",
    "Lee, H.H., Ostrov, N., Wong, B.G., Gold, M.A., Khalil, A.S., and Church, G.M. (2016) Vibrio natriegens, a new genomic powerhouse. bioRxiv: 058487. https://doi.org/10.1101/058487.  \n",
    "\n",
    "Rodrigues, A. L., Trachtmann, N., Becker J., et al., “Systems metabolic engineering of Escherichia coli for production of the antitumor drugs violacein and deoxyviolacein,” Metabolic Engineering, vol. 20, pp. 29–41, 2013.  \n",
    "\n",
    "Seong Yeol Choi, Kyoung-hye Yoon, Jin Il Lee, and Robert J.Mitchell “Violacein: Properties and Production of a Versatile Bacterial Pigment” \n",
    "\n",
    " Tschirhart, T., Shukla, V., Kelly, E.E., Schultzhaus, Z., NewRingeisen, E., Erickson, J.S., et al. (2019) Synthetic biology tools for the fast-growing marine bacterium Vibrio natriegens. ACS Synth Biol 8: 2069–2079. \n",
    "\n",
    "Weinstock, M.T., Hesek, E.D., Wilson, C.M., and Gibson, D. G. (2016) Vibrio natriegens as a fast-growing host for molecular biology. Nat Methods 13: 849–851 \n",
    "\n",
    "Ellis, G. A., Tschirhart, T., Spangler, J., Walper, S. A., Medintz, I. L., & Vora, G. J. (2019). Exploiting the feedstock flexibility of the emergent synthetic biology chassis Vibrio natriegens for engineered natural product production. Marine drugs, 17(12), 679\n",
    "\n",
    "Tschirhart, T., Shukla, V., Kelly, E. E., Schultzhaus, Z., NewRingeisen, E., Erickson, J. S., ... & Vora, G. J. (2019). Synthetic biology tools for the fast-growing marine bacterium Vibrio natriegens. ACS synthetic biology, 8(9), 2069-2079."
   ]
  }
 ],
 "metadata": {
  "kernelspec": {
   "display_name": "Python 3",
   "language": "python",
   "name": "python3"
  },
  "language_info": {
   "codemirror_mode": {
    "name": "ipython",
    "version": 3
   },
   "file_extension": ".py",
   "mimetype": "text/x-python",
   "name": "python",
   "nbconvert_exporter": "python",
   "pygments_lexer": "ipython3",
   "version": "3.6.13"
  }
 },
 "nbformat": 4,
 "nbformat_minor": 4
}
