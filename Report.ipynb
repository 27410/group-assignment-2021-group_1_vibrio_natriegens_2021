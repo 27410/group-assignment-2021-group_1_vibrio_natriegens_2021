{
 "cells": [
  {
   "cell_type": "markdown",
   "metadata": {},
   "source": [
    "# GSM reconstruction for *Vibrio Natrigens* producing Violacein"
   ]
  },
  {
   "cell_type": "markdown",
   "metadata": {},
   "source": [
    "## 1. Introduction"
   ]
  },
  {
   "cell_type": "markdown",
   "metadata": {},
   "source": [
    "### 1.1 Literature review of the compound (<500 words)\n",
    "\n",
    "Violacein is a bisindole water-insoluble purple pigment, which recently has gained a lot of attention from scientists as it possesses antibacterial abilities [Füller et al.]. Violacein is mainly produced by the bacteria Chromobacterium violaceum and Janthinobacterium lividum, yet many different bacteria encompassing various genera and habitats produce violacein. Consequently, it is difficult to assess the main biological and ecological role of violacein [Choi et al.]. However, as C. violaceum and J. lividum have their natural habitat in common, living primarily in tropical habitats, one theory of violacein’s main biological role is to protect these bacteria from UV radiation [Füller et al.]. \n",
    "\n",
    "Violacein has been found to have strong antibacterial properties and is particularly strong towards Gram-positive bacterial strains and have been found to inhibit Staphylococcus aureus growth at concentrations between 5.7 and 15 mg/L, a very promising result as S. aureus is a known multidrug resistant pathogen [Choi et al.]. However, violacein’s biological activity is not limited to prokaryotes. It has also been found to have negative effects on bacteriovorus protozoans and metazoans. Additionally, administering violacein in a combination with other antibiotics enhances the overall impact on the bacteria. \n",
    "\n",
    "Additionally, to being able to fight bacterial infections, violacein also have potential as a cancer therapeutic. This has been demonstrated in vitro by violacein’s ability to induce apoptosis in HL60 cells, which is a cell line model of myeloid leukemia, without affecting the normal lymphocytes. These results are further asserted by an in vivo study in an Ehrlich ascites tumor (EAT) mouse model where scientists found that daily intraperitoneal injections of 0.1 ug/kg violacein significantly increased the survival rate of the mice [Choi et al.]. However, violacein is also cytotoxic towards healthy cells so the concentration of the compound is very important to evaluate if administered as a cancer therapeutic.  \n",
    "\n",
    "Nonetheless, these results indicate that violacein is a compound which should be investigated further in regard to combatting diseases. Neither C. violaceum or J. lividum are well-established experimental organisms, which therefore can cause unforeseen problems when trying to grow them in the laboratory. Transferring the ability to produce violacein by genome editing to another microorganism could therefore be beneficial. Such experiments have already been done in Escherichia coli [Rodrigues et al.]. \n"
   ]
  },
  {
   "cell_type": "markdown",
   "metadata": {},
   "source": [
    "### 1.2 Literature review of the cell factory (<500 words)\n",
    "\n",
    "Vibrio natriegens is a marine bacterium and is currently the fastest-growing non-pathogenic bacterium known, with a doubling time of less than 10 minutes. It is a Gram-negative, rod-shaped bacterium with a single polar flagellum. It tolerates a broad range of pH conditions with an optimum of pH = 7.5, and an optimal growth temperature at 37oC and cannot survive storage at 4oC for extended periods. Due to the extremely fast generation time, V. natriegens has gained a lot of interest over the past few years, with some scientists postulating that it might have the potential to replace E. coli as the main microorganism in laboratory settings. Besides the faster generation time than E. coli, V. natriegens is also able to grow to significantly higher cell densities [Hoff et al.]. \n",
    "\n",
    "However, to replace the established model organism E. coli as the preferred microorganism, the genetic constructs made for E. coli must be transferrable, otherwise it would be very time consuming to switch to V. natriegens. One decisive factor of this transferability is the codon usage by the organism. When comparing the codon usage between E. coli and V. natriegens a strong correlation can be seen, suggesting that genetic constructs built for E. coli usually will be functional in V. natriegens (figure 1). None the less, some codons deviate up to twofold between the organisms, and codon optimization might therefore be needed in such instances [Hoff et al. 2020, Lee et al. 2016].  \n",
    "\n",
    " "
   ]
  },
  {
   "cell_type": "code",
   "execution_count": 6,
   "metadata": {},
   "outputs": [
    {
     "data": {
      "text/html": [
       "<img src=\"https://sfamjournals-onlinelibrary-wiley-com.proxy.findit.dtu.dk/cms/asset/c856b2c3-9998-4a28-a77d-5b5459c24913/emi15128-fig-0004-m.jpg\" width=\"500\" class=\"unconfined\"/>"
      ],
      "text/plain": [
       "<IPython.core.display.Image object>"
      ]
     },
     "metadata": {},
     "output_type": "display_data"
    }
   ],
   "source": [
    "from IPython.core.display import Image, display\n",
    "display(Image(url='https://sfamjournals-onlinelibrary-wiley-com.proxy.findit.dtu.dk/cms/asset/c856b2c3-9998-4a28-a77d-5b5459c24913/emi15128-fig-0004-m.jpg', width=500, unconfined=True))"
   ]
  },
  {
   "cell_type": "markdown",
   "metadata": {},
   "source": [
    "Figure 1: Comparison of codon usage between V. natriegens and E. coli. The circles represent the frequency of one codon in V. natriegens and E. coli where frequency is defined as the occurrence of one paerticular codon per 1000 codons in protein-coding sequences within the genome [Lee et al. 2016]. "
   ]
  },
  {
   "cell_type": "markdown",
   "metadata": {},
   "source": [
    "Beside of the codon usage, genetic manipulation of the organism most also be feasible For V. natriegens to become the new major workhorse for laboratory routines. Several genetic tools have been established for engineering V. natriegens including electroporation, recombineering, multiplexed genome editing via natural transformation (MuGENT), heat shock transformation, conjugation and CRISPR-Cas9 of which electroporation is the most efficient (figure 2) [Hoff et al. ]. Importantly, the current CRISPR-Cas9 system alone is not sufficient for generation of mutants as V. natriegens shows significant toxicity to double stranded breaks [Lee et al. 2019]. None of the transformation methods currently reaches the efficiencies in E. coli yet, however, most of the methods work and further optimization of protocols is an ongoing process which may further increase the efficiencies [Hoff et al. 2020]. "
   ]
  },
  {
   "cell_type": "code",
   "execution_count": 7,
   "metadata": {},
   "outputs": [
    {
     "data": {
      "text/html": [
       "<img src=\"https://sfamjournals-onlinelibrary-wiley-com.proxy.findit.dtu.dk/cms/asset/0fee373a-874b-40d5-87cc-49b420b924f4/emi15128-fig-0006-m.jpg\" width=\"500\" class=\"unconfined\"/>"
      ],
      "text/plain": [
       "<IPython.core.display.Image object>"
      ]
     },
     "metadata": {},
     "output_type": "display_data"
    }
   ],
   "source": [
    "display(Image(url='https://sfamjournals-onlinelibrary-wiley-com.proxy.findit.dtu.dk/cms/asset/0fee373a-874b-40d5-87cc-49b420b924f4/emi15128-fig-0006-m.jpg', width=500, unconfined=True))"
   ]
  },
  {
   "cell_type": "markdown",
   "metadata": {},
   "source": [
    "Figure 2: Currently established molecular biology techniques for transformation in V. natriegens [Hoff et al. 2020]. "
   ]
  },
  {
   "cell_type": "markdown",
   "metadata": {},
   "source": [
    "An additional advantage of V. natriegens is the ability to grow on various carbon sources. Out of 23 tested carbon sources V. natriegens was found to have the highest growth rate when growing on sucrose (µ = 1.79 ± 0.02 h-1) followed by N-acetylglucosamine (µ = 1.74 ± 0.01 h-1), glucose (µ = 1.68 ± 0.02 h-1), fructose (µ = 1.51 ± 0.08 h-1), gluconate (µ = 1.51 ± 0.01 h-1) and maltose (µ = 1.22 ± 0.01 h-1). All the other tested carbon sources did not have a growth rate above 1 h-1. This capability of metabolizing several relevant substrates makes V. natriegens a desirable microorganism for utilization in industrial biotechnology. Further underscoring the potential of the organism [Hoffart et al. 2017].    "
   ]
  },
  {
   "cell_type": "markdown",
   "metadata": {},
   "source": [
    "## 2. Problem definition (<300 words)\n",
    "Successful production of violacein in V. natriegens would result in faster production of the compound, making research and hereafter production of violacein much quicker. Therefore, creating a model representing this incorporation would ease prediction of production rates. Furthermore, theoretical adjustments can be assessed before spending time incorporating them in the laboratory, giving a profound advantage when deciding how to engineer an organism. We therefore want to assess a model made of V. natriegens last year by a previous computer-aided cell factory design group and optimize their growth rate. Furthermore, we want to change the media composition to evaluate on which media V. natriegens has the highest production rate of violacein in our model.  "
   ]
  },
  {
   "cell_type": "markdown",
   "metadata": {},
   "source": [
    "## 3. Project category II: Selection and assessment of existing GSM (<500 words)"
   ]
  },
  {
   "cell_type": "markdown",
   "metadata": {},
   "source": [
    "## 4. Computer-Aided Cell Factory Engineering <1500 words (Category II project)"
   ]
  },
  {
   "cell_type": "code",
   "execution_count": null,
   "metadata": {},
   "outputs": [],
   "source": []
  },
  {
   "cell_type": "code",
   "execution_count": null,
   "metadata": {},
   "outputs": [],
   "source": []
  },
  {
   "cell_type": "code",
   "execution_count": null,
   "metadata": {},
   "outputs": [],
   "source": []
  },
  {
   "cell_type": "code",
   "execution_count": null,
   "metadata": {},
   "outputs": [],
   "source": []
  },
  {
   "cell_type": "markdown",
   "metadata": {},
   "source": [
    "## 5. Discussion (<500 words)"
   ]
  },
  {
   "cell_type": "markdown",
   "metadata": {},
   "source": [
    "## 6. Conclusion (<200 words)"
   ]
  },
  {
   "cell_type": "markdown",
   "metadata": {},
   "source": [
    "## References"
   ]
  },
  {
   "cell_type": "code",
   "execution_count": null,
   "metadata": {},
   "outputs": [],
   "source": [
    "https://www.mdpi.com/1660-3397/17/12/679/htm\n",
    "    \n",
    "\n"
   ]
  },
  {
   "cell_type": "code",
   "execution_count": null,
   "metadata": {},
   "outputs": [],
   "source": []
  }
 ],
 "metadata": {
  "kernelspec": {
   "display_name": "Python 3",
   "language": "python",
   "name": "python3"
  },
  "language_info": {
   "codemirror_mode": {
    "name": "ipython",
    "version": 3
   },
   "file_extension": ".py",
   "mimetype": "text/x-python",
   "name": "python",
   "nbconvert_exporter": "python",
   "pygments_lexer": "ipython3",
   "version": "3.8.8"
  }
 },
 "nbformat": 4,
 "nbformat_minor": 4
}
