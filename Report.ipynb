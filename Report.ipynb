{
 "cells": [
  {
   "cell_type": "markdown",
   "metadata": {},
   "source": [
    "# GSM reconstruction for *Vibrio Natrigens* producing Violacein"
   ]
  },
  {
   "cell_type": "markdown",
   "metadata": {},
   "source": [
    "## 1. Introduction"
   ]
  },
  {
   "cell_type": "markdown",
   "metadata": {},
   "source": [
    "### 1.1 Literature review of the compound\n",
    "\n",
    "Violacein is a bisindole water-insoluble purple pigment, which recently has gained a lot of attention from scientists as it possesses antibacterial abilities [Füller et al.]. Violacein is mainly produced by the bacteria *Chromobacterium violaceum* and *Janthinobacterium lividum*, yet many different bacteria encompassing various genera and habitats produce violacein. Consequently, it is difficult to assess the main biological and ecological role of violacein [Choi et al.]. However, as *C. violaceum* and *J. lividum* have their natural habitat in common, living primarily in tropical habitats, one theory of violacein’s main biological role is to protect these bacteria from UV radiation [Füller et al.]. \n",
    "\n",
    "Violacein has been found to have strong antibacterial properties and is particularly strong towards Gram-positive bacterial strains and have been found to inhibit *Staphylococcus aureus* growth at concentrations between 5.7 and 15 mg/L, a very promising result as *S. aureus* is a known multidrug resistant pathogen [Choi et al.]. However, violacein’s biological activity is not limited to prokaryotes. It has also been found to have negative effects on bacteriovorus protozoans and metazoans. Additionally, administering violacein in a combination with other antibiotics enhances the overall impact on the bacteria. \n",
    "\n",
    "Additionally, to being able to fight bacterial infections, violacein also have potential as a cancer therapeutic. This has been demonstrated in vitro by violacein’s ability to induce apoptosis in HL60 cells, which is a cell line model of myeloid leukemia, without affecting the normal lymphocytes. These results are further asserted by an in vivo study in an Ehrlich ascites tumor (EAT) mouse model where scientists found that daily intraperitoneal injections of 0.1 ug/kg violacein significantly increased the survival rate of the mice [Choi et al.]. However, violacein is also cytotoxic towards healthy cells so the concentration of the compound is very important to evaluate if administered as a cancer therapeutic.  \n",
    "\n",
    "Nonetheless, these results indicate that violacein is a compound which should be investigated further in regard to combatting diseases. Neither *C. violaceum* or *J. lividum* are well-established experimental organisms, which therefore can cause unforeseen problems when trying to grow them in the laboratory. Transferring the ability to produce violacein by genome editing to another microorganism could therefore be beneficial. Such experiments have already been done in *Escherichia coli* [Rodrigues et al.]. \n"
   ]
  },
  {
   "cell_type": "markdown",
   "metadata": {},
   "source": [
    "### 1.2 Literature review of the cell factory (<500 words)\n",
    "\n",
    "*Vibrio natriegens* is a marine bacterium and is currently the fastest-growing non-pathogenic bacterium known, with a doubling time of less than 10 minutes. It is a Gram-negative, rod-shaped bacterium with a single polar flagellum. It tolerates a broad range of pH conditions with an optimum of pH = 7.5, and an optimal growth temperature at 37oC and cannot survive storage at 4oC for extended periods. Due to the extremely fast generation time, *V. natriegens* has gained a lot of interest over the past few years, with some scientists postulating that it might have the potential to replace *E. coli* as the main microorganism in laboratory settings. Besides the faster generation time than *E. coli*, *V. natriegens* is also able to grow to significantly higher cell densities [Hoff et al.]. \n",
    "\n",
    "However, to replace the established model organism *E. coli* as the preferred microorganism, the genetic constructs made for *E. coli* must be transferrable, otherwise it would be very time consuming to switch to *V. natriegens*. One decisive factor of this transferability is the codon usage by the organism. When comparing the codon usage between *E. coli* and *V. natriegens* a strong correlation can be seen, suggesting that genetic constructs built for *E. coli* usually will be functional in *V. natriegens* (Figure 1). None the less, some codons deviate up to twofold between the organisms, and codon optimization might therefore be needed in such instances [Hoff et al. 2020, Lee et al. 2016].  \n",
    "\n",
    " "
   ]
  },
  {
   "cell_type": "code",
   "execution_count": 5,
   "metadata": {},
   "outputs": [
    {
     "data": {
      "text/html": [
       "<img src=\"Figures_report/figure1.png\" width=\"300\" class=\"unconfined\"/>"
      ],
      "text/plain": [
       "<IPython.core.display.Image object>"
      ]
     },
     "metadata": {},
     "output_type": "display_data"
    }
   ],
   "source": [
    "from IPython.core.display import Image, display\n",
    "display(Image(url='Figures_report/figure1.png', width=300, unconfined=True))"
   ]
  },
  {
   "cell_type": "markdown",
   "metadata": {},
   "source": [
    "Figure 1: Comparison of codon usage between *V. natriegens* and *E. coli*. The circles represent the frequency of one codon in *V. natriegens* and *E. coli* where frequency is defined as the occurrence of one paerticular codon per 1000 codons in protein-coding sequences within the genome [Lee et al. 2016]. "
   ]
  },
  {
   "cell_type": "markdown",
   "metadata": {},
   "source": [
    "Beside of the codon usage, genetic manipulation of the organism most also be feasible For *V. natriegens* to become the new major workhorse for laboratory routines. Several genetic tools have been established for engineering *V. natriegens* including electroporation, recombineering, multiplexed genome editing via natural transformation (MuGENT), heat shock transformation, conjugation and CRISPR-Cas9 of which electroporation is the most efficient (figure 2) [Hoff et al. ]. Importantly, the current CRISPR-Cas9 system alone is not sufficient for generation of mutants as *V. natriegens* shows significant toxicity to double stranded breaks [Lee et al. 2019]. None of the transformation methods currently reaches the efficiencies in *E. coli* yet, however, most of the methods work and further optimization of protocols is an ongoing process which may further increase the efficiencies [Hoff et al. 2020]. "
   ]
  },
  {
   "cell_type": "code",
   "execution_count": 6,
   "metadata": {},
   "outputs": [
    {
     "data": {
      "text/html": [
       "<img src=\"Figures_report/figure2.png\" width=\"500\" class=\"unconfined\"/>"
      ],
      "text/plain": [
       "<IPython.core.display.Image object>"
      ]
     },
     "metadata": {},
     "output_type": "display_data"
    }
   ],
   "source": [
    "display(Image(url='Figures_report/figure2.png', width=500, unconfined=True))"
   ]
  },
  {
   "cell_type": "markdown",
   "metadata": {},
   "source": [
    "Figure 2: Currently established molecular biology techniques for transformation in V. natriegens [Hoff et al. 2020]. "
   ]
  },
  {
   "cell_type": "markdown",
   "metadata": {},
   "source": [
    "An additional advantage of *V. natriegens* is the ability to grow on various carbon sources. Out of 23 tested carbon sources *V. natriegens* was found to have the highest growth rate when growing on sucrose (µ = 1.79 ± 0.02 h-1) followed by N-acetylglucosamine (µ = 1.74 ± 0.01 h-1), glucose (µ = 1.68 ± 0.02 h-1), fructose (µ = 1.51 ± 0.08 h-1), gluconate (µ = 1.51 ± 0.01 h-1) and maltose (µ = 1.22 ± 0.01 h-1). All the other tested carbon sources did not have a growth rate above 1 h-1. This capability of metabolizing several relevant substrates makes *V. natriegens* a desirable microorganism for utilization in industrial biotechnology. Further underscoring the potential of the organism [Hoffart et al. 2017].    "
   ]
  },
  {
   "cell_type": "markdown",
   "metadata": {},
   "source": [
    "## 2. Problem definition (<300 words)\n",
    "Successful production of violacein in *V. natriegens* would result in faster production of the compound, making research and hereafter production of violacein much quicker. Therefore, creating a model representing this incorporation would ease prediction of production rates. Furthermore, theoretical adjustments can be assessed before spending time incorporating them in the laboratory, giving a profound advantage when deciding how to engineer an organism. We therefore want to assess a model made of *V. natriegens*, adding violacein pathway, and optimize their growth rate. Furthermore, we want to change the media composition to evaluate on which *V. natriegens* has the highest growth rate and production rate of violacein.  "
   ]
  },
  {
   "cell_type": "markdown",
   "metadata": {},
   "source": [
    "## 3. Project category II: Selection and assessment of existing GSM (<500 words)"
   ]
  },
  {
   "cell_type": "markdown",
   "metadata": {},
   "source": [
    "We decided to use *V. natriegens* ATCC 14048, investigated in Ellis et al. 2019 for the same goal, heterologous production of violacein in *V.natrigens*. Using the same model as the study, would allow us to compare the progression of the study, as well as growth and production. Furthermore, following *27410-2020-group-project-group-7_vibrio-natriegens* project I category, where beta-carotene production in *V.natrigens* was studied. Their analysis was performed in minimal media (M9) with glucose as carbon source, using the same genome of reference.\n",
    "\n",
    "In the [Creation_models.ipynb](/Users/rutmasdelesvalls/Documents/GitHub/CACFD/group-assignment-2021-group_1_vibrio_natriegens_2021/Creation_models.ipynb) file, one can find how *V.natrigens* model with LB media and M9 media were created using carve."
   ]
  },
  {
   "cell_type": "markdown",
   "metadata": {},
   "source": [
    "The first step would be loading cobra packages:"
   ]
  },
  {
   "cell_type": "code",
   "execution_count": 4,
   "metadata": {},
   "outputs": [],
   "source": [
    "from cobra.io import read_sbml_model"
   ]
  },
  {
   "cell_type": "markdown",
   "metadata": {},
   "source": [
    "Later we find the maximum growth rate. As observed and read through some articles (ARTICLE SAYING LB IS BETTER), the growth rate in a minimal media is way lower than in a reach media."
   ]
  },
  {
   "cell_type": "code",
   "execution_count": 5,
   "metadata": {},
   "outputs": [],
   "source": [
    "modelM9=read_sbml_model('Models/model_VN_M9.xml')"
   ]
  },
  {
   "cell_type": "code",
   "execution_count": 6,
   "metadata": {},
   "outputs": [
    {
     "name": "stdout",
     "output_type": "stream",
     "text": [
      "Maximal growth rate of Vibrio natriegens in M9 medium 0.7188575696969663\n"
     ]
    }
   ],
   "source": [
    "print(\"Maximal growth rate of Vibrio natriegens in M9 medium\", modelM9.optimize().objective_value)"
   ]
  },
  {
   "cell_type": "code",
   "execution_count": 7,
   "metadata": {},
   "outputs": [],
   "source": [
    "modelLB=read_sbml_model('Models/model_VN_LB.xml')"
   ]
  },
  {
   "cell_type": "code",
   "execution_count": 8,
   "metadata": {},
   "outputs": [
    {
     "name": "stdout",
     "output_type": "stream",
     "text": [
      "Maximal growth rate of Vibrio natriegens in LB medium 2.8405970205438997\n"
     ]
    }
   ],
   "source": [
    "print(\"Maximal growth rate of Vibrio natriegens in LB medium\", modelLB.optimize().objective_value)"
   ]
  },
  {
   "cell_type": "code",
   "execution_count": 3,
   "metadata": {},
   "outputs": [],
   "source": [
    "# NOT FINISHED YET"
   ]
  },
  {
   "cell_type": "code",
   "execution_count": null,
   "metadata": {},
   "outputs": [],
   "source": []
  },
  {
   "cell_type": "code",
   "execution_count": null,
   "metadata": {},
   "outputs": [],
   "source": []
  },
  {
   "cell_type": "markdown",
   "metadata": {},
   "source": [
    "## 4. Computer-Aided Cell Factory Engineering <1500 words (Category II project)"
   ]
  },
  {
   "cell_type": "code",
   "execution_count": 1,
   "metadata": {},
   "outputs": [],
   "source": [
    "# NOT FINISHED YET"
   ]
  },
  {
   "cell_type": "code",
   "execution_count": null,
   "metadata": {},
   "outputs": [],
   "source": []
  },
  {
   "cell_type": "code",
   "execution_count": null,
   "metadata": {},
   "outputs": [],
   "source": []
  },
  {
   "cell_type": "code",
   "execution_count": null,
   "metadata": {},
   "outputs": [],
   "source": []
  },
  {
   "cell_type": "markdown",
   "metadata": {},
   "source": [
    "## 5. Discussion (<500 words)"
   ]
  },
  {
   "cell_type": "markdown",
   "metadata": {},
   "source": [
    "## 6. Conclusion (<200 words)"
   ]
  },
  {
   "cell_type": "markdown",
   "metadata": {},
   "source": [
    "## References"
   ]
  },
  {
   "cell_type": "markdown",
   "metadata": {},
   "source": [
    "Hoffart, E., Grenz, S., Lange, J., Nitschel, R., Müller, F., Schwentner, A., et al. (2017) High substrate uptake rates empower Vibrio natriegens as production host for industrial biotechnology. Appl Environ Microbiol 83: e01614–e01617 \n",
    "\n",
    "Janis J. Füller, René Röpke, Joern Krausze, Kim E. Rennhack, Nils P. Daniel, Wulf Blankenfeldt, Stefan Schulz, Dieter Jahn, and Jürgen Moser “Biosynthesis of Violacein, Structure and Function of L-Tryptophan Oxidase VioA from Chromobacterium violaceum” \n",
    "\n",
    "Josef Hoff, Benjamin Daniel, Daniel Stukenberg, Benjamin W. Thuronyi, Torsten Waldminghaus and Georg Fritz. “Vibrio natriegens: an ultrafast-growing marinebacterium as emerging synthetic biology chassis” \n",
    "\n",
    "Lee, H.H., Ostrov, N., Gold, M.A., and Church, G.M. (2017) Recombineering in Vibrio natriegens. bioRxiv: 130088.  \n",
    "\n",
    "Lee, H.H., Ostrov, N., Wong, B.G., Gold, M.A., Khalil, A.S., and Church, G.M. (2019) Functional genomics of the rapidly replicating bacterium Vibrio natriegens by CRISPRi. Nat Microbiol 4: 1105–1113.  \n",
    "\n",
    "Lee, H.H., Ostrov, N., Wong, B.G., Gold, M.A., Khalil, A.S., and Church, G.M. (2016) Vibrio natriegens, a new genomic powerhouse. bioRxiv: 058487. https://doi.org/10.1101/058487.  \n",
    "\n",
    "Rodrigues, A. L., Trachtmann, N., Becker J., et al., “Systems metabolic engineering of Escherichia coli for production of the antitumor drugs violacein and deoxyviolacein,” Metabolic Engineering, vol. 20, pp. 29–41, 2013.  \n",
    "\n",
    "Seong Yeol Choi, Kyoung-hye Yoon, Jin Il Lee, and Robert J.Mitchell “Violacein: Properties and Production of a Versatile Bacterial Pigment” \n",
    "\n",
    " Tschirhart, T., Shukla, V., Kelly, E.E., Schultzhaus, Z., NewRingeisen, E., Erickson, J.S., et al. (2019) Synthetic biology tools for the fast-growing marine bacterium Vibrio natriegens. ACS Synth Biol 8: 2069–2079. \n",
    "\n",
    "Weinstock, M.T., Hesek, E.D., Wilson, C.M., and Gibson, D. G. (2016) Vibrio natriegens as a fast-growing host for molecular biology. Nat Methods 13: 849–851 \n",
    "\n",
    "Ellis, G. A., Tschirhart, T., Spangler, J., Walper, S. A., Medintz, I. L., & Vora, G. J. (2019). Exploiting the feedstock flexibility of the emergent synthetic biology chassis Vibrio natriegens for engineered natural product production. Marine drugs, 17(12), 679"
   ]
  }
 ],
 "metadata": {
  "kernelspec": {
   "display_name": "Python 3",
   "language": "python",
   "name": "python3"
  },
  "language_info": {
   "codemirror_mode": {
    "name": "ipython",
    "version": 3
   },
   "file_extension": ".py",
   "mimetype": "text/x-python",
   "name": "python",
   "nbconvert_exporter": "python",
   "pygments_lexer": "ipython3",
   "version": "3.8.8"
  }
 },
 "nbformat": 4,
 "nbformat_minor": 4
}
