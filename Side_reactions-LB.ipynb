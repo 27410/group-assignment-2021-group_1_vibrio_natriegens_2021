{
 "cells": [
  {
   "cell_type": "code",
   "execution_count": 23,
   "id": "5c4be1bd-5942-4ee6-833f-17f2bc711ab6",
   "metadata": {},
   "outputs": [],
   "source": [
    "from cobra.io import read_sbml_model"
   ]
  },
  {
   "cell_type": "code",
   "execution_count": 24,
   "id": "cea54e16-fadb-4d78-9ee1-20e7a16bc5f2",
   "metadata": {},
   "outputs": [],
   "source": [
    "model = read_sbml_model('Models/model_VN_LB.xml')"
   ]
  },
  {
   "cell_type": "code",
   "execution_count": 25,
   "id": "ee5925cb-2be8-49c8-b9fa-35893b21f242",
   "metadata": {},
   "outputs": [
    {
     "name": "stdout",
     "output_type": "stream",
     "text": [
      "Hydrogen peroxide h2o2_c\n",
      "Hydrogen peroxide h2o2_e\n",
      "Hydrogen peroxide h2o2_p\n",
      "Superoxide anion o2s_c\n",
      "Superoxide anion o2s_e\n",
      "Superoxide anion o2s_p\n"
     ]
    }
   ],
   "source": [
    "for metabolite in model.metabolites.query('peroxide', 'name'):\n",
    "    print(metabolite.name, metabolite.id)"
   ]
  },
  {
   "cell_type": "code",
   "execution_count": 26,
   "id": "65f81ab2-8083-4b09-a671-b24a35d8188c",
   "metadata": {},
   "outputs": [
    {
     "data": {
      "text/html": [
       "\n",
       "        <table>\n",
       "            <tr>\n",
       "                <td><strong>Metabolite identifier</strong></td><td>h2o2_c</td>\n",
       "            </tr><tr>\n",
       "                <td><strong>Name</strong></td><td>Hydrogen peroxide</td>\n",
       "            </tr><tr>\n",
       "                <td><strong>Memory address</strong></td>\n",
       "                <td>0x01d4666dd430</td>\n",
       "            </tr><tr>\n",
       "                <td><strong>Formula</strong></td><td>H2O2</td>\n",
       "            </tr><tr>\n",
       "                <td><strong>Compartment</strong></td><td>C_c</td>\n",
       "            </tr><tr>\n",
       "                <td><strong>In 27 reaction(s)</strong></td><td>\n",
       "                    SARCOX2, SPODM, METOX1s, SARCOX, GLYCTO1, METOX2s, GLXO3r, PDX5POi, LPCOXc, CAT, THIORDXi, SHGO, GBDM, URIC, NOX, GLYO1, DALAOX, GG15DAPO, ASPO6, GGPTRCO, GGDAPO, GTHPi, NADHPO, PYAM5PO, DHORDi,...</td>\n",
       "            </tr>\n",
       "        </table>"
      ],
      "text/plain": [
       "<Metabolite h2o2_c at 0x1d4666dd430>"
      ]
     },
     "execution_count": 26,
     "metadata": {},
     "output_type": "execute_result"
    }
   ],
   "source": [
    "model.metabolites.get_by_id('h2o2_c')"
   ]
  },
  {
   "cell_type": "code",
   "execution_count": 27,
   "id": "31853756-035f-4c14-8017-e6124008c2cf",
   "metadata": {},
   "outputs": [
    {
     "data": {
      "text/plain": [
       "frozenset({<Reaction APRTO2 at 0x1d467c8dbe0>,\n",
       "           <Reaction ASPO6 at 0x1d467cdef10>,\n",
       "           <Reaction CAT at 0x1d467d35dc0>,\n",
       "           <Reaction DALAOX at 0x1d467e56be0>,\n",
       "           <Reaction DHORDi at 0x1d467eabf70>,\n",
       "           <Reaction GBDM at 0x1d4680b0e50>,\n",
       "           <Reaction GG15DAPO at 0x1d4680b0ee0>,\n",
       "           <Reaction GGDAPO at 0x1d4680da730>,\n",
       "           <Reaction GGPTRCO at 0x1d4680eff10>,\n",
       "           <Reaction GGSPMDO at 0x1d4680effa0>,\n",
       "           <Reaction GLXO3r at 0x1d46811b970>,\n",
       "           <Reaction GLYCTO1 at 0x1d46819afa0>,\n",
       "           <Reaction GLYO1 at 0x1d4681acac0>,\n",
       "           <Reaction GTHPi at 0x1d4681c4f40>,\n",
       "           <Reaction LPCOXc at 0x1d465b54dc0>,\n",
       "           <Reaction METOX1s at 0x1d467b94880>,\n",
       "           <Reaction METOX2s at 0x1d467b64910>,\n",
       "           <Reaction NADHPO at 0x1d468557f40>,\n",
       "           <Reaction NOX at 0x1d46861af70>,\n",
       "           <Reaction PDX5POi at 0x1d4687659a0>,\n",
       "           <Reaction PYAM5PO at 0x1d46893df40>,\n",
       "           <Reaction SARCOX2 at 0x1d468a39c10>,\n",
       "           <Reaction SARCOX at 0x1d4689f2880>,\n",
       "           <Reaction SHGO at 0x1d468a70e20>,\n",
       "           <Reaction SPODM at 0x1d468ad2c70>,\n",
       "           <Reaction THIORDXi at 0x1d468b4ddf0>,\n",
       "           <Reaction URIC at 0x1d468c40fa0>})"
      ]
     },
     "execution_count": 27,
     "metadata": {},
     "output_type": "execute_result"
    }
   ],
   "source": [
    "# Finding the reactions that involve H2O2\n",
    "model.metabolites.get_by_id('h2o2_c').reactions"
   ]
  },
  {
   "cell_type": "code",
   "execution_count": 28,
   "id": "76b580f8-356d-413a-92ee-ce58a5570e2e",
   "metadata": {},
   "outputs": [
    {
     "name": "stdout",
     "output_type": "stream",
     "text": [
      "SARCOX2 SARCOX2: o2_c + sarcs_c + thf_c --> gly_c + h2o2_c + mlthf_c Sarcosine oxidase  tetrahydrofolate dependent \n",
      "SPODM SPODM: 2.0 h_c + 2.0 o2s_c --> h2o2_c + o2_c Superoxide dismutase\n",
      "METOX1s METOX1s: h2o2_c + met__L_c --> h2o_c + metsox_S__L_c Methionine oxidation (spontaneous)\n",
      "SARCOX SARCOX: h2o_c + o2_c + sarcs_c --> fald_c + gly_c + h2o2_c Sarcosine oxidase\n",
      "GLYCTO1 GLYCTO1: glyclt_c + o2_c --> glx_c + h2o2_c Glycolate oxidase\n",
      "METOX2s METOX2s: h2o2_c + met__L_c --> h2o_c + metsox_R__L_c Methionine oxidation 2 (spontaneous)\n",
      "GLXO3r GLXO3r: glx_c + h2o_c + o2_c --> h2o2_c + h_c + oxa_c Glyoxylate dehydrogenase\n",
      "PDX5POi PDX5POi: o2_c + pdx5p_c --> h2o2_c + pydx5p_c Pyridoxine 5'-phosphate oxidase\n",
      "LPCOXc LPCOXc: Lpipecol_c + o2_c --> h2o2_c + h_c + thp2c_c L Pipecolateoxygen 1 6 oxidoreductase\n",
      "CAT CAT: 2.0 h2o2_c --> 2.0 h2o_c + o2_c Catalase\n",
      "THIORDXi THIORDXi: h2o2_c + trdrd_c --> 2.0 h2o_c + trdox_c Hydrogen peroxide reductase (thioredoxin)\n",
      "SHGO SHGO: S2hglut_c + o2_c --> akg_c + h2o2_c S-2-hydroxyglutarate oxidase\n",
      "GBDM GBDM: glyb_c + h2o_c + o2_c --> dmgly_c + fald_c + h2o2_c Glycine betaine demethylase\n",
      "URIC URIC: 2.0 h2o_c + o2_c + urate_c --> alltn_c + co2_c + h2o2_c Uricase\n",
      "NOX NOX: h_c + nadh_c + o2_c --> h2o2_c + nad_c NADH oxidase\n",
      "GLYO1 GLYO1: gly_c + h2o_c + o2_c --> glx_c + h2o2_c + nh4_c Glycine oxidase\n",
      "DALAOX DALAOX: ala__D_c + h2o_c + o2_c --> h2o2_c + nh4_c + pyr_c D amino acid oxidase\n",
      "GG15DAPO GG15DAPO: gg15dap_c + h2o_c + o2_c --> ggbdapal_c + h2o2_c + nh4_c Gamma glutamyl cadaverine oxidase\n",
      "ASPO6 ASPO6: asp__L_c + o2_c --> h2o2_c + h_c + iasp_c L-aspartate oxidase\n",
      "GGPTRCO GGPTRCO: ggptrc_c + h2o_c + o2_c --> ggbutal_c + h2o2_c + nh4_c Gamma glutamyl putrescine oxidase\n",
      "GGDAPO GGDAPO: gg13dampp_c + h2o_c + o2_c --> ggbamppal_c + h2o2_c + nh4_c Gamma glutamyl diaminopropane oxidase\n",
      "GTHPi GTHPi: 2.0 gthrd_c + h2o2_c --> gthox_c + 2.0 h2o_c Glutathione peridoxase\n",
      "NADHPO NADHPO: h2o2_c + h_c + nadh_c --> 2.0 h2o_c + nad_c NADH peroxidase\n",
      "PYAM5PO PYAM5PO: h2o_c + o2_c + pyam5p_c --> h2o2_c + nh4_c + pydx5p_c Pyridoxamine 5'-phosphate oxidase\n",
      "DHORDi DHORDi: dhor__S_c + o2_c --> h2o2_c + orot_c Dihydoorotic acid dehydrogenase  irreversible \n",
      "GGSPMDO GGSPMDO: ggspmd_c + h2o_c + o2_c --> 13dampp_c + ggbutal_c + h2o2_c Gamma glutamyl spermidine oxidase\n",
      "APRTO2 APRTO2: aprut_c + h2o_c + o2_c --> h2o2_c + n4abutn_c + nh4_c N acetylputrescine oxygen oxireductase  deaminating \n"
     ]
    }
   ],
   "source": [
    "# Let's take a closer look at the reactions associated withHydrogen Peroxide (`h2o2_c`).\n",
    "# # We need to figure out if H2O2 is concumed in the model as it is toxic\n",
    "for reaction in model.metabolites.h2o2_c.reactions:\n",
    "    print(reaction.id, reaction, reaction.name)"
   ]
  },
  {
   "cell_type": "code",
   "execution_count": 29,
   "id": "81240d0d-312b-4bea-bd03-94b3f9e0db49",
   "metadata": {},
   "outputs": [
    {
     "name": "stdout",
     "output_type": "stream",
     "text": [
      "2.0 h2o2_c --> 2.0 h2o_c + o2_c\n",
      "h2o2_c + met__L_c --> h2o_c + metsox_S__L_c\n",
      "h2o2_c + h_c + nadh_c --> 2.0 h2o_c + nad_c\n",
      "h2o2_c + met__L_c --> h2o_c + metsox_R__L_c\n",
      "h2o2_c + trdrd_c --> 2.0 h2o_c + trdox_c\n",
      "2.0 gthrd_c + h2o2_c --> gthox_c + 2.0 h2o_c\n"
     ]
    }
   ],
   "source": [
    "# The reactions that use H2O2 are found manually\n",
    "print(model.reactions.CAT.reaction) \n",
    "print(model.reactions.METOX1s.reaction) \n",
    "print(model.reactions.NADHPO.reaction)\n",
    "print(model.reactions.METOX2s.reaction) \n",
    "print(model.reactions.THIORDXi.reaction) \n",
    "print(model.reactions.GTHPi.reaction)\n",
    "# increase the flux of one of these reactions to get rid of H2O2, it has the tools to survive"
   ]
  },
  {
   "cell_type": "code",
   "execution_count": 30,
   "id": "39302ec0-891a-4604-8200-3f798046a58e",
   "metadata": {
    "tags": []
   },
   "outputs": [
    {
     "data": {
      "text/html": [
       "\n",
       "        <table>\n",
       "            <tr>\n",
       "                <td><strong>Metabolite identifier</strong></td><td>h2o2_p</td>\n",
       "            </tr><tr>\n",
       "                <td><strong>Name</strong></td><td>Hydrogen peroxide</td>\n",
       "            </tr><tr>\n",
       "                <td><strong>Memory address</strong></td>\n",
       "                <td>0x01d4666dd490</td>\n",
       "            </tr><tr>\n",
       "                <td><strong>Formula</strong></td><td>H2O2</td>\n",
       "            </tr><tr>\n",
       "                <td><strong>Compartment</strong></td><td>C_p</td>\n",
       "            </tr><tr>\n",
       "                <td><strong>In 3 reaction(s)</strong></td><td>\n",
       "                    CCPpp, SPODMpp, H2O2tex</td>\n",
       "            </tr>\n",
       "        </table>"
      ],
      "text/plain": [
       "<Metabolite h2o2_p at 0x1d4666dd490>"
      ]
     },
     "execution_count": 30,
     "metadata": {},
     "output_type": "execute_result"
    }
   ],
   "source": [
    "model.metabolites.get_by_id('h2o2_p')"
   ]
  },
  {
   "cell_type": "code",
   "execution_count": 31,
   "id": "f4c7be03-329d-4eb5-86ab-16ccd8df918e",
   "metadata": {},
   "outputs": [
    {
     "data": {
      "text/html": [
       "\n",
       "        <table>\n",
       "            <tr>\n",
       "                <td><strong>Metabolite identifier</strong></td><td>h2o2_e</td>\n",
       "            </tr><tr>\n",
       "                <td><strong>Name</strong></td><td>Hydrogen peroxide</td>\n",
       "            </tr><tr>\n",
       "                <td><strong>Memory address</strong></td>\n",
       "                <td>0x01d4666dd460</td>\n",
       "            </tr><tr>\n",
       "                <td><strong>Formula</strong></td><td>H2O2</td>\n",
       "            </tr><tr>\n",
       "                <td><strong>Compartment</strong></td><td>C_e</td>\n",
       "            </tr><tr>\n",
       "                <td><strong>In 2 reaction(s)</strong></td><td>\n",
       "                    EX_h2o2_e, H2O2tex</td>\n",
       "            </tr>\n",
       "        </table>"
      ],
      "text/plain": [
       "<Metabolite h2o2_e at 0x1d4666dd460>"
      ]
     },
     "execution_count": 31,
     "metadata": {},
     "output_type": "execute_result"
    }
   ],
   "source": [
    "model.metabolites.get_by_id('h2o2_e')"
   ]
  },
  {
   "cell_type": "code",
   "execution_count": 32,
   "id": "6c03af28-ed8b-4e06-8791-667097663396",
   "metadata": {},
   "outputs": [
    {
     "data": {
      "text/html": [
       "<h3>h2o2_c</h3><p>H2O2</p><h4>Producing Reactions</h4><table border=\"1\" class=\"dataframe\">\n",
       "  <thead>\n",
       "    <tr style=\"text-align: right;\">\n",
       "      <th>Percent</th>\n",
       "      <th>Flux</th>\n",
       "      <th>Reaction</th>\n",
       "      <th>Definition</th>\n",
       "    </tr>\n",
       "  </thead>\n",
       "  <tbody>\n",
       "    <tr>\n",
       "      <td>100.00%</td>\n",
       "      <td>0.0006335</td>\n",
       "      <td>PDX5POi</td>\n",
       "      <td>o2_c + pdx5p_c --&gt; h2o2_c + pydx5p_c</td>\n",
       "    </tr>\n",
       "  </tbody>\n",
       "</table><h4>Consuming Reactions</h4><table border=\"1\" class=\"dataframe\">\n",
       "  <thead>\n",
       "    <tr style=\"text-align: right;\">\n",
       "      <th>Percent</th>\n",
       "      <th>Flux</th>\n",
       "      <th>Reaction</th>\n",
       "      <th>Definition</th>\n",
       "    </tr>\n",
       "  </thead>\n",
       "  <tbody>\n",
       "    <tr>\n",
       "      <td>100.00%</td>\n",
       "      <td>-0.0006335</td>\n",
       "      <td>CAT</td>\n",
       "      <td>2.0 h2o2_c --&gt; 2.0 h2o_c + o2_c</td>\n",
       "    </tr>\n",
       "  </tbody>\n",
       "</table>"
      ],
      "text/plain": [
       "<cobra.summary.metabolite_summary.MetaboliteSummary at 0x1d468e2e1c0>"
      ]
     },
     "execution_count": 32,
     "metadata": {},
     "output_type": "execute_result"
    }
   ],
   "source": [
    "model.metabolites.h2o2_c.summary()"
   ]
  },
  {
   "cell_type": "code",
   "execution_count": 33,
   "id": "26a36189-b73a-42b0-9f46-20eaf2a75ce8",
   "metadata": {},
   "outputs": [
    {
     "data": {
      "text/html": [
       "<h3>h2o2_p</h3><p>H2O2</p><h4>Producing Reactions</h4><table border=\"1\" class=\"dataframe\">\n",
       "  <thead>\n",
       "    <tr style=\"text-align: right;\">\n",
       "      <th>Percent</th>\n",
       "      <th>Flux</th>\n",
       "      <th>Reaction</th>\n",
       "      <th>Definition</th>\n",
       "    </tr>\n",
       "  </thead>\n",
       "  <tbody>\n",
       "  </tbody>\n",
       "</table><h4>Consuming Reactions</h4><table border=\"1\" class=\"dataframe\">\n",
       "  <thead>\n",
       "    <tr style=\"text-align: right;\">\n",
       "      <th>Percent</th>\n",
       "      <th>Flux</th>\n",
       "      <th>Reaction</th>\n",
       "      <th>Definition</th>\n",
       "    </tr>\n",
       "  </thead>\n",
       "  <tbody>\n",
       "  </tbody>\n",
       "</table>"
      ],
      "text/plain": [
       "<cobra.summary.metabolite_summary.MetaboliteSummary at 0x1d466460190>"
      ]
     },
     "execution_count": 33,
     "metadata": {},
     "output_type": "execute_result"
    }
   ],
   "source": [
    "model.metabolites.h2o2_p.summary()"
   ]
  },
  {
   "cell_type": "code",
   "execution_count": 34,
   "id": "f4f77899-4a33-4bc8-b7d5-b5a4d7e0afba",
   "metadata": {},
   "outputs": [
    {
     "data": {
      "text/html": [
       "<h3>h2o2_e</h3><p>H2O2</p><h4>Producing Reactions</h4><table border=\"1\" class=\"dataframe\">\n",
       "  <thead>\n",
       "    <tr style=\"text-align: right;\">\n",
       "      <th>Percent</th>\n",
       "      <th>Flux</th>\n",
       "      <th>Reaction</th>\n",
       "      <th>Definition</th>\n",
       "    </tr>\n",
       "  </thead>\n",
       "  <tbody>\n",
       "  </tbody>\n",
       "</table><h4>Consuming Reactions</h4><table border=\"1\" class=\"dataframe\">\n",
       "  <thead>\n",
       "    <tr style=\"text-align: right;\">\n",
       "      <th>Percent</th>\n",
       "      <th>Flux</th>\n",
       "      <th>Reaction</th>\n",
       "      <th>Definition</th>\n",
       "    </tr>\n",
       "  </thead>\n",
       "  <tbody>\n",
       "  </tbody>\n",
       "</table>"
      ],
      "text/plain": [
       "<cobra.summary.metabolite_summary.MetaboliteSummary at 0x1d466462d90>"
      ]
     },
     "execution_count": 34,
     "metadata": {},
     "output_type": "execute_result"
    }
   ],
   "source": [
    "model.metabolites.h2o2_e.summary()"
   ]
  },
  {
   "cell_type": "code",
   "execution_count": 35,
   "id": "62e0d6b1-490a-482f-89e9-98db8f2daf4f",
   "metadata": {},
   "outputs": [
    {
     "name": "stdout",
     "output_type": "stream",
     "text": [
      "trp__L_c\n",
      "L-Tryptophan\n",
      "frozenset({<Reaction TRPS1 at 0x1d468bc3c10>, <Reaction TRPabc at 0x1d468bdae20>, <Reaction Growth at 0x1d468e10ca0>, <Reaction TRPTA at 0x1d468bc3ee0>, <Reaction TRPtipp at 0x1d468bdad30>, <Reaction TRPt2rpp at 0x1d468bda940>, <Reaction TRPAS2 at 0x1d468babd60>, <Reaction TRPS2 at 0x1d468bc39a0>})\n",
      "trp__L_e\n",
      "L-Tryptophan\n",
      "frozenset({<Reaction TRPabc at 0x1d468bdae20>, <Reaction EX_trp__L_e at 0x1d468df3e50>, <Reaction TRPtex at 0x1d468bda670>})\n",
      "trp__L_p\n",
      "L-Tryptophan\n",
      "frozenset({<Reaction TRPtipp at 0x1d468bdad30>, <Reaction TRPt2rpp at 0x1d468bda940>, <Reaction TRPtex at 0x1d468bda670>})\n"
     ]
    }
   ],
   "source": [
    "#Finding L-trp\n",
    "for metabolite in model.metabolites.query('Tryptophan', 'name'):\n",
    "    print(metabolite.id)\n",
    "    print(metabolite.name)\n",
    "    print(metabolite.reactions) #Finding the reactions it is involved in"
   ]
  },
  {
   "cell_type": "code",
   "execution_count": 36,
   "id": "c08cbef6-3d9c-4889-b90f-aeee038b7f5d",
   "metadata": {},
   "outputs": [
    {
     "data": {
      "text/html": [
       "\n",
       "        <table>\n",
       "            <tr>\n",
       "                <td><strong>Metabolite identifier</strong></td><td>trp__L_c</td>\n",
       "            </tr><tr>\n",
       "                <td><strong>Name</strong></td><td>L-Tryptophan</td>\n",
       "            </tr><tr>\n",
       "                <td><strong>Memory address</strong></td>\n",
       "                <td>0x01d466883d90</td>\n",
       "            </tr><tr>\n",
       "                <td><strong>Formula</strong></td><td>C11H12N2O2</td>\n",
       "            </tr><tr>\n",
       "                <td><strong>Compartment</strong></td><td>C_c</td>\n",
       "            </tr><tr>\n",
       "                <td><strong>In 8 reaction(s)</strong></td><td>\n",
       "                    TRPS1, TRPabc, Growth, TRPTA, TRPtipp, TRPt2rpp, TRPAS2, TRPS2</td>\n",
       "            </tr>\n",
       "        </table>"
      ],
      "text/plain": [
       "<Metabolite trp__L_c at 0x1d466883d90>"
      ]
     },
     "execution_count": 36,
     "metadata": {},
     "output_type": "execute_result"
    }
   ],
   "source": [
    "#We can then investigate L-Trp further\n",
    "model.metabolites.get_by_id('trp__L_c')"
   ]
  },
  {
   "cell_type": "code",
   "execution_count": 37,
   "id": "8c944845-fcd2-4dc0-b5cd-4ce0a529595c",
   "metadata": {},
   "outputs": [
    {
     "data": {
      "text/plain": [
       "frozenset({<Reaction Growth at 0x1d468e10ca0>,\n",
       "           <Reaction TRPAS2 at 0x1d468babd60>,\n",
       "           <Reaction TRPS1 at 0x1d468bc3c10>,\n",
       "           <Reaction TRPS2 at 0x1d468bc39a0>,\n",
       "           <Reaction TRPTA at 0x1d468bc3ee0>,\n",
       "           <Reaction TRPabc at 0x1d468bdae20>,\n",
       "           <Reaction TRPt2rpp at 0x1d468bda940>,\n",
       "           <Reaction TRPtipp at 0x1d468bdad30>})"
      ]
     },
     "execution_count": 37,
     "metadata": {},
     "output_type": "execute_result"
    }
   ],
   "source": [
    "model.metabolites.get_by_id('trp__L_c').reactions"
   ]
  },
  {
   "cell_type": "code",
   "execution_count": 38,
   "id": "998a3255-008c-47d1-9bc7-6a6ed4169dc9",
   "metadata": {},
   "outputs": [
    {
     "name": "stdout",
     "output_type": "stream",
     "text": [
      "TRPS1 TRPS1: 3ig3p_c + ser__L_c --> g3p_c + h2o_c + trp__L_c Tryptophan synthase (indoleglycerol phosphate)\n",
      "TRPabc TRPabc: atp_c + h2o_c + trp__L_e --> adp_c + h_c + pi_c + trp__L_c \n",
      "Growth Growth: 0.000223 10fthf_c + 0.513689 ala__L_c + 0.000223 amet_c + 0.295792 arg__L_c + 0.241055 asn__L_c + 0.241055 asp__L_c + 54.124831 atp_c + 0.005205 ca2_c + 0.005205 cl_c + 0.000576 coa_c + 0.0001 cobalt2_c + 0.133508 ctp_c + 0.000709 cu2_c + 0.09158 cys__L_c + 0.026166 datp_c + 0.027017 dctp_c + 0.027017 dgtp_c + 0.026166 dttp_c + 0.000223 fad_c + 0.006715 fe2_c + 0.007808 fe3_c + 0.26316 gln__L_c + 0.26316 glu__L_c + 0.612638 gly_c + 0.215096 gtp_c + 48.601527 h2o_c + 0.094738 his__L_c + 0.290529 ile__L_c + 0.195193 k_c + 0.450531 leu__L_c + 0.343161 lys__L_c + 0.153686 met__L_c + 0.008675 mg2_c + 0.000223 mlthf_c + 0.000691 mn2_c + 0.0001 mql8_c + 0.001831 nad_c + 0.000447 nadp_c + 0.185265 phe__L_c + 0.221055 pro__L_c + 0.000223 pydx5p_c + 0.000223 ribflv_c + 0.215792 ser__L_c + 0.004338 so4_c + 0.000223 thf_c + 0.000223 thmpp_c + 0.253687 thr__L_c + 0.056843 trp__L_c + 0.137896 tyr__L_c + 0.1 uaagmda_c + 0.144104 utp_c + 0.423162 val__L_c + 0.000341 zn2_c --> 53.95 adp_c + 53.95 h_c + 53.945662 pi_c + 0.773903 ppi_c Biomass reaction\n",
      "TRPTA TRPTA: akg_c + trp__L_c <=> glu__L_c + indpyr_c Tryptophan transaminase\n",
      "TRPtipp TRPtipp: trp__L_c --> trp__L_p L-tryptophan transport out (periplasm)\n",
      "TRPt2rpp TRPt2rpp: h_p + trp__L_p --> h_c + trp__L_c L-tryptophan reversible transport via proton symport (periplasm)\n",
      "TRPAS2 TRPAS2: h2o_c + trp__L_c <=> indole_c + nh4_c + pyr_c Tryptophanase (L-tryptophan)\n",
      "TRPS2 TRPS2: indole_c + ser__L_c --> h2o_c + trp__L_c Tryptophan synthase (indole)\n"
     ]
    }
   ],
   "source": [
    "for reaction in model.metabolites.trp__L_c.reactions:\n",
    "    print(reaction.id, reaction, reaction.name)"
   ]
  },
  {
   "cell_type": "code",
   "execution_count": 39,
   "id": "4fa60d09-792e-4fb8-bb95-9f4191f4019b",
   "metadata": {},
   "outputs": [
    {
     "name": "stdout",
     "output_type": "stream",
     "text": [
      "fe2_c\n",
      "fe2_e\n",
      "fe2_p\n",
      "fe3_c\n",
      "fe3_e\n",
      "fe3_p\n",
      "fe3dcit_e\n",
      "fe3dcit_p\n",
      "fe3pyovd_kt_e\n",
      "fe3pyovd_kt_p\n",
      "feenter_c\n",
      "feenter_e\n",
      "feenter_p\n",
      "feoxam_c\n",
      "feoxam_e\n",
      "feoxam_p\n",
      "feoxam_un_c\n",
      "feoxam_un_e\n",
      "feoxam_un_p\n",
      "fer_c\n",
      "fer_e\n",
      "fer_p\n",
      "ficytc_c\n",
      "focytc_c\n",
      "hemeO_c\n",
      "pheme_c\n",
      "pheme_e\n",
      "pheme_p\n",
      "salchs4fe_c\n",
      "salchs4fe_e\n",
      "salchs4fe_p\n",
      "sheme_c\n"
     ]
    }
   ],
   "source": [
    "#Finding Fe\n",
    "for metabolite in model.metabolites.query('Fe', 'name'):\n",
    "    print(metabolite.id)"
   ]
  },
  {
   "cell_type": "code",
   "execution_count": 40,
   "id": "4060aaa5-bd5f-4737-a084-8eceaaeefcbf",
   "metadata": {},
   "outputs": [
    {
     "data": {
      "text/html": [
       "\n",
       "        <table>\n",
       "            <tr>\n",
       "                <td><strong>Metabolite identifier</strong></td><td>fe2_c</td>\n",
       "            </tr><tr>\n",
       "                <td><strong>Name</strong></td><td>Fe2+ mitochondria</td>\n",
       "            </tr><tr>\n",
       "                <td><strong>Memory address</strong></td>\n",
       "                <td>0x01d466658910</td>\n",
       "            </tr><tr>\n",
       "                <td><strong>Formula</strong></td><td>Fe</td>\n",
       "            </tr><tr>\n",
       "                <td><strong>Compartment</strong></td><td>C_c</td>\n",
       "            </tr><tr>\n",
       "                <td><strong>In 17 reaction(s)</strong></td><td>\n",
       "                    FCLT, SMIA2abc, Growth, SALCHS4FER3, FE2t, FE2t3pp, FE2abcpp, FE2Gabcpp, FEOXAMR3, FEOXAMR2, FE2abc, FEROc, FE3Ri, SHCHF, FEENTERR3, FEOXAMR1, FE2t4pp</td>\n",
       "            </tr>\n",
       "        </table>"
      ],
      "text/plain": [
       "<Metabolite fe2_c at 0x1d466658910>"
      ]
     },
     "execution_count": 40,
     "metadata": {},
     "output_type": "execute_result"
    }
   ],
   "source": [
    "model.metabolites.get_by_id('fe2_c')"
   ]
  },
  {
   "cell_type": "code",
   "execution_count": 41,
   "id": "fa2fa722-6bd5-4170-b6ee-2924e5c8727a",
   "metadata": {},
   "outputs": [
    {
     "name": "stdout",
     "output_type": "stream",
     "text": [
      "FCLT FCLT: fe2_c + ppp9_c --> 2.0 h_c + pheme_c Ferrochelatase\n",
      "SMIA2abc SMIA2abc: atp_c + h2o_c + istfrnA_e --> adp_c + fe2_c + h_c + pi_c + stfrnA_c Siderophore Mediated Iron Acquisition: Staphyloferrin B transport via ABC\n",
      "Growth Growth: 0.000223 10fthf_c + 0.513689 ala__L_c + 0.000223 amet_c + 0.295792 arg__L_c + 0.241055 asn__L_c + 0.241055 asp__L_c + 54.124831 atp_c + 0.005205 ca2_c + 0.005205 cl_c + 0.000576 coa_c + 0.0001 cobalt2_c + 0.133508 ctp_c + 0.000709 cu2_c + 0.09158 cys__L_c + 0.026166 datp_c + 0.027017 dctp_c + 0.027017 dgtp_c + 0.026166 dttp_c + 0.000223 fad_c + 0.006715 fe2_c + 0.007808 fe3_c + 0.26316 gln__L_c + 0.26316 glu__L_c + 0.612638 gly_c + 0.215096 gtp_c + 48.601527 h2o_c + 0.094738 his__L_c + 0.290529 ile__L_c + 0.195193 k_c + 0.450531 leu__L_c + 0.343161 lys__L_c + 0.153686 met__L_c + 0.008675 mg2_c + 0.000223 mlthf_c + 0.000691 mn2_c + 0.0001 mql8_c + 0.001831 nad_c + 0.000447 nadp_c + 0.185265 phe__L_c + 0.221055 pro__L_c + 0.000223 pydx5p_c + 0.000223 ribflv_c + 0.215792 ser__L_c + 0.004338 so4_c + 0.000223 thf_c + 0.000223 thmpp_c + 0.253687 thr__L_c + 0.056843 trp__L_c + 0.137896 tyr__L_c + 0.1 uaagmda_c + 0.144104 utp_c + 0.423162 val__L_c + 0.000341 zn2_c --> 53.95 adp_c + 53.95 h_c + 53.945662 pi_c + 0.773903 ppi_c Biomass reaction\n",
      "SALCHS4FER3 SALCHS4FER3: rbflvrd_c + 2.0 salchs4fe_c --> 2.0 fe2_c + 4.0 h_c + ribflv_c + 2.0 salchs4_c Salmochelin S4 Fe III reduction Fe III unloading \n",
      "FE2t FE2t: fe2_e --> fe2_c Iron  II  transport\n",
      "FE2t3pp FE2t3pp: fe2_c + h_p --> fe2_p + h_c Iron (Fe+2) transport out via proton antiport (periplasm)\n",
      "FE2abcpp FE2abcpp: atp_c + fe2_p + h2o_c --> adp_c + fe2_c + h_c + pi_c Iron (II) transport via ABC system (periplasm)\n",
      "FE2Gabcpp FE2Gabcpp: fe2_p + gtp_c + h2o_c --> fe2_c + gdp_c + h_c + pi_c Iron (II) transport via ABC system (GTP) (periplasm)\n",
      "FEOXAMR3 FEOXAMR3: 2.0 feoxam_c + rbflvrd_c --> 2.0 fe2_c + 2.0 feoxam_un_c + 2.0 h_c + ribflv_c Ferroxamine reductase\n",
      "FEOXAMR2 FEOXAMR2: 2.0 feoxam_c + fmnh2_c --> 2.0 fe2_c + 2.0 feoxam_un_c + fmn_c + 2.0 h_c Ferroxamine reductase\n",
      "FE2abc FE2abc: atp_c + fe2_e + h2o_c --> adp_c + fe2_c + h_c + pi_c Iron (II) transport via ABC system\n",
      "FEROc FEROc: 4.0 fe2_c + 4.0 h_c + o2_c --> 4.0 fe3_c + 2.0 h2o_c Ferroxidase\n",
      "FE3Ri FE3Ri: fadh2_c + 2.0 fe3_c --> fad_c + 2.0 fe2_c + 2.0 h_c Fe(III) reduction\n",
      "SHCHF SHCHF: fe2_c + scl_c --> 3.0 h_c + sheme_c Sirohydrochlorin ferrochelatase\n",
      "FEENTERR3 FEENTERR3: 2.0 feenter_c + rbflvrd_c --> 2.0 enter_c + 2.0 fe2_c + 2.0 h_c + ribflv_c Fe-enterobactin reduction (Fe(III)-unloading)\n",
      "FEOXAMR1 FEOXAMR1: fadh2_c + 2.0 feoxam_c --> fad_c + 2.0 fe2_c + 2.0 feoxam_un_c + 2.0 h_c Ferroxamine reductase\n",
      "FE2t4pp FE2t4pp: fe2_c + h_p + k_p --> fe2_p + h_c + k_c Iron(II) transport out via antiport (periplasm)\n"
     ]
    }
   ],
   "source": [
    "for reaction in model.metabolites.fe2_c.reactions:\n",
    "    print(reaction.id, reaction, reaction.name)"
   ]
  },
  {
   "cell_type": "code",
   "execution_count": 42,
   "id": "c8697c8a-7721-4694-84ae-3ae5c306556f",
   "metadata": {},
   "outputs": [
    {
     "name": "stdout",
     "output_type": "stream",
     "text": [
      "cl_c\n",
      "cl_e\n",
      "cl_p\n"
     ]
    }
   ],
   "source": [
    "#Finding Cl\n",
    "for metabolite in model.metabolites.query('Chloride', 'name'):\n",
    "    print(metabolite.id)"
   ]
  },
  {
   "cell_type": "code",
   "execution_count": 43,
   "id": "9c2250d6-a8f5-4ac1-b847-bbec5e894d91",
   "metadata": {},
   "outputs": [
    {
     "data": {
      "text/html": [
       "\n",
       "        <table>\n",
       "            <tr>\n",
       "                <td><strong>Metabolite identifier</strong></td><td>cl_c</td>\n",
       "            </tr><tr>\n",
       "                <td><strong>Name</strong></td><td>Chloride</td>\n",
       "            </tr><tr>\n",
       "                <td><strong>Memory address</strong></td>\n",
       "                <td>0x01d4665f03a0</td>\n",
       "            </tr><tr>\n",
       "                <td><strong>Formula</strong></td><td>Cl</td>\n",
       "            </tr><tr>\n",
       "                <td><strong>Compartment</strong></td><td>C_c</td>\n",
       "            </tr><tr>\n",
       "                <td><strong>In 3 reaction(s)</strong></td><td>\n",
       "                    Growth, CLt3_2pp, Clt</td>\n",
       "            </tr>\n",
       "        </table>"
      ],
      "text/plain": [
       "<Metabolite cl_c at 0x1d4665f03a0>"
      ]
     },
     "execution_count": 43,
     "metadata": {},
     "output_type": "execute_result"
    }
   ],
   "source": [
    "model.metabolites.get_by_id('cl_c')"
   ]
  },
  {
   "cell_type": "code",
   "execution_count": 44,
   "id": "0630a57c-9339-47a4-9557-abecdd5d3bd2",
   "metadata": {},
   "outputs": [
    {
     "name": "stdout",
     "output_type": "stream",
     "text": [
      "Growth Growth: 0.000223 10fthf_c + 0.513689 ala__L_c + 0.000223 amet_c + 0.295792 arg__L_c + 0.241055 asn__L_c + 0.241055 asp__L_c + 54.124831 atp_c + 0.005205 ca2_c + 0.005205 cl_c + 0.000576 coa_c + 0.0001 cobalt2_c + 0.133508 ctp_c + 0.000709 cu2_c + 0.09158 cys__L_c + 0.026166 datp_c + 0.027017 dctp_c + 0.027017 dgtp_c + 0.026166 dttp_c + 0.000223 fad_c + 0.006715 fe2_c + 0.007808 fe3_c + 0.26316 gln__L_c + 0.26316 glu__L_c + 0.612638 gly_c + 0.215096 gtp_c + 48.601527 h2o_c + 0.094738 his__L_c + 0.290529 ile__L_c + 0.195193 k_c + 0.450531 leu__L_c + 0.343161 lys__L_c + 0.153686 met__L_c + 0.008675 mg2_c + 0.000223 mlthf_c + 0.000691 mn2_c + 0.0001 mql8_c + 0.001831 nad_c + 0.000447 nadp_c + 0.185265 phe__L_c + 0.221055 pro__L_c + 0.000223 pydx5p_c + 0.000223 ribflv_c + 0.215792 ser__L_c + 0.004338 so4_c + 0.000223 thf_c + 0.000223 thmpp_c + 0.253687 thr__L_c + 0.056843 trp__L_c + 0.137896 tyr__L_c + 0.1 uaagmda_c + 0.144104 utp_c + 0.423162 val__L_c + 0.000341 zn2_c --> 53.95 adp_c + 53.95 h_c + 53.945662 pi_c + 0.773903 ppi_c Biomass reaction\n",
      "CLt3_2pp CLt3_2pp: 2.0 cl_p + h_c <-- 2.0 cl_c + h_p Chloride transport out via proton antiport (2:1) (periplasm)\n",
      "Clt Clt: cl_e <=> cl_c Major Facilitator(MFS) TCDB:2.A.1.14.6\n"
     ]
    }
   ],
   "source": [
    "for reaction in model.metabolites.cl_c.reactions:\n",
    "    print(reaction.id, reaction, reaction.name)"
   ]
  },
  {
   "cell_type": "code",
   "execution_count": null,
   "id": "dd18bb04-618d-4411-be0a-f0c97e361110",
   "metadata": {},
   "outputs": [],
   "source": []
  },
  {
   "cell_type": "code",
   "execution_count": null,
   "id": "1c25b0cb-33f6-45ea-a082-65604bb41cce",
   "metadata": {},
   "outputs": [],
   "source": []
  }
 ],
 "metadata": {
  "kernelspec": {
   "display_name": "Python 3",
   "language": "python",
   "name": "python3"
  },
  "language_info": {
   "codemirror_mode": {
    "name": "ipython",
    "version": 3
   },
   "file_extension": ".py",
   "mimetype": "text/x-python",
   "name": "python",
   "nbconvert_exporter": "python",
   "pygments_lexer": "ipython3",
   "version": "3.8.8"
  }
 },
 "nbformat": 4,
 "nbformat_minor": 5
}
