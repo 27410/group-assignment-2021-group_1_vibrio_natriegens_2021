{
 "cells": [
  {
   "cell_type": "markdown",
   "id": "3dbf6660",
   "metadata": {},
   "source": [
    "This file is for showing enhancing and knockout strategies. It will be finished in the evening of the 21st of November.\n"
   ]
  },
  {
   "cell_type": "markdown",
   "id": "92ee9189",
   "metadata": {},
   "source": [
    "!!Under Constructioin!!"
   ]
  }
 ],
 "metadata": {
  "kernelspec": {
   "display_name": "Python 3",
   "language": "python",
   "name": "python3"
  },
  "language_info": {
   "codemirror_mode": {
    "name": "ipython",
    "version": 3
   },
   "file_extension": ".py",
   "mimetype": "text/x-python",
   "name": "python",
   "nbconvert_exporter": "python",
   "pygments_lexer": "ipython3",
   "version": "3.6.13"
  }
 },
 "nbformat": 4,
 "nbformat_minor": 5
}
