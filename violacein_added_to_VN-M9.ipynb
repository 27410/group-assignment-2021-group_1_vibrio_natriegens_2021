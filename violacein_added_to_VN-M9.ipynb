{
 "cells": [
  {
   "cell_type": "code",
   "execution_count": 2,
   "id": "f66caf12-dcbc-45f1-842b-31d20b2c5897",
   "metadata": {},
   "outputs": [],
   "source": [
    "from cobra import Reaction, Metabolite\n",
    "from cobra.io import read_sbml_model\n",
    "from cobra.io import write_sbml_model"
   ]
  },
  {
   "cell_type": "markdown",
   "id": "065ae3d9-40dd-406d-8b9c-fc2b4e4f6f09",
   "metadata": {},
   "source": [
    "The metabolism of V. natriegens ATCC 14048 was investigated by Long et al. by carbon-13 flux analysis in order to determine intracellular metabolic fluxes of this organism (Long et al. 2017). These analyses were performed in a minimal media (M9) with glucose as an carbon source. For this reason, the refseq of V. natriegens ATCC 14048 from NCBI is chosen for the construction of the GSM in order to have as much simularity as possible to the isolate used. (TAKEN FROM GROUP7-2020)"
   ]
  },
  {
   "cell_type": "code",
   "execution_count": 62,
   "id": "be0b2b6d-fa2b-4bf9-9aed-19cd834c7e61",
   "metadata": {},
   "outputs": [],
   "source": [
    "modelM9=read_sbml_model('Models/Vibrio-natriegens-ATCC_14048-M9.xml')"
   ]
  },
  {
   "cell_type": "code",
   "execution_count": 63,
   "id": "e3dafd35-f05c-4f25-9a98-c31c193851c5",
   "metadata": {},
   "outputs": [
    {
     "name": "stdout",
     "output_type": "stream",
     "text": [
      "Number of reactions: 2639\n",
      "Number of metabolites: 1698\n",
      "Number of genes included in the model: 1404\n"
     ]
    }
   ],
   "source": [
    "print(\"Number of reactions:\", len(modelM9.reactions))\n",
    "print(\"Number of metabolites:\", len(modelM9.metabolites))\n",
    "print(\"Number of genes included in the model:\", len(modelM9.genes))"
   ]
  },
  {
   "cell_type": "markdown",
   "id": "cb63d876-5895-4279-b901-d6e11fdb0f69",
   "metadata": {},
   "source": [
    "Percentage of coding genes covered (from: https://www.ncbi.nlm.nih.gov/nuccore/520916752?report=genbank)"
   ]
  },
  {
   "cell_type": "code",
   "execution_count": 64,
   "id": "bf7cd248-3630-4d71-8b4a-8061e572d470",
   "metadata": {},
   "outputs": [
    {
     "name": "stdout",
     "output_type": "stream",
     "text": [
      "Percentage of genes included in the model compared to the number of existing coding genes in Vibrio natrigens(4513 genes): 31.11 %\n"
     ]
    }
   ],
   "source": [
    "print(\"Percentage of genes included in the model compared to the number of existing coding genes in Vibrio natrigens(4513 genes):\",round(((len(modelM9.genes)*100)/4513), 3),\"%\")"
   ]
  },
  {
   "cell_type": "markdown",
   "id": "0fd44c14-52bb-425f-ade5-2f626db402f5",
   "metadata": {},
   "source": [
    "We start this study checking the initial growth rate, for a later comparison with the optimised model we will create."
   ]
  },
  {
   "cell_type": "code",
   "execution_count": 65,
   "id": "7289655a-aae0-42ce-b8d5-2df9650208b6",
   "metadata": {},
   "outputs": [
    {
     "name": "stdout",
     "output_type": "stream",
     "text": [
      "Maximal growth rate of Vibrio natriegens in M9 medium: 0.818\n"
     ]
    }
   ],
   "source": [
    "print(\"Maximal growth rate of Vibrio natriegens in M9 medium:\", round(modelM9.optimize().objective_value, 3))"
   ]
  },
  {
   "cell_type": "markdown",
   "id": "f7e585b1-f366-44fa-9be4-2ec0b7d005a9",
   "metadata": {},
   "source": [
    "First, one has to look for the start point of the violacein pathway, which is known to be tryptophan synthase."
   ]
  },
  {
   "cell_type": "code",
   "execution_count": 66,
   "id": "3f2b1757-1c46-43a5-aa29-cadac4fd806c",
   "metadata": {},
   "outputs": [
    {
     "data": {
      "text/html": [
       "\n",
       "        <table>\n",
       "            <tr>\n",
       "                <td><strong>Reaction identifier</strong></td><td>TRPS2</td>\n",
       "            </tr><tr>\n",
       "                <td><strong>Name</strong></td><td>Tryptophan synthase (indole)</td>\n",
       "            </tr><tr>\n",
       "                <td><strong>Memory address</strong></td>\n",
       "                <td>0x07f892252c940</td>\n",
       "            </tr><tr>\n",
       "                <td><strong>Stoichiometry</strong></td>\n",
       "                <td>\n",
       "                    <p style='text-align:right'>indole_c + ser__L_c --> h2o_c + trp__L_c</p>\n",
       "                    <p style='text-align:right'>Indole + L-Serine --> H2O + L-Tryptophan</p>\n",
       "                </td>\n",
       "            </tr><tr>\n",
       "                <td><strong>GPR</strong></td><td>WP_020335269_1 or ( WP_014232411_1 and WP_020335573_1 )</td>\n",
       "            </tr><tr>\n",
       "                <td><strong>Lower bound</strong></td><td>0.0</td>\n",
       "            </tr><tr>\n",
       "                <td><strong>Upper bound</strong></td><td>1000.0</td>\n",
       "            </tr>\n",
       "        </table>\n",
       "        "
      ],
      "text/plain": [
       "<Reaction TRPS2 at 0x7f892252c940>"
      ]
     },
     "execution_count": 66,
     "metadata": {},
     "output_type": "execute_result"
    }
   ],
   "source": [
    "modelM9.reactions.TRPS2 # Reaction before L-trp -> IPA Imine"
   ]
  },
  {
   "cell_type": "markdown",
   "id": "ecc6cb16-db69-4ed8-97a2-aaddcdb50007",
   "metadata": {},
   "source": [
    "After finding the starting point of the violacein pathway, one has to make sure that side reactions of violacein production are leveled in the model. This reactions involve chlorines, hemo groups and pyruvate. \n",
    "The proper study can be found in *Side_reactions-M9.ipynb*, where it is ensured that the model is properly balanced, and the species would not die."
   ]
  },
  {
   "cell_type": "markdown",
   "id": "33e3c054-a66d-4ca3-970c-1e6b92eb83e9",
   "metadata": {},
   "source": [
    "Once everything is properly balanced, one can start adding violacein production pathway."
   ]
  },
  {
   "cell_type": "markdown",
   "id": "7c6359cd-3140-402f-92f6-ae86b00e54ef",
   "metadata": {},
   "source": [
    "First, one must define all metabolites used that are not native to *Vibrio Natrigens*."
   ]
  },
  {
   "cell_type": "code",
   "execution_count": 67,
   "id": "4357ec07-8ecb-4b5f-93f6-731b2b31c12b",
   "metadata": {},
   "outputs": [],
   "source": [
    "# --- For violacein production ---\n",
    "ipa_c=Metabolite(id='ipa_c', formula='C11H10N2O2', name='2-Imino-3-(indol-3-yl)propanoate', compartment='c')\n",
    "ipa_dimer_c=Metabolite(id='ipa_dimer_c', compartment='c')\n",
    "ptdv_c=Metabolite(id='ptdv_c', formula='C21H15N3O2', name='Protodeoxyviolaceinate', compartment='c')\n",
    "ptv_c=Metabolite(id='ptv_c', formula='C21H15N3O3', name='Protoviolaceinate', compartment='c')\n",
    "va_c=Metabolite(id='va_c', formula='C21H15N3O4', name='Violaceinate', compartment='c')\n",
    "v_c=Metabolite(id='v_c', formula='C20H13N3O3', name='Violacein', compartment='c')\n",
    "# --- Side reactions ---\n",
    "cp_c=Metabolite(id='cp_c', formula='C22H15N3O4', name='Chromopyrrolate', compartment='c')\n",
    "dva_c=Metabolite(id='dva_c', formula='C21H15N3O3', name='Deoxyviolaceinate', compartment='c')\n",
    "dv_c=Metabolite(id='dv_c', formula='C20H13N3O2', name='Deoxyviolacein', compartment='c')\n",
    "pdv_c=Metabolite(id='pdv_c',formula='C20H13N3O', name='Prodeoxyviolacein', compartment='c')\n",
    "pv_c=Metabolite(id='pv_c',formula='C20H13N3O2', name='Proviolacein', compartment='c')"
   ]
  },
  {
   "cell_type": "markdown",
   "id": "33b778a3-5f98-4ee7-a35f-d066367a8a08",
   "metadata": {},
   "source": [
    "Later, the reactions from tryptophan to violacein have to be built."
   ]
  },
  {
   "cell_type": "code",
   "execution_count": 68,
   "id": "0e6b625d-1e0b-4123-9afe-0fde20fe96a6",
   "metadata": {},
   "outputs": [],
   "source": [
    "Reaction_VioA_FAD=Reaction('IPA_imine_VioA_FAD') # L-tryptophan + FAD <=> IPA imine + FADH2\n",
    "\n",
    "Reaction_VioA_FAD.add_metabolites({modelM9.metabolites.trp__L_c: -1, # L-tryptophan\n",
    "                                 modelM9.metabolites.fad_c: -1, # FAD\n",
    "                                 ipa_c: 1, # IPA imine\n",
    "                                 modelM9.metabolites.fadh2_c: 1 # FADH2\n",
    "                                })"
   ]
  },
  {
   "cell_type": "code",
   "execution_count": 69,
   "id": "a8547827-865d-40cc-9227-fa6ea9b24ad0",
   "metadata": {},
   "outputs": [],
   "source": [
    "Reaction_VioA_O2=Reaction('IPA_imine_VioA_O2') # L-Tryptophan + Oxygen <=> IPA imine + Hydrogen peroxide\n",
    "\n",
    "Reaction_VioA_O2.add_metabolites({modelM9.metabolites.trp__L_c: -1,   # L-tryptophan\n",
    "                                 modelM9.metabolites.o2_c: -1,            # Oxygen\n",
    "                                 ipa_c: 1,                               # IPA imine\n",
    "                                 modelM9.metabolites.h2o2_c: 1            # Hydrogen peroxide\n",
    "                                })"
   ]
  },
  {
   "cell_type": "code",
   "execution_count": 70,
   "id": "b8337ea2-154c-4ded-9733-218a2cdb448f",
   "metadata": {},
   "outputs": [],
   "source": [
    "Reaction_VioB=Reaction('IPA_imine_dimer_VioB') #  # 2 IPA imine + Fe2+ => IPA imine dimer + Fe3+ \n",
    "\n",
    "Reaction_VioB.add_metabolites({ipa_c: -2,               # IPA imine\n",
    "                                 modelM9.metabolites.fe2_c: -1,    # Fe2+\n",
    "                                 ipa_dimer_c: 1,                  # IPA imine dimer\n",
    "                                 modelM9.metabolites.fe3_c: 1      # Fe3+ \n",
    "                                })"
   ]
  },
  {
   "cell_type": "code",
   "execution_count": 71,
   "id": "c24ffb10-de63-44d5-af60-ab6327e0b261",
   "metadata": {},
   "outputs": [],
   "source": [
    "Reaction_Chromopyrrolate=Reaction('Chromopyrrolate') # IPA imine dimer <=> Chromopyrollic acid + NH3 \n",
    "\n",
    "Reaction_Chromopyrrolate.add_metabolites({ipa_dimer_c: -1,         # IPA imine\n",
    "                                 cp_c: 1,                   # Chromopyrollic acid\n",
    "                                 modelM9.metabolites.nh3_c: 1       # NH3 \n",
    "                                })"
   ]
  },
  {
   "cell_type": "code",
   "execution_count": 72,
   "id": "9f25e4c4-b2d8-43fe-83ea-695f85bdd087",
   "metadata": {},
   "outputs": [],
   "source": [
    "Reaction_VioE=Reaction('Protodeoxyviolaceinate_VioE') # IPA imine dimer <=> Protodeoxyviolaceinic acid + CO2 + NH3\n",
    "\n",
    "Reaction_VioE.add_metabolites({ipa_dimer_c: -1,      # IPA imine dimer\n",
    "                                 modelM9.metabolites.co2_c: 1,          # CO2\n",
    "                                 ptdv_c: 1,                            # Protodeoxyviolaceinic acid\n",
    "                                 modelM9.metabolites.nh3_c: 1           # NH3 \n",
    "                                })"
   ]
  },
  {
   "cell_type": "code",
   "execution_count": 73,
   "id": "e6ffa7b1-38a8-47cb-a333-a13928ec92f4",
   "metadata": {},
   "outputs": [],
   "source": [
    "Reaction_Prodeoxyviolacein=Reaction('Prodeoxyviolacein') # Protodeoxyviolaceinic acid + O2 <=> Prodeoxyviolacein + CO2 +H2O\n",
    "\n",
    "Reaction_Prodeoxyviolacein.add_metabolites({ptdv_c: -1,                # Protodeoxyviolaceinic acid\n",
    "                                 modelM9.metabolites.o2_c: -1,          # Oxygen         \n",
    "                                 pdv_c: 1,                             # Prodeoxyviolacein\n",
    "                                 modelM9.metabolites.co2_c: 1,          # CO2\n",
    "                                 modelM9.metabolites.h2o_c: 1           # H2O\n",
    "                                })"
   ]
  },
  {
   "cell_type": "code",
   "execution_count": 74,
   "id": "0b3598cd-be90-4ba3-9808-758908c02205",
   "metadata": {},
   "outputs": [],
   "source": [
    "Reaction_Deoxyviolaceinate_VioC=Reaction('Deoxyviolaceinate_VioC') # Protodeoxyviolaceinic acid + Oxygen + NADPH + H+ <=> Deoxyviolaceinic acid + NADP+ + H2O\n",
    "\n",
    "Reaction_Deoxyviolaceinate_VioC.add_metabolites({ptdv_c: -1,           # Protodeoxyviolaceinic acid\n",
    "                                 modelM9.metabolites.nadph_c: -1,       # NADPH\n",
    "                                 modelM9.metabolites.o2_c: -1,          # Oxygen\n",
    "                                 modelM9.metabolites.h_c: -1,           # H+           \n",
    "                                 dva_c: 1,                             # Deoxyviolaceinic acid\n",
    "                                 modelM9.metabolites.nadp_c: 1,         # NADP+\n",
    "                                 modelM9.metabolites.h2o_c: 1           # H2O\n",
    "                                })"
   ]
  },
  {
   "cell_type": "code",
   "execution_count": 75,
   "id": "a11c033c-ddda-4c1b-8b0e-dd702e8cb7db",
   "metadata": {},
   "outputs": [],
   "source": [
    "Reaction_Deoxyviolacein=Reaction('Deoxyviolacein') # Deoxyviolaceinic acid + Oxygen <=> Deoxyviolacein + CO2 + H2O\n",
    "\n",
    "Reaction_Deoxyviolacein.add_metabolites({dva_c: -1,                    # Deoxyviolaceinic acid\n",
    "                                 modelM9.metabolites.o2_c: -1,          # Oxygen         \n",
    "                                 dv_c: 1,                              # Deoxyviolacein\n",
    "                                 modelM9.metabolites.co2_c: 1,          # CO2\n",
    "                                 modelM9.metabolites.h2o_c: 1           # H2O\n",
    "                                })"
   ]
  },
  {
   "cell_type": "code",
   "execution_count": 76,
   "id": "ad3a0fe0-e629-44b8-a833-cc49b7593e74",
   "metadata": {},
   "outputs": [],
   "source": [
    "Reaction_VioD=Reaction('Protoviolaceinate_VioD') # Protodeoxyviolaceinic acid + NADPH + Oxygen + H+ <=> Protoviolaceinic acid + NADP+ + H2O\n",
    "\n",
    "Reaction_VioD.add_metabolites({ptdv_c: -1,                             # Protodeoxyviolaceinic acid\n",
    "                                 modelM9.metabolites.nadph_c: -1,       # NADPH\n",
    "                                 modelM9.metabolites.o2_c: -1,          # Oxygen\n",
    "                                 modelM9.metabolites.h_c: -1,           # H+           \n",
    "                                 ptv_c: 1,                             # Protoviolaceinic acid\n",
    "                                 modelM9.metabolites.nadp_c: 1,         # NADP+\n",
    "                                 modelM9.metabolites.h2o_c: 1           # H2O\n",
    "                                })"
   ]
  },
  {
   "cell_type": "code",
   "execution_count": 77,
   "id": "062018e7-a759-4eb7-a095-7372b5b0941a",
   "metadata": {},
   "outputs": [],
   "source": [
    "Reaction_Proviolacein=Reaction('Proviolacein') # Protoviolaceinic acid + O2 = Proviolacein +CO2 + H2O\n",
    "\n",
    "Reaction_Proviolacein.add_metabolites({ptv_c: -1,                    # Protoviolaceinic acid\n",
    "                                 modelM9.metabolites.o2_c: -1,          # Oxygen         \n",
    "                                 pv_c: 1,                              # Proviolacein\n",
    "                                 modelM9.metabolites.co2_c: 1,          # CO2\n",
    "                                 modelM9.metabolites.h2o_c: 1           # H2O\n",
    "                                })"
   ]
  },
  {
   "cell_type": "code",
   "execution_count": 78,
   "id": "ed703c75-a272-4945-90fb-def1f86acba6",
   "metadata": {},
   "outputs": [],
   "source": [
    "Reaction_Violaceinate_VioC=Reaction('Violaceinate') # Protoviolaceinic acid + Oxygen + NADPH + H+ <=> Violaceinic acid + NADP+ + H2O\n",
    "\n",
    "Reaction_Violaceinate_VioC.add_metabolites({ptv_c: -1,                 # Protoviolaceinic acid\n",
    "                                 modelM9.metabolites.nadph_c: -1,       # NADPH\n",
    "                                 modelM9.metabolites.o2_c: -1,          # Oxygen\n",
    "                                 modelM9.metabolites.h_c: -1,           # H+           \n",
    "                                 va_c: 1,                              # Violaceinic acid\n",
    "                                 modelM9.metabolites.nadp_c: 1,         # NADP+\n",
    "                                 modelM9.metabolites.h2o_c: 1           # H2O\n",
    "                                })"
   ]
  },
  {
   "cell_type": "code",
   "execution_count": 79,
   "id": "92705b53-c5d4-4463-ac37-7bbba3d3f43c",
   "metadata": {},
   "outputs": [],
   "source": [
    "Reaction_VioD=Reaction('Protoviolaceinate_VioD') # Protodeoxyviolaceinic acid + NADPH + Oxygen + H+ <=> Protoviolaceinic acid + NADP+ + H2O\n",
    "\n",
    "Reaction_VioD.add_metabolites({ptdv_c: -1,                             # Protodeoxyviolaceinic acid\n",
    "                                 modelM9.metabolites.nadph_c: -1,       # NADPH\n",
    "                                 modelM9.metabolites.o2_c: -1,          # Oxygen\n",
    "                                 modelM9.metabolites.h_c: -1,           # H+           \n",
    "                                 ptv_c: 1,                             # Protoviolaceinic acid\n",
    "                                 modelM9.metabolites.nadp_c: 1,         # NADP+\n",
    "                                 modelM9.metabolites.h2o_c: 1           # H2O\n",
    "                                })"
   ]
  },
  {
   "cell_type": "code",
   "execution_count": 80,
   "id": "0f082220-e8f3-4206-b654-d04369c42114",
   "metadata": {},
   "outputs": [],
   "source": [
    "Reaction_Proviolacein=Reaction('Proviolacein') # Protoviolaceinic acid + O2 = Proviolacein +CO2 + H2O\n",
    "\n",
    "Reaction_Proviolacein.add_metabolites({ptv_c: -1,                    # Protoviolaceinic acid\n",
    "                                 modelM9.metabolites.o2_c: -1,          # Oxygen         \n",
    "                                 pv_c: 1,                              # Proviolacein\n",
    "                                 modelM9.metabolites.co2_c: 1,          # CO2\n",
    "                                 modelM9.metabolites.h2o_c: 1           # H2O\n",
    "                                })"
   ]
  },
  {
   "cell_type": "code",
   "execution_count": 81,
   "id": "5edb6b8b-a696-41df-85c0-b0e5941d5470",
   "metadata": {},
   "outputs": [],
   "source": [
    "Reaction_Violaceinate_VioC=Reaction('Violaceinate') # Protoviolaceinic acid + Oxygen + NADPH + H+ <=> Violaceinic acid + NADP+ + H2O\n",
    "\n",
    "Reaction_Violaceinate_VioC.add_metabolites({ptv_c: -1,                 # Protoviolaceinic acid\n",
    "                                 modelM9.metabolites.nadph_c: -1,       # NADPH\n",
    "                                 modelM9.metabolites.o2_c: -1,          # Oxygen\n",
    "                                 modelM9.metabolites.h_c: -1,           # H+           \n",
    "                                 va_c: 1,                              # Violaceinic acid\n",
    "                                 modelM9.metabolites.nadp_c: 1,         # NADP+\n",
    "                                 modelM9.metabolites.h2o_c: 1           # H2O\n",
    "                                })"
   ]
  },
  {
   "cell_type": "code",
   "execution_count": 82,
   "id": "4a3d8bf1-c5a0-4b49-9b5f-9f989dd69d33",
   "metadata": {},
   "outputs": [],
   "source": [
    "Reaction_Violacein=Reaction('Violacein') # Violaceinic acid + Oxygen <=> Violacein + CO2 + H2O\n",
    "\n",
    "Reaction_Violacein.add_metabolites({va_c: -1,                          # Violaceinic acid\n",
    "                                 modelM9.metabolites.o2_c: -1,          # Oxygen         \n",
    "                                 v_c: 1,                               # Violacein\n",
    "                                 modelM9.metabolites.co2_c: 1,          # CO2\n",
    "                                 modelM9.metabolites.h2o_c: 1           # H2O\n",
    "                                })"
   ]
  },
  {
   "cell_type": "markdown",
   "id": "06020ee4-c399-4830-8275-10382d27ecb9",
   "metadata": {},
   "source": [
    "All reactions must be added to the model."
   ]
  },
  {
   "cell_type": "code",
   "execution_count": 83,
   "id": "4c46dcb7-c240-4055-990a-65b60c33ad14",
   "metadata": {},
   "outputs": [],
   "source": [
    "# modelM9.add_reactions([Reaction_VioA_O2]) or modelM9.add_reactions([Reaction_VioA_FAD])\n",
    "modelM9.add_reactions([Reaction_VioA_FAD])\n",
    "# --------------------------------------- #\n",
    "modelM9.add_reactions([Reaction_VioB])\n",
    "modelM9.add_reactions([Reaction_Chromopyrrolate])\n",
    "modelM9.add_reactions([Reaction_VioE])\n",
    "modelM9.add_reactions([Reaction_Prodeoxyviolacein])\n",
    "modelM9.add_reactions([Reaction_Deoxyviolaceinate_VioC])\n",
    "modelM9.add_reactions([Reaction_Deoxyviolacein])\n",
    "modelM9.add_reactions([Reaction_VioD])\n",
    "modelM9.add_reactions([Reaction_Proviolacein])\n",
    "modelM9.add_reactions([Reaction_Violaceinate_VioC])\n",
    "modelM9.add_reactions([Reaction_Violacein])"
   ]
  },
  {
   "cell_type": "markdown",
   "id": "b365be1b-fb83-438c-9df3-90904f678c20",
   "metadata": {},
   "source": [
    "One must ensure that boundaries are set correctly, and add them if they are not."
   ]
  },
  {
   "cell_type": "code",
   "execution_count": 84,
   "id": "a4c6b2bd-5a41-4f55-8d78-dbe9f0db0723",
   "metadata": {},
   "outputs": [
    {
     "data": {
      "text/plain": [
       "[]"
      ]
     },
     "execution_count": 84,
     "metadata": {},
     "output_type": "execute_result"
    }
   ],
   "source": [
    "modelM9.demands"
   ]
  },
  {
   "cell_type": "code",
   "execution_count": 85,
   "id": "87f8a2d5-2f32-4cd3-946b-cfcf94074748",
   "metadata": {},
   "outputs": [
    {
     "data": {
      "text/html": [
       "\n",
       "        <table>\n",
       "            <tr>\n",
       "                <td><strong>Reaction identifier</strong></td><td>DM_v_c</td>\n",
       "            </tr><tr>\n",
       "                <td><strong>Name</strong></td><td>Violacein demand</td>\n",
       "            </tr><tr>\n",
       "                <td><strong>Memory address</strong></td>\n",
       "                <td>0x07f8922032550</td>\n",
       "            </tr><tr>\n",
       "                <td><strong>Stoichiometry</strong></td>\n",
       "                <td>\n",
       "                    <p style='text-align:right'>v_c --></p>\n",
       "                    <p style='text-align:right'>Violacein --></p>\n",
       "                </td>\n",
       "            </tr><tr>\n",
       "                <td><strong>GPR</strong></td><td></td>\n",
       "            </tr><tr>\n",
       "                <td><strong>Lower bound</strong></td><td>0</td>\n",
       "            </tr><tr>\n",
       "                <td><strong>Upper bound</strong></td><td>1000.0</td>\n",
       "            </tr>\n",
       "        </table>\n",
       "        "
      ],
      "text/plain": [
       "<Reaction DM_v_c at 0x7f8922032550>"
      ]
     },
     "execution_count": 85,
     "metadata": {},
     "output_type": "execute_result"
    }
   ],
   "source": [
    "modelM9.add_boundary(modelM9.metabolites.get_by_id(\"v_c\"), type=\"demand\")"
   ]
  },
  {
   "cell_type": "code",
   "execution_count": 86,
   "id": "631b002a-1d91-453e-89d1-b87153559d66",
   "metadata": {},
   "outputs": [
    {
     "data": {
      "text/html": [
       "\n",
       "        <table>\n",
       "            <tr>\n",
       "                <td><strong>Reaction identifier</strong></td><td>DM_dv_c</td>\n",
       "            </tr><tr>\n",
       "                <td><strong>Name</strong></td><td>Deoxyviolacein demand</td>\n",
       "            </tr><tr>\n",
       "                <td><strong>Memory address</strong></td>\n",
       "                <td>0x07f89226daf40</td>\n",
       "            </tr><tr>\n",
       "                <td><strong>Stoichiometry</strong></td>\n",
       "                <td>\n",
       "                    <p style='text-align:right'>dv_c --></p>\n",
       "                    <p style='text-align:right'>Deoxyviolacein --></p>\n",
       "                </td>\n",
       "            </tr><tr>\n",
       "                <td><strong>GPR</strong></td><td></td>\n",
       "            </tr><tr>\n",
       "                <td><strong>Lower bound</strong></td><td>0</td>\n",
       "            </tr><tr>\n",
       "                <td><strong>Upper bound</strong></td><td>1000.0</td>\n",
       "            </tr>\n",
       "        </table>\n",
       "        "
      ],
      "text/plain": [
       "<Reaction DM_dv_c at 0x7f89226daf40>"
      ]
     },
     "execution_count": 86,
     "metadata": {},
     "output_type": "execute_result"
    }
   ],
   "source": [
    "modelM9.add_boundary(modelM9.metabolites.get_by_id(\"dv_c\"), type=\"demand\")"
   ]
  },
  {
   "cell_type": "markdown",
   "id": "d72c51f7-960e-4e7f-bfeb-33956efdf16b",
   "metadata": {},
   "source": [
    "The following step one must do is changing the objective of the model."
   ]
  },
  {
   "cell_type": "code",
   "execution_count": 87,
   "id": "2be40c7a-2c4b-4d33-a590-be2bfc566565",
   "metadata": {},
   "outputs": [],
   "source": [
    "modelM9.objective = modelM9.reactions.Violacein"
   ]
  },
  {
   "cell_type": "markdown",
   "id": "7e809556-8588-4be7-b192-9bebf555433b",
   "metadata": {},
   "source": [
    "Finally, one must retrieve the maximum production."
   ]
  },
  {
   "cell_type": "code",
   "execution_count": 88,
   "id": "c899b438-fedd-49df-8804-64381bbc3fc0",
   "metadata": {},
   "outputs": [
    {
     "name": "stdout",
     "output_type": "stream",
     "text": [
      "Max. violacein production in M9 media [mmol gDW^-1 h^-1]: 1.8556701030927873\n"
     ]
    }
   ],
   "source": [
    "violacein_production = modelM9.optimize().objective_value\n",
    "print('Max. violacein production in M9 media [mmol gDW^-1 h^-1]:',violacein_production)"
   ]
  },
  {
   "cell_type": "markdown",
   "id": "1331411b-938f-4bb3-85cf-8601f6255a39",
   "metadata": {},
   "source": [
    "The maximum production rate of violacein in *V. natriegens* (M9 media) with the violacein pathway from *V. campbellii*, using FAD, is 1.86 mmol gDW-1 h-1."
   ]
  },
  {
   "cell_type": "markdown",
   "id": "21a58c38-91f1-47a4-88a5-0e0b0573d8d3",
   "metadata": {},
   "source": [
    "The new model including violacein pathway with FAD is stored in Models folder. "
   ]
  },
  {
   "cell_type": "code",
   "execution_count": 89,
   "id": "e0cc240c-f8e1-4e5b-b3ec-20a6fc885336",
   "metadata": {},
   "outputs": [],
   "source": [
    "# Idented to avoid writing over the file every time. At the end of the project we should unident it :)\n",
    "### write_sbml_model(modelM9,\"Models/model_VN_M9_vio-fad2.xml\")"
   ]
  }
 ],
 "metadata": {
  "kernelspec": {
   "display_name": "Python 3 (ipykernel)",
   "language": "python",
   "name": "python3"
  },
  "language_info": {
   "codemirror_mode": {
    "name": "ipython",
    "version": 3
   },
   "file_extension": ".py",
   "mimetype": "text/x-python",
   "name": "python",
   "nbconvert_exporter": "python",
   "pygments_lexer": "ipython3",
   "version": "3.8.11"
  }
 },
 "nbformat": 4,
 "nbformat_minor": 5
}
