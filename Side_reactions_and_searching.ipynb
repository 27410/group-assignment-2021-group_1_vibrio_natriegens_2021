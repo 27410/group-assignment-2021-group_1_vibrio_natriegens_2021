{
 "cells": [
  {
   "cell_type": "code",
   "execution_count": 16,
   "id": "8089cb3c-d805-4dbc-acb3-31c0d57d0704",
   "metadata": {},
   "outputs": [],
   "source": [
    "from cobra.io import read_sbml_model"
   ]
  },
  {
   "cell_type": "markdown",
   "id": "39a93f4a-855c-48a3-9ac3-be587c1b2615",
   "metadata": {},
   "source": [
    "# In WT model with LB media"
   ]
  },
  {
   "cell_type": "code",
   "execution_count": 2,
   "id": "82dcf0f0-6a8e-4899-8f06-1dc71cbe4828",
   "metadata": {},
   "outputs": [],
   "source": [
    "model_LB = read_sbml_model('Models/model_VN_LB.xml')"
   ]
  },
  {
   "cell_type": "markdown",
   "id": "e4abe85b-6fe1-4c0a-adda-c4301563cc04",
   "metadata": {},
   "source": [
    "## L-Tryptophan"
   ]
  },
  {
   "cell_type": "markdown",
   "id": "72de2958-20df-4614-a3bf-ceba8c322bf9",
   "metadata": {},
   "source": [
    "Due to literature L-tryptophan is native to the cell. Let's see if it is true."
   ]
  },
  {
   "cell_type": "code",
   "execution_count": 4,
   "id": "47fe9efd-7892-4c9e-9e24-b91ce03ca0f2",
   "metadata": {},
   "outputs": [
    {
     "name": "stdout",
     "output_type": "stream",
     "text": [
      "trp__L_c\n",
      "L-Tryptophan\n",
      "frozenset({<Reaction TRPtipp at 0x1719f3e5f70>, <Reaction TRPabc at 0x1719f3ceeb0>, <Reaction TRPS2 at 0x1719f3ceac0>, <Reaction TRPt2rpp at 0x1719f3cef70>, <Reaction Growth at 0x1719f618b50>, <Reaction TRPAS2 at 0x1719f3b3f70>, <Reaction TRPTA at 0x1719f3ced90>, <Reaction TRPS1 at 0x1719f3ce5e0>})\n",
      "trp__L_e\n",
      "L-Tryptophan\n",
      "frozenset({<Reaction TRPabc at 0x1719f3ceeb0>, <Reaction EX_trp__L_e at 0x1719f5fbf40>, <Reaction TRPtex at 0x1719f3e5c70>})\n",
      "trp__L_p\n",
      "L-Tryptophan\n",
      "frozenset({<Reaction TRPtex at 0x1719f3e5c70>, <Reaction TRPtipp at 0x1719f3e5f70>, <Reaction TRPt2rpp at 0x1719f3cef70>})\n"
     ]
    }
   ],
   "source": [
    "for metabolite in model_LB.metabolites.query('Tryptophan', 'name'):\n",
    "    print(metabolite.id)\n",
    "    print(metabolite.name)\n",
    "    print(metabolite.reactions) #Finding the reactions it is involved in"
   ]
  },
  {
   "cell_type": "code",
   "execution_count": 5,
   "id": "f4608b3a-005e-4d4c-9405-b3b3b3c22f32",
   "metadata": {},
   "outputs": [
    {
     "data": {
      "text/html": [
       "\n",
       "        <table>\n",
       "            <tr>\n",
       "                <td><strong>Metabolite identifier</strong></td><td>trp__L_c</td>\n",
       "            </tr><tr>\n",
       "                <td><strong>Name</strong></td><td>L-Tryptophan</td>\n",
       "            </tr><tr>\n",
       "                <td><strong>Memory address</strong></td>\n",
       "                <td>0x01719dbcd8e0</td>\n",
       "            </tr><tr>\n",
       "                <td><strong>Formula</strong></td><td>C11H12N2O2</td>\n",
       "            </tr><tr>\n",
       "                <td><strong>Compartment</strong></td><td>C_c</td>\n",
       "            </tr><tr>\n",
       "                <td><strong>In 8 reaction(s)</strong></td><td>\n",
       "                    TRPtipp, TRPabc, TRPS2, TRPt2rpp, Growth, TRPAS2, TRPTA, TRPS1</td>\n",
       "            </tr>\n",
       "        </table>"
      ],
      "text/plain": [
       "<Metabolite trp__L_c at 0x1719dbcd8e0>"
      ]
     },
     "execution_count": 5,
     "metadata": {},
     "output_type": "execute_result"
    }
   ],
   "source": [
    "#We can then investigate L-Trp further\n",
    "model_LB.metabolites.get_by_id('trp__L_c')"
   ]
  },
  {
   "cell_type": "code",
   "execution_count": 7,
   "id": "b0d27d1b-6254-4eb7-b9fc-763a9ad9bced",
   "metadata": {},
   "outputs": [
    {
     "name": "stdout",
     "output_type": "stream",
     "text": [
      "TRPtipp TRPtipp: trp__L_c --> trp__L_p L-tryptophan transport out (periplasm)\n",
      "TRPabc TRPabc: atp_c + h2o_c + trp__L_e --> adp_c + h_c + pi_c + trp__L_c \n",
      "TRPS2 TRPS2: indole_c + ser__L_c --> h2o_c + trp__L_c Tryptophan synthase (indole)\n",
      "TRPt2rpp TRPt2rpp: h_p + trp__L_p --> h_c + trp__L_c L-tryptophan reversible transport via proton symport (periplasm)\n",
      "Growth Growth: 0.000223 10fthf_c + 0.513689 ala__L_c + 0.000223 amet_c + 0.295792 arg__L_c + 0.241055 asn__L_c + 0.241055 asp__L_c + 54.124831 atp_c + 0.005205 ca2_c + 0.005205 cl_c + 0.000576 coa_c + 0.0001 cobalt2_c + 0.133508 ctp_c + 0.000709 cu2_c + 0.09158 cys__L_c + 0.026166 datp_c + 0.027017 dctp_c + 0.027017 dgtp_c + 0.026166 dttp_c + 0.000223 fad_c + 0.006715 fe2_c + 0.007808 fe3_c + 0.26316 gln__L_c + 0.26316 glu__L_c + 0.612638 gly_c + 0.215096 gtp_c + 48.601527 h2o_c + 0.094738 his__L_c + 0.290529 ile__L_c + 0.195193 k_c + 0.450531 leu__L_c + 0.343161 lys__L_c + 0.153686 met__L_c + 0.008675 mg2_c + 0.000223 mlthf_c + 0.000691 mn2_c + 0.0001 mql8_c + 0.001831 nad_c + 0.000447 nadp_c + 0.185265 phe__L_c + 0.221055 pro__L_c + 0.000223 pydx5p_c + 0.000223 ribflv_c + 0.215792 ser__L_c + 0.004338 so4_c + 0.000223 thf_c + 0.000223 thmpp_c + 0.253687 thr__L_c + 0.056843 trp__L_c + 0.137896 tyr__L_c + 0.1 uaagmda_c + 0.144104 utp_c + 0.423162 val__L_c + 0.000341 zn2_c --> 53.95 adp_c + 53.95 h_c + 53.945662 pi_c + 0.773903 ppi_c Biomass reaction\n",
      "TRPAS2 TRPAS2: h2o_c + trp__L_c <=> indole_c + nh4_c + pyr_c Tryptophanase (L-tryptophan)\n",
      "TRPTA TRPTA: akg_c + trp__L_c <=> glu__L_c + indpyr_c Tryptophan transaminase\n",
      "TRPS1 TRPS1: 3ig3p_c + ser__L_c --> g3p_c + h2o_c + trp__L_c Tryptophan synthase (indoleglycerol phosphate)\n"
     ]
    }
   ],
   "source": [
    "for reaction in model_LB.metabolites.trp__L_c.reactions:\n",
    "    print(reaction.id, reaction, reaction.name)"
   ]
  },
  {
   "cell_type": "markdown",
   "id": "f92b8fd4-aaa5-4075-a499-071b81056fb7",
   "metadata": {},
   "source": [
    "The reaction that we were searching for is the TRPS2, production of tryptophan."
   ]
  },
  {
   "cell_type": "markdown",
   "id": "6c117ea4-645d-44a2-9700-e0fc15448c02",
   "metadata": {},
   "source": [
    "## Less common cofactors"
   ]
  },
  {
   "cell_type": "markdown",
   "id": "8a234d7b-9d86-45e3-8c41-b4f831046ea3",
   "metadata": {},
   "source": [
    "### Iron (Fe2+ & Fe3+)"
   ]
  },
  {
   "cell_type": "code",
   "execution_count": 9,
   "id": "fdddfd90-ab1f-4eb2-9d06-1c7573a154ee",
   "metadata": {},
   "outputs": [
    {
     "name": "stdout",
     "output_type": "stream",
     "text": [
      "fe2_c\n",
      "fe2_e\n",
      "fe2_p\n",
      "fe3_c\n",
      "fe3_e\n",
      "fe3_p\n",
      "fe3dcit_e\n",
      "fe3dcit_p\n",
      "fe3pyovd_kt_e\n",
      "fe3pyovd_kt_p\n",
      "feenter_c\n",
      "feenter_e\n",
      "feenter_p\n",
      "feoxam_c\n",
      "feoxam_e\n",
      "feoxam_p\n",
      "feoxam_un_c\n",
      "feoxam_un_e\n",
      "feoxam_un_p\n",
      "fer_c\n",
      "fer_e\n",
      "fer_p\n",
      "ficytc_c\n",
      "focytc_c\n",
      "hemeO_c\n",
      "pheme_c\n",
      "pheme_e\n",
      "pheme_p\n",
      "salchs4fe_c\n",
      "salchs4fe_e\n",
      "salchs4fe_p\n",
      "sheme_c\n"
     ]
    }
   ],
   "source": [
    "for metabolite in model_LB.metabolites.query('Fe', 'name'):\n",
    "    print(metabolite.id)"
   ]
  },
  {
   "cell_type": "code",
   "execution_count": 10,
   "id": "5ce61a08-5b2e-4b4e-8e9c-7651adab13e5",
   "metadata": {},
   "outputs": [
    {
     "data": {
      "text/html": [
       "\n",
       "        <table>\n",
       "            <tr>\n",
       "                <td><strong>Metabolite identifier</strong></td><td>fe2_c</td>\n",
       "            </tr><tr>\n",
       "                <td><strong>Name</strong></td><td>Fe2+ mitochondria</td>\n",
       "            </tr><tr>\n",
       "                <td><strong>Memory address</strong></td>\n",
       "                <td>0x01719d93b490</td>\n",
       "            </tr><tr>\n",
       "                <td><strong>Formula</strong></td><td>Fe</td>\n",
       "            </tr><tr>\n",
       "                <td><strong>Compartment</strong></td><td>C_c</td>\n",
       "            </tr><tr>\n",
       "                <td><strong>In 17 reaction(s)</strong></td><td>\n",
       "                    FE2t3pp, FE2abc, FE2t, FE3Ri, FEOXAMR2, FCLT, FEENTERR3, FEROc, FE2abcpp, FEOXAMR1, FEOXAMR3, FE2t4pp, SALCHS4FER3, SMIA2abc, SHCHF, Growth, FE2Gabcpp</td>\n",
       "            </tr>\n",
       "        </table>"
      ],
      "text/plain": [
       "<Metabolite fe2_c at 0x1719d93b490>"
      ]
     },
     "execution_count": 10,
     "metadata": {},
     "output_type": "execute_result"
    }
   ],
   "source": [
    "model_LB.metabolites.get_by_id('fe2_c')"
   ]
  },
  {
   "cell_type": "code",
   "execution_count": 11,
   "id": "dd2410df-2d08-4f99-9c8e-e9de7c9a4b48",
   "metadata": {},
   "outputs": [
    {
     "name": "stdout",
     "output_type": "stream",
     "text": [
      "FE2t3pp FE2t3pp: fe2_c + h_p --> fe2_p + h_c Iron (Fe+2) transport out via proton antiport (periplasm)\n",
      "FE2abc FE2abc: atp_c + fe2_e + h2o_c --> adp_c + fe2_c + h_c + pi_c Iron (II) transport via ABC system\n",
      "FE2t FE2t: fe2_e --> fe2_c Iron  II  transport\n",
      "FE3Ri FE3Ri: fadh2_c + 2.0 fe3_c --> fad_c + 2.0 fe2_c + 2.0 h_c Fe(III) reduction\n",
      "FEOXAMR2 FEOXAMR2: 2.0 feoxam_c + fmnh2_c --> 2.0 fe2_c + 2.0 feoxam_un_c + fmn_c + 2.0 h_c Ferroxamine reductase\n",
      "FCLT FCLT: fe2_c + ppp9_c --> 2.0 h_c + pheme_c Ferrochelatase\n",
      "FEENTERR3 FEENTERR3: 2.0 feenter_c + rbflvrd_c --> 2.0 enter_c + 2.0 fe2_c + 2.0 h_c + ribflv_c Fe-enterobactin reduction (Fe(III)-unloading)\n",
      "FEROc FEROc: 4.0 fe2_c + 4.0 h_c + o2_c --> 4.0 fe3_c + 2.0 h2o_c Ferroxidase\n",
      "FE2abcpp FE2abcpp: atp_c + fe2_p + h2o_c --> adp_c + fe2_c + h_c + pi_c Iron (II) transport via ABC system (periplasm)\n",
      "FEOXAMR1 FEOXAMR1: fadh2_c + 2.0 feoxam_c --> fad_c + 2.0 fe2_c + 2.0 feoxam_un_c + 2.0 h_c Ferroxamine reductase\n",
      "FEOXAMR3 FEOXAMR3: 2.0 feoxam_c + rbflvrd_c --> 2.0 fe2_c + 2.0 feoxam_un_c + 2.0 h_c + ribflv_c Ferroxamine reductase\n",
      "FE2t4pp FE2t4pp: fe2_c + h_p + k_p --> fe2_p + h_c + k_c Iron(II) transport out via antiport (periplasm)\n",
      "SALCHS4FER3 SALCHS4FER3: rbflvrd_c + 2.0 salchs4fe_c --> 2.0 fe2_c + 4.0 h_c + ribflv_c + 2.0 salchs4_c Salmochelin S4 Fe III reduction Fe III unloading \n",
      "SMIA2abc SMIA2abc: atp_c + h2o_c + istfrnA_e --> adp_c + fe2_c + h_c + pi_c + stfrnA_c Siderophore Mediated Iron Acquisition: Staphyloferrin B transport via ABC\n",
      "SHCHF SHCHF: fe2_c + scl_c --> 3.0 h_c + sheme_c Sirohydrochlorin ferrochelatase\n",
      "Growth Growth: 0.000223 10fthf_c + 0.513689 ala__L_c + 0.000223 amet_c + 0.295792 arg__L_c + 0.241055 asn__L_c + 0.241055 asp__L_c + 54.124831 atp_c + 0.005205 ca2_c + 0.005205 cl_c + 0.000576 coa_c + 0.0001 cobalt2_c + 0.133508 ctp_c + 0.000709 cu2_c + 0.09158 cys__L_c + 0.026166 datp_c + 0.027017 dctp_c + 0.027017 dgtp_c + 0.026166 dttp_c + 0.000223 fad_c + 0.006715 fe2_c + 0.007808 fe3_c + 0.26316 gln__L_c + 0.26316 glu__L_c + 0.612638 gly_c + 0.215096 gtp_c + 48.601527 h2o_c + 0.094738 his__L_c + 0.290529 ile__L_c + 0.195193 k_c + 0.450531 leu__L_c + 0.343161 lys__L_c + 0.153686 met__L_c + 0.008675 mg2_c + 0.000223 mlthf_c + 0.000691 mn2_c + 0.0001 mql8_c + 0.001831 nad_c + 0.000447 nadp_c + 0.185265 phe__L_c + 0.221055 pro__L_c + 0.000223 pydx5p_c + 0.000223 ribflv_c + 0.215792 ser__L_c + 0.004338 so4_c + 0.000223 thf_c + 0.000223 thmpp_c + 0.253687 thr__L_c + 0.056843 trp__L_c + 0.137896 tyr__L_c + 0.1 uaagmda_c + 0.144104 utp_c + 0.423162 val__L_c + 0.000341 zn2_c --> 53.95 adp_c + 53.95 h_c + 53.945662 pi_c + 0.773903 ppi_c Biomass reaction\n",
      "FE2Gabcpp FE2Gabcpp: fe2_p + gtp_c + h2o_c --> fe2_c + gdp_c + h_c + pi_c Iron (II) transport via ABC system (GTP) (periplasm)\n"
     ]
    }
   ],
   "source": [
    "for reaction in model_LB.metabolites.fe2_c.reactions:\n",
    "    print(reaction.id, reaction, reaction.name)"
   ]
  },
  {
   "cell_type": "markdown",
   "id": "dec23c83-4795-4fb4-8f7e-79a4f34ad734",
   "metadata": {},
   "source": [
    "### Cloride"
   ]
  },
  {
   "cell_type": "code",
   "execution_count": 12,
   "id": "b715b6a4-6c41-499f-829e-518f91f7d206",
   "metadata": {},
   "outputs": [
    {
     "name": "stdout",
     "output_type": "stream",
     "text": [
      "cl_c\n",
      "cl_e\n",
      "cl_p\n"
     ]
    }
   ],
   "source": [
    "for metabolite in model_LB.metabolites.query('Chloride', 'name'):\n",
    "    print(metabolite.id)"
   ]
  },
  {
   "cell_type": "code",
   "execution_count": 13,
   "id": "8147e116-acb2-40a6-81ef-a0512379773a",
   "metadata": {},
   "outputs": [
    {
     "data": {
      "text/html": [
       "\n",
       "        <table>\n",
       "            <tr>\n",
       "                <td><strong>Metabolite identifier</strong></td><td>cl_c</td>\n",
       "            </tr><tr>\n",
       "                <td><strong>Name</strong></td><td>Chloride</td>\n",
       "            </tr><tr>\n",
       "                <td><strong>Memory address</strong></td>\n",
       "                <td>0x01719d88ebb0</td>\n",
       "            </tr><tr>\n",
       "                <td><strong>Formula</strong></td><td>Cl</td>\n",
       "            </tr><tr>\n",
       "                <td><strong>Compartment</strong></td><td>C_c</td>\n",
       "            </tr><tr>\n",
       "                <td><strong>In 3 reaction(s)</strong></td><td>\n",
       "                    Growth, Clt, CLt3_2pp</td>\n",
       "            </tr>\n",
       "        </table>"
      ],
      "text/plain": [
       "<Metabolite cl_c at 0x1719d88ebb0>"
      ]
     },
     "execution_count": 13,
     "metadata": {},
     "output_type": "execute_result"
    }
   ],
   "source": [
    "model_LB.metabolites.get_by_id('cl_c')"
   ]
  },
  {
   "cell_type": "code",
   "execution_count": 14,
   "id": "fadbdcbe-1b4d-4154-b798-61596f4f91fb",
   "metadata": {},
   "outputs": [
    {
     "name": "stdout",
     "output_type": "stream",
     "text": [
      "Growth Growth: 0.000223 10fthf_c + 0.513689 ala__L_c + 0.000223 amet_c + 0.295792 arg__L_c + 0.241055 asn__L_c + 0.241055 asp__L_c + 54.124831 atp_c + 0.005205 ca2_c + 0.005205 cl_c + 0.000576 coa_c + 0.0001 cobalt2_c + 0.133508 ctp_c + 0.000709 cu2_c + 0.09158 cys__L_c + 0.026166 datp_c + 0.027017 dctp_c + 0.027017 dgtp_c + 0.026166 dttp_c + 0.000223 fad_c + 0.006715 fe2_c + 0.007808 fe3_c + 0.26316 gln__L_c + 0.26316 glu__L_c + 0.612638 gly_c + 0.215096 gtp_c + 48.601527 h2o_c + 0.094738 his__L_c + 0.290529 ile__L_c + 0.195193 k_c + 0.450531 leu__L_c + 0.343161 lys__L_c + 0.153686 met__L_c + 0.008675 mg2_c + 0.000223 mlthf_c + 0.000691 mn2_c + 0.0001 mql8_c + 0.001831 nad_c + 0.000447 nadp_c + 0.185265 phe__L_c + 0.221055 pro__L_c + 0.000223 pydx5p_c + 0.000223 ribflv_c + 0.215792 ser__L_c + 0.004338 so4_c + 0.000223 thf_c + 0.000223 thmpp_c + 0.253687 thr__L_c + 0.056843 trp__L_c + 0.137896 tyr__L_c + 0.1 uaagmda_c + 0.144104 utp_c + 0.423162 val__L_c + 0.000341 zn2_c --> 53.95 adp_c + 53.95 h_c + 53.945662 pi_c + 0.773903 ppi_c Biomass reaction\n",
      "Clt Clt: cl_e <=> cl_c Major Facilitator(MFS) TCDB:2.A.1.14.6\n",
      "CLt3_2pp CLt3_2pp: 2.0 cl_p + h_c <-- 2.0 cl_c + h_p Chloride transport out via proton antiport (2:1) (periplasm)\n"
     ]
    }
   ],
   "source": [
    "for reaction in model_LB.metabolites.cl_c.reactions:\n",
    "    print(reaction.id, reaction, reaction.name)"
   ]
  },
  {
   "cell_type": "markdown",
   "id": "eb36fdae-2d34-4a41-a8da-c7ff2b8c2064",
   "metadata": {},
   "source": [
    "## FAD"
   ]
  },
  {
   "cell_type": "markdown",
   "id": "9268e962-9952-49e0-aaf4-7d7714d85ebf",
   "metadata": {},
   "source": [
    "Due to literature, our pathway to violacein starts with a reaction that uses FAD as a cofactor, and O2 to regenerate FAD. We wanted to make sure if the regeneration reaction is native or we have to add it too."
   ]
  },
  {
   "cell_type": "code",
   "execution_count": 15,
   "id": "1547741a-f555-4baf-abf9-131697c6cc89",
   "metadata": {},
   "outputs": [
    {
     "name": "stdout",
     "output_type": "stream",
     "text": [
      "Flavin adenine dinucleotide oxidized fad_c\n",
      "Flavin adenine dinucleotide oxidized fad_e\n",
      "Flavin adenine dinucleotide oxidized fad_p\n",
      "Flavin adenine dinucleotide reduced fadh2_c\n",
      "Nicotinamide adenine dinucleotide nad_c\n",
      "Nicotinamide adenine dinucleotide - reduced nadh_c\n",
      "Nicotinamide adenine dinucleotide phosphate nadp_c\n",
      "Nicotinamide adenine dinucleotide phosphate - reduced nadph_c\n"
     ]
    }
   ],
   "source": [
    "for metabolite in model_LB.metabolites.query('adenine', 'name'):\n",
    "    print(metabolite.name, metabolite.id)"
   ]
  },
  {
   "cell_type": "code",
   "execution_count": 16,
   "id": "fe88a98f-68e5-4a05-aabd-4e84daf3d3c7",
   "metadata": {},
   "outputs": [
    {
     "name": "stdout",
     "output_type": "stream",
     "text": [
      "VCOAD VCOAD: fad_c + ptcoa_c <=> fadh2_c + pt2coa_c Acyl-CoA dehydrogenase (pentanoyl-CoA)\n",
      "DAAD8 DAAD8: fad_c + h2o_c + ser__D_c --> fadh2_c + hpyr_c + nh4_c D Amino acid dehydrogenase  ser D \n",
      "ACOAD8f ACOAD8f: fad_c + stcoa_c <=> fadh2_c + od2coa_c Acyl-CoA dehydrogenase (octadecanoyl-CoA)\n",
      "ACOAD26f ACOAD26f: fad_c + odecoa_c <=> fadh2_c + ode2coa_c Acyl CoA dehydrogenase  acyl CoA dehydrogenase  oleicyl CoA   C181d9 \n",
      "ACOAD30f ACOAD30f: fad_c + h_c + hdd4coa_c <=> fadh2_c + hdd4_2_coa_c Acyl CoA dehydrogenase  cis hexadec 4 enoyl CoA \n",
      "SUCD4 SUCD4: fadh2_c + q8_c --> fad_c + q8h2_c Succinate dehyrdogenase\n",
      "ACOAD29f ACOAD29f: fad_c + 2.0 h_c + ptslacoa_c <=> fadh2_c + ptsla2coa_c Acyl CoA dehydrogenase  petroselenyl CoA \n",
      "DAAD4 DAAD4: fad_c + h2o_c + met__D_c --> 2kmb_c + fadh2_c + nh4_c D Amino acid dehydrogenase  D met \n",
      "ACOAD21f ACOAD21f: 4atbcoa_c + fad_c + 2.0 h_c <=> 4atb2coa_c + fadh2_c Acyl CoA dehydrogenase  4 acetylthiobutanoyl CoA \n",
      "ACOAD27f ACOAD27f: fad_c + hdd7coa_c <=> fadh2_c + hdd7_2_coa_c Acyl CoA dehydrogenase  cis hexadec 7 enoyl CoA \n",
      "ACOADH1 ACOADH1: 2mbcoa_c + fad_c --> 2mb2coa_c + fadh2_c 2-oxoisovalerate dehydrogenase (acylating; 3-methyl-2-oxopentanoate)\n",
      "BEF BEF: betald_c + fad_c + h2o_c --> fadh2_c + glyb_c + h_c \n",
      "ACOAD2f ACOAD2f: fad_c + hxcoa_c <=> fadh2_c + hx2coa_c Acyl-CoA dehydrogenase (hexanoyl-CoA)\n",
      "ACOAD18f ACOAD18f: fad_c + 2.0 h_c + pbcoa_c <=> fadh2_c + pb2coa_c Acyl CoA dehydrogenase  Phenylbutyryl CoA \n",
      "ACOAD3f ACOAD3f: fad_c + occoa_c <=> fadh2_c + oc2coa_c Acyl-CoA dehydrogenase (octanoyl-CoA)\n",
      "ACOAD16f ACOAD16f: fad_c + 2.0 h_c + phxacoa_c <=> fadh2_c + phxa2coa_c Acyl CoA dehydrogenase  Phenylhexanoyl CoA \n",
      "Growth Growth: 0.000223 10fthf_c + 0.513689 ala__L_c + 0.000223 amet_c + 0.295792 arg__L_c + 0.241055 asn__L_c + 0.241055 asp__L_c + 54.124831 atp_c + 0.005205 ca2_c + 0.005205 cl_c + 0.000576 coa_c + 0.0001 cobalt2_c + 0.133508 ctp_c + 0.000709 cu2_c + 0.09158 cys__L_c + 0.026166 datp_c + 0.027017 dctp_c + 0.027017 dgtp_c + 0.026166 dttp_c + 0.000223 fad_c + 0.006715 fe2_c + 0.007808 fe3_c + 0.26316 gln__L_c + 0.26316 glu__L_c + 0.612638 gly_c + 0.215096 gtp_c + 48.601527 h2o_c + 0.094738 his__L_c + 0.290529 ile__L_c + 0.195193 k_c + 0.450531 leu__L_c + 0.343161 lys__L_c + 0.153686 met__L_c + 0.008675 mg2_c + 0.000223 mlthf_c + 0.000691 mn2_c + 0.0001 mql8_c + 0.001831 nad_c + 0.000447 nadp_c + 0.185265 phe__L_c + 0.221055 pro__L_c + 0.000223 pydx5p_c + 0.000223 ribflv_c + 0.215792 ser__L_c + 0.004338 so4_c + 0.000223 thf_c + 0.000223 thmpp_c + 0.253687 thr__L_c + 0.056843 trp__L_c + 0.137896 tyr__L_c + 0.1 uaagmda_c + 0.144104 utp_c + 0.423162 val__L_c + 0.000341 zn2_c --> 53.95 adp_c + 53.95 h_c + 53.945662 pi_c + 0.773903 ppi_c Biomass reaction\n",
      "FADRx FADRx: fad_c + h_c + nadh_c --> fadh2_c + nad_c FAD reductase\n",
      "ACOAD15f ACOAD15f: fad_c + 2.0 h_c + phpcoa_c <=> fadh2_c + php2coa_c Acyl CoA dehydrogenase  Phenylheptanoyl CoA \n",
      "ACOAD5f ACOAD5f: ddcacoa_c + fad_c <=> dd2coa_c + fadh2_c Acyl-CoA dehydrogenase (dodecanoyl-CoA)\n",
      "DLYSAD DLYSAD: fad_c + h2o_c + lys__D_c --> 6a2ohxnt_c + fadh2_c + nh4_c D Amino acid dehydrogenase\n",
      "ACOAD25f ACOAD25f: ddecoa_c + fad_c + h_c <=> dde2coa_c + fadh2_c Acyl CoA dehydrogenase  cis dodedec 5 enoyl CoA  C121d5 \n",
      "PHET PHET: fad_c + h2o_c + 2.0 h_c + phe__D_c --> fadh2_c + nh4_c + phpyr_c D Amino acid dehydrogenase  phe D \n",
      "ACOAD17f ACOAD17f: fad_c + 2.0 h_c + pptcoa_c <=> fadh2_c + ppt2coa_c Acyl CoA dehydrogenase  Phenylpentanoyl CoA \n",
      "MBCOAi MBCOAi: fad_c + ivcoa_c <=> 3mb2coa_c + fadh2_c 3-Methylbutanoyl-CoA:(acceptor) 2,3-oxidoreductase\n",
      "ACOAD28f ACOAD28f: fad_c + tded5coa_c <=> fadh2_c + tded5_2_coa_c Acyl CoA dehydrogenase  cis tetradec 5 enoyl CoA \n",
      "ACOAD11f ACOAD11f: fad_c + nonacoa_c <=> fadh2_c + 2.0 h_c + nona2coa_c Acyl CoA dehydrogenase  nonanoyl CoA \n",
      "FE3Ri FE3Ri: fadh2_c + 2.0 fe3_c --> fad_c + 2.0 fe2_c + 2.0 h_c Fe(III) reduction\n",
      "ACOAD31f ACOAD31f: fad_c + lnlccoa_c <=> fadh2_c + 2.0 h_c + lnlc2coa_c Acyl CoA dehydrogenase  linoleic coenzyme A \n",
      "ACOAD6f ACOAD6f: fad_c + tdcoa_c <=> fadh2_c + td2coa_c Acyl-CoA dehydrogenase (tetradecanoyl-CoA)\n",
      "FADt FADt: fad_c --> fad_p FAD transporter, periplasm\n",
      "ACOAD20f ACOAD20f: 6athcoa_c + fad_c + 2.0 h_c <=> 6ath2coa_c + fadh2_c Acyl CoA dehydrogenase  6 acetylthiohexanoyl CoA \n",
      "ACOAD33f ACOAD33f: fad_c + td_5_8_coa_c <=> fadh2_c + td58_2_coa_c Acyl CoA dehydrogenase  cis cis tetradec 5 8 dienoyl CoA \n",
      "ACOAD14f ACOAD14f: fad_c + 2.0 h_c + poctacoa_c <=> fadh2_c + pocta2coa_c Acyl CoA dehydrogenase  Phenyloctanoyl CoA \n",
      "ACOAD4f ACOAD4f: dcacoa_c + fad_c <=> dc2coa_c + fadh2_c Acyl-CoA dehydrogenase (decanoyl-CoA)\n",
      "DMALRED DMALRED: fad_c + mal__L_c --> fadh2_c + oaa_c (S)-Malate:(acceptor) oxidoreductase\n",
      "ACOAD32f ACOAD32f: fad_c + hd_7_10_coa_c <=> fadh2_c + hd710_2_coa_c Acyl CoA dehydrogenase  cis cis hexadec 7 10 dienoyl CoA \n",
      "DAAD2 DAAD2: arg__D_c + fad_c + h2o_c --> 5g2oxpt_c + fadh2_c + nh4_c D Amino acid dehydrogenase  arg D \n",
      "PROD2 PROD2: fad_c + pro__L_c --> 1pyr5c_c + fadh2_c + h_c Proline dehydrogenase\n",
      "PPNDH2 PPNDH2: fad_c + ppcoa_c <=> fadh2_c + prpncoa_c \n",
      "ACOAD13f ACOAD13f: fad_c + 2.0 h_c + pnonacoa_c <=> fadh2_c + pnona2coa_c Acyl CoA dehydrogenase  Phenylnonanoyl CoA \n",
      "DAAD5 DAAD5: fad_c + h2o_c + orn__D_c --> 5a2opntn_c + fadh2_c + nh4_c D Amino acid dehydrogenase  orn D \n",
      "DAAD7 DAAD7: fad_c + pro__D_c --> 1p2cbxl_c + fadh2_c D Amino acid dehydrogenase  pro D \n",
      "ACOAD23f ACOAD23f: fad_c + hdcoa_c <=> fadh2_c + hd2coa_c Acyl CoA dehydrogenase  cis hexadec 9 enoyl CoA \n",
      "FADRx2 FADRx2: fad_c + h_c + nadph_c --> fadh2_c + nadp_c FAD reductase\n",
      "FEOXAMR1 FEOXAMR1: fadh2_c + 2.0 feoxam_c --> fad_c + 2.0 fe2_c + 2.0 feoxam_un_c + 2.0 h_c Ferroxamine reductase\n",
      "DAAD DAAD: ala__D_c + fad_c + h2o_c --> fadh2_c + nh4_c + pyr_c D-Amino acid dehydrogenase\n",
      "ACOAD1f ACOAD1f: btcoa_c + fad_c --> b2coa_c + fadh2_c Acyl-CoA dehydrogenase (butanoyl-CoA)\n",
      "ACOAD24f ACOAD24f: fad_c + tdecoa_c <=> fadh2_c + tde2coa_c Acyl CoA dehydrogenase  cis tetradec 7 enoyl CoA \n",
      "ACOAD19f ACOAD19f: fad_c + 2.0 h_c + phppcoa_c <=> cinmcoa_c + fadh2_c Acyl CoA dehydrogenase  Phenylpropionyl CoA \n",
      "ACOAD34f ACOAD34f: dec4coa_c + fad_c + 2.0 h_c <=> dec4_2_coa_c + fadh2_c Acyl CoA dehydrogenase  4 cis decenoyl CoA \n",
      "ACOAD12f ACOAD12f: fad_c + 2.0 h_c + pdcacoa_c <=> fadh2_c + pdca2coa_c Acyl CoA dehydrogenase  Phenyldecanoyl CoA \n",
      "FMNAT FMNAT: atp_c + fmn_c + h_c --> fad_c + ppi_c FMN adenylyltransferase\n",
      "ACOAD10f ACOAD10f: fad_c + 2.0 h_c + hptcoa_c <=> fadh2_c + hp2coa_c Acyl CoA dehydrogenase  heptanoyl CoA \n",
      "ACOAD22f ACOAD22f: fad_c + vacccoa_c <=> fadh2_c + vacc2coa_c Acyl CoA dehydrogenase  vaccenyl CoA \n",
      "ACOAD7f ACOAD7f: fad_c + pmtcoa_c <=> fadh2_c + hdd2coa_c Acyl-CoA dehydrogenase (hexadecanoyl-CoA)\n"
     ]
    }
   ],
   "source": [
    "for reaction in model_LB.metabolites.fad_c.reactions:\n",
    "    print(reaction.id, reaction, reaction.name)"
   ]
  },
  {
   "cell_type": "markdown",
   "id": "c455f791-bac4-475e-a69a-d49a3027f332",
   "metadata": {},
   "source": [
    "We found no such reaction, so we ended up adding it to the model."
   ]
  },
  {
   "cell_type": "markdown",
   "id": "27ebe644-fab0-450e-aa75-3b9cc664cfca",
   "metadata": {},
   "source": [
    "## Peroxide"
   ]
  },
  {
   "cell_type": "markdown",
   "id": "f7bffac2-380a-4b26-ab03-126c95f94fe3",
   "metadata": {},
   "source": [
    "The regeneration of FAD from FADH2 results in the production of peroxide. We wanted to check if there is a native reaction that possibly will consume it."
   ]
  },
  {
   "cell_type": "code",
   "execution_count": 17,
   "id": "9cb3f025-1c70-4b4b-a392-440201cb4b46",
   "metadata": {},
   "outputs": [
    {
     "name": "stdout",
     "output_type": "stream",
     "text": [
      "Hydrogen peroxide h2o2_c\n",
      "Hydrogen peroxide h2o2_e\n",
      "Hydrogen peroxide h2o2_p\n",
      "Superoxide anion o2s_c\n",
      "Superoxide anion o2s_e\n",
      "Superoxide anion o2s_p\n"
     ]
    }
   ],
   "source": [
    "for metabolite in model_LB.metabolites.query('peroxide', 'name'):\n",
    "    print(metabolite.name, metabolite.id)"
   ]
  },
  {
   "cell_type": "code",
   "execution_count": 18,
   "id": "a88d14e2-f11f-4fd5-9d9e-cdc732589646",
   "metadata": {},
   "outputs": [
    {
     "data": {
      "text/html": [
       "\n",
       "        <table>\n",
       "            <tr>\n",
       "                <td><strong>Metabolite identifier</strong></td><td>h2o2_c</td>\n",
       "            </tr><tr>\n",
       "                <td><strong>Name</strong></td><td>Hydrogen peroxide</td>\n",
       "            </tr><tr>\n",
       "                <td><strong>Memory address</strong></td>\n",
       "                <td>0x01719d9baf40</td>\n",
       "            </tr><tr>\n",
       "                <td><strong>Formula</strong></td><td>H2O2</td>\n",
       "            </tr><tr>\n",
       "                <td><strong>Compartment</strong></td><td>C_c</td>\n",
       "            </tr><tr>\n",
       "                <td><strong>In 27 reaction(s)</strong></td><td>\n",
       "                    DHORDi, PYAM5PO, GLYO1, GLYCTO1, GGPTRCO, GG15DAPO, URIC, GTHPi, APRTO2, ASPO6, GGDAPO, GLXO3r, PDX5POi, SARCOX, SARCOX2, THIORDXi, LPCOXc, CAT, METOX1s, SPODM, NADHPO, NOX, GBDM, GGSPMDO, SHGO,...</td>\n",
       "            </tr>\n",
       "        </table>"
      ],
      "text/plain": [
       "<Metabolite h2o2_c at 0x1719d9baf40>"
      ]
     },
     "execution_count": 18,
     "metadata": {},
     "output_type": "execute_result"
    }
   ],
   "source": [
    "model_LB.metabolites.get_by_id('h2o2_c')"
   ]
  },
  {
   "cell_type": "code",
   "execution_count": 19,
   "id": "9f019d06-5a3a-45bc-956a-5804c7861707",
   "metadata": {},
   "outputs": [
    {
     "data": {
      "text/html": [
       "<h3>h2o2_c</h3><p>H2O2</p><h4>Producing Reactions</h4><table border=\"1\" class=\"dataframe\">\n",
       "  <thead>\n",
       "    <tr style=\"text-align: right;\">\n",
       "      <th>Percent</th>\n",
       "      <th>Flux</th>\n",
       "      <th>Reaction</th>\n",
       "      <th>Definition</th>\n",
       "    </tr>\n",
       "  </thead>\n",
       "  <tbody>\n",
       "    <tr>\n",
       "      <td>100.00%</td>\n",
       "      <td>0.0006335</td>\n",
       "      <td>PDX5POi</td>\n",
       "      <td>o2_c + pdx5p_c --&gt; h2o2_c + pydx5p_c</td>\n",
       "    </tr>\n",
       "  </tbody>\n",
       "</table><h4>Consuming Reactions</h4><table border=\"1\" class=\"dataframe\">\n",
       "  <thead>\n",
       "    <tr style=\"text-align: right;\">\n",
       "      <th>Percent</th>\n",
       "      <th>Flux</th>\n",
       "      <th>Reaction</th>\n",
       "      <th>Definition</th>\n",
       "    </tr>\n",
       "  </thead>\n",
       "  <tbody>\n",
       "    <tr>\n",
       "      <td>100.00%</td>\n",
       "      <td>-0.0006335</td>\n",
       "      <td>CAT</td>\n",
       "      <td>2.0 h2o2_c --&gt; 2.0 h2o_c + o2_c</td>\n",
       "    </tr>\n",
       "  </tbody>\n",
       "</table>"
      ],
      "text/plain": [
       "<cobra.summary.metabolite_summary.MetaboliteSummary at 0x1718e879490>"
      ]
     },
     "execution_count": 19,
     "metadata": {},
     "output_type": "execute_result"
    }
   ],
   "source": [
    "model_LB.metabolites.h2o2_c.summary()"
   ]
  },
  {
   "cell_type": "markdown",
   "id": "9c093cb6-caf2-4698-805a-7a2c058e5c75",
   "metadata": {},
   "source": [
    "# In the model with added Violacein pathway in LB media"
   ]
  },
  {
   "cell_type": "markdown",
   "id": "3e50f09f-ec12-4123-a8c7-c101c0ef2879",
   "metadata": {},
   "source": [
    "## Looking for the peroxide flux"
   ]
  },
  {
   "cell_type": "code",
   "execution_count": 21,
   "id": "2ea25fef-5b6e-42a6-93d5-fca034768480",
   "metadata": {},
   "outputs": [],
   "source": [
    "model_LB_vio = read_sbml_model('Models/model_VN_LB_vio-fad.xml')"
   ]
  },
  {
   "cell_type": "code",
   "execution_count": 22,
   "id": "780aef41-82fd-41bd-b96b-6c47c1fa4297",
   "metadata": {},
   "outputs": [
    {
     "name": "stdout",
     "output_type": "stream",
     "text": [
      "Hydrogen peroxide h2o2_c\n",
      "Hydrogen peroxide h2o2_e\n",
      "Hydrogen peroxide h2o2_p\n",
      "Superoxide anion o2s_c\n",
      "Superoxide anion o2s_e\n",
      "Superoxide anion o2s_p\n"
     ]
    }
   ],
   "source": [
    "for metabolite in model_LB_vio.metabolites.query('peroxide', 'name'):\n",
    "    print(metabolite.name, metabolite.id)"
   ]
  },
  {
   "cell_type": "code",
   "execution_count": 23,
   "id": "76552fa0-d9cf-4791-909a-84f2014322b4",
   "metadata": {},
   "outputs": [
    {
     "data": {
      "text/html": [
       "\n",
       "        <table>\n",
       "            <tr>\n",
       "                <td><strong>Metabolite identifier</strong></td><td>h2o2_c</td>\n",
       "            </tr><tr>\n",
       "                <td><strong>Name</strong></td><td>Hydrogen peroxide</td>\n",
       "            </tr><tr>\n",
       "                <td><strong>Memory address</strong></td>\n",
       "                <td>0x0171a263db20</td>\n",
       "            </tr><tr>\n",
       "                <td><strong>Formula</strong></td><td>H2O2</td>\n",
       "            </tr><tr>\n",
       "                <td><strong>Compartment</strong></td><td>C_c</td>\n",
       "            </tr><tr>\n",
       "                <td><strong>In 28 reaction(s)</strong></td><td>\n",
       "                    URIC, ASPO6, GGPTRCO, SARCOX2, METOX2s, FAD_regeneration, GBDM, GGDAPO, DALAOX, SARCOX, GGSPMDO, APRTO2, LPCOXc, DHORDi, NOX, GLYO1, METOX1s, GLXO3r, CAT, GTHPi, NADHPO, PDX5POi, SHGO, THIORDXi,...</td>\n",
       "            </tr>\n",
       "        </table>"
      ],
      "text/plain": [
       "<Metabolite h2o2_c at 0x171a263db20>"
      ]
     },
     "execution_count": 23,
     "metadata": {},
     "output_type": "execute_result"
    }
   ],
   "source": [
    "model_LB_vio.metabolites.get_by_id('h2o2_c')"
   ]
  },
  {
   "cell_type": "code",
   "execution_count": 24,
   "id": "e7ee9bd3-092a-4015-859a-2040d18bdb4a",
   "metadata": {},
   "outputs": [
    {
     "data": {
      "text/html": [
       "<h3>h2o2_c</h3><p>H2O2</p><h4>Producing Reactions</h4><table border=\"1\" class=\"dataframe\">\n",
       "  <thead>\n",
       "    <tr style=\"text-align: right;\">\n",
       "      <th>Percent</th>\n",
       "      <th>Flux</th>\n",
       "      <th>Reaction</th>\n",
       "      <th>Definition</th>\n",
       "    </tr>\n",
       "  </thead>\n",
       "  <tbody>\n",
       "  </tbody>\n",
       "</table><h4>Consuming Reactions</h4><table border=\"1\" class=\"dataframe\">\n",
       "  <thead>\n",
       "    <tr style=\"text-align: right;\">\n",
       "      <th>Percent</th>\n",
       "      <th>Flux</th>\n",
       "      <th>Reaction</th>\n",
       "      <th>Definition</th>\n",
       "    </tr>\n",
       "  </thead>\n",
       "  <tbody>\n",
       "  </tbody>\n",
       "</table>"
      ],
      "text/plain": [
       "<cobra.summary.metabolite_summary.MetaboliteSummary at 0x1718e86e0a0>"
      ]
     },
     "execution_count": 24,
     "metadata": {},
     "output_type": "execute_result"
    }
   ],
   "source": [
    "model_LB_vio.metabolites.h2o2_c.summary()"
   ]
  },
  {
   "cell_type": "markdown",
   "id": "ed36ec80-54fd-4ceb-89fa-7ed986f3a55e",
   "metadata": {},
   "source": [
    "# Models with M9 media"
   ]
  },
  {
   "cell_type": "markdown",
   "id": "f51fe25e-b959-49dc-81b2-70d542ec86f3",
   "metadata": {},
   "source": [
    "We did the same searches in the models both WT and Violacein added in M9 media, and the findings were the same, or really similar. We did't want to make this document any longer, so we didn't run them here, but all the reactions are commented out."
   ]
  },
  {
   "cell_type": "code",
   "execution_count": 1,
   "id": "07b9f4cd-09ed-4991-82e5-482fd5388f26",
   "metadata": {},
   "outputs": [],
   "source": [
    "model_M9 = read_sbml_model('Models/model_VN_M9.xml')"
   ]
  },
  {
   "cell_type": "code",
   "execution_count": 2,
   "id": "72622bbc-2276-4ee4-93fc-8f13dae5cfc7",
   "metadata": {},
   "outputs": [],
   "source": [
    "# for metabolite in model_M9.metabolites.query('Tryptophan', 'name'):\n",
    "    # print(metabolite.id)\n",
    "    # print(metabolite.name)\n",
    "    # print(metabolite.reactions) #Finding the reactions it is involved in"
   ]
  },
  {
   "cell_type": "code",
   "execution_count": 3,
   "id": "4c6d45d5-75f5-4d27-91a6-e291f7bca290",
   "metadata": {},
   "outputs": [],
   "source": [
    "#We can then investigate L-Trp further\n",
    "# model_M9.metabolites.get_by_id('trp__L_c')"
   ]
  },
  {
   "cell_type": "code",
   "execution_count": 4,
   "id": "91b711a0-4fd8-4026-bb10-9c2519ab1ae7",
   "metadata": {},
   "outputs": [],
   "source": [
    "# model_M9.metabolites.get_by_id('trp__L_c').reactions"
   ]
  },
  {
   "cell_type": "code",
   "execution_count": 5,
   "id": "0025c8ab-76c5-491c-8694-94c5251f4bb8",
   "metadata": {},
   "outputs": [],
   "source": [
    "# for reaction in model_M9.metabolites.trp__L_c.reactions:\n",
    "   # print(reaction.id, reaction, reaction.name)"
   ]
  },
  {
   "cell_type": "code",
   "execution_count": 6,
   "id": "cb40d34c-0c34-4055-9762-5a9e133714bf",
   "metadata": {},
   "outputs": [],
   "source": [
    "#Finding Fe\n",
    "# for metabolite in model_M9.metabolites.query('Fe', 'name'):\n",
    "   # print(metabolite.id)"
   ]
  },
  {
   "cell_type": "code",
   "execution_count": 7,
   "id": "de5beb62-b6a6-488e-8d9c-98390a81deca",
   "metadata": {},
   "outputs": [],
   "source": [
    "# model_M9.metabolites.get_by_id('fe2_c')"
   ]
  },
  {
   "cell_type": "code",
   "execution_count": 8,
   "id": "0e82d3ac-b45c-480b-b470-6eca054c00cf",
   "metadata": {},
   "outputs": [],
   "source": [
    "# for reaction in model_M9.metabolites.fe2_c.reactions:\n",
    "   # print(reaction.id, reaction, reaction.name)"
   ]
  },
  {
   "cell_type": "code",
   "execution_count": 9,
   "id": "894eee4d-bad5-4ad6-9114-1cbb4e8675ac",
   "metadata": {},
   "outputs": [],
   "source": [
    "#Finding Cl\n",
    "# for metabolite in model_M9.metabolites.query('Chloride', 'name'):\n",
    "  #  print(metabolite.id)"
   ]
  },
  {
   "cell_type": "code",
   "execution_count": 10,
   "id": "6c7f559f-ad89-44fe-8efc-0f75e3d7fa6f",
   "metadata": {},
   "outputs": [],
   "source": [
    "# model_M9.metabolites.get_by_id('cl_c')"
   ]
  },
  {
   "cell_type": "code",
   "execution_count": 11,
   "id": "f8ddbaa5-fa82-4fb4-8088-6db287763971",
   "metadata": {},
   "outputs": [],
   "source": [
    "# for reaction in model.metabolites.cl_c.reactions:\n",
    "  #  print(reaction.id, reaction, reaction.name)"
   ]
  },
  {
   "cell_type": "code",
   "execution_count": 12,
   "id": "50857194-cbad-4f78-9ccd-7251167e2a7a",
   "metadata": {},
   "outputs": [],
   "source": [
    "# for metabolite in model.metabolites.query('peroxide', 'name'):\n",
    "   # print(metabolite.name, metabolite.id)"
   ]
  },
  {
   "cell_type": "code",
   "execution_count": 13,
   "id": "2958213b-c46a-42c5-b253-1309956bb9da",
   "metadata": {},
   "outputs": [],
   "source": [
    "# model_M9.metabolites.get_by_id('h2o2_c')"
   ]
  },
  {
   "cell_type": "code",
   "execution_count": 14,
   "id": "db8715c0-8593-468b-b938-a7c6c805bddf",
   "metadata": {},
   "outputs": [],
   "source": [
    "# model_M9.metabolites.h2o2_c.summary()"
   ]
  },
  {
   "cell_type": "code",
   "execution_count": null,
   "id": "be04deea-e0bf-4178-bcf7-6d4819bf7c2e",
   "metadata": {},
   "outputs": [],
   "source": [
    "model_M9_vio = read_sbml_model('Models/model_VN_M9_vio-fad.xml')"
   ]
  },
  {
   "cell_type": "code",
   "execution_count": 18,
   "id": "135c0ac0-0833-49d5-9caa-e075aae8ad77",
   "metadata": {},
   "outputs": [
    {
     "name": "stdout",
     "output_type": "stream",
     "text": [
      "Hydrogen peroxide h2o2_c\n",
      "Hydrogen peroxide h2o2_e\n",
      "Hydrogen peroxide h2o2_p\n",
      "Superoxide anion o2s_c\n",
      "Superoxide anion o2s_e\n",
      "Superoxide anion o2s_p\n"
     ]
    }
   ],
   "source": [
    "for metabolite in model.metabolites.query('peroxide', 'name'):\n",
    "    print(metabolite.name, metabolite.id)"
   ]
  },
  {
   "cell_type": "code",
   "execution_count": 19,
   "id": "c1a45e69-d7be-4995-8568-af1c5074d6e7",
   "metadata": {},
   "outputs": [
    {
     "data": {
      "text/html": [
       "\n",
       "        <table>\n",
       "            <tr>\n",
       "                <td><strong>Metabolite identifier</strong></td><td>h2o2_c</td>\n",
       "            </tr><tr>\n",
       "                <td><strong>Name</strong></td><td>Hydrogen peroxide</td>\n",
       "            </tr><tr>\n",
       "                <td><strong>Memory address</strong></td>\n",
       "                <td>0x01865b10c490</td>\n",
       "            </tr><tr>\n",
       "                <td><strong>Formula</strong></td><td>H2O2</td>\n",
       "            </tr><tr>\n",
       "                <td><strong>Compartment</strong></td><td>C_c</td>\n",
       "            </tr><tr>\n",
       "                <td><strong>In 28 reaction(s)</strong></td><td>\n",
       "                    SARCOX, PYAM5PO, GGPTRCO, GGSPMDO, GLYO1, DALAOX, NOX, FAD_regeneration, URIC, CAT, GLXO3r, GG15DAPO, ASPO6, SHGO, DHORDi, METOX1s, NADHPO, THIORDXi, GLYCTO1, GBDM, GGDAPO, PDX5POi, GTHPi, APRTO2,...</td>\n",
       "            </tr>\n",
       "        </table>"
      ],
      "text/plain": [
       "<Metabolite h2o2_c at 0x1865b10c490>"
      ]
     },
     "execution_count": 19,
     "metadata": {},
     "output_type": "execute_result"
    }
   ],
   "source": [
    "model.metabolites.get_by_id('h2o2_c')"
   ]
  },
  {
   "cell_type": "code",
   "execution_count": 20,
   "id": "0a4dfee5-2724-4fc0-a5d2-c98378941aa7",
   "metadata": {},
   "outputs": [
    {
     "data": {
      "text/html": [
       "<h3>h2o2_c</h3><p>H2O2</p><h4>Producing Reactions</h4><table border=\"1\" class=\"dataframe\">\n",
       "  <thead>\n",
       "    <tr style=\"text-align: right;\">\n",
       "      <th>Percent</th>\n",
       "      <th>Flux</th>\n",
       "      <th>Reaction</th>\n",
       "      <th>Definition</th>\n",
       "    </tr>\n",
       "  </thead>\n",
       "  <tbody>\n",
       "  </tbody>\n",
       "</table><h4>Consuming Reactions</h4><table border=\"1\" class=\"dataframe\">\n",
       "  <thead>\n",
       "    <tr style=\"text-align: right;\">\n",
       "      <th>Percent</th>\n",
       "      <th>Flux</th>\n",
       "      <th>Reaction</th>\n",
       "      <th>Definition</th>\n",
       "    </tr>\n",
       "  </thead>\n",
       "  <tbody>\n",
       "  </tbody>\n",
       "</table>"
      ],
      "text/plain": [
       "<cobra.summary.metabolite_summary.MetaboliteSummary at 0x1865cd81f70>"
      ]
     },
     "execution_count": 20,
     "metadata": {},
     "output_type": "execute_result"
    }
   ],
   "source": [
    "model.metabolites.h2o2_c.summary()"
   ]
  },
  {
   "cell_type": "code",
   "execution_count": null,
   "id": "f6000c19-b2e9-4689-8232-d9a8ee384314",
   "metadata": {},
   "outputs": [],
   "source": []
  }
 ],
 "metadata": {
  "kernelspec": {
   "display_name": "Python 3",
   "language": "python",
   "name": "python3"
  },
  "language_info": {
   "codemirror_mode": {
    "name": "ipython",
    "version": 3
   },
   "file_extension": ".py",
   "mimetype": "text/x-python",
   "name": "python",
   "nbconvert_exporter": "python",
   "pygments_lexer": "ipython3",
   "version": "3.8.8"
  }
 },
 "nbformat": 4,
 "nbformat_minor": 5
}
