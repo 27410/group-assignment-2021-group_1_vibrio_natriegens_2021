{
 "cells": [
  {
   "cell_type": "code",
   "execution_count": 5,
   "id": "cd6bb564-172b-4cac-a0da-1885c9080338",
   "metadata": {
    "tags": []
   },
   "outputs": [],
   "source": [
    "from cobra.io import read_sbml_model"
   ]
  },
  {
   "cell_type": "code",
   "execution_count": 8,
   "id": "a0cbcf6c-e68a-4354-83a2-144b04c2fea3",
   "metadata": {},
   "outputs": [],
   "source": [
    "model = read_sbml_model('C:/Users/tothb/Documents/Computer_aided_cell_factory/group-assignment-2021-group_1_vibrio_natriegens_2021/Models/model_violacein_o2.xml')"
   ]
  },
  {
   "cell_type": "code",
   "execution_count": 9,
   "id": "cfd0ad0e-9caf-449c-b737-2de9a77924cc",
   "metadata": {},
   "outputs": [
    {
     "name": "stdout",
     "output_type": "stream",
     "text": [
      "Hydrogen peroxide h2o2_c\n",
      "Hydrogen peroxide h2o2_p\n",
      "Hydrogen peroxide h2o2_e\n"
     ]
    }
   ],
   "source": [
    "for metabolite in model.metabolites.query('peroxide', 'name'):\n",
    "    print(metabolite.name, metabolite.id)"
   ]
  },
  {
   "cell_type": "code",
   "execution_count": 10,
   "id": "98005163-00c6-483f-87c4-8492b8cc4d43",
   "metadata": {},
   "outputs": [
    {
     "data": {
      "text/html": [
       "\n",
       "        <table>\n",
       "            <tr>\n",
       "                <td><strong>Metabolite identifier</strong></td><td>h2o2_c</td>\n",
       "            </tr><tr>\n",
       "                <td><strong>Name</strong></td><td>Hydrogen peroxide</td>\n",
       "            </tr><tr>\n",
       "                <td><strong>Memory address</strong></td>\n",
       "                <td>0x02150c5bc1c0</td>\n",
       "            </tr><tr>\n",
       "                <td><strong>Formula</strong></td><td>H2O2</td>\n",
       "            </tr><tr>\n",
       "                <td><strong>Compartment</strong></td><td>C_c</td>\n",
       "            </tr><tr>\n",
       "                <td><strong>In 19 reaction(s)</strong></td><td>\n",
       "                    GGPTRCO, ASPO6, PYAM5PO, GLYCTO1, METSR_S2, METSR_R2, METOX2s, SARCOX, GTHPi, PDX5POi, THIORDXi, DALAOX, METOX1s, GLXO3r, IPA_imine_VioA_O2, GLYO1, URIC, PYDXNO, NOX</td>\n",
       "            </tr>\n",
       "        </table>"
      ],
      "text/plain": [
       "<Metabolite h2o2_c at 0x2150c5bc1c0>"
      ]
     },
     "execution_count": 10,
     "metadata": {},
     "output_type": "execute_result"
    }
   ],
   "source": [
    "model.metabolites.get_by_id('h2o2_c')"
   ]
  },
  {
   "cell_type": "code",
   "execution_count": 11,
   "id": "1a883be7-d6ea-4c06-95a1-14d1b2f3c397",
   "metadata": {},
   "outputs": [
    {
     "data": {
      "text/html": [
       "\n",
       "        <table>\n",
       "            <tr>\n",
       "                <td><strong>Metabolite identifier</strong></td><td>h2o2_p</td>\n",
       "            </tr><tr>\n",
       "                <td><strong>Name</strong></td><td>Hydrogen peroxide</td>\n",
       "            </tr><tr>\n",
       "                <td><strong>Memory address</strong></td>\n",
       "                <td>0x0215105476a0</td>\n",
       "            </tr><tr>\n",
       "                <td><strong>Formula</strong></td><td>H2O2</td>\n",
       "            </tr><tr>\n",
       "                <td><strong>Compartment</strong></td><td>C_p</td>\n",
       "            </tr><tr>\n",
       "                <td><strong>In 2 reaction(s)</strong></td><td>\n",
       "                    H2O2tex, 42A12BOOXpp</td>\n",
       "            </tr>\n",
       "        </table>"
      ],
      "text/plain": [
       "<Metabolite h2o2_p at 0x215105476a0>"
      ]
     },
     "execution_count": 11,
     "metadata": {},
     "output_type": "execute_result"
    }
   ],
   "source": [
    "model.metabolites.get_by_id('h2o2_p')"
   ]
  },
  {
   "cell_type": "code",
   "execution_count": 12,
   "id": "bde3c408-1449-41e8-aac5-b409ab5f5c1b",
   "metadata": {},
   "outputs": [
    {
     "data": {
      "text/html": [
       "\n",
       "        <table>\n",
       "            <tr>\n",
       "                <td><strong>Metabolite identifier</strong></td><td>h2o2_e</td>\n",
       "            </tr><tr>\n",
       "                <td><strong>Name</strong></td><td>Hydrogen peroxide</td>\n",
       "            </tr><tr>\n",
       "                <td><strong>Memory address</strong></td>\n",
       "                <td>0x021510740820</td>\n",
       "            </tr><tr>\n",
       "                <td><strong>Formula</strong></td><td>H2O2</td>\n",
       "            </tr><tr>\n",
       "                <td><strong>Compartment</strong></td><td>C_e</td>\n",
       "            </tr><tr>\n",
       "                <td><strong>In 2 reaction(s)</strong></td><td>\n",
       "                    H2O2tex, EX_h2o2_e</td>\n",
       "            </tr>\n",
       "        </table>"
      ],
      "text/plain": [
       "<Metabolite h2o2_e at 0x21510740820>"
      ]
     },
     "execution_count": 12,
     "metadata": {},
     "output_type": "execute_result"
    }
   ],
   "source": [
    "model.metabolites.get_by_id('h2o2_e')"
   ]
  },
  {
   "cell_type": "code",
   "execution_count": 13,
   "id": "0d28ac71-10ff-412a-b068-55d723f4a504",
   "metadata": {},
   "outputs": [
    {
     "data": {
      "text/html": [
       "<h3>h2o2_c</h3><p>H2O2</p><h4>Producing Reactions</h4><table border=\"1\" class=\"dataframe\">\n",
       "  <thead>\n",
       "    <tr style=\"text-align: right;\">\n",
       "      <th>Percent</th>\n",
       "      <th>Flux</th>\n",
       "      <th>Reaction</th>\n",
       "      <th>Definition</th>\n",
       "    </tr>\n",
       "  </thead>\n",
       "  <tbody>\n",
       "    <tr>\n",
       "      <td>100.00%</td>\n",
       "      <td>0.0001767</td>\n",
       "      <td>PDX5POi</td>\n",
       "      <td>o2_c + pdx5p_c --&gt; h2o2_c + pydx5p_c</td>\n",
       "    </tr>\n",
       "  </tbody>\n",
       "</table><h4>Consuming Reactions</h4><table border=\"1\" class=\"dataframe\">\n",
       "  <thead>\n",
       "    <tr style=\"text-align: right;\">\n",
       "      <th>Percent</th>\n",
       "      <th>Flux</th>\n",
       "      <th>Reaction</th>\n",
       "      <th>Definition</th>\n",
       "    </tr>\n",
       "  </thead>\n",
       "  <tbody>\n",
       "    <tr>\n",
       "      <td>100.00%</td>\n",
       "      <td>-0.0001767</td>\n",
       "      <td>GTHPi</td>\n",
       "      <td>2.0 gthrd_c + h2o2_c --&gt; gthox_c + 2.0 h2o_c</td>\n",
       "    </tr>\n",
       "  </tbody>\n",
       "</table>"
      ],
      "text/plain": [
       "<cobra.summary.metabolite_summary.MetaboliteSummary at 0x215054e7d30>"
      ]
     },
     "execution_count": 13,
     "metadata": {},
     "output_type": "execute_result"
    }
   ],
   "source": [
    "model.metabolites.h2o2_c.summary()"
   ]
  },
  {
   "cell_type": "code",
   "execution_count": 14,
   "id": "16cac32f-ebd5-4ddb-af2b-8895ffa8b810",
   "metadata": {},
   "outputs": [
    {
     "data": {
      "text/html": [
       "<h3>h2o2_p</h3><p>H2O2</p><h4>Producing Reactions</h4><table border=\"1\" class=\"dataframe\">\n",
       "  <thead>\n",
       "    <tr style=\"text-align: right;\">\n",
       "      <th>Percent</th>\n",
       "      <th>Flux</th>\n",
       "      <th>Reaction</th>\n",
       "      <th>Definition</th>\n",
       "    </tr>\n",
       "  </thead>\n",
       "  <tbody>\n",
       "  </tbody>\n",
       "</table><h4>Consuming Reactions</h4><table border=\"1\" class=\"dataframe\">\n",
       "  <thead>\n",
       "    <tr style=\"text-align: right;\">\n",
       "      <th>Percent</th>\n",
       "      <th>Flux</th>\n",
       "      <th>Reaction</th>\n",
       "      <th>Definition</th>\n",
       "    </tr>\n",
       "  </thead>\n",
       "  <tbody>\n",
       "  </tbody>\n",
       "</table>"
      ],
      "text/plain": [
       "<cobra.summary.metabolite_summary.MetaboliteSummary at 0x215109a4f40>"
      ]
     },
     "execution_count": 14,
     "metadata": {},
     "output_type": "execute_result"
    }
   ],
   "source": [
    "model.metabolites.h2o2_p.summary()"
   ]
  },
  {
   "cell_type": "code",
   "execution_count": 15,
   "id": "92badf93-a2b1-4a17-a74d-1daa6511b90c",
   "metadata": {},
   "outputs": [
    {
     "data": {
      "text/html": [
       "<h3>h2o2_e</h3><p>H2O2</p><h4>Producing Reactions</h4><table border=\"1\" class=\"dataframe\">\n",
       "  <thead>\n",
       "    <tr style=\"text-align: right;\">\n",
       "      <th>Percent</th>\n",
       "      <th>Flux</th>\n",
       "      <th>Reaction</th>\n",
       "      <th>Definition</th>\n",
       "    </tr>\n",
       "  </thead>\n",
       "  <tbody>\n",
       "  </tbody>\n",
       "</table><h4>Consuming Reactions</h4><table border=\"1\" class=\"dataframe\">\n",
       "  <thead>\n",
       "    <tr style=\"text-align: right;\">\n",
       "      <th>Percent</th>\n",
       "      <th>Flux</th>\n",
       "      <th>Reaction</th>\n",
       "      <th>Definition</th>\n",
       "    </tr>\n",
       "  </thead>\n",
       "  <tbody>\n",
       "  </tbody>\n",
       "</table>"
      ],
      "text/plain": [
       "<cobra.summary.metabolite_summary.MetaboliteSummary at 0x21512bc5490>"
      ]
     },
     "execution_count": 15,
     "metadata": {},
     "output_type": "execute_result"
    }
   ],
   "source": [
    "model.metabolites.h2o2_e.summary()"
   ]
  },
  {
   "cell_type": "code",
   "execution_count": null,
   "id": "e03dda47-35e3-4266-8a16-4f7bef2f3583",
   "metadata": {},
   "outputs": [],
   "source": []
  }
 ],
 "metadata": {
  "kernelspec": {
   "display_name": "Python 3",
   "language": "python",
   "name": "python3"
  },
  "language_info": {
   "codemirror_mode": {
    "name": "ipython",
    "version": 3
   },
   "file_extension": ".py",
   "mimetype": "text/x-python",
   "name": "python",
   "nbconvert_exporter": "python",
   "pygments_lexer": "ipython3",
   "version": "3.8.8"
  }
 },
 "nbformat": 4,
 "nbformat_minor": 5
}
