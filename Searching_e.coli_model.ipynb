{
 "cells": [
  {
   "cell_type": "code",
   "execution_count": 1,
   "id": "c5c0326b-63ec-4f4a-b4b1-f54f0379cb8f",
   "metadata": {},
   "outputs": [],
   "source": [
    "import numpy as np\n",
    "from cobra.io import read_sbml_model\n",
    "from cobra.util import create_stoichiometric_matrix"
   ]
  },
  {
   "cell_type": "code",
   "execution_count": 2,
   "id": "4b2301d9-e89d-4326-8daa-9522d63345bc",
   "metadata": {},
   "outputs": [],
   "source": [
    "model_E_coli = read_sbml_model('Models/iML1515.xml.gz')"
   ]
  },
  {
   "cell_type": "code",
   "execution_count": 3,
   "id": "9260b002-fd12-4adc-a5c5-a83c7181e941",
   "metadata": {},
   "outputs": [
    {
     "data": {
      "text/html": [
       "\n",
       "        <table>\n",
       "            <tr>\n",
       "                <td><strong>Name</strong></td>\n",
       "                <td>iML1515</td>\n",
       "            </tr><tr>\n",
       "                <td><strong>Memory address</strong></td>\n",
       "                <td>0x02b878617280</td>\n",
       "            </tr><tr>\n",
       "                <td><strong>Number of metabolites</strong></td>\n",
       "                <td>1877</td>\n",
       "            </tr><tr>\n",
       "                <td><strong>Number of reactions</strong></td>\n",
       "                <td>2712</td>\n",
       "            </tr><tr>\n",
       "                <td><strong>Number of groups</strong></td>\n",
       "                <td>0</td>\n",
       "            </tr><tr>\n",
       "                <td><strong>Objective expression</strong></td>\n",
       "                <td>1.0*BIOMASS_Ec_iML1515_core_75p37M - 1.0*BIOMASS_Ec_iML1515_core_75p37M_reverse_35685</td>\n",
       "            </tr><tr>\n",
       "                <td><strong>Compartments</strong></td>\n",
       "                <td>cytosol, extracellular space, periplasm</td>\n",
       "            </tr>\n",
       "          </table>"
      ],
      "text/plain": [
       "<Model iML1515 at 0x2b878617280>"
      ]
     },
     "execution_count": 3,
     "metadata": {},
     "output_type": "execute_result"
    }
   ],
   "source": [
    "model_E_coli"
   ]
  },
  {
   "cell_type": "code",
   "execution_count": 4,
   "id": "a3c2b2f6-8719-4570-ba9c-cdea26606b8b",
   "metadata": {},
   "outputs": [
    {
     "name": "stdout",
     "output_type": "stream",
     "text": [
      "Superoxide anion o2s_c\n",
      "Superoxide anion o2s_p\n",
      "Hydrogen peroxide h2o2_c\n",
      "Superoxide anion o2s_e\n",
      "Hydrogen peroxide h2o2_p\n",
      "Hydrogen peroxide h2o2_e\n"
     ]
    }
   ],
   "source": [
    "for metabolite in model_E_coli.metabolites.query('peroxide', 'name'):\n",
    "    print(metabolite.name, metabolite.id)"
   ]
  },
  {
   "cell_type": "code",
   "execution_count": 5,
   "id": "ac666ecb-daa3-4b69-8863-a1ed1a4818b2",
   "metadata": {},
   "outputs": [
    {
     "data": {
      "text/html": [
       "\n",
       "        <table>\n",
       "            <tr>\n",
       "                <td><strong>Metabolite identifier</strong></td><td>h2o2_c</td>\n",
       "            </tr><tr>\n",
       "                <td><strong>Name</strong></td><td>Hydrogen peroxide</td>\n",
       "            </tr><tr>\n",
       "                <td><strong>Memory address</strong></td>\n",
       "                <td>0x02b87f9309a0</td>\n",
       "            </tr><tr>\n",
       "                <td><strong>Formula</strong></td><td>H2O2</td>\n",
       "            </tr><tr>\n",
       "                <td><strong>Compartment</strong></td><td>c</td>\n",
       "            </tr><tr>\n",
       "                <td><strong>In 18 reaction(s)</strong></td><td>\n",
       "                    SHGO, GTHPi, NADHPO, MTRPOX, GGPTRCO, CAT, FESD1s, ASPO6, SARCOX, THIORDXi, METOX1s, PDX5POi, PYAM5PO, AACTOOR, URIC, MOX, SPODM, METOX2s</td>\n",
       "            </tr>\n",
       "        </table>"
      ],
      "text/plain": [
       "<Metabolite h2o2_c at 0x2b87f9309a0>"
      ]
     },
     "execution_count": 5,
     "metadata": {},
     "output_type": "execute_result"
    }
   ],
   "source": [
    "model_E_coli.metabolites.get_by_id('h2o2_c')"
   ]
  },
  {
   "cell_type": "code",
   "execution_count": 6,
   "id": "e337e71f-f9e8-420a-842f-ab77e9a024e5",
   "metadata": {},
   "outputs": [
    {
     "data": {
      "text/plain": [
       "frozenset({<Reaction AACTOOR at 0x2b809aabeb0>,\n",
       "           <Reaction ASPO6 at 0x2b808443a00>,\n",
       "           <Reaction CAT at 0x2b80824cd90>,\n",
       "           <Reaction FESD1s at 0x2b809f9adf0>,\n",
       "           <Reaction GGPTRCO at 0x2b809a96d60>,\n",
       "           <Reaction GTHPi at 0x2b809fac820>,\n",
       "           <Reaction METOX1s at 0x2b808730280>,\n",
       "           <Reaction METOX2s at 0x2b808730fd0>,\n",
       "           <Reaction MOX at 0x2b809febf40>,\n",
       "           <Reaction MTRPOX at 0x2b80883bcd0>,\n",
       "           <Reaction NADHPO at 0x2b809d4b040>,\n",
       "           <Reaction PDX5POi at 0x2b809aeda90>,\n",
       "           <Reaction PYAM5PO at 0x2b807ef0eb0>,\n",
       "           <Reaction SARCOX at 0x2b808676df0>,\n",
       "           <Reaction SHGO at 0x2b809f84820>,\n",
       "           <Reaction SPODM at 0x2b808235f70>,\n",
       "           <Reaction THIORDXi at 0x2b809ad3e20>,\n",
       "           <Reaction URIC at 0x2b807fccf10>})"
      ]
     },
     "execution_count": 6,
     "metadata": {},
     "output_type": "execute_result"
    }
   ],
   "source": [
    "# Finding the reactions that involve H2O2\n",
    "model_E_coli.metabolites.get_by_id('h2o2_c').reactions"
   ]
  },
  {
   "cell_type": "code",
   "execution_count": 7,
   "id": "d38f0246-850b-4541-9894-868c3037b98f",
   "metadata": {},
   "outputs": [
    {
     "name": "stdout",
     "output_type": "stream",
     "text": [
      "SHGO SHGO: S2hglut_c + o2_c --> akg_c + h2o2_c S-2-hydroxyglutarate oxidase\n",
      "GTHPi GTHPi: 2.0 gthrd_c + h2o2_c --> gthox_c + 2.0 h2o_c Glutathione peridoxase\n",
      "NADHPO NADHPO: h2o2_c + h_c + nadh_c --> 2.0 h2o_c + nad_c NADH peroxidase\n",
      "MTRPOX MTRPOX: Nmtrp_c + h2o_c + o2_c --> fald_c + h2o2_c + trp__L_c N-methyltryptophan oxidase\n",
      "GGPTRCO GGPTRCO: ggptrc_c + h2o_c + o2_c --> ggbutal_c + h2o2_c + nh4_c Gamma glutamyl putrescine oxidase\n",
      "CAT CAT: 2.0 h2o2_c --> 2.0 h2o_c + o2_c Catalase\n",
      "FESD1s FESD1s: 2.0 4fe4s_c + h2o2_c + 2.0 h_c --> 2.0 3fe4s_c + 2.0 fe3_c + 2.0 h2o_c Iron-sulfur cluster damage (peroxide, spontaneous)\n",
      "ASPO6 ASPO6: asp__L_c + o2_c --> h2o2_c + h_c + iasp_c L-aspartate oxidase\n",
      "SARCOX SARCOX: h2o_c + o2_c + sarcs_c --> fald_c + gly_c + h2o2_c Sarcosine oxidase\n",
      "THIORDXi THIORDXi: h2o2_c + trdrd_c --> 2.0 h2o_c + trdox_c Hydrogen peroxide reductase (thioredoxin)\n",
      "METOX1s METOX1s: h2o2_c + met__L_c --> h2o_c + metsox_S__L_c Methionine oxidation (spontaneous)\n",
      "PDX5POi PDX5POi: o2_c + pdx5p_c --> h2o2_c + pydx5p_c Pyridoxine 5'-phosphate oxidase\n",
      "PYAM5PO PYAM5PO: h2o_c + o2_c + pyam5p_c --> h2o2_c + nh4_c + pydx5p_c Pyridoxamine 5'-phosphate oxidase\n",
      "AACTOOR AACTOOR: aact_c + h2o_c + o2_c --> h2o2_c + mthgxl_c + nh4_c Aminoacetone:oxygen oxidoreductase(deaminating)(flavin-containing)\n",
      "URIC URIC: 2.0 h2o_c + o2_c + urate_c --> alltn_c + co2_c + h2o2_c Uricase\n",
      "MOX MOX: mal__L_c + o2_c --> h2o2_c + oaa_c Malate oxidase\n",
      "SPODM SPODM: 2.0 h_c + 2.0 o2s_c --> h2o2_c + o2_c Superoxide dismutase\n",
      "METOX2s METOX2s: h2o2_c + met__L_c --> h2o_c + metsox_R__L_c Methionine oxidation 2 (spontaneous)\n"
     ]
    }
   ],
   "source": [
    "# Let's take a closer look at the reactions associated withHydrogen Peroxide (`h2o2_c`).\n",
    "# # We need to figure out if H2O2 is concumed in the model as it is toxic\n",
    "for reaction in model_E_coli.metabolites.h2o2_c.reactions:\n",
    "    print(reaction.id, reaction, reaction.name)"
   ]
  },
  {
   "cell_type": "code",
   "execution_count": 8,
   "id": "e023433d-0cf6-4c52-9857-87c72c737f03",
   "metadata": {},
   "outputs": [
    {
     "name": "stdout",
     "output_type": "stream",
     "text": [
      "2.0 4fe4s_c + h2o2_c + 2.0 h_c --> 2.0 3fe4s_c + 2.0 fe3_c + 2.0 h2o_c\n",
      "h2o2_c + met__L_c --> h2o_c + metsox_S__L_c\n",
      "h2o2_c + h_c + nadh_c --> 2.0 h2o_c + nad_c\n",
      "h2o2_c + met__L_c --> h2o_c + metsox_R__L_c\n",
      "2.0 gthrd_c + h2o2_c --> gthox_c + 2.0 h2o_c\n",
      "2.0 h2o2_c --> 2.0 h2o_c + o2_c\n",
      "h2o2_c + trdrd_c --> 2.0 h2o_c + trdox_c\n"
     ]
    }
   ],
   "source": [
    "# The reactions that use H2O2 are found manually\n",
    "print(model_E_coli.reactions.FESD1s.reaction) \n",
    "print(model_E_coli.reactions.METOX1s.reaction) #Also found in V.natriegens\n",
    "print(model_E_coli.reactions.NADHPO.reaction)\n",
    "print(model_E_coli.reactions.METOX2s.reaction) #Also found in V.natriegens\n",
    "print(model_E_coli.reactions.GTHPi.reaction) #Also found in V.natriegens\n",
    "print(model_E_coli.reactions.CAT.reaction)\n",
    "print(model_E_coli.reactions.THIORDXi.reaction) #Found in V.natriegens\n",
    "#As we have found these reactions we can safely insert the pathway to produce violacein\n",
    "# increase the flux of one of these reactions to get rid of H2O2, it has the tools to survive"
   ]
  },
  {
   "cell_type": "code",
   "execution_count": 9,
   "id": "54b33b0d-06b2-4c55-80a9-86a546c56915",
   "metadata": {},
   "outputs": [
    {
     "name": "stdout",
     "output_type": "stream",
     "text": [
      "Nmtrp_c\n",
      "N-Methyltryptophan\n",
      "frozenset({<Reaction MTRPOX at 0x2b80883bcd0>})\n"
     ]
    }
   ],
   "source": [
    "#Finding L-trp\n",
    "for metabolite in model_E_coli.metabolites.query('tryptophan', 'name'):\n",
    "    print(metabolite.id)\n",
    "    print(metabolite.name)\n",
    "    print(metabolite.reactions) #Finding the reactions it is involved in\n",
    "#Doesn't give L-Trp"
   ]
  },
  {
   "cell_type": "code",
   "execution_count": 10,
   "id": "40accccf-3333-4df8-9770-f7e732c82653",
   "metadata": {},
   "outputs": [
    {
     "name": "stdout",
     "output_type": "stream",
     "text": [
      "trp__L_c\n",
      "L-Tryptophan\n",
      "frozenset({<Reaction TRPAS2 at 0x2b87ff16e20>, <Reaction TRPS1 at 0x2b8081adbe0>, <Reaction TRPS2 at 0x2b87ff69e50>, <Reaction TRPtipp at 0x2b809f4a460>, <Reaction MTRPOX at 0x2b80883bcd0>, <Reaction BIOMASS_Ec_iML1515_WT_75p37M at 0x2b80a013f40>, <Reaction BIOMASS_Ec_iML1515_core_75p37M at 0x2b80a050d60>, <Reaction TRPt2rpp at 0x2b808309be0>})\n",
      "trp__L_p\n",
      "L-Tryptophan\n",
      "frozenset({<Reaction TRPtipp at 0x2b809f4a460>, <Reaction TRPt2rpp at 0x2b808309be0>, <Reaction TRPtex at 0x2b8084bbaf0>})\n",
      "trp__L_e\n",
      "L-Tryptophan\n",
      "frozenset({<Reaction EX_trp__L_e at 0x2b807f22e20>, <Reaction TRPtex at 0x2b8084bbaf0>})\n"
     ]
    }
   ],
   "source": [
    "#Finding L-trp\n",
    "for metabolite in model_E_coli.metabolites.query('Tryptophan', 'name'):\n",
    "    print(metabolite.id)\n",
    "    print(metabolite.name)\n",
    "    print(metabolite.reactions) #Finding the reactions it is involved in"
   ]
  },
  {
   "cell_type": "code",
   "execution_count": 11,
   "id": "55e55923-a6bc-4a87-9a83-e935e5a4bdf2",
   "metadata": {},
   "outputs": [
    {
     "data": {
      "text/html": [
       "\n",
       "        <table>\n",
       "            <tr>\n",
       "                <td><strong>Metabolite identifier</strong></td><td>trp__L_c</td>\n",
       "            </tr><tr>\n",
       "                <td><strong>Name</strong></td><td>L-Tryptophan</td>\n",
       "            </tr><tr>\n",
       "                <td><strong>Memory address</strong></td>\n",
       "                <td>0x02b87f7a5730</td>\n",
       "            </tr><tr>\n",
       "                <td><strong>Formula</strong></td><td>C11H12N2O2</td>\n",
       "            </tr><tr>\n",
       "                <td><strong>Compartment</strong></td><td>c</td>\n",
       "            </tr><tr>\n",
       "                <td><strong>In 8 reaction(s)</strong></td><td>\n",
       "                    TRPAS2, TRPS1, TRPS2, TRPtipp, MTRPOX, BIOMASS_Ec_iML1515_WT_75p37M, BIOMASS_Ec_iML1515_core_75p37M, TRPt2rpp</td>\n",
       "            </tr>\n",
       "        </table>"
      ],
      "text/plain": [
       "<Metabolite trp__L_c at 0x2b87f7a5730>"
      ]
     },
     "execution_count": 11,
     "metadata": {},
     "output_type": "execute_result"
    }
   ],
   "source": [
    "#We can then investigate L-Trp further\n",
    "model_E_coli.metabolites.get_by_id('trp__L_c')"
   ]
  },
  {
   "cell_type": "code",
   "execution_count": 12,
   "id": "0f6ac806-9165-4fe3-b96c-2ef2b8c81b4c",
   "metadata": {},
   "outputs": [
    {
     "data": {
      "text/plain": [
       "frozenset({<Reaction BIOMASS_Ec_iML1515_WT_75p37M at 0x2b80a013f40>,\n",
       "           <Reaction BIOMASS_Ec_iML1515_core_75p37M at 0x2b80a050d60>,\n",
       "           <Reaction MTRPOX at 0x2b80883bcd0>,\n",
       "           <Reaction TRPAS2 at 0x2b87ff16e20>,\n",
       "           <Reaction TRPS1 at 0x2b8081adbe0>,\n",
       "           <Reaction TRPS2 at 0x2b87ff69e50>,\n",
       "           <Reaction TRPt2rpp at 0x2b808309be0>,\n",
       "           <Reaction TRPtipp at 0x2b809f4a460>})"
      ]
     },
     "execution_count": 12,
     "metadata": {},
     "output_type": "execute_result"
    }
   ],
   "source": [
    "model_E_coli.metabolites.get_by_id('trp__L_c').reactions"
   ]
  },
  {
   "cell_type": "code",
   "execution_count": 13,
   "id": "f8cbd64d-a99f-4d8a-8ad7-5f2789030ddc",
   "metadata": {},
   "outputs": [
    {
     "name": "stdout",
     "output_type": "stream",
     "text": [
      "TRPAS2 TRPAS2: h2o_c + trp__L_c <=> indole_c + nh4_c + pyr_c Tryptophanase (L-tryptophan)\n",
      "TRPS1 TRPS1: 3ig3p_c + ser__L_c --> g3p_c + h2o_c + trp__L_c Tryptophan synthase (indoleglycerol phosphate)\n",
      "TRPS2 TRPS2: indole_c + ser__L_c --> h2o_c + trp__L_c Tryptophan synthase (indole)\n",
      "TRPtipp TRPtipp: trp__L_c --> trp__L_p L-tryptophan transport out (periplasm)\n",
      "MTRPOX MTRPOX: Nmtrp_c + h2o_c + o2_c --> fald_c + h2o2_c + trp__L_c N-methyltryptophan oxidase\n",
      "BIOMASS_Ec_iML1515_WT_75p37M BIOMASS_Ec_iML1515_WT_75p37M: 0.000223 10fthf_c + 0.000223 2dmmql8_c + 2.5e-05 2fe2s_c + 0.000248 4fe4s_c + 0.000223 5mthf_c + 0.000279 accoa_c + 0.000223 adocbl_c + 0.499149 ala__L_c + 0.000223 amet_c + 0.28742 arg__L_c + 0.234232 asn__L_c + 0.234232 asp__L_c + 75.55223 atp_c + 2e-06 btn_c + 0.004952 ca2_c + 0.000223 chor_c + 0.004952 cl_c + 0.002944 clpn160_p + 0.00229 clpn161_p + 0.00118 clpn181_p + 0.000168 coa_c + 2.4e-05 cobalt2_c + 0.008151 colipa_e + 0.129799 ctp_c + 0.000674 cu2_c + 0.088988 cys__L_c + 0.024805 datp_c + 0.025612 dctp_c + 0.025612 dgtp_c + 0.024805 dttp_c + 0.000223 enter_c + 0.000223 fad_c + 0.006388 fe2_c + 0.007428 fe3_c + 0.255712 gln__L_c + 0.255712 glu__L_c + 0.595297 gly_c + 0.154187 glycogen_c + 0.000223 gthrd_c + 0.209121 gtp_c + 70.028756 h2o_c + 0.000223 hemeO_c + 0.092056 his__L_c + 0.282306 ile__L_c + 0.18569 k_c + 0.437778 leu__L_c + 3e-06 lipopb_c + 0.333448 lys__L_c + 3.1e-05 malcoa_c + 0.149336 met__L_c + 0.008253 mg2_c + 0.000223 mlthf_c + 0.000658 mn2_c + 7e-06 mobd_c + 7e-06 mococdp_c + 7e-06 mocogdp_c + 0.000223 mql8_c + 0.001345 murein3p3p_p + 0.000605 murein3px4p_p + 0.005381 murein4p4p_p + 0.005448 murein4px4p_p + 0.000673 murein4px4px4p_p + 0.001787 nad_c + 4.5e-05 nadh_c + 0.000112 nadp_c + 0.000335 nadph_c + 0.012379 nh4_c + 0.000307 ni2_c + 0.044164 pe160_p + 0.03435 pe161_p + 0.017704 pe181_p + 0.010599 pg160_p + 0.008244 pg161_p + 0.004249 pg181_p + 0.180021 phe__L_c + 0.000223 pheme_c + 0.214798 pro__L_c + 0.03327 ptrc_c + 0.000223 pydx5p_c + 0.000223 q8h2_c + 0.000223 ribflv_c + 0.209684 ser__L_c + 0.000223 sheme_c + 0.004126 so4_c + 0.006744 spmd_c + 9.8e-05 succoa_c + 0.000223 thf_c + 0.000223 thmpp_c + 0.246506 thr__L_c + 0.055234 trp__L_c + 0.133993 tyr__L_c + 5.5e-05 udcpdp_c + 0.140101 utp_c + 0.411184 val__L_c + 0.000324 zn2_c --> 75.37723 adp_c + 75.37723 h_c + 75.37323 pi_c + 0.749831 ppi_c E. coli biomass objective function (iML1515) - WT - with 75.37 GAM estimate\n",
      "BIOMASS_Ec_iML1515_core_75p37M BIOMASS_Ec_iML1515_core_75p37M: 0.000223 10fthf_c + 2.6e-05 2fe2s_c + 0.000223 2ohph_c + 0.00026 4fe4s_c + 0.513689 ala__L_c + 0.000223 amet_c + 0.295792 arg__L_c + 0.241055 asn__L_c + 0.241055 asp__L_c + 75.55223 atp_c + 2e-06 btn_c + 0.005205 ca2_c + 0.005205 cl_c + 0.000576 coa_c + 2.5e-05 cobalt2_c + 0.133508 ctp_c + 0.000709 cu2_c + 0.09158 cys__L_c + 0.026166 datp_c + 0.027017 dctp_c + 0.027017 dgtp_c + 0.026166 dttp_c + 0.000223 fad_c + 0.006715 fe2_c + 0.007808 fe3_c + 0.26316 gln__L_c + 0.26316 glu__L_c + 0.612638 gly_c + 0.215096 gtp_c + 70.028756 h2o_c + 0.094738 his__L_c + 0.290529 ile__L_c + 0.195193 k_c + 0.019456 kdo2lipid4_e + 0.450531 leu__L_c + 0.343161 lys__L_c + 0.153686 met__L_c + 0.008675 mg2_c + 0.000223 mlthf_c + 0.000691 mn2_c + 7e-06 mobd_c + 0.013894 murein5px4p_p + 0.001831 nad_c + 0.000447 nadp_c + 0.013013 nh4_c + 0.000323 ni2_c + 0.063814 pe160_p + 0.075214 pe161_p + 0.185265 phe__L_c + 0.000223 pheme_c + 0.221055 pro__L_c + 0.000223 pydx5p_c + 0.000223 ribflv_c + 0.215792 ser__L_c + 0.000223 sheme_c + 0.004338 so4_c + 9.8e-05 succoa_c + 0.000223 thf_c + 0.000223 thmpp_c + 0.253687 thr__L_c + 0.056843 trp__L_c + 0.137896 tyr__L_c + 5.5e-05 udcpdp_c + 0.144104 utp_c + 0.423162 val__L_c + 0.000341 zn2_c --> 75.37723 adp_c + 75.37723 h_c + 75.37323 pi_c + 0.773903 ppi_c E. coli biomass objective function (iML1515) - core - with 75.37 GAM estimate\n",
      "TRPt2rpp TRPt2rpp: h_p + trp__L_p <=> h_c + trp__L_c L-tryptophan reversible transport via proton symport (periplasm)\n"
     ]
    }
   ],
   "source": [
    "for reaction in model_E_coli.metabolites.trp__L_c.reactions:\n",
    "    print(reaction.id, reaction, reaction.name)"
   ]
  },
  {
   "cell_type": "code",
   "execution_count": 14,
   "id": "5b2e40fa-efb1-4aee-a2cd-6470c0bf732b",
   "metadata": {},
   "outputs": [
    {
     "name": "stdout",
     "output_type": "stream",
     "text": [
      "feoxam_c\n",
      "Generic ferrioxamine-Fe-III\n",
      "frozenset({<Reaction FEOXAMabcpp at 0x2b808343880>, <Reaction FEOXAMR2 at 0x2b8085c2e20>, <Reaction FEOXAMR3 at 0x2b8085c2c70>, <Reaction FEOXAMR1 at 0x2b8085c2d00>})\n",
      "feoxam_e\n",
      "Generic ferrioxamine-Fe-III\n",
      "frozenset({<Reaction EX_feoxam_e at 0x2b808431520>, <Reaction FEOXAMexs at 0x2b8085b1340>, <Reaction FEOXAMtonex at 0x2b809ac2760>})\n",
      "feoxam_p\n",
      "Generic ferrioxamine-Fe-III\n",
      "frozenset({<Reaction FEOXAMabcpp at 0x2b808343880>, <Reaction FEOXAMtonex at 0x2b809ac2760>})\n"
     ]
    }
   ],
   "source": [
    "#Finding Fe\n",
    "for metabolite in model_E_coli.metabolites.query('fe', 'name'):\n",
    "    print(metabolite.id)\n",
    "    print(metabolite.name)\n",
    "    print(metabolite.reactions)\n",
    "#Didn't give the fe we were searching for"
   ]
  },
  {
   "cell_type": "code",
   "execution_count": 15,
   "id": "394588a3-a22f-4981-9550-cd709dba5e48",
   "metadata": {},
   "outputs": [
    {
     "name": "stdout",
     "output_type": "stream",
     "text": [
      "arbtn_p\n",
      "iscu_2fe2s_c\n",
      "feenter_e\n",
      "arbtn_e\n",
      "cpgn_un_e\n",
      "pheme_e\n",
      "fe2_p\n",
      "sheme_c\n",
      "sufbcd_2fe2s_c\n",
      "pheme_p\n",
      "fecrm_un_c\n",
      "fe3hox_un_p\n",
      "fe2_e\n",
      "feoxam_c\n",
      "fe3dhbzs_p\n",
      "iscu_2fe2s2_c\n",
      "fe3dcit_e\n",
      "fe3hox_un_c\n",
      "feoxam_e\n",
      "fecrm_c\n",
      "fecrm_p\n",
      "fe2_c\n",
      "hemeO_c\n",
      "cpgn_un_c\n",
      "fe3_c\n",
      "fe3dhbzs_e\n",
      "feenter_p\n",
      "feoxam_un_p\n",
      "2fe1s_c\n",
      "fecrm_e\n",
      "fecrm_un_p\n",
      "2fe2s_c\n",
      "iscu_4fe4s_c\n",
      "feoxam_un_c\n",
      "pheme_c\n",
      "fe3dcit_c\n",
      "fecrm_un_e\n",
      "fe3hox_c\n",
      "feoxam_p\n",
      "fe3dhbzs3_c\n",
      "4fe4s_c\n",
      "fe3_p\n",
      "3fe4s_c\n",
      "fe3_e\n",
      "fe3hox_e\n",
      "sufbcd_2fe2s2_c\n",
      "feenter_c\n",
      "fe3dhbzs3_p\n",
      "arbtn_c\n",
      "fe3hox_p\n",
      "feoxam_un_e\n",
      "fe3hox_un_e\n",
      "sufbcd_4fe4s_c\n",
      "cpgn_un_p\n",
      "fe3dcit_p\n"
     ]
    }
   ],
   "source": [
    "#Finding Fe\n",
    "for metabolite in model_E_coli.metabolites.query('Fe', 'name'):\n",
    "    print(metabolite.id)"
   ]
  },
  {
   "cell_type": "code",
   "execution_count": 16,
   "id": "c94cfb68-d6da-4299-b216-a5fc666194b4",
   "metadata": {},
   "outputs": [
    {
     "data": {
      "text/html": [
       "\n",
       "        <table>\n",
       "            <tr>\n",
       "                <td><strong>Metabolite identifier</strong></td><td>fe2_p</td>\n",
       "            </tr><tr>\n",
       "                <td><strong>Name</strong></td><td>Fe2+ mitochondria</td>\n",
       "            </tr><tr>\n",
       "                <td><strong>Memory address</strong></td>\n",
       "                <td>0x02b87f65d280</td>\n",
       "            </tr><tr>\n",
       "                <td><strong>Formula</strong></td><td>Fe</td>\n",
       "            </tr><tr>\n",
       "                <td><strong>Compartment</strong></td><td>p</td>\n",
       "            </tr><tr>\n",
       "                <td><strong>In 6 reaction(s)</strong></td><td>\n",
       "                    FE2tpp, FEROpp, FE2t3pp, FE2tex, FE2abcpp, FE2t2pp</td>\n",
       "            </tr>\n",
       "        </table>"
      ],
      "text/plain": [
       "<Metabolite fe2_p at 0x2b87f65d280>"
      ]
     },
     "execution_count": 16,
     "metadata": {},
     "output_type": "execute_result"
    }
   ],
   "source": [
    "model_E_coli.metabolites.get_by_id('fe2_p')"
   ]
  },
  {
   "cell_type": "code",
   "execution_count": 17,
   "id": "56807678-65fc-4def-b4ef-c9f596cab742",
   "metadata": {},
   "outputs": [
    {
     "data": {
      "text/html": [
       "\n",
       "        <table>\n",
       "            <tr>\n",
       "                <td><strong>Metabolite identifier</strong></td><td>fe2_e</td>\n",
       "            </tr><tr>\n",
       "                <td><strong>Name</strong></td><td>Fe2+ mitochondria</td>\n",
       "            </tr><tr>\n",
       "                <td><strong>Memory address</strong></td>\n",
       "                <td>0x02b87f773b50</td>\n",
       "            </tr><tr>\n",
       "                <td><strong>Formula</strong></td><td>Fe</td>\n",
       "            </tr><tr>\n",
       "                <td><strong>Compartment</strong></td><td>e</td>\n",
       "            </tr><tr>\n",
       "                <td><strong>In 2 reaction(s)</strong></td><td>\n",
       "                    EX_fe2_e, FE2tex</td>\n",
       "            </tr>\n",
       "        </table>"
      ],
      "text/plain": [
       "<Metabolite fe2_e at 0x2b87f773b50>"
      ]
     },
     "execution_count": 17,
     "metadata": {},
     "output_type": "execute_result"
    }
   ],
   "source": [
    "model_E_coli.metabolites.get_by_id('fe2_e')"
   ]
  },
  {
   "cell_type": "code",
   "execution_count": 18,
   "id": "8fd56b6e-6745-4b5a-8699-4240b8ef9a7f",
   "metadata": {},
   "outputs": [
    {
     "data": {
      "text/html": [
       "\n",
       "        <table>\n",
       "            <tr>\n",
       "                <td><strong>Metabolite identifier</strong></td><td>fe2_c</td>\n",
       "            </tr><tr>\n",
       "                <td><strong>Name</strong></td><td>Fe2+ mitochondria</td>\n",
       "            </tr><tr>\n",
       "                <td><strong>Memory address</strong></td>\n",
       "                <td>0x02b87f843130</td>\n",
       "            </tr><tr>\n",
       "                <td><strong>Formula</strong></td><td>Fe</td>\n",
       "            </tr><tr>\n",
       "                <td><strong>Compartment</strong></td><td>c</td>\n",
       "            </tr><tr>\n",
       "                <td><strong>In 36 reaction(s)</strong></td><td>\n",
       "                    FE2tpp, FE3HOXR2, FE3Ri, FEENTERR3, FE3HOXR3, FECRMR3, CPGNR3, FECRMR1, FEOXAMR3, I2FE2SS2, FE2t3pp, FE2abcpp, LIPOS, FEOXAMR1, ARBTNR3, ARBTNR2, FESR, BIOMASS_Ec_iML1515_core_75p37M, FE3HOXR1,...</td>\n",
       "            </tr>\n",
       "        </table>"
      ],
      "text/plain": [
       "<Metabolite fe2_c at 0x2b87f843130>"
      ]
     },
     "execution_count": 18,
     "metadata": {},
     "output_type": "execute_result"
    }
   ],
   "source": [
    "model_E_coli.metabolites.get_by_id('fe2_c')"
   ]
  },
  {
   "cell_type": "code",
   "execution_count": 19,
   "id": "90528b32-b361-4d95-a8d4-8cac39bc0f19",
   "metadata": {},
   "outputs": [
    {
     "name": "stdout",
     "output_type": "stream",
     "text": [
      "FE2tpp FE2tpp: fe2_p --> fe2_c Iron (+2) transport in via permease (no H+)\n",
      "FE3HOXR2 FE3HOXR2: 2.0 fe3hox_c + fmnh2_c --> 2.0 fe2_c + 2.0 fe3hox_un_c + fmn_c + 2.0 h_c Fe(III)hydroxamate reductase\n",
      "FE3Ri FE3Ri: fadh2_c + 2.0 fe3_c --> fad_c + 2.0 fe2_c + 2.0 h_c Fe(III) reduction\n",
      "FEENTERR3 FEENTERR3: 2.0 feenter_c + rbflvrd_c --> 2.0 enter_c + 2.0 fe2_c + 2.0 h_c + ribflv_c Fe-enterobactin reduction (Fe(III)-unloading)\n",
      "FE3HOXR3 FE3HOXR3: 2.0 fe3hox_c + rbflvrd_c --> 2.0 fe2_c + 2.0 fe3hox_un_c + 2.0 h_c + ribflv_c Fe(III)hydroxamate reductase\n",
      "FECRMR3 FECRMR3: 2.0 fecrm_c + rbflvrd_c --> 2.0 fe2_c + 2.0 fecrm_un_c + 2.0 h_c + ribflv_c Ferrichrome reductase\n",
      "CPGNR3 CPGNR3: 2.0 cpgn_c + rbflvrd_c --> 2.0 cpgn_un_c + 2.0 fe2_c + 2.0 h_c + ribflv_c Coprogen(Fe(III)) reductase\n",
      "FECRMR1 FECRMR1: fadh2_c + 2.0 fecrm_c --> fad_c + 2.0 fe2_c + 2.0 fecrm_un_c + 2.0 h_c Ferrichrome reductase\n",
      "FEOXAMR3 FEOXAMR3: 2.0 feoxam_c + rbflvrd_c --> 2.0 fe2_c + 2.0 feoxam_un_c + 2.0 h_c + ribflv_c Ferroxamine reductase\n",
      "I2FE2SS2 I2FE2SS2: fadh2_c + 2.0 fe2_c + 2.0 iscssh_c + iscu_2fe2s_c --> fad_c + 6.0 h_c + 2.0 iscs_c + iscu_2fe2s2_c ISC [2Fe-2S] Synthesis II\n",
      "FE2t3pp FE2t3pp: fe2_c + h_p --> fe2_p + h_c Iron (Fe+2) transport out via proton antiport (periplasm)\n",
      "FE2abcpp FE2abcpp: atp_c + fe2_p + h2o_c --> adp_c + fe2_c + h_c + pi_c Iron (II) transport via ABC system (periplasm)\n",
      "LIPOS LIPOS: 4fe4s_c + 2.0 amet_c + h_c + nad_c + octapb_c --> 2fe2s_c + 2.0 dad_5_c + 2.0 fe2_c + lipopb_c + 2.0 met__L_c + nadh_c Lipoate synthase\n",
      "FEOXAMR1 FEOXAMR1: fadh2_c + 2.0 feoxam_c --> fad_c + 2.0 fe2_c + 2.0 feoxam_un_c + 2.0 h_c Ferroxamine reductase\n",
      "ARBTNR3 ARBTNR3: 2.0 arbtn_fe3_c + rbflvrd_c --> 2.0 arbtn_c + 2.0 fe2_c + 2.0 h_c + ribflv_c Aerobactin reductase\n",
      "ARBTNR2 ARBTNR2: 2.0 arbtn_fe3_c + fmnh2_c --> 2.0 arbtn_c + 2.0 fe2_c + fmn_c + 2.0 h_c Aerobactin reductase\n",
      "FESR FESR: 3fe4s_c + fe2_c --> 4fe4s_c Iron-sulfur cluster repair\n",
      "BIOMASS_Ec_iML1515_core_75p37M BIOMASS_Ec_iML1515_core_75p37M: 0.000223 10fthf_c + 2.6e-05 2fe2s_c + 0.000223 2ohph_c + 0.00026 4fe4s_c + 0.513689 ala__L_c + 0.000223 amet_c + 0.295792 arg__L_c + 0.241055 asn__L_c + 0.241055 asp__L_c + 75.55223 atp_c + 2e-06 btn_c + 0.005205 ca2_c + 0.005205 cl_c + 0.000576 coa_c + 2.5e-05 cobalt2_c + 0.133508 ctp_c + 0.000709 cu2_c + 0.09158 cys__L_c + 0.026166 datp_c + 0.027017 dctp_c + 0.027017 dgtp_c + 0.026166 dttp_c + 0.000223 fad_c + 0.006715 fe2_c + 0.007808 fe3_c + 0.26316 gln__L_c + 0.26316 glu__L_c + 0.612638 gly_c + 0.215096 gtp_c + 70.028756 h2o_c + 0.094738 his__L_c + 0.290529 ile__L_c + 0.195193 k_c + 0.019456 kdo2lipid4_e + 0.450531 leu__L_c + 0.343161 lys__L_c + 0.153686 met__L_c + 0.008675 mg2_c + 0.000223 mlthf_c + 0.000691 mn2_c + 7e-06 mobd_c + 0.013894 murein5px4p_p + 0.001831 nad_c + 0.000447 nadp_c + 0.013013 nh4_c + 0.000323 ni2_c + 0.063814 pe160_p + 0.075214 pe161_p + 0.185265 phe__L_c + 0.000223 pheme_c + 0.221055 pro__L_c + 0.000223 pydx5p_c + 0.000223 ribflv_c + 0.215792 ser__L_c + 0.000223 sheme_c + 0.004338 so4_c + 9.8e-05 succoa_c + 0.000223 thf_c + 0.000223 thmpp_c + 0.253687 thr__L_c + 0.056843 trp__L_c + 0.137896 tyr__L_c + 5.5e-05 udcpdp_c + 0.144104 utp_c + 0.423162 val__L_c + 0.000341 zn2_c --> 75.37723 adp_c + 75.37723 h_c + 75.37323 pi_c + 0.773903 ppi_c E. coli biomass objective function (iML1515) - core - with 75.37 GAM estimate\n",
      "FE3HOXR1 FE3HOXR1: fadh2_c + 2.0 fe3hox_c --> fad_c + 2.0 fe2_c + 2.0 fe3hox_un_c + 2.0 h_c Fe(III)hydroxamate reductase\n",
      "I2FE2SS I2FE2SS: fadh2_c + 2.0 fe2_c + 2.0 iscssh_c + iscu_c --> fad_c + 6.0 h_c + 2.0 iscs_c + iscu_2fe2s_c ISC [2Fe-2S] Synthesis\n",
      "FEENTERR2 FEENTERR2: 2.0 feenter_c + fmnh2_c --> 2.0 enter_c + 2.0 fe2_c + fmn_c + 2.0 h_c Fe-enterobactin reduction (Fe(III)-unloading)\n",
      "S2FE2SS S2FE2SS: atp_c + fadh2_c + 2.0 fe2_c + h2o_c + sufbcd_c + 2.0 sufsesh_c --> adp_c + fad_c + 7.0 h_c + pi_c + sufbcd_2fe2s_c + 2.0 sufse_c SUF [2Fe-2S] Synthesis\n",
      "FEOXAMR2 FEOXAMR2: 2.0 feoxam_c + fmnh2_c --> 2.0 fe2_c + 2.0 feoxam_un_c + fmn_c + 2.0 h_c Ferroxamine reductase\n",
      "S2FE2SS2 S2FE2SS2: atp_c + fadh2_c + 2.0 fe2_c + h2o_c + sufbcd_2fe2s_c + 2.0 sufsesh_c --> adp_c + fad_c + 7.0 h_c + pi_c + sufbcd_2fe2s2_c + 2.0 sufse_c SUF [2Fe-2S] Synthesis II\n",
      "FE3DHBZS3R FE3DHBZS3R: 2.0 fe3dhbzs3_c + nadph_c --> 2.0 23dhbzs3_c + 2.0 fe2_c + 3.0 h_c + nadp_c Fe(III)-(2,3-dihydroxybenzoylserine)3 reductase via NADPH\n",
      "ARBTNR1 ARBTNR1: 2.0 arbtn_fe3_c + fadh2_c --> 2.0 arbtn_c + fad_c + 2.0 fe2_c + 2.0 h_c Aerobactin reductase\n",
      "SHCHF SHCHF: fe2_c + scl_c --> 3.0 h_c + sheme_c Sirohydrochlorin ferrochelatase\n",
      "FEENTERR4 FEENTERR4: 2.0 feenter_c + nadph_c --> 2.0 enter_c + 2.0 fe2_c + h_c + nadp_c Fe-enterobactin reduction via nadph\n",
      "FE3DCITR5 FE3DCITR5: 2.0 fe3dcit_c + nadph_c --> 4.0 cit_c + 2.0 fe2_c + h_c + nadp_c Ferric-dicitrate reductase via nadph\n",
      "FEENTERR1 FEENTERR1: fadh2_c + 2.0 feenter_c --> 2.0 enter_c + fad_c + 2.0 fe2_c + 2.0 h_c Fe-enterobactin reduction (Fe(III)-unloading)\n",
      "FECRMR2 FECRMR2: 2.0 fecrm_c + fmnh2_c --> 2.0 fe2_c + 2.0 fecrm_un_c + fmn_c + 2.0 h_c Ferrichrome reductase\n",
      "FE2t2pp FE2t2pp: fe2_p + h_p --> fe2_c + h_c Iron (II) transport in via proton symport (periplasm)\n",
      "FCLT FCLT: fe2_c + ppp9_c --> 2.0 h_c + pheme_c Ferrochelatase\n",
      "CPGNR1 CPGNR1: 2.0 cpgn_c + fadh2_c --> 2.0 cpgn_un_c + fad_c + 2.0 fe2_c + 2.0 h_c Coprogen(Fe(III)) reductase\n",
      "BIOMASS_Ec_iML1515_WT_75p37M BIOMASS_Ec_iML1515_WT_75p37M: 0.000223 10fthf_c + 0.000223 2dmmql8_c + 2.5e-05 2fe2s_c + 0.000248 4fe4s_c + 0.000223 5mthf_c + 0.000279 accoa_c + 0.000223 adocbl_c + 0.499149 ala__L_c + 0.000223 amet_c + 0.28742 arg__L_c + 0.234232 asn__L_c + 0.234232 asp__L_c + 75.55223 atp_c + 2e-06 btn_c + 0.004952 ca2_c + 0.000223 chor_c + 0.004952 cl_c + 0.002944 clpn160_p + 0.00229 clpn161_p + 0.00118 clpn181_p + 0.000168 coa_c + 2.4e-05 cobalt2_c + 0.008151 colipa_e + 0.129799 ctp_c + 0.000674 cu2_c + 0.088988 cys__L_c + 0.024805 datp_c + 0.025612 dctp_c + 0.025612 dgtp_c + 0.024805 dttp_c + 0.000223 enter_c + 0.000223 fad_c + 0.006388 fe2_c + 0.007428 fe3_c + 0.255712 gln__L_c + 0.255712 glu__L_c + 0.595297 gly_c + 0.154187 glycogen_c + 0.000223 gthrd_c + 0.209121 gtp_c + 70.028756 h2o_c + 0.000223 hemeO_c + 0.092056 his__L_c + 0.282306 ile__L_c + 0.18569 k_c + 0.437778 leu__L_c + 3e-06 lipopb_c + 0.333448 lys__L_c + 3.1e-05 malcoa_c + 0.149336 met__L_c + 0.008253 mg2_c + 0.000223 mlthf_c + 0.000658 mn2_c + 7e-06 mobd_c + 7e-06 mococdp_c + 7e-06 mocogdp_c + 0.000223 mql8_c + 0.001345 murein3p3p_p + 0.000605 murein3px4p_p + 0.005381 murein4p4p_p + 0.005448 murein4px4p_p + 0.000673 murein4px4px4p_p + 0.001787 nad_c + 4.5e-05 nadh_c + 0.000112 nadp_c + 0.000335 nadph_c + 0.012379 nh4_c + 0.000307 ni2_c + 0.044164 pe160_p + 0.03435 pe161_p + 0.017704 pe181_p + 0.010599 pg160_p + 0.008244 pg161_p + 0.004249 pg181_p + 0.180021 phe__L_c + 0.000223 pheme_c + 0.214798 pro__L_c + 0.03327 ptrc_c + 0.000223 pydx5p_c + 0.000223 q8h2_c + 0.000223 ribflv_c + 0.209684 ser__L_c + 0.000223 sheme_c + 0.004126 so4_c + 0.006744 spmd_c + 9.8e-05 succoa_c + 0.000223 thf_c + 0.000223 thmpp_c + 0.246506 thr__L_c + 0.055234 trp__L_c + 0.133993 tyr__L_c + 5.5e-05 udcpdp_c + 0.140101 utp_c + 0.411184 val__L_c + 0.000324 zn2_c --> 75.37723 adp_c + 75.37723 h_c + 75.37323 pi_c + 0.749831 ppi_c E. coli biomass objective function (iML1515) - WT - with 75.37 GAM estimate\n",
      "CPGNR2 CPGNR2: 2.0 cpgn_c + fmnh2_c --> 2.0 cpgn_un_c + 2.0 fe2_c + fmn_c + 2.0 h_c Coprogen(Fe(III)) reductase\n"
     ]
    }
   ],
   "source": [
    "for reaction in model_E_coli.metabolites.fe2_c.reactions:\n",
    "    print(reaction.id, reaction, reaction.name)"
   ]
  },
  {
   "cell_type": "code",
   "execution_count": 20,
   "id": "04d7831c-a9e6-403f-bdb5-0dfa85eee7e1",
   "metadata": {},
   "outputs": [],
   "source": [
    "#check glucose, oxygen and co2 uptake and excretion bounds in the vibrio natriegens"
   ]
  },
  {
   "cell_type": "code",
   "execution_count": null,
   "id": "4d676beb-3964-4f3f-930c-ac39d50f0f37",
   "metadata": {},
   "outputs": [],
   "source": []
  }
 ],
 "metadata": {
  "kernelspec": {
   "display_name": "Python 3",
   "language": "python",
   "name": "python3"
  },
  "language_info": {
   "codemirror_mode": {
    "name": "ipython",
    "version": 3
   },
   "file_extension": ".py",
   "mimetype": "text/x-python",
   "name": "python",
   "nbconvert_exporter": "python",
   "pygments_lexer": "ipython3",
   "version": "3.8.8"
  }
 },
 "nbformat": 4,
 "nbformat_minor": 5
}
