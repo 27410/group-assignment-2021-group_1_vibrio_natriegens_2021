{
 "cells": [
  {
   "cell_type": "code",
   "execution_count": 8,
   "metadata": {},
   "outputs": [],
   "source": [
    "from cameo import load_model\n",
    "import cameo"
   ]
  },
  {
   "cell_type": "code",
   "execution_count": 9,
   "metadata": {},
   "outputs": [],
   "source": [
    "modelx = load_model('Models/model_VN_LB_vio-fad.xml')"
   ]
  },
  {
   "cell_type": "code",
   "execution_count": 21,
   "metadata": {},
   "outputs": [
    {
     "ename": "NameError",
     "evalue": "name 'optlang' is not defined",
     "output_type": "error",
     "traceback": [
      "\u001b[0;31m---------------------------------------------------------------------------\u001b[0m",
      "\u001b[0;31mNameError\u001b[0m                                 Traceback (most recent call last)",
      "\u001b[0;32m/var/folders/px/fv67w9k15f7cfh6g7bx31l300000gn/T/ipykernel_10355/2551867282.py\u001b[0m in \u001b[0;36m<module>\u001b[0;34m\u001b[0m\n\u001b[0;32m----> 1\u001b[0;31m \u001b[0;32mdef\u001b[0m \u001b[0m__init__\u001b[0m\u001b[0;34m(\u001b[0m\u001b[0mself\u001b[0m\u001b[0;34m,\u001b[0m \u001b[0mdescription\u001b[0m\u001b[0;34m=\u001b[0m\u001b[0;32mNone\u001b[0m\u001b[0;34m,\u001b[0m \u001b[0msolver_interface\u001b[0m\u001b[0;34m=\u001b[0m\u001b[0moptlang\u001b[0m\u001b[0;34m,\u001b[0m \u001b[0;34m**\u001b[0m\u001b[0mkwargs\u001b[0m\u001b[0;34m)\u001b[0m\u001b[0;34m:\u001b[0m\u001b[0;34m\u001b[0m\u001b[0;34m\u001b[0m\u001b[0m\n\u001b[0m\u001b[1;32m      2\u001b[0m         \u001b[0msuper\u001b[0m\u001b[0;34m(\u001b[0m\u001b[0mSolverBasedModel\u001b[0m\u001b[0;34m,\u001b[0m \u001b[0mself\u001b[0m\u001b[0;34m)\u001b[0m\u001b[0;34m.\u001b[0m\u001b[0m__init__\u001b[0m\u001b[0;34m(\u001b[0m\u001b[0mdescription\u001b[0m\u001b[0;34m,\u001b[0m \u001b[0;34m**\u001b[0m\u001b[0mkwargs\u001b[0m\u001b[0;34m)\u001b[0m\u001b[0;34m\u001b[0m\u001b[0;34m\u001b[0m\u001b[0m\n\u001b[1;32m      3\u001b[0m         \u001b[0mcleaned_reactions\u001b[0m \u001b[0;34m=\u001b[0m \u001b[0mcobra\u001b[0m\u001b[0;34m.\u001b[0m\u001b[0mcore\u001b[0m\u001b[0;34m.\u001b[0m\u001b[0mDictList\u001b[0m\u001b[0;34m(\u001b[0m\u001b[0;34m)\u001b[0m\u001b[0;34m\u001b[0m\u001b[0;34m\u001b[0m\u001b[0m\n\u001b[1;32m      4\u001b[0m         \u001b[0;32mfor\u001b[0m \u001b[0mreaction\u001b[0m \u001b[0;32min\u001b[0m \u001b[0mself\u001b[0m\u001b[0;34m.\u001b[0m\u001b[0mreactions\u001b[0m\u001b[0;34m:\u001b[0m\u001b[0;34m\u001b[0m\u001b[0;34m\u001b[0m\u001b[0m\n\u001b[1;32m      5\u001b[0m             \u001b[0;32mif\u001b[0m \u001b[0misinstance\u001b[0m\u001b[0;34m(\u001b[0m\u001b[0mreaction\u001b[0m\u001b[0;34m,\u001b[0m \u001b[0mReaction\u001b[0m\u001b[0;34m)\u001b[0m\u001b[0;34m:\u001b[0m\u001b[0;34m\u001b[0m\u001b[0;34m\u001b[0m\u001b[0m\n",
      "\u001b[0;31mNameError\u001b[0m: name 'optlang' is not defined"
     ]
    }
   ],
   "source": [
    "def add_ratio_constraint(self, expr1, expr2, ratio, prefix='ratio_constraint_'):\n",
    "        \"\"\"Adds a ratio constraint (expr1/expr2 = ratio) to the model.\n",
    "\n",
    "        Parameters\n",
    "        ----------\n",
    "        expr1 : str, Reaction, list or sympy.Expression\n",
    "            A reaction, a reaction ID or a linear expression.\n",
    "        expr2 : str, Reaction, list or sympy.Expression\n",
    "            A reaction, a reaction ID or a linear expression.\n",
    "        ratio : float\n",
    "            The ratio in expr1/expr2 = ratio\n",
    "        prefix : str\n",
    "            The prefix that will be added to the constraint ID (defaults to 'ratio_constraint_').\n",
    "\n",
    "        Returns\n",
    "        -------\n",
    "        optlang.Constraint\n",
    "            The constraint name will be composed of `prefix`\n",
    "            and the two reaction IDs (e.g. 'ratio_constraint_reaction1_reaction2').\n",
    "\n",
    "        Examples\n",
    "        --------\n",
    "        >>> model.add_ratio_constraint('r1', 'r2', 0.5)\n",
    "        >>> print(model.solver.constraints['ratio_constraint_r1_r2'])\n",
    "        ratio_constraint: ratio_constraint_r1_r2: 0 <= -0.5 * r1 + 1.0 * PGI <= 0\n",
    "        \"\"\"\n",
    "        if isinstance(expr1, six.string_types):\n",
    "            prefix_1 = expr1\n",
    "            expr1 = self.reactions.get_by_id(expr1).flux_expression\n",
    "        elif isinstance(expr1, Reaction):\n",
    "            prefix_1 = expr1.id\n",
    "            expr1 = expr1.flux_expression\n",
    "        elif isinstance(expr1, list):\n",
    "            prefix_1 = \"+\".join(r.id for r in expr1)\n",
    "            expr1 = sum([r.flux_expression for r in expr1], S.Zero)\n",
    "        elif not isinstance(expr1, sympy.Expr):\n",
    "            raise ValueError(\"'expr1' is not a valid expression\")\n",
    "        else:\n",
    "            prefix_1 = str(expr1)\n",
    "\n",
    "        if isinstance(expr2, six.string_types):\n",
    "            prefix_2 = expr2\n",
    "            expr2 = self.reactions.get_by_id(expr2).flux_expression\n",
    "        elif isinstance(expr2, Reaction):\n",
    "            prefix_2 = expr2.id\n",
    "            expr2 = expr2.flux_expression\n",
    "        elif isinstance(expr2, list):\n",
    "            prefix_2 = \"+\".join(r.id for r in expr2)\n",
    "            expr2 = sum([r.flux_expression for r in expr2], S.Zero)\n",
    "        elif not isinstance(expr2, sympy.Expr):\n",
    "            raise ValueError(\"'expr2' is not a valid expression\")\n",
    "        else:\n",
    "            prefix_2 = str(expr2)\n",
    "\n",
    "        ratio_constraint = self.solver.interface.Constraint(expr1 - ratio * expr2,\n",
    "                                                            lb=0,\n",
    "                                                            ub=0,\n",
    "                                                            name=prefix + prefix_1 + '_' + prefix_2)\n",
    "\n",
    "        self.solver.add(ratio_constraint, sloppy=True)\n",
    "        return ratio_constraint"
   ]
  },
  {
   "cell_type": "code",
   "execution_count": 20,
   "metadata": {},
   "outputs": [
    {
     "ename": "TypeError",
     "evalue": "add_ratio_constraint() missing 1 required positional argument: 'ratio'",
     "output_type": "error",
     "traceback": [
      "\u001b[0;31m---------------------------------------------------------------------------\u001b[0m",
      "\u001b[0;31mTypeError\u001b[0m                                 Traceback (most recent call last)",
      "\u001b[0;32m/var/folders/px/fv67w9k15f7cfh6g7bx31l300000gn/T/ipykernel_10355/542754364.py\u001b[0m in \u001b[0;36m<module>\u001b[0;34m\u001b[0m\n\u001b[0;32m----> 1\u001b[0;31m \u001b[0madd_ratio_constraint\u001b[0m\u001b[0;34m(\u001b[0m\u001b[0;34m'Reaction_Deoxyviolacein'\u001b[0m\u001b[0;34m,\u001b[0m \u001b[0;34m'Reaction_Violacein'\u001b[0m\u001b[0;34m,\u001b[0m \u001b[0;36m1.9\u001b[0m\u001b[0;34m,\u001b[0m \u001b[0mprefix\u001b[0m\u001b[0;34m=\u001b[0m\u001b[0;34m'ratio_constraint_'\u001b[0m\u001b[0;34m)\u001b[0m\u001b[0;34m\u001b[0m\u001b[0;34m\u001b[0m\u001b[0m\n\u001b[0m",
      "\u001b[0;31mTypeError\u001b[0m: add_ratio_constraint() missing 1 required positional argument: 'ratio'"
     ]
    }
   ],
   "source": [
    "add_ratio_constraint('Reaction_Deoxyviolacein', 'Reaction_Violacein', 1.9, prefix='ratio_constraint_')"
   ]
  },
  {
   "cell_type": "code",
   "execution_count": 15,
   "metadata": {},
   "outputs": [
    {
     "ename": "KeyError",
     "evalue": "'ratio_constraint_Reaction_Deoxyviolacein_Reaction_Violacein'",
     "output_type": "error",
     "traceback": [
      "\u001b[0;31m---------------------------------------------------------------------------\u001b[0m",
      "\u001b[0;31mTypeError\u001b[0m                                 Traceback (most recent call last)",
      "\u001b[0;32m~/opt/anaconda3/envs/cobra/lib/python3.8/site-packages/optlang/container.py\u001b[0m in \u001b[0;36m__getitem__\u001b[0;34m(self, item)\u001b[0m\n\u001b[1;32m     81\u001b[0m         \u001b[0;32mtry\u001b[0m\u001b[0;34m:\u001b[0m\u001b[0;34m\u001b[0m\u001b[0;34m\u001b[0m\u001b[0m\n\u001b[0;32m---> 82\u001b[0;31m             \u001b[0;32mreturn\u001b[0m \u001b[0mself\u001b[0m\u001b[0;34m.\u001b[0m\u001b[0m_object_list\u001b[0m\u001b[0;34m[\u001b[0m\u001b[0mitem\u001b[0m\u001b[0;34m]\u001b[0m  \u001b[0;31m# Try treating item as int or slice\u001b[0m\u001b[0;34m\u001b[0m\u001b[0;34m\u001b[0m\u001b[0m\n\u001b[0m\u001b[1;32m     83\u001b[0m         \u001b[0;32mexcept\u001b[0m \u001b[0mTypeError\u001b[0m\u001b[0;34m:\u001b[0m  \u001b[0;31m# Not int or slice\u001b[0m\u001b[0;34m\u001b[0m\u001b[0;34m\u001b[0m\u001b[0m\n",
      "\u001b[0;31mTypeError\u001b[0m: list indices must be integers or slices, not str",
      "\nDuring handling of the above exception, another exception occurred:\n",
      "\u001b[0;31mKeyError\u001b[0m                                  Traceback (most recent call last)",
      "\u001b[0;32m/var/folders/px/fv67w9k15f7cfh6g7bx31l300000gn/T/ipykernel_10355/788471338.py\u001b[0m in \u001b[0;36m<module>\u001b[0;34m\u001b[0m\n\u001b[0;32m----> 1\u001b[0;31m \u001b[0mprint\u001b[0m\u001b[0;34m(\u001b[0m\u001b[0mmodelx\u001b[0m\u001b[0;34m.\u001b[0m\u001b[0msolver\u001b[0m\u001b[0;34m.\u001b[0m\u001b[0mconstraints\u001b[0m\u001b[0;34m[\u001b[0m\u001b[0;34m'ratio_constraint_Reaction_Deoxyviolacein_Reaction_Violacein'\u001b[0m\u001b[0;34m]\u001b[0m\u001b[0;34m)\u001b[0m\u001b[0;34m\u001b[0m\u001b[0;34m\u001b[0m\u001b[0m\n\u001b[0m",
      "\u001b[0;32m~/opt/anaconda3/envs/cobra/lib/python3.8/site-packages/optlang/container.py\u001b[0m in \u001b[0;36m__getitem__\u001b[0;34m(self, item)\u001b[0m\n\u001b[1;32m     82\u001b[0m             \u001b[0;32mreturn\u001b[0m \u001b[0mself\u001b[0m\u001b[0;34m.\u001b[0m\u001b[0m_object_list\u001b[0m\u001b[0;34m[\u001b[0m\u001b[0mitem\u001b[0m\u001b[0;34m]\u001b[0m  \u001b[0;31m# Try treating item as int or slice\u001b[0m\u001b[0;34m\u001b[0m\u001b[0;34m\u001b[0m\u001b[0m\n\u001b[1;32m     83\u001b[0m         \u001b[0;32mexcept\u001b[0m \u001b[0mTypeError\u001b[0m\u001b[0;34m:\u001b[0m  \u001b[0;31m# Not int or slice\u001b[0m\u001b[0;34m\u001b[0m\u001b[0;34m\u001b[0m\u001b[0m\n\u001b[0;32m---> 84\u001b[0;31m             \u001b[0;32mreturn\u001b[0m \u001b[0mself\u001b[0m\u001b[0;34m.\u001b[0m\u001b[0m_dict\u001b[0m\u001b[0;34m[\u001b[0m\u001b[0mitem\u001b[0m\u001b[0;34m]\u001b[0m  \u001b[0;31m# Treat item as key (name)\u001b[0m\u001b[0;34m\u001b[0m\u001b[0;34m\u001b[0m\u001b[0m\n\u001b[0m\u001b[1;32m     85\u001b[0m \u001b[0;34m\u001b[0m\u001b[0m\n\u001b[1;32m     86\u001b[0m     \u001b[0;32mdef\u001b[0m \u001b[0m__setitem__\u001b[0m\u001b[0;34m(\u001b[0m\u001b[0mself\u001b[0m\u001b[0;34m,\u001b[0m \u001b[0mkey\u001b[0m\u001b[0;34m,\u001b[0m \u001b[0mvalue\u001b[0m\u001b[0;34m)\u001b[0m\u001b[0;34m:\u001b[0m\u001b[0;34m\u001b[0m\u001b[0;34m\u001b[0m\u001b[0m\n",
      "\u001b[0;31mKeyError\u001b[0m: 'ratio_constraint_Reaction_Deoxyviolacein_Reaction_Violacein'"
     ]
    }
   ],
   "source": [
    "print(modelx.solver.constraints['ratio_constraint_Reaction_Deoxyviolacein_Reaction_Violacein'])"
   ]
  },
  {
   "cell_type": "code",
   "execution_count": null,
   "metadata": {},
   "outputs": [],
   "source": []
  }
 ],
 "metadata": {
  "kernelspec": {
   "display_name": "Python 3 (ipykernel)",
   "language": "python",
   "name": "python3"
  },
  "language_info": {
   "codemirror_mode": {
    "name": "ipython",
    "version": 3
   },
   "file_extension": ".py",
   "mimetype": "text/x-python",
   "name": "python",
   "nbconvert_exporter": "python",
   "pygments_lexer": "ipython3",
   "version": "3.8.11"
  }
 },
 "nbformat": 4,
 "nbformat_minor": 4
}
